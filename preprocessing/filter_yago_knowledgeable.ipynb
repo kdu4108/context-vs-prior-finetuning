{
 "cells": [
  {
   "cell_type": "code",
   "execution_count": 1,
   "id": "45570208-245d-4f11-a4ed-f542eac1eb36",
   "metadata": {},
   "outputs": [],
   "source": [
    "%load_ext autoreload\n",
    "%autoreload 2\n",
    "# %load_ext lab_black"
   ]
  },
  {
   "cell_type": "code",
   "execution_count": 2,
   "id": "24431786-f72d-4a08-96e0-29f05dc1d73a",
   "metadata": {},
   "outputs": [
    {
     "name": "stderr",
     "output_type": "stream",
     "text": [
      "/cluster/home/kevidu/venv/lib/python3.11/site-packages/tqdm/auto.py:21: TqdmWarning: IProgress not found. Please update jupyter and ipywidgets. See https://ipywidgets.readthedocs.io/en/stable/user_install.html\n",
      "  from .autonotebook import tqdm as notebook_tqdm\n",
      "/cluster/home/kevidu/venv/lib/python3.11/site-packages/transformers/utils/hub.py:124: FutureWarning: Using `TRANSFORMERS_CACHE` is deprecated and will be removed in v5 of Transformers. Use `HF_HOME` instead.\n",
      "  warnings.warn(\n"
     ]
    }
   ],
   "source": [
    "# Filter out hard questions\n",
    "from collections import defaultdict\n",
    "import numpy as np\n",
    "import random\n",
    "import pandas as pd\n",
    "import os\n",
    "from sklearn.model_selection import train_test_split\n",
    "from tqdm import tqdm\n",
    "\n",
    "from datasets import load_dataset, Dataset\n",
    "from transformers import AutoModelForCausalLM, AutoTokenizer, BitsAndBytesConfig\n",
    "import torch"
   ]
  },
  {
   "cell_type": "code",
   "execution_count": 3,
   "id": "d4511320-ac34-42fa-b254-a79db6ac5407",
   "metadata": {},
   "outputs": [
    {
     "data": {
      "text/plain": [
       "'/cluster/work/cotterell/kdu/context-vs-prior-finetuning'"
      ]
     },
     "execution_count": 3,
     "metadata": {},
     "output_type": "execute_result"
    }
   ],
   "source": [
    "# IMPORTANT: Run as if from project root so that imports work.\n",
    "pardir = os.path.abspath(os.path.join(os.getcwd(), os.pardir))\n",
    "os.chdir(pardir)\n",
    "os.getcwd()"
   ]
  },
  {
   "cell_type": "code",
   "execution_count": 4,
   "id": "955d97f9-3e62-46e9-ab5c-04e030e140a1",
   "metadata": {},
   "outputs": [],
   "source": [
    "from preprocessing.dataset import load_dataset_from_path\n",
    "from preprocessing.utils import format_query, evaluate_model\n",
    "from model_utils.utils import evaluate_model"
   ]
  },
  {
   "cell_type": "code",
   "execution_count": 5,
   "id": "fca5e898-45b2-4a95-ab7c-97d00645422e",
   "metadata": {},
   "outputs": [],
   "source": [
    "SEED = 1\n",
    "random.seed(SEED)\n",
    "np.random.seed(SEED)"
   ]
  },
  {
   "cell_type": "code",
   "execution_count": 43,
   "id": "d0814703-bc2a-4cc3-b910-e30dfd998d56",
   "metadata": {},
   "outputs": [],
   "source": [
    "ROOT_DATA_DIR = \"data/Yago/\"\n",
    "RAW_DATA_PATH = os.path.join(ROOT_DATA_DIR, \"yago_qec.json\")\n",
    "FILTERED_RAW_DATA_PATH = os.path.join(ROOT_DATA_DIR, \"llama2chat_yago_qec.json\")\n",
    "dataset = load_dataset_from_path(RAW_DATA_PATH)\n",
    "len(dataset.keys())\n",
    "dataset[:1]"
   ]
  },
  {
   "cell_type": "code",
   "execution_count": 7,
   "id": "7cba05be-c896-4586-9f82-cde63e544729",
   "metadata": {},
   "outputs": [
    {
     "name": "stderr",
     "output_type": "stream",
     "text": [
      "Unused kwargs: ['_load_in_4bit', '_load_in_8bit', 'quant_method']. These kwargs are not used in <class 'transformers.utils.quantization_config.BitsAndBytesConfig'>.\n",
      "/cluster/home/kevidu/venv/lib/python3.11/site-packages/transformers/quantizers/auto.py:167: UserWarning: You passed `quantization_config` or equivalent parameters to `from_pretrained` but the model you're loading already has a `quantization_config` attribute. The `quantization_config` from the model will be used.\n",
      "  warnings.warn(warning_msg)\n"
     ]
    }
   ],
   "source": [
    "model_id = \"unsloth/llama-2-7b-chat-bnb-4bit\"\n",
    "device = \"auto\"\n",
    "dtype = \"auto\"\n",
    "bnb_config = BitsAndBytesConfig(\n",
    "    load_in_4bit=True,\n",
    "    bnb_4bit_use_double_quant=True,\n",
    "    bnb_4bit_quant_type=\"nf4\",\n",
    "    bnb_4bit_compute_dtype=torch.bfloat16,\n",
    ")\n",
    "model = AutoModelForCausalLM.from_pretrained(\n",
    "    model_id,\n",
    "    quantization_config=bnb_config,\n",
    "    device_map=device,\n",
    "    torch_dtype=dtype,\n",
    "    # attn_implementation=attn_implementation,\n",
    ")"
   ]
  },
  {
   "cell_type": "code",
   "execution_count": 8,
   "id": "fb6574c0-89d7-42dd-93f2-fcc2a0b07fd0",
   "metadata": {},
   "outputs": [],
   "source": [
    "tokenizer = AutoTokenizer.from_pretrained(model.config._name_or_path)\n",
    "tokenizer.padding_side = \"right\" "
   ]
  },
  {
   "cell_type": "code",
   "execution_count": 9,
   "id": "32b79516-e66b-495b-8fb0-7711cde92f50",
   "metadata": {},
   "outputs": [
    {
     "name": "stderr",
     "output_type": "stream",
     "text": [
      "100%|██████████| 125/125 [00:00<00:00, 387.66it/s]\n"
     ]
    },
    {
     "data": {
      "text/html": [
       "<div>\n",
       "<style scoped>\n",
       "    .dataframe tbody tr th:only-of-type {\n",
       "        vertical-align: middle;\n",
       "    }\n",
       "\n",
       "    .dataframe tbody tr th {\n",
       "        vertical-align: top;\n",
       "    }\n",
       "\n",
       "    .dataframe thead th {\n",
       "        text-align: right;\n",
       "    }\n",
       "</style>\n",
       "<table border=\"1\" class=\"dataframe\">\n",
       "  <thead>\n",
       "    <tr style=\"text-align: right;\">\n",
       "      <th></th>\n",
       "      <th>text</th>\n",
       "      <th>labels</th>\n",
       "      <th>entity</th>\n",
       "      <th>query_id</th>\n",
       "      <th>query_type</th>\n",
       "    </tr>\n",
       "  </thead>\n",
       "  <tbody>\n",
       "    <tr>\n",
       "      <th>0</th>\n",
       "      <td>'Lady Blue' is about</td>\n",
       "      <td>Chicago Police Department</td>\n",
       "      <td>Lady Blue</td>\n",
       "      <td>http://schema.org/about</td>\n",
       "      <td>open</td>\n",
       "    </tr>\n",
       "    <tr>\n",
       "      <th>1</th>\n",
       "      <td>'The Guys' is about</td>\n",
       "      <td>New York City Fire Department</td>\n",
       "      <td>The Guys</td>\n",
       "      <td>http://schema.org/about</td>\n",
       "      <td>open</td>\n",
       "    </tr>\n",
       "    <tr>\n",
       "      <th>2</th>\n",
       "      <td>'installation of Yang di-Pertuan Agong XVI' is...</td>\n",
       "      <td>Abdullah of Pahang</td>\n",
       "      <td>installation of Yang di-Pertuan Agong XVI</td>\n",
       "      <td>http://schema.org/about</td>\n",
       "      <td>open</td>\n",
       "    </tr>\n",
       "    <tr>\n",
       "      <th>3</th>\n",
       "      <td>'Utilities Act 2000' is about</td>\n",
       "      <td>public utility</td>\n",
       "      <td>Utilities Act 2000</td>\n",
       "      <td>http://schema.org/about</td>\n",
       "      <td>open</td>\n",
       "    </tr>\n",
       "    <tr>\n",
       "      <th>4</th>\n",
       "      <td>'905' is about</td>\n",
       "      <td>cloning</td>\n",
       "      <td>905</td>\n",
       "      <td>http://schema.org/about</td>\n",
       "      <td>open</td>\n",
       "    </tr>\n",
       "    <tr>\n",
       "      <th>...</th>\n",
       "      <td>...</td>\n",
       "      <td>...</td>\n",
       "      <td>...</td>\n",
       "      <td>...</td>\n",
       "      <td>...</td>\n",
       "    </tr>\n",
       "    <tr>\n",
       "      <th>109050</th>\n",
       "      <td>Qingshui District is the terminus of</td>\n",
       "      <td>Provincial Highway 10</td>\n",
       "      <td>Qingshui District</td>\n",
       "      <td>reverse-http://yago-knowledge.org/resource/ter...</td>\n",
       "      <td>open</td>\n",
       "    </tr>\n",
       "    <tr>\n",
       "      <th>109051</th>\n",
       "      <td>Beppu is the terminus of</td>\n",
       "      <td>Japan National Route 213</td>\n",
       "      <td>Beppu</td>\n",
       "      <td>reverse-http://yago-knowledge.org/resource/ter...</td>\n",
       "      <td>open</td>\n",
       "    </tr>\n",
       "    <tr>\n",
       "      <th>109052</th>\n",
       "      <td>San Antonio is the terminus of</td>\n",
       "      <td>U.S. Route 380</td>\n",
       "      <td>San Antonio</td>\n",
       "      <td>reverse-http://yago-knowledge.org/resource/ter...</td>\n",
       "      <td>open</td>\n",
       "    </tr>\n",
       "    <tr>\n",
       "      <th>109053</th>\n",
       "      <td>Amtali Upazila is the terminus of</td>\n",
       "      <td>R881</td>\n",
       "      <td>Amtali Upazila</td>\n",
       "      <td>reverse-http://yago-knowledge.org/resource/ter...</td>\n",
       "      <td>open</td>\n",
       "    </tr>\n",
       "    <tr>\n",
       "      <th>109054</th>\n",
       "      <td>Petrovac, Budva is the terminus of</td>\n",
       "      <td>European route E851</td>\n",
       "      <td>Petrovac, Budva</td>\n",
       "      <td>reverse-http://yago-knowledge.org/resource/ter...</td>\n",
       "      <td>open</td>\n",
       "    </tr>\n",
       "  </tbody>\n",
       "</table>\n",
       "<p>109055 rows × 5 columns</p>\n",
       "</div>"
      ],
      "text/plain": [
       "                                                     text  \\\n",
       "0                                    'Lady Blue' is about   \n",
       "1                                     'The Guys' is about   \n",
       "2       'installation of Yang di-Pertuan Agong XVI' is...   \n",
       "3                           'Utilities Act 2000' is about   \n",
       "4                                          '905' is about   \n",
       "...                                                   ...   \n",
       "109050               Qingshui District is the terminus of   \n",
       "109051                           Beppu is the terminus of   \n",
       "109052                     San Antonio is the terminus of   \n",
       "109053                  Amtali Upazila is the terminus of   \n",
       "109054                 Petrovac, Budva is the terminus of   \n",
       "\n",
       "                               labels  \\\n",
       "0           Chicago Police Department   \n",
       "1       New York City Fire Department   \n",
       "2                  Abdullah of Pahang   \n",
       "3                      public utility   \n",
       "4                             cloning   \n",
       "...                               ...   \n",
       "109050          Provincial Highway 10   \n",
       "109051       Japan National Route 213   \n",
       "109052                 U.S. Route 380   \n",
       "109053                           R881   \n",
       "109054            European route E851   \n",
       "\n",
       "                                           entity  \\\n",
       "0                                       Lady Blue   \n",
       "1                                        The Guys   \n",
       "2       installation of Yang di-Pertuan Agong XVI   \n",
       "3                              Utilities Act 2000   \n",
       "4                                             905   \n",
       "...                                           ...   \n",
       "109050                          Qingshui District   \n",
       "109051                                      Beppu   \n",
       "109052                                San Antonio   \n",
       "109053                             Amtali Upazila   \n",
       "109054                            Petrovac, Budva   \n",
       "\n",
       "                                                 query_id query_type  \n",
       "0                                 http://schema.org/about       open  \n",
       "1                                 http://schema.org/about       open  \n",
       "2                                 http://schema.org/about       open  \n",
       "3                                 http://schema.org/about       open  \n",
       "4                                 http://schema.org/about       open  \n",
       "...                                                   ...        ...  \n",
       "109050  reverse-http://yago-knowledge.org/resource/ter...       open  \n",
       "109051  reverse-http://yago-knowledge.org/resource/ter...       open  \n",
       "109052  reverse-http://yago-knowledge.org/resource/ter...       open  \n",
       "109053  reverse-http://yago-knowledge.org/resource/ter...       open  \n",
       "109054  reverse-http://yago-knowledge.org/resource/ter...       open  \n",
       "\n",
       "[109055 rows x 5 columns]"
      ]
     },
     "execution_count": 9,
     "metadata": {},
     "output_type": "execute_result"
    }
   ],
   "source": [
    "my_dataset = defaultdict(list)\n",
    "# num_entities = 50\n",
    "for query_id, qec in tqdm(dataset.items()):\n",
    "    ents_and_answers = list(zip(qec[\"entities\"], qec[\"answers\"]))\n",
    "    random.shuffle(ents_and_answers)\n",
    "    # ents_and_answers = ents_and_answers[:num_entities]\n",
    "    for entity, answer in ents_and_answers:\n",
    "        for qt, qfs in qec[\"query_forms\"].items():\n",
    "            for qf in qfs:\n",
    "                if not qf.startswith(\"Q:\"):\n",
    "                    query = format_query(\n",
    "                        query=qf, entity=(entity,), context=\"\", answer=answer\n",
    "                    )\n",
    "                    my_dataset[\"text\"] += [query]\n",
    "                    my_dataset[\"labels\"] += [\n",
    "                        answer if qt == \"open\" else \"No\"\n",
    "                    ]\n",
    "\n",
    "                    # Add metadata shared between both examples\n",
    "                    my_dataset[\"entity\"] += [entity]\n",
    "                    my_dataset[\"query_id\"] += [query_id]\n",
    "                    my_dataset[\"query_type\"] += [qt]\n",
    "\n",
    "\n",
    "df_all = pd.DataFrame.from_dict(my_dataset)\n",
    "df_all"
   ]
  },
  {
   "cell_type": "code",
   "execution_count": 10,
   "id": "2ffff68c-4083-4bbf-bf00-09f98cd51eea",
   "metadata": {},
   "outputs": [],
   "source": [
    "dataset = Dataset.from_pandas(df_all) #.select(range(256))"
   ]
  },
  {
   "cell_type": "code",
   "execution_count": 11,
   "id": "9719e574-5d72-4357-a6fc-c1d45343cd06",
   "metadata": {},
   "outputs": [
    {
     "name": "stderr",
     "output_type": "stream",
     "text": [
      "Map: 100%|██████████| 109055/109055 [00:04<00:00, 24280.51 examples/s]\n",
      "  0%|          | 0/303 [00:00<?, ?it/s]/cluster/home/kevidu/venv/lib/python3.11/site-packages/transformers/generation/configuration_utils.py:515: UserWarning: `do_sample` is set to `False`. However, `temperature` is set to `0.6` -- this flag is only used in sample-based generation modes. You should set `do_sample=True` or unset `temperature`.\n",
      "  warnings.warn(\n",
      "/cluster/home/kevidu/venv/lib/python3.11/site-packages/transformers/generation/configuration_utils.py:520: UserWarning: `do_sample` is set to `False`. However, `top_p` is set to `0.9` -- this flag is only used in sample-based generation modes. You should set `do_sample=True` or unset `top_p`.\n",
      "  warnings.warn(\n",
      "  0%|          | 1/303 [00:08<43:21,  8.61s/it]"
     ]
    },
    {
     "name": "stdout",
     "output_type": "stream",
     "text": [
      "Average accuracy at batch 0: 0.008333333333333333 (3/360).\n"
     ]
    },
    {
     "name": "stderr",
     "output_type": "stream",
     "text": [
      "  1%|          | 2/303 [00:13<32:22,  6.45s/it]"
     ]
    },
    {
     "name": "stdout",
     "output_type": "stream",
     "text": [
      "Average accuracy at batch 1: 0.008333333333333333 (6/720).\n"
     ]
    },
    {
     "name": "stderr",
     "output_type": "stream",
     "text": [
      "  1%|          | 3/303 [00:17<27:23,  5.48s/it]"
     ]
    },
    {
     "name": "stdout",
     "output_type": "stream",
     "text": [
      "Average accuracy at batch 2: 0.009259259259259259 (10/1080).\n"
     ]
    },
    {
     "name": "stderr",
     "output_type": "stream",
     "text": [
      "  1%|▏         | 4/303 [00:22<24:59,  5.01s/it]"
     ]
    },
    {
     "name": "stdout",
     "output_type": "stream",
     "text": [
      "Average accuracy at batch 3: 0.006944444444444444 (10/1440).\n"
     ]
    },
    {
     "name": "stderr",
     "output_type": "stream",
     "text": [
      "  2%|▏         | 5/303 [00:26<23:48,  4.79s/it]"
     ]
    },
    {
     "name": "stdout",
     "output_type": "stream",
     "text": [
      "Average accuracy at batch 4: 0.005555555555555556 (10/1800).\n"
     ]
    },
    {
     "name": "stderr",
     "output_type": "stream",
     "text": [
      "  2%|▏         | 6/303 [00:30<22:53,  4.63s/it]"
     ]
    },
    {
     "name": "stdout",
     "output_type": "stream",
     "text": [
      "Average accuracy at batch 5: 0.005092592592592593 (11/2160).\n"
     ]
    },
    {
     "name": "stderr",
     "output_type": "stream",
     "text": [
      "  2%|▏         | 7/303 [00:35<22:22,  4.54s/it]"
     ]
    },
    {
     "name": "stdout",
     "output_type": "stream",
     "text": [
      "Average accuracy at batch 6: 0.005555555555555556 (14/2520).\n"
     ]
    },
    {
     "name": "stderr",
     "output_type": "stream",
     "text": [
      "  3%|▎         | 8/303 [00:39<21:35,  4.39s/it]"
     ]
    },
    {
     "name": "stdout",
     "output_type": "stream",
     "text": [
      "Average accuracy at batch 7: 0.005208333333333333 (15/2880).\n"
     ]
    },
    {
     "name": "stderr",
     "output_type": "stream",
     "text": [
      "  3%|▎         | 9/303 [00:43<20:37,  4.21s/it]"
     ]
    },
    {
     "name": "stdout",
     "output_type": "stream",
     "text": [
      "Average accuracy at batch 8: 0.0049382716049382715 (16/3240).\n"
     ]
    },
    {
     "name": "stderr",
     "output_type": "stream",
     "text": [
      "  3%|▎         | 10/303 [00:47<20:52,  4.28s/it]"
     ]
    },
    {
     "name": "stdout",
     "output_type": "stream",
     "text": [
      "Average accuracy at batch 9: 0.0044444444444444444 (16/3600).\n"
     ]
    },
    {
     "name": "stderr",
     "output_type": "stream",
     "text": [
      "  4%|▎         | 11/303 [00:51<20:29,  4.21s/it]"
     ]
    },
    {
     "name": "stdout",
     "output_type": "stream",
     "text": [
      "Average accuracy at batch 10: 0.00404040404040404 (16/3960).\n"
     ]
    },
    {
     "name": "stderr",
     "output_type": "stream",
     "text": [
      "  4%|▍         | 12/303 [00:55<20:24,  4.21s/it]"
     ]
    },
    {
     "name": "stdout",
     "output_type": "stream",
     "text": [
      "Average accuracy at batch 11: 0.005092592592592593 (22/4320).\n"
     ]
    },
    {
     "name": "stderr",
     "output_type": "stream",
     "text": [
      "  4%|▍         | 13/303 [00:59<20:13,  4.18s/it]"
     ]
    },
    {
     "name": "stdout",
     "output_type": "stream",
     "text": [
      "Average accuracy at batch 12: 0.006196581196581196 (29/4680).\n"
     ]
    },
    {
     "name": "stderr",
     "output_type": "stream",
     "text": [
      "  5%|▍         | 14/303 [01:03<19:51,  4.12s/it]"
     ]
    },
    {
     "name": "stdout",
     "output_type": "stream",
     "text": [
      "Average accuracy at batch 13: 0.006944444444444444 (35/5040).\n"
     ]
    },
    {
     "name": "stderr",
     "output_type": "stream",
     "text": [
      "  5%|▍         | 15/303 [01:07<19:37,  4.09s/it]"
     ]
    },
    {
     "name": "stdout",
     "output_type": "stream",
     "text": [
      "Average accuracy at batch 14: 0.006851851851851852 (37/5400).\n"
     ]
    },
    {
     "name": "stderr",
     "output_type": "stream",
     "text": [
      "  5%|▌         | 16/303 [01:12<19:38,  4.11s/it]"
     ]
    },
    {
     "name": "stdout",
     "output_type": "stream",
     "text": [
      "Average accuracy at batch 15: 0.006597222222222222 (38/5760).\n"
     ]
    },
    {
     "name": "stderr",
     "output_type": "stream",
     "text": [
      "  6%|▌         | 17/303 [01:16<19:42,  4.13s/it]"
     ]
    },
    {
     "name": "stdout",
     "output_type": "stream",
     "text": [
      "Average accuracy at batch 16: 0.00980392156862745 (60/6120).\n"
     ]
    },
    {
     "name": "stderr",
     "output_type": "stream",
     "text": [
      "  6%|▌         | 18/303 [01:20<20:00,  4.21s/it]"
     ]
    },
    {
     "name": "stdout",
     "output_type": "stream",
     "text": [
      "Average accuracy at batch 17: 0.013734567901234567 (89/6480).\n"
     ]
    },
    {
     "name": "stderr",
     "output_type": "stream",
     "text": [
      "  6%|▋         | 19/303 [01:26<22:50,  4.83s/it]"
     ]
    },
    {
     "name": "stdout",
     "output_type": "stream",
     "text": [
      "Average accuracy at batch 18: 0.017105263157894738 (117/6840).\n"
     ]
    },
    {
     "name": "stderr",
     "output_type": "stream",
     "text": [
      "  7%|▋         | 20/303 [01:31<22:20,  4.74s/it]"
     ]
    },
    {
     "name": "stdout",
     "output_type": "stream",
     "text": [
      "Average accuracy at batch 19: 0.017638888888888888 (127/7200).\n"
     ]
    },
    {
     "name": "stderr",
     "output_type": "stream",
     "text": [
      "  7%|▋         | 21/303 [01:35<21:36,  4.60s/it]"
     ]
    },
    {
     "name": "stdout",
     "output_type": "stream",
     "text": [
      "Average accuracy at batch 20: 0.017063492063492062 (129/7560).\n"
     ]
    },
    {
     "name": "stderr",
     "output_type": "stream",
     "text": [
      "  7%|▋         | 22/303 [01:40<21:11,  4.52s/it]"
     ]
    },
    {
     "name": "stdout",
     "output_type": "stream",
     "text": [
      "Average accuracy at batch 21: 0.016414141414141416 (130/7920).\n"
     ]
    },
    {
     "name": "stderr",
     "output_type": "stream",
     "text": [
      "  8%|▊         | 23/303 [01:44<20:20,  4.36s/it]"
     ]
    },
    {
     "name": "stdout",
     "output_type": "stream",
     "text": [
      "Average accuracy at batch 22: 0.01570048309178744 (130/8280).\n"
     ]
    },
    {
     "name": "stderr",
     "output_type": "stream",
     "text": [
      "  8%|▊         | 24/303 [01:47<19:27,  4.18s/it]"
     ]
    },
    {
     "name": "stdout",
     "output_type": "stream",
     "text": [
      "Average accuracy at batch 23: 0.015046296296296295 (130/8640).\n"
     ]
    },
    {
     "name": "stderr",
     "output_type": "stream",
     "text": [
      "  8%|▊         | 25/303 [01:51<19:01,  4.11s/it]"
     ]
    },
    {
     "name": "stdout",
     "output_type": "stream",
     "text": [
      "Average accuracy at batch 24: 0.015 (135/9000).\n"
     ]
    },
    {
     "name": "stderr",
     "output_type": "stream",
     "text": [
      "  9%|▊         | 26/303 [01:55<18:53,  4.09s/it]"
     ]
    },
    {
     "name": "stdout",
     "output_type": "stream",
     "text": [
      "Average accuracy at batch 25: 0.014423076923076924 (135/9360).\n"
     ]
    },
    {
     "name": "stderr",
     "output_type": "stream",
     "text": [
      "  9%|▉         | 27/303 [01:59<18:50,  4.10s/it]"
     ]
    },
    {
     "name": "stdout",
     "output_type": "stream",
     "text": [
      "Average accuracy at batch 26: 0.014197530864197531 (138/9720).\n"
     ]
    },
    {
     "name": "stderr",
     "output_type": "stream",
     "text": [
      "  9%|▉         | 28/303 [02:04<18:53,  4.12s/it]"
     ]
    },
    {
     "name": "stdout",
     "output_type": "stream",
     "text": [
      "Average accuracy at batch 27: 0.01369047619047619 (138/10080).\n"
     ]
    },
    {
     "name": "stderr",
     "output_type": "stream",
     "text": [
      " 10%|▉         | 29/303 [02:08<19:12,  4.21s/it]"
     ]
    },
    {
     "name": "stdout",
     "output_type": "stream",
     "text": [
      "Average accuracy at batch 28: 0.013409961685823755 (140/10440).\n"
     ]
    },
    {
     "name": "stderr",
     "output_type": "stream",
     "text": [
      " 10%|▉         | 30/303 [02:12<19:03,  4.19s/it]"
     ]
    },
    {
     "name": "stdout",
     "output_type": "stream",
     "text": [
      "Average accuracy at batch 29: 0.013425925925925926 (145/10800).\n"
     ]
    },
    {
     "name": "stderr",
     "output_type": "stream",
     "text": [
      " 10%|█         | 31/303 [02:16<18:52,  4.16s/it]"
     ]
    },
    {
     "name": "stdout",
     "output_type": "stream",
     "text": [
      "Average accuracy at batch 30: 0.013351254480286739 (149/11160).\n"
     ]
    },
    {
     "name": "stderr",
     "output_type": "stream",
     "text": [
      " 11%|█         | 32/303 [02:21<19:23,  4.29s/it]"
     ]
    },
    {
     "name": "stdout",
     "output_type": "stream",
     "text": [
      "Average accuracy at batch 31: 0.013541666666666667 (156/11520).\n"
     ]
    },
    {
     "name": "stderr",
     "output_type": "stream",
     "text": [
      " 11%|█         | 33/303 [02:25<19:05,  4.24s/it]"
     ]
    },
    {
     "name": "stdout",
     "output_type": "stream",
     "text": [
      "Average accuracy at batch 32: 0.013215488215488215 (157/11880).\n"
     ]
    },
    {
     "name": "stderr",
     "output_type": "stream",
     "text": [
      " 11%|█         | 34/303 [02:29<19:20,  4.31s/it]"
     ]
    },
    {
     "name": "stdout",
     "output_type": "stream",
     "text": [
      "Average accuracy at batch 33: 0.012826797385620915 (157/12240).\n"
     ]
    },
    {
     "name": "stderr",
     "output_type": "stream",
     "text": [
      " 12%|█▏        | 35/303 [02:34<19:13,  4.30s/it]"
     ]
    },
    {
     "name": "stdout",
     "output_type": "stream",
     "text": [
      "Average accuracy at batch 34: 0.01246031746031746 (157/12600).\n"
     ]
    },
    {
     "name": "stderr",
     "output_type": "stream",
     "text": [
      " 12%|█▏        | 36/303 [02:38<18:39,  4.19s/it]"
     ]
    },
    {
     "name": "stdout",
     "output_type": "stream",
     "text": [
      "Average accuracy at batch 35: 0.012114197530864198 (157/12960).\n"
     ]
    },
    {
     "name": "stderr",
     "output_type": "stream",
     "text": [
      " 12%|█▏        | 37/303 [02:42<18:31,  4.18s/it]"
     ]
    },
    {
     "name": "stdout",
     "output_type": "stream",
     "text": [
      "Average accuracy at batch 36: 0.011786786786786787 (157/13320).\n"
     ]
    },
    {
     "name": "stderr",
     "output_type": "stream",
     "text": [
      " 13%|█▎        | 38/303 [02:46<18:13,  4.13s/it]"
     ]
    },
    {
     "name": "stdout",
     "output_type": "stream",
     "text": [
      "Average accuracy at batch 37: 0.011476608187134503 (157/13680).\n"
     ]
    },
    {
     "name": "stderr",
     "output_type": "stream",
     "text": [
      " 13%|█▎        | 39/303 [02:50<17:50,  4.06s/it]"
     ]
    },
    {
     "name": "stdout",
     "output_type": "stream",
     "text": [
      "Average accuracy at batch 38: 0.011182336182336182 (157/14040).\n"
     ]
    },
    {
     "name": "stderr",
     "output_type": "stream",
     "text": [
      " 13%|█▎        | 40/303 [02:54<17:46,  4.05s/it]"
     ]
    },
    {
     "name": "stdout",
     "output_type": "stream",
     "text": [
      "Average accuracy at batch 39: 0.010902777777777779 (157/14400).\n"
     ]
    },
    {
     "name": "stderr",
     "output_type": "stream",
     "text": [
      " 14%|█▎        | 41/303 [02:58<17:54,  4.10s/it]"
     ]
    },
    {
     "name": "stdout",
     "output_type": "stream",
     "text": [
      "Average accuracy at batch 40: 0.011111111111111112 (164/14760).\n"
     ]
    },
    {
     "name": "stderr",
     "output_type": "stream",
     "text": [
      " 14%|█▍        | 42/303 [03:02<17:55,  4.12s/it]"
     ]
    },
    {
     "name": "stdout",
     "output_type": "stream",
     "text": [
      "Average accuracy at batch 41: 0.011904761904761904 (180/15120).\n"
     ]
    },
    {
     "name": "stderr",
     "output_type": "stream",
     "text": [
      " 14%|█▍        | 43/303 [03:06<17:40,  4.08s/it]"
     ]
    },
    {
     "name": "stdout",
     "output_type": "stream",
     "text": [
      "Average accuracy at batch 42: 0.01214470284237726 (188/15480).\n"
     ]
    },
    {
     "name": "stderr",
     "output_type": "stream",
     "text": [
      " 15%|█▍        | 44/303 [03:10<17:35,  4.07s/it]"
     ]
    },
    {
     "name": "stdout",
     "output_type": "stream",
     "text": [
      "Average accuracy at batch 43: 0.012626262626262626 (200/15840).\n"
     ]
    },
    {
     "name": "stderr",
     "output_type": "stream",
     "text": [
      " 15%|█▍        | 45/303 [03:14<17:46,  4.13s/it]"
     ]
    },
    {
     "name": "stdout",
     "output_type": "stream",
     "text": [
      "Average accuracy at batch 44: 0.013209876543209877 (214/16200).\n"
     ]
    },
    {
     "name": "stderr",
     "output_type": "stream",
     "text": [
      " 15%|█▌        | 46/303 [03:19<17:44,  4.14s/it]"
     ]
    },
    {
     "name": "stdout",
     "output_type": "stream",
     "text": [
      "Average accuracy at batch 45: 0.014190821256038648 (235/16560).\n"
     ]
    },
    {
     "name": "stderr",
     "output_type": "stream",
     "text": [
      " 16%|█▌        | 47/303 [03:23<17:34,  4.12s/it]"
     ]
    },
    {
     "name": "stdout",
     "output_type": "stream",
     "text": [
      "Average accuracy at batch 46: 0.013947990543735224 (236/16920).\n"
     ]
    },
    {
     "name": "stderr",
     "output_type": "stream",
     "text": [
      " 16%|█▌        | 48/303 [03:27<17:17,  4.07s/it]"
     ]
    },
    {
     "name": "stdout",
     "output_type": "stream",
     "text": [
      "Average accuracy at batch 47: 0.013657407407407408 (236/17280).\n"
     ]
    },
    {
     "name": "stderr",
     "output_type": "stream",
     "text": [
      " 16%|█▌        | 49/303 [03:31<17:10,  4.06s/it]"
     ]
    },
    {
     "name": "stdout",
     "output_type": "stream",
     "text": [
      "Average accuracy at batch 48: 0.013378684807256236 (236/17640).\n"
     ]
    },
    {
     "name": "stderr",
     "output_type": "stream",
     "text": [
      " 17%|█▋        | 50/303 [03:35<17:28,  4.15s/it]"
     ]
    },
    {
     "name": "stdout",
     "output_type": "stream",
     "text": [
      "Average accuracy at batch 49: 0.013333333333333334 (240/18000).\n"
     ]
    },
    {
     "name": "stderr",
     "output_type": "stream",
     "text": [
      " 17%|█▋        | 51/303 [03:39<17:45,  4.23s/it]"
     ]
    },
    {
     "name": "stdout",
     "output_type": "stream",
     "text": [
      "Average accuracy at batch 50: 0.013126361655773421 (241/18360).\n"
     ]
    },
    {
     "name": "stderr",
     "output_type": "stream",
     "text": [
      " 17%|█▋        | 52/303 [03:44<18:03,  4.32s/it]"
     ]
    },
    {
     "name": "stdout",
     "output_type": "stream",
     "text": [
      "Average accuracy at batch 51: 0.012980769230769231 (243/18720).\n"
     ]
    },
    {
     "name": "stderr",
     "output_type": "stream",
     "text": [
      " 17%|█▋        | 53/303 [03:57<28:53,  6.93s/it]"
     ]
    },
    {
     "name": "stdout",
     "output_type": "stream",
     "text": [
      "Average accuracy at batch 52: 0.012788259958071278 (244/19080).\n"
     ]
    },
    {
     "name": "stderr",
     "output_type": "stream",
     "text": [
      " 18%|█▊        | 54/303 [04:01<25:33,  6.16s/it]"
     ]
    },
    {
     "name": "stdout",
     "output_type": "stream",
     "text": [
      "Average accuracy at batch 53: 0.012551440329218106 (244/19440).\n"
     ]
    },
    {
     "name": "stderr",
     "output_type": "stream",
     "text": [
      " 18%|█▊        | 55/303 [04:05<22:43,  5.50s/it]"
     ]
    },
    {
     "name": "stdout",
     "output_type": "stream",
     "text": [
      "Average accuracy at batch 54: 0.012424242424242424 (246/19800).\n"
     ]
    },
    {
     "name": "stderr",
     "output_type": "stream",
     "text": [
      " 18%|█▊        | 56/303 [04:09<20:56,  5.09s/it]"
     ]
    },
    {
     "name": "stdout",
     "output_type": "stream",
     "text": [
      "Average accuracy at batch 55: 0.012351190476190476 (249/20160).\n"
     ]
    },
    {
     "name": "stderr",
     "output_type": "stream",
     "text": [
      " 19%|█▉        | 57/303 [04:14<19:58,  4.87s/it]"
     ]
    },
    {
     "name": "stdout",
     "output_type": "stream",
     "text": [
      "Average accuracy at batch 56: 0.012134502923976609 (249/20520).\n"
     ]
    },
    {
     "name": "stderr",
     "output_type": "stream",
     "text": [
      " 19%|█▉        | 58/303 [04:18<19:22,  4.74s/it]"
     ]
    },
    {
     "name": "stdout",
     "output_type": "stream",
     "text": [
      "Average accuracy at batch 57: 0.01192528735632184 (249/20880).\n"
     ]
    },
    {
     "name": "stderr",
     "output_type": "stream",
     "text": [
      " 19%|█▉        | 59/303 [04:23<18:51,  4.64s/it]"
     ]
    },
    {
     "name": "stdout",
     "output_type": "stream",
     "text": [
      "Average accuracy at batch 58: 0.012099811676082862 (257/21240).\n"
     ]
    },
    {
     "name": "stderr",
     "output_type": "stream",
     "text": [
      " 20%|█▉        | 60/303 [04:27<18:21,  4.53s/it]"
     ]
    },
    {
     "name": "stdout",
     "output_type": "stream",
     "text": [
      "Average accuracy at batch 59: 0.013194444444444444 (285/21600).\n"
     ]
    },
    {
     "name": "stderr",
     "output_type": "stream",
     "text": [
      " 20%|██        | 61/303 [04:31<18:03,  4.48s/it]"
     ]
    },
    {
     "name": "stdout",
     "output_type": "stream",
     "text": [
      "Average accuracy at batch 60: 0.014298724954462659 (314/21960).\n"
     ]
    },
    {
     "name": "stderr",
     "output_type": "stream",
     "text": [
      " 20%|██        | 62/303 [04:36<17:48,  4.43s/it]"
     ]
    },
    {
     "name": "stdout",
     "output_type": "stream",
     "text": [
      "Average accuracy at batch 61: 0.015277777777777777 (341/22320).\n"
     ]
    },
    {
     "name": "stderr",
     "output_type": "stream",
     "text": [
      " 21%|██        | 63/303 [04:40<17:23,  4.35s/it]"
     ]
    },
    {
     "name": "stdout",
     "output_type": "stream",
     "text": [
      "Average accuracy at batch 62: 0.016710758377425045 (379/22680).\n"
     ]
    },
    {
     "name": "stderr",
     "output_type": "stream",
     "text": [
      " 21%|██        | 64/303 [04:44<16:53,  4.24s/it]"
     ]
    },
    {
     "name": "stdout",
     "output_type": "stream",
     "text": [
      "Average accuracy at batch 63: 0.01818576388888889 (419/23040).\n"
     ]
    },
    {
     "name": "stderr",
     "output_type": "stream",
     "text": [
      " 21%|██▏       | 65/303 [04:48<16:36,  4.19s/it]"
     ]
    },
    {
     "name": "stdout",
     "output_type": "stream",
     "text": [
      "Average accuracy at batch 64: 0.018333333333333333 (429/23400).\n"
     ]
    },
    {
     "name": "stderr",
     "output_type": "stream",
     "text": [
      " 22%|██▏       | 66/303 [04:52<16:29,  4.17s/it]"
     ]
    },
    {
     "name": "stdout",
     "output_type": "stream",
     "text": [
      "Average accuracy at batch 65: 0.01813973063973064 (431/23760).\n"
     ]
    },
    {
     "name": "stderr",
     "output_type": "stream",
     "text": [
      " 22%|██▏       | 67/303 [04:56<16:09,  4.11s/it]"
     ]
    },
    {
     "name": "stdout",
     "output_type": "stream",
     "text": [
      "Average accuracy at batch 66: 0.018159203980099504 (438/24120).\n"
     ]
    },
    {
     "name": "stderr",
     "output_type": "stream",
     "text": [
      " 22%|██▏       | 68/303 [05:00<15:48,  4.04s/it]"
     ]
    },
    {
     "name": "stdout",
     "output_type": "stream",
     "text": [
      "Average accuracy at batch 67: 0.018504901960784314 (453/24480).\n"
     ]
    },
    {
     "name": "stderr",
     "output_type": "stream",
     "text": [
      " 23%|██▎       | 69/303 [05:04<15:56,  4.09s/it]"
     ]
    },
    {
     "name": "stdout",
     "output_type": "stream",
     "text": [
      "Average accuracy at batch 68: 0.019444444444444445 (483/24840).\n"
     ]
    },
    {
     "name": "stderr",
     "output_type": "stream",
     "text": [
      " 23%|██▎       | 70/303 [05:08<16:05,  4.14s/it]"
     ]
    },
    {
     "name": "stdout",
     "output_type": "stream",
     "text": [
      "Average accuracy at batch 69: 0.020317460317460317 (512/25200).\n"
     ]
    },
    {
     "name": "stderr",
     "output_type": "stream",
     "text": [
      " 23%|██▎       | 71/303 [05:13<16:25,  4.25s/it]"
     ]
    },
    {
     "name": "stdout",
     "output_type": "stream",
     "text": [
      "Average accuracy at batch 70: 0.02038341158059468 (521/25560).\n"
     ]
    },
    {
     "name": "stderr",
     "output_type": "stream",
     "text": [
      " 24%|██▍       | 72/303 [05:17<16:28,  4.28s/it]"
     ]
    },
    {
     "name": "stdout",
     "output_type": "stream",
     "text": [
      "Average accuracy at batch 71: 0.02029320987654321 (526/25920).\n"
     ]
    },
    {
     "name": "stderr",
     "output_type": "stream",
     "text": [
      " 24%|██▍       | 73/303 [05:21<16:23,  4.27s/it]"
     ]
    },
    {
     "name": "stdout",
     "output_type": "stream",
     "text": [
      "Average accuracy at batch 72: 0.020243531202435314 (532/26280).\n"
     ]
    },
    {
     "name": "stderr",
     "output_type": "stream",
     "text": [
      " 24%|██▍       | 74/303 [05:27<17:47,  4.66s/it]"
     ]
    },
    {
     "name": "stdout",
     "output_type": "stream",
     "text": [
      "Average accuracy at batch 73: 0.020232732732732732 (539/26640).\n"
     ]
    },
    {
     "name": "stderr",
     "output_type": "stream",
     "text": [
      " 25%|██▍       | 75/303 [05:31<17:13,  4.53s/it]"
     ]
    },
    {
     "name": "stdout",
     "output_type": "stream",
     "text": [
      "Average accuracy at batch 74: 0.02 (540/27000).\n"
     ]
    },
    {
     "name": "stderr",
     "output_type": "stream",
     "text": [
      " 25%|██▌       | 76/303 [05:36<16:59,  4.49s/it]"
     ]
    },
    {
     "name": "stdout",
     "output_type": "stream",
     "text": [
      "Average accuracy at batch 75: 0.0197733918128655 (541/27360).\n"
     ]
    },
    {
     "name": "stderr",
     "output_type": "stream",
     "text": [
      " 25%|██▌       | 77/303 [05:40<16:53,  4.48s/it]"
     ]
    },
    {
     "name": "stdout",
     "output_type": "stream",
     "text": [
      "Average accuracy at batch 76: 0.019552669552669554 (542/27720).\n"
     ]
    },
    {
     "name": "stderr",
     "output_type": "stream",
     "text": [
      " 26%|██▌       | 78/303 [05:44<16:05,  4.29s/it]"
     ]
    },
    {
     "name": "stdout",
     "output_type": "stream",
     "text": [
      "Average accuracy at batch 77: 0.019373219373219373 (544/28080).\n"
     ]
    },
    {
     "name": "stderr",
     "output_type": "stream",
     "text": [
      " 26%|██▌       | 79/303 [05:48<15:34,  4.17s/it]"
     ]
    },
    {
     "name": "stdout",
     "output_type": "stream",
     "text": [
      "Average accuracy at batch 78: 0.01912798874824191 (544/28440).\n"
     ]
    },
    {
     "name": "stderr",
     "output_type": "stream",
     "text": [
      " 26%|██▋       | 80/303 [05:53<16:49,  4.53s/it]"
     ]
    },
    {
     "name": "stdout",
     "output_type": "stream",
     "text": [
      "Average accuracy at batch 79: 0.01888888888888889 (544/28800).\n"
     ]
    },
    {
     "name": "stderr",
     "output_type": "stream",
     "text": [
      " 27%|██▋       | 81/303 [05:58<17:04,  4.62s/it]"
     ]
    },
    {
     "name": "stdout",
     "output_type": "stream",
     "text": [
      "Average accuracy at batch 80: 0.018655692729766804 (544/29160).\n"
     ]
    },
    {
     "name": "stderr",
     "output_type": "stream",
     "text": [
      " 27%|██▋       | 82/303 [06:02<16:57,  4.60s/it]"
     ]
    },
    {
     "name": "stdout",
     "output_type": "stream",
     "text": [
      "Average accuracy at batch 81: 0.01842818428184282 (544/29520).\n"
     ]
    },
    {
     "name": "stderr",
     "output_type": "stream",
     "text": [
      " 27%|██▋       | 83/303 [06:07<16:39,  4.54s/it]"
     ]
    },
    {
     "name": "stdout",
     "output_type": "stream",
     "text": [
      "Average accuracy at batch 82: 0.01820615796519411 (544/29880).\n"
     ]
    },
    {
     "name": "stderr",
     "output_type": "stream",
     "text": [
      " 28%|██▊       | 84/303 [06:11<16:21,  4.48s/it]"
     ]
    },
    {
     "name": "stdout",
     "output_type": "stream",
     "text": [
      "Average accuracy at batch 83: 0.01798941798941799 (544/30240).\n"
     ]
    },
    {
     "name": "stderr",
     "output_type": "stream",
     "text": [
      " 28%|██▊       | 85/303 [06:15<15:44,  4.33s/it]"
     ]
    },
    {
     "name": "stdout",
     "output_type": "stream",
     "text": [
      "Average accuracy at batch 84: 0.017777777777777778 (544/30600).\n"
     ]
    },
    {
     "name": "stderr",
     "output_type": "stream",
     "text": [
      " 28%|██▊       | 86/303 [06:20<15:50,  4.38s/it]"
     ]
    },
    {
     "name": "stdout",
     "output_type": "stream",
     "text": [
      "Average accuracy at batch 85: 0.01757105943152455 (544/30960).\n"
     ]
    },
    {
     "name": "stderr",
     "output_type": "stream",
     "text": [
      " 29%|██▊       | 87/303 [06:24<15:45,  4.38s/it]"
     ]
    },
    {
     "name": "stdout",
     "output_type": "stream",
     "text": [
      "Average accuracy at batch 86: 0.01756066411238825 (550/31320).\n"
     ]
    },
    {
     "name": "stderr",
     "output_type": "stream",
     "text": [
      " 29%|██▉       | 88/303 [06:28<15:40,  4.38s/it]"
     ]
    },
    {
     "name": "stdout",
     "output_type": "stream",
     "text": [
      "Average accuracy at batch 87: 0.017771464646464646 (563/31680).\n"
     ]
    },
    {
     "name": "stderr",
     "output_type": "stream",
     "text": [
      " 29%|██▉       | 89/303 [06:33<15:36,  4.37s/it]"
     ]
    },
    {
     "name": "stdout",
     "output_type": "stream",
     "text": [
      "Average accuracy at batch 88: 0.017852684144818977 (572/32040).\n"
     ]
    },
    {
     "name": "stderr",
     "output_type": "stream",
     "text": [
      " 30%|██▉       | 90/303 [06:37<15:28,  4.36s/it]"
     ]
    },
    {
     "name": "stdout",
     "output_type": "stream",
     "text": [
      "Average accuracy at batch 89: 0.01765432098765432 (572/32400).\n"
     ]
    },
    {
     "name": "stderr",
     "output_type": "stream",
     "text": [
      " 30%|███       | 91/303 [06:41<15:13,  4.31s/it]"
     ]
    },
    {
     "name": "stdout",
     "output_type": "stream",
     "text": [
      "Average accuracy at batch 90: 0.01746031746031746 (572/32760).\n"
     ]
    },
    {
     "name": "stderr",
     "output_type": "stream",
     "text": [
      " 30%|███       | 92/303 [06:46<15:12,  4.33s/it]"
     ]
    },
    {
     "name": "stdout",
     "output_type": "stream",
     "text": [
      "Average accuracy at batch 91: 0.017270531400966183 (572/33120).\n"
     ]
    },
    {
     "name": "stderr",
     "output_type": "stream",
     "text": [
      " 31%|███       | 93/303 [06:50<14:47,  4.23s/it]"
     ]
    },
    {
     "name": "stdout",
     "output_type": "stream",
     "text": [
      "Average accuracy at batch 92: 0.017084826762246118 (572/33480).\n"
     ]
    },
    {
     "name": "stderr",
     "output_type": "stream",
     "text": [
      " 31%|███       | 94/303 [06:54<14:38,  4.20s/it]"
     ]
    },
    {
     "name": "stdout",
     "output_type": "stream",
     "text": [
      "Average accuracy at batch 93: 0.01690307328605201 (572/33840).\n"
     ]
    },
    {
     "name": "stderr",
     "output_type": "stream",
     "text": [
      " 31%|███▏      | 95/303 [06:58<14:20,  4.14s/it]"
     ]
    },
    {
     "name": "stdout",
     "output_type": "stream",
     "text": [
      "Average accuracy at batch 94: 0.01672514619883041 (572/34200).\n"
     ]
    },
    {
     "name": "stderr",
     "output_type": "stream",
     "text": [
      " 32%|███▏      | 96/303 [07:02<14:33,  4.22s/it]"
     ]
    },
    {
     "name": "stdout",
     "output_type": "stream",
     "text": [
      "Average accuracy at batch 95: 0.016550925925925927 (572/34560).\n"
     ]
    },
    {
     "name": "stderr",
     "output_type": "stream",
     "text": [
      " 32%|███▏      | 97/303 [07:07<14:57,  4.36s/it]"
     ]
    },
    {
     "name": "stdout",
     "output_type": "stream",
     "text": [
      "Average accuracy at batch 96: 0.016380297823596793 (572/34920).\n"
     ]
    },
    {
     "name": "stderr",
     "output_type": "stream",
     "text": [
      " 32%|███▏      | 98/303 [07:11<14:53,  4.36s/it]"
     ]
    },
    {
     "name": "stdout",
     "output_type": "stream",
     "text": [
      "Average accuracy at batch 97: 0.016213151927437643 (572/35280).\n"
     ]
    },
    {
     "name": "stderr",
     "output_type": "stream",
     "text": [
      " 33%|███▎      | 99/303 [07:16<14:46,  4.35s/it]"
     ]
    },
    {
     "name": "stdout",
     "output_type": "stream",
     "text": [
      "Average accuracy at batch 98: 0.017508417508417508 (624/35640).\n"
     ]
    },
    {
     "name": "stderr",
     "output_type": "stream",
     "text": [
      " 33%|███▎      | 100/303 [07:20<14:54,  4.41s/it]"
     ]
    },
    {
     "name": "stdout",
     "output_type": "stream",
     "text": [
      "Average accuracy at batch 99: 0.018944444444444444 (682/36000).\n"
     ]
    },
    {
     "name": "stderr",
     "output_type": "stream",
     "text": [
      " 33%|███▎      | 101/303 [07:25<14:58,  4.45s/it]"
     ]
    },
    {
     "name": "stdout",
     "output_type": "stream",
     "text": [
      "Average accuracy at batch 100: 0.020819581958195818 (757/36360).\n"
     ]
    },
    {
     "name": "stderr",
     "output_type": "stream",
     "text": [
      " 34%|███▎      | 102/303 [07:30<15:17,  4.57s/it]"
     ]
    },
    {
     "name": "stdout",
     "output_type": "stream",
     "text": [
      "Average accuracy at batch 101: 0.02167755991285403 (796/36720).\n"
     ]
    },
    {
     "name": "stderr",
     "output_type": "stream",
     "text": [
      " 34%|███▍      | 103/303 [07:34<15:10,  4.55s/it]"
     ]
    },
    {
     "name": "stdout",
     "output_type": "stream",
     "text": [
      "Average accuracy at batch 102: 0.022114347357065803 (820/37080).\n"
     ]
    },
    {
     "name": "stderr",
     "output_type": "stream",
     "text": [
      " 34%|███▍      | 104/303 [07:38<14:22,  4.33s/it]"
     ]
    },
    {
     "name": "stdout",
     "output_type": "stream",
     "text": [
      "Average accuracy at batch 103: 0.0219017094017094 (820/37440).\n"
     ]
    },
    {
     "name": "stderr",
     "output_type": "stream",
     "text": [
      " 35%|███▍      | 105/303 [07:42<14:02,  4.25s/it]"
     ]
    },
    {
     "name": "stdout",
     "output_type": "stream",
     "text": [
      "Average accuracy at batch 104: 0.021693121693121695 (820/37800).\n"
     ]
    },
    {
     "name": "stderr",
     "output_type": "stream",
     "text": [
      " 35%|███▍      | 106/303 [07:46<13:46,  4.19s/it]"
     ]
    },
    {
     "name": "stdout",
     "output_type": "stream",
     "text": [
      "Average accuracy at batch 105: 0.02148846960167715 (820/38160).\n"
     ]
    },
    {
     "name": "stderr",
     "output_type": "stream",
     "text": [
      " 35%|███▌      | 107/303 [07:50<13:43,  4.20s/it]"
     ]
    },
    {
     "name": "stdout",
     "output_type": "stream",
     "text": [
      "Average accuracy at batch 106: 0.021287642782969886 (820/38520).\n"
     ]
    },
    {
     "name": "stderr",
     "output_type": "stream",
     "text": [
      " 36%|███▌      | 108/303 [07:55<13:47,  4.25s/it]"
     ]
    },
    {
     "name": "stdout",
     "output_type": "stream",
     "text": [
      "Average accuracy at batch 107: 0.02109053497942387 (820/38880).\n"
     ]
    },
    {
     "name": "stderr",
     "output_type": "stream",
     "text": [
      " 36%|███▌      | 109/303 [07:59<13:49,  4.28s/it]"
     ]
    },
    {
     "name": "stdout",
     "output_type": "stream",
     "text": [
      "Average accuracy at batch 108: 0.021075433231396535 (827/39240).\n"
     ]
    },
    {
     "name": "stderr",
     "output_type": "stream",
     "text": [
      " 36%|███▋      | 110/303 [08:03<13:55,  4.33s/it]"
     ]
    },
    {
     "name": "stdout",
     "output_type": "stream",
     "text": [
      "Average accuracy at batch 109: 0.021136363636363637 (837/39600).\n"
     ]
    },
    {
     "name": "stderr",
     "output_type": "stream",
     "text": [
      " 37%|███▋      | 111/303 [08:08<13:54,  4.34s/it]"
     ]
    },
    {
     "name": "stdout",
     "output_type": "stream",
     "text": [
      "Average accuracy at batch 110: 0.021246246246246245 (849/39960).\n"
     ]
    },
    {
     "name": "stderr",
     "output_type": "stream",
     "text": [
      " 37%|███▋      | 112/303 [08:12<13:45,  4.32s/it]"
     ]
    },
    {
     "name": "stdout",
     "output_type": "stream",
     "text": [
      "Average accuracy at batch 111: 0.022048611111111113 (889/40320).\n"
     ]
    },
    {
     "name": "stderr",
     "output_type": "stream",
     "text": [
      " 37%|███▋      | 113/303 [08:16<13:32,  4.28s/it]"
     ]
    },
    {
     "name": "stdout",
     "output_type": "stream",
     "text": [
      "Average accuracy at batch 112: 0.023647984267453293 (962/40680).\n"
     ]
    },
    {
     "name": "stderr",
     "output_type": "stream",
     "text": [
      " 38%|███▊      | 114/303 [08:20<13:13,  4.20s/it]"
     ]
    },
    {
     "name": "stdout",
     "output_type": "stream",
     "text": [
      "Average accuracy at batch 113: 0.02482943469785575 (1019/41040).\n"
     ]
    },
    {
     "name": "stderr",
     "output_type": "stream",
     "text": [
      " 38%|███▊      | 115/303 [08:24<12:52,  4.11s/it]"
     ]
    },
    {
     "name": "stdout",
     "output_type": "stream",
     "text": [
      "Average accuracy at batch 114: 0.02471014492753623 (1023/41400).\n"
     ]
    },
    {
     "name": "stderr",
     "output_type": "stream",
     "text": [
      " 38%|███▊      | 116/303 [08:28<12:48,  4.11s/it]"
     ]
    },
    {
     "name": "stdout",
     "output_type": "stream",
     "text": [
      "Average accuracy at batch 115: 0.02449712643678161 (1023/41760).\n"
     ]
    },
    {
     "name": "stderr",
     "output_type": "stream",
     "text": [
      " 39%|███▊      | 117/303 [08:32<12:36,  4.07s/it]"
     ]
    },
    {
     "name": "stdout",
     "output_type": "stream",
     "text": [
      "Average accuracy at batch 116: 0.024287749287749287 (1023/42120).\n"
     ]
    },
    {
     "name": "stderr",
     "output_type": "stream",
     "text": [
      " 39%|███▉      | 118/303 [08:36<12:43,  4.13s/it]"
     ]
    },
    {
     "name": "stdout",
     "output_type": "stream",
     "text": [
      "Average accuracy at batch 117: 0.02412900188323917 (1025/42480).\n"
     ]
    },
    {
     "name": "stderr",
     "output_type": "stream",
     "text": [
      " 39%|███▉      | 119/303 [08:41<13:14,  4.32s/it]"
     ]
    },
    {
     "name": "stdout",
     "output_type": "stream",
     "text": [
      "Average accuracy at batch 118: 0.02392623716153128 (1025/42840).\n"
     ]
    },
    {
     "name": "stderr",
     "output_type": "stream",
     "text": [
      " 40%|███▉      | 120/303 [08:46<13:18,  4.36s/it]"
     ]
    },
    {
     "name": "stdout",
     "output_type": "stream",
     "text": [
      "Average accuracy at batch 119: 0.02388888888888889 (1032/43200).\n"
     ]
    },
    {
     "name": "stderr",
     "output_type": "stream",
     "text": [
      " 40%|███▉      | 121/303 [08:50<13:11,  4.35s/it]"
     ]
    },
    {
     "name": "stdout",
     "output_type": "stream",
     "text": [
      "Average accuracy at batch 120: 0.024471992653810837 (1066/43560).\n"
     ]
    },
    {
     "name": "stderr",
     "output_type": "stream",
     "text": [
      " 40%|████      | 122/303 [08:54<13:02,  4.32s/it]"
     ]
    },
    {
     "name": "stdout",
     "output_type": "stream",
     "text": [
      "Average accuracy at batch 121: 0.024726775956284152 (1086/43920).\n"
     ]
    },
    {
     "name": "stderr",
     "output_type": "stream",
     "text": [
      " 41%|████      | 123/303 [09:00<14:14,  4.75s/it]"
     ]
    },
    {
     "name": "stdout",
     "output_type": "stream",
     "text": [
      "Average accuracy at batch 122: 0.0248193315266486 (1099/44280).\n"
     ]
    },
    {
     "name": "stderr",
     "output_type": "stream",
     "text": [
      " 41%|████      | 124/303 [09:04<13:42,  4.59s/it]"
     ]
    },
    {
     "name": "stdout",
     "output_type": "stream",
     "text": [
      "Average accuracy at batch 123: 0.027262544802867383 (1217/44640).\n"
     ]
    },
    {
     "name": "stderr",
     "output_type": "stream",
     "text": [
      " 41%|████▏     | 125/303 [09:08<13:15,  4.47s/it]"
     ]
    },
    {
     "name": "stdout",
     "output_type": "stream",
     "text": [
      "Average accuracy at batch 124: 0.02942222222222222 (1324/45000).\n"
     ]
    },
    {
     "name": "stderr",
     "output_type": "stream",
     "text": [
      " 42%|████▏     | 126/303 [09:13<12:50,  4.35s/it]"
     ]
    },
    {
     "name": "stdout",
     "output_type": "stream",
     "text": [
      "Average accuracy at batch 125: 0.03181216931216931 (1443/45360).\n"
     ]
    },
    {
     "name": "stderr",
     "output_type": "stream",
     "text": [
      " 42%|████▏     | 127/303 [09:16<12:19,  4.20s/it]"
     ]
    },
    {
     "name": "stdout",
     "output_type": "stream",
     "text": [
      "Average accuracy at batch 126: 0.03521434820647419 (1610/45720).\n"
     ]
    },
    {
     "name": "stderr",
     "output_type": "stream",
     "text": [
      " 42%|████▏     | 128/303 [09:21<12:35,  4.32s/it]"
     ]
    },
    {
     "name": "stdout",
     "output_type": "stream",
     "text": [
      "Average accuracy at batch 127: 0.035980902777777775 (1658/46080).\n"
     ]
    },
    {
     "name": "stderr",
     "output_type": "stream",
     "text": [
      " 43%|████▎     | 129/303 [09:26<12:48,  4.42s/it]"
     ]
    },
    {
     "name": "stdout",
     "output_type": "stream",
     "text": [
      "Average accuracy at batch 128: 0.0363479758828596 (1688/46440).\n"
     ]
    },
    {
     "name": "stderr",
     "output_type": "stream",
     "text": [
      " 43%|████▎     | 130/303 [09:30<12:55,  4.48s/it]"
     ]
    },
    {
     "name": "stdout",
     "output_type": "stream",
     "text": [
      "Average accuracy at batch 129: 0.03666666666666667 (1716/46800).\n"
     ]
    },
    {
     "name": "stderr",
     "output_type": "stream",
     "text": [
      " 43%|████▎     | 131/303 [09:34<12:30,  4.36s/it]"
     ]
    },
    {
     "name": "stdout",
     "output_type": "stream",
     "text": [
      "Average accuracy at batch 130: 0.03695928753180661 (1743/47160).\n"
     ]
    },
    {
     "name": "stderr",
     "output_type": "stream",
     "text": [
      " 44%|████▎     | 132/303 [09:38<12:13,  4.29s/it]"
     ]
    },
    {
     "name": "stdout",
     "output_type": "stream",
     "text": [
      "Average accuracy at batch 131: 0.03758417508417508 (1786/47520).\n"
     ]
    },
    {
     "name": "stderr",
     "output_type": "stream",
     "text": [
      " 44%|████▍     | 133/303 [09:43<12:04,  4.26s/it]"
     ]
    },
    {
     "name": "stdout",
     "output_type": "stream",
     "text": [
      "Average accuracy at batch 132: 0.037865497076023394 (1813/47880).\n"
     ]
    },
    {
     "name": "stderr",
     "output_type": "stream",
     "text": [
      " 44%|████▍     | 134/303 [09:47<11:48,  4.19s/it]"
     ]
    },
    {
     "name": "stdout",
     "output_type": "stream",
     "text": [
      "Average accuracy at batch 133: 0.03758291873963516 (1813/48240).\n"
     ]
    },
    {
     "name": "stderr",
     "output_type": "stream",
     "text": [
      " 45%|████▍     | 135/303 [09:51<11:37,  4.15s/it]"
     ]
    },
    {
     "name": "stdout",
     "output_type": "stream",
     "text": [
      "Average accuracy at batch 134: 0.037325102880658434 (1814/48600).\n"
     ]
    },
    {
     "name": "stderr",
     "output_type": "stream",
     "text": [
      " 45%|████▍     | 136/303 [09:55<11:33,  4.15s/it]"
     ]
    },
    {
     "name": "stdout",
     "output_type": "stream",
     "text": [
      "Average accuracy at batch 135: 0.03733660130718954 (1828/48960).\n"
     ]
    },
    {
     "name": "stderr",
     "output_type": "stream",
     "text": [
      " 45%|████▌     | 137/303 [09:59<11:32,  4.17s/it]"
     ]
    },
    {
     "name": "stdout",
     "output_type": "stream",
     "text": [
      "Average accuracy at batch 136: 0.03775344687753447 (1862/49320).\n"
     ]
    },
    {
     "name": "stderr",
     "output_type": "stream",
     "text": [
      " 46%|████▌     | 138/303 [10:03<11:22,  4.14s/it]"
     ]
    },
    {
     "name": "stdout",
     "output_type": "stream",
     "text": [
      "Average accuracy at batch 137: 0.03810386473429952 (1893/49680).\n"
     ]
    },
    {
     "name": "stderr",
     "output_type": "stream",
     "text": [
      " 46%|████▌     | 139/303 [10:07<11:16,  4.12s/it]"
     ]
    },
    {
     "name": "stdout",
     "output_type": "stream",
     "text": [
      "Average accuracy at batch 138: 0.03788968824940048 (1896/50040).\n"
     ]
    },
    {
     "name": "stderr",
     "output_type": "stream",
     "text": [
      " 46%|████▌     | 140/303 [10:11<11:12,  4.13s/it]"
     ]
    },
    {
     "name": "stdout",
     "output_type": "stream",
     "text": [
      "Average accuracy at batch 139: 0.03761904761904762 (1896/50400).\n"
     ]
    },
    {
     "name": "stderr",
     "output_type": "stream",
     "text": [
      " 47%|████▋     | 141/303 [10:15<11:06,  4.11s/it]"
     ]
    },
    {
     "name": "stdout",
     "output_type": "stream",
     "text": [
      "Average accuracy at batch 140: 0.03735224586288416 (1896/50760).\n"
     ]
    },
    {
     "name": "stderr",
     "output_type": "stream",
     "text": [
      " 47%|████▋     | 142/303 [10:20<11:17,  4.21s/it]"
     ]
    },
    {
     "name": "stdout",
     "output_type": "stream",
     "text": [
      "Average accuracy at batch 141: 0.03708920187793427 (1896/51120).\n"
     ]
    },
    {
     "name": "stderr",
     "output_type": "stream",
     "text": [
      " 47%|████▋     | 143/303 [10:24<11:21,  4.26s/it]"
     ]
    },
    {
     "name": "stdout",
     "output_type": "stream",
     "text": [
      "Average accuracy at batch 142: 0.03682983682983683 (1896/51480).\n"
     ]
    },
    {
     "name": "stderr",
     "output_type": "stream",
     "text": [
      " 48%|████▊     | 144/303 [10:28<11:12,  4.23s/it]"
     ]
    },
    {
     "name": "stdout",
     "output_type": "stream",
     "text": [
      "Average accuracy at batch 143: 0.03665123456790124 (1900/51840).\n"
     ]
    },
    {
     "name": "stderr",
     "output_type": "stream",
     "text": [
      " 48%|████▊     | 145/303 [10:33<11:42,  4.44s/it]"
     ]
    },
    {
     "name": "stdout",
     "output_type": "stream",
     "text": [
      "Average accuracy at batch 144: 0.03664750957854406 (1913/52200).\n"
     ]
    },
    {
     "name": "stderr",
     "output_type": "stream",
     "text": [
      " 48%|████▊     | 146/303 [10:38<11:35,  4.43s/it]"
     ]
    },
    {
     "name": "stdout",
     "output_type": "stream",
     "text": [
      "Average accuracy at batch 145: 0.03656773211567732 (1922/52560).\n"
     ]
    },
    {
     "name": "stderr",
     "output_type": "stream",
     "text": [
      " 49%|████▊     | 147/303 [10:43<12:02,  4.63s/it]"
     ]
    },
    {
     "name": "stdout",
     "output_type": "stream",
     "text": [
      "Average accuracy at batch 146: 0.036432350718065006 (1928/52920).\n"
     ]
    },
    {
     "name": "stderr",
     "output_type": "stream",
     "text": [
      " 49%|████▉     | 148/303 [10:47<11:53,  4.61s/it]"
     ]
    },
    {
     "name": "stdout",
     "output_type": "stream",
     "text": [
      "Average accuracy at batch 147: 0.03704954954954955 (1974/53280).\n"
     ]
    },
    {
     "name": "stderr",
     "output_type": "stream",
     "text": [
      " 49%|████▉     | 149/303 [10:52<11:51,  4.62s/it]"
     ]
    },
    {
     "name": "stdout",
     "output_type": "stream",
     "text": [
      "Average accuracy at batch 148: 0.03747203579418344 (2010/53640).\n"
     ]
    },
    {
     "name": "stderr",
     "output_type": "stream",
     "text": [
      " 50%|████▉     | 150/303 [10:56<11:29,  4.51s/it]"
     ]
    },
    {
     "name": "stdout",
     "output_type": "stream",
     "text": [
      "Average accuracy at batch 149: 0.03772222222222222 (2037/54000).\n"
     ]
    },
    {
     "name": "stderr",
     "output_type": "stream",
     "text": [
      " 50%|████▉     | 151/303 [11:01<11:15,  4.45s/it]"
     ]
    },
    {
     "name": "stdout",
     "output_type": "stream",
     "text": [
      "Average accuracy at batch 150: 0.03774834437086093 (2052/54360).\n"
     ]
    },
    {
     "name": "stderr",
     "output_type": "stream",
     "text": [
      " 50%|█████     | 152/303 [11:05<11:12,  4.46s/it]"
     ]
    },
    {
     "name": "stdout",
     "output_type": "stream",
     "text": [
      "Average accuracy at batch 151: 0.0377375730994152 (2065/54720).\n"
     ]
    },
    {
     "name": "stderr",
     "output_type": "stream",
     "text": [
      " 50%|█████     | 153/303 [11:10<11:11,  4.47s/it]"
     ]
    },
    {
     "name": "stdout",
     "output_type": "stream",
     "text": [
      "Average accuracy at batch 152: 0.03749092229484386 (2065/55080).\n"
     ]
    },
    {
     "name": "stderr",
     "output_type": "stream",
     "text": [
      " 51%|█████     | 154/303 [11:14<11:04,  4.46s/it]"
     ]
    },
    {
     "name": "stdout",
     "output_type": "stream",
     "text": [
      "Average accuracy at batch 153: 0.037247474747474744 (2065/55440).\n"
     ]
    },
    {
     "name": "stderr",
     "output_type": "stream",
     "text": [
      " 51%|█████     | 155/303 [11:19<11:10,  4.53s/it]"
     ]
    },
    {
     "name": "stdout",
     "output_type": "stream",
     "text": [
      "Average accuracy at batch 154: 0.0371505376344086 (2073/55800).\n"
     ]
    },
    {
     "name": "stderr",
     "output_type": "stream",
     "text": [
      " 51%|█████▏    | 156/303 [11:23<10:34,  4.32s/it]"
     ]
    },
    {
     "name": "stdout",
     "output_type": "stream",
     "text": [
      "Average accuracy at batch 155: 0.03698361823361823 (2077/56160).\n"
     ]
    },
    {
     "name": "stderr",
     "output_type": "stream",
     "text": [
      " 52%|█████▏    | 157/303 [11:26<10:07,  4.16s/it]"
     ]
    },
    {
     "name": "stdout",
     "output_type": "stream",
     "text": [
      "Average accuracy at batch 156: 0.03674805378627035 (2077/56520).\n"
     ]
    },
    {
     "name": "stderr",
     "output_type": "stream",
     "text": [
      " 52%|█████▏    | 158/303 [11:30<09:50,  4.07s/it]"
     ]
    },
    {
     "name": "stdout",
     "output_type": "stream",
     "text": [
      "Average accuracy at batch 157: 0.0365154711673699 (2077/56880).\n"
     ]
    },
    {
     "name": "stderr",
     "output_type": "stream",
     "text": [
      " 52%|█████▏    | 159/303 [11:34<09:47,  4.08s/it]"
     ]
    },
    {
     "name": "stdout",
     "output_type": "stream",
     "text": [
      "Average accuracy at batch 158: 0.03646051712089448 (2087/57240).\n"
     ]
    },
    {
     "name": "stderr",
     "output_type": "stream",
     "text": [
      " 53%|█████▎    | 160/303 [11:38<09:47,  4.11s/it]"
     ]
    },
    {
     "name": "stdout",
     "output_type": "stream",
     "text": [
      "Average accuracy at batch 159: 0.03630208333333333 (2091/57600).\n"
     ]
    },
    {
     "name": "stderr",
     "output_type": "stream",
     "text": [
      " 53%|█████▎    | 161/303 [11:42<09:35,  4.05s/it]"
     ]
    },
    {
     "name": "stdout",
     "output_type": "stream",
     "text": [
      "Average accuracy at batch 160: 0.03609385783298827 (2092/57960).\n"
     ]
    },
    {
     "name": "stderr",
     "output_type": "stream",
     "text": [
      " 53%|█████▎    | 162/303 [11:47<09:39,  4.11s/it]"
     ]
    },
    {
     "name": "stdout",
     "output_type": "stream",
     "text": [
      "Average accuracy at batch 161: 0.035939643347050756 (2096/58320).\n"
     ]
    },
    {
     "name": "stderr",
     "output_type": "stream",
     "text": [
      " 54%|█████▍    | 163/303 [11:51<09:26,  4.05s/it]"
     ]
    },
    {
     "name": "stdout",
     "output_type": "stream",
     "text": [
      "Average accuracy at batch 162: 0.035753237900477165 (2098/58680).\n"
     ]
    },
    {
     "name": "stderr",
     "output_type": "stream",
     "text": [
      " 54%|█████▍    | 164/303 [11:55<09:28,  4.09s/it]"
     ]
    },
    {
     "name": "stdout",
     "output_type": "stream",
     "text": [
      "Average accuracy at batch 163: 0.03553523035230352 (2098/59040).\n"
     ]
    },
    {
     "name": "stderr",
     "output_type": "stream",
     "text": [
      " 54%|█████▍    | 165/303 [11:59<09:27,  4.11s/it]"
     ]
    },
    {
     "name": "stdout",
     "output_type": "stream",
     "text": [
      "Average accuracy at batch 164: 0.03531986531986532 (2098/59400).\n"
     ]
    },
    {
     "name": "stderr",
     "output_type": "stream",
     "text": [
      " 55%|█████▍    | 166/303 [12:03<09:33,  4.19s/it]"
     ]
    },
    {
     "name": "stdout",
     "output_type": "stream",
     "text": [
      "Average accuracy at batch 165: 0.03510709504685408 (2098/59760).\n"
     ]
    },
    {
     "name": "stderr",
     "output_type": "stream",
     "text": [
      " 55%|█████▌    | 167/303 [12:08<09:36,  4.24s/it]"
     ]
    },
    {
     "name": "stdout",
     "output_type": "stream",
     "text": [
      "Average accuracy at batch 166: 0.034896872920825016 (2098/60120).\n"
     ]
    },
    {
     "name": "stderr",
     "output_type": "stream",
     "text": [
      " 55%|█████▌    | 168/303 [12:12<09:32,  4.24s/it]"
     ]
    },
    {
     "name": "stdout",
     "output_type": "stream",
     "text": [
      "Average accuracy at batch 167: 0.034689153439153436 (2098/60480).\n"
     ]
    },
    {
     "name": "stderr",
     "output_type": "stream",
     "text": [
      " 56%|█████▌    | 169/303 [12:16<09:41,  4.34s/it]"
     ]
    },
    {
     "name": "stdout",
     "output_type": "stream",
     "text": [
      "Average accuracy at batch 168: 0.036242603550295856 (2205/60840).\n"
     ]
    },
    {
     "name": "stderr",
     "output_type": "stream",
     "text": [
      " 56%|█████▌    | 170/303 [12:21<09:28,  4.27s/it]"
     ]
    },
    {
     "name": "stdout",
     "output_type": "stream",
     "text": [
      "Average accuracy at batch 169: 0.03861111111111111 (2363/61200).\n"
     ]
    },
    {
     "name": "stderr",
     "output_type": "stream",
     "text": [
      " 56%|█████▋    | 171/303 [12:25<09:33,  4.34s/it]"
     ]
    },
    {
     "name": "stdout",
     "output_type": "stream",
     "text": [
      "Average accuracy at batch 170: 0.04116309291747888 (2534/61560).\n"
     ]
    },
    {
     "name": "stderr",
     "output_type": "stream",
     "text": [
      " 57%|█████▋    | 172/303 [12:29<09:23,  4.30s/it]"
     ]
    },
    {
     "name": "stdout",
     "output_type": "stream",
     "text": [
      "Average accuracy at batch 171: 0.041440568475452196 (2566/61920).\n"
     ]
    },
    {
     "name": "stderr",
     "output_type": "stream",
     "text": [
      " 57%|█████▋    | 173/303 [12:34<09:34,  4.42s/it]"
     ]
    },
    {
     "name": "stdout",
     "output_type": "stream",
     "text": [
      "Average accuracy at batch 172: 0.04120102761721259 (2566/62280).\n"
     ]
    },
    {
     "name": "stderr",
     "output_type": "stream",
     "text": [
      " 57%|█████▋    | 174/303 [12:39<09:37,  4.47s/it]"
     ]
    },
    {
     "name": "stdout",
     "output_type": "stream",
     "text": [
      "Average accuracy at batch 173: 0.04096424010217114 (2566/62640).\n"
     ]
    },
    {
     "name": "stderr",
     "output_type": "stream",
     "text": [
      " 58%|█████▊    | 175/303 [12:43<09:39,  4.53s/it]"
     ]
    },
    {
     "name": "stdout",
     "output_type": "stream",
     "text": [
      "Average accuracy at batch 174: 0.04073015873015873 (2566/63000).\n"
     ]
    },
    {
     "name": "stderr",
     "output_type": "stream",
     "text": [
      " 58%|█████▊    | 176/303 [12:47<09:16,  4.38s/it]"
     ]
    },
    {
     "name": "stdout",
     "output_type": "stream",
     "text": [
      "Average accuracy at batch 175: 0.040514520202020204 (2567/63360).\n"
     ]
    },
    {
     "name": "stderr",
     "output_type": "stream",
     "text": [
      " 58%|█████▊    | 177/303 [12:51<09:03,  4.31s/it]"
     ]
    },
    {
     "name": "stdout",
     "output_type": "stream",
     "text": [
      "Average accuracy at batch 176: 0.040285624607658506 (2567/63720).\n"
     ]
    },
    {
     "name": "stderr",
     "output_type": "stream",
     "text": [
      " 59%|█████▊    | 178/303 [12:55<08:47,  4.22s/it]"
     ]
    },
    {
     "name": "stdout",
     "output_type": "stream",
     "text": [
      "Average accuracy at batch 177: 0.04009051186017478 (2569/64080).\n"
     ]
    },
    {
     "name": "stderr",
     "output_type": "stream",
     "text": [
      " 59%|█████▉    | 179/303 [12:59<08:29,  4.11s/it]"
     ]
    },
    {
     "name": "stdout",
     "output_type": "stream",
     "text": [
      "Average accuracy at batch 178: 0.0398820608317815 (2570/64440).\n"
     ]
    },
    {
     "name": "stderr",
     "output_type": "stream",
     "text": [
      " 59%|█████▉    | 180/303 [13:03<08:17,  4.05s/it]"
     ]
    },
    {
     "name": "stdout",
     "output_type": "stream",
     "text": [
      "Average accuracy at batch 179: 0.03967592592592593 (2571/64800).\n"
     ]
    },
    {
     "name": "stderr",
     "output_type": "stream",
     "text": [
      " 60%|█████▉    | 181/303 [13:08<08:56,  4.40s/it]"
     ]
    },
    {
     "name": "stdout",
     "output_type": "stream",
     "text": [
      "Average accuracy at batch 180: 0.03947206875383671 (2572/65160).\n"
     ]
    },
    {
     "name": "stderr",
     "output_type": "stream",
     "text": [
      " 60%|██████    | 182/303 [13:14<09:20,  4.63s/it]"
     ]
    },
    {
     "name": "stdout",
     "output_type": "stream",
     "text": [
      "Average accuracy at batch 181: 0.039255189255189255 (2572/65520).\n"
     ]
    },
    {
     "name": "stderr",
     "output_type": "stream",
     "text": [
      " 60%|██████    | 183/303 [13:19<09:35,  4.79s/it]"
     ]
    },
    {
     "name": "stdout",
     "output_type": "stream",
     "text": [
      "Average accuracy at batch 182: 0.03904068002428658 (2572/65880).\n"
     ]
    },
    {
     "name": "stderr",
     "output_type": "stream",
     "text": [
      " 61%|██████    | 184/303 [13:23<09:28,  4.77s/it]"
     ]
    },
    {
     "name": "stdout",
     "output_type": "stream",
     "text": [
      "Average accuracy at batch 183: 0.03884359903381643 (2573/66240).\n"
     ]
    },
    {
     "name": "stderr",
     "output_type": "stream",
     "text": [
      " 61%|██████    | 185/303 [13:28<09:00,  4.58s/it]"
     ]
    },
    {
     "name": "stdout",
     "output_type": "stream",
     "text": [
      "Average accuracy at batch 184: 0.03866366366366367 (2575/66600).\n"
     ]
    },
    {
     "name": "stderr",
     "output_type": "stream",
     "text": [
      " 61%|██████▏   | 186/303 [13:32<08:48,  4.52s/it]"
     ]
    },
    {
     "name": "stdout",
     "output_type": "stream",
     "text": [
      "Average accuracy at batch 185: 0.038485663082437276 (2577/66960).\n"
     ]
    },
    {
     "name": "stderr",
     "output_type": "stream",
     "text": [
      " 62%|██████▏   | 187/303 [13:37<08:45,  4.53s/it]"
     ]
    },
    {
     "name": "stdout",
     "output_type": "stream",
     "text": [
      "Average accuracy at batch 186: 0.03827985739750445 (2577/67320).\n"
     ]
    },
    {
     "name": "stderr",
     "output_type": "stream",
     "text": [
      " 62%|██████▏   | 188/303 [13:41<08:40,  4.53s/it]"
     ]
    },
    {
     "name": "stdout",
     "output_type": "stream",
     "text": [
      "Average accuracy at batch 187: 0.038076241134751776 (2577/67680).\n"
     ]
    },
    {
     "name": "stderr",
     "output_type": "stream",
     "text": [
      " 62%|██████▏   | 189/303 [13:46<08:34,  4.51s/it]"
     ]
    },
    {
     "name": "stdout",
     "output_type": "stream",
     "text": [
      "Average accuracy at batch 188: 0.03787477954144621 (2577/68040).\n"
     ]
    },
    {
     "name": "stderr",
     "output_type": "stream",
     "text": [
      " 63%|██████▎   | 190/303 [13:50<08:24,  4.47s/it]"
     ]
    },
    {
     "name": "stdout",
     "output_type": "stream",
     "text": [
      "Average accuracy at batch 189: 0.0377046783625731 (2579/68400).\n"
     ]
    },
    {
     "name": "stderr",
     "output_type": "stream",
     "text": [
      " 63%|██████▎   | 191/303 [13:54<08:18,  4.45s/it]"
     ]
    },
    {
     "name": "stdout",
     "output_type": "stream",
     "text": [
      "Average accuracy at batch 190: 0.037507271669575334 (2579/68760).\n"
     ]
    },
    {
     "name": "stderr",
     "output_type": "stream",
     "text": [
      " 63%|██████▎   | 192/303 [13:59<08:13,  4.45s/it]"
     ]
    },
    {
     "name": "stdout",
     "output_type": "stream",
     "text": [
      "Average accuracy at batch 191: 0.0373119212962963 (2579/69120).\n"
     ]
    },
    {
     "name": "stderr",
     "output_type": "stream",
     "text": [
      " 64%|██████▎   | 193/303 [14:03<07:51,  4.28s/it]"
     ]
    },
    {
     "name": "stdout",
     "output_type": "stream",
     "text": [
      "Average accuracy at batch 192: 0.03711859527921704 (2579/69480).\n"
     ]
    },
    {
     "name": "stderr",
     "output_type": "stream",
     "text": [
      " 64%|██████▍   | 194/303 [14:07<07:38,  4.21s/it]"
     ]
    },
    {
     "name": "stdout",
     "output_type": "stream",
     "text": [
      "Average accuracy at batch 193: 0.03692726231386025 (2579/69840).\n"
     ]
    },
    {
     "name": "stderr",
     "output_type": "stream",
     "text": [
      " 64%|██████▍   | 195/303 [14:11<07:45,  4.31s/it]"
     ]
    },
    {
     "name": "stdout",
     "output_type": "stream",
     "text": [
      "Average accuracy at batch 194: 0.036737891737891736 (2579/70200).\n"
     ]
    },
    {
     "name": "stderr",
     "output_type": "stream",
     "text": [
      " 65%|██████▍   | 196/303 [14:16<07:47,  4.37s/it]"
     ]
    },
    {
     "name": "stdout",
     "output_type": "stream",
     "text": [
      "Average accuracy at batch 195: 0.03655045351473923 (2579/70560).\n"
     ]
    },
    {
     "name": "stderr",
     "output_type": "stream",
     "text": [
      " 65%|██████▌   | 197/303 [14:20<07:55,  4.49s/it]"
     ]
    },
    {
     "name": "stdout",
     "output_type": "stream",
     "text": [
      "Average accuracy at batch 196: 0.036364918217710096 (2579/70920).\n"
     ]
    },
    {
     "name": "stderr",
     "output_type": "stream",
     "text": [
      " 65%|██████▌   | 198/303 [14:25<07:45,  4.44s/it]"
     ]
    },
    {
     "name": "stdout",
     "output_type": "stream",
     "text": [
      "Average accuracy at batch 197: 0.03633557800224467 (2590/71280).\n"
     ]
    },
    {
     "name": "stderr",
     "output_type": "stream",
     "text": [
      " 66%|██████▌   | 199/303 [14:29<07:44,  4.47s/it]"
     ]
    },
    {
     "name": "stdout",
     "output_type": "stream",
     "text": [
      "Average accuracy at batch 198: 0.036306532663316585 (2601/71640).\n"
     ]
    },
    {
     "name": "stderr",
     "output_type": "stream",
     "text": [
      " 66%|██████▌   | 200/303 [14:34<07:47,  4.54s/it]"
     ]
    },
    {
     "name": "stdout",
     "output_type": "stream",
     "text": [
      "Average accuracy at batch 199: 0.03625 (2610/72000).\n"
     ]
    },
    {
     "name": "stderr",
     "output_type": "stream",
     "text": [
      " 66%|██████▋   | 201/303 [14:39<07:55,  4.66s/it]"
     ]
    },
    {
     "name": "stdout",
     "output_type": "stream",
     "text": [
      "Average accuracy at batch 200: 0.03608347153123272 (2611/72360).\n"
     ]
    },
    {
     "name": "stderr",
     "output_type": "stream",
     "text": [
      " 67%|██████▋   | 202/303 [14:44<07:58,  4.73s/it]"
     ]
    },
    {
     "name": "stdout",
     "output_type": "stream",
     "text": [
      "Average accuracy at batch 201: 0.035932343234323434 (2613/72720).\n"
     ]
    },
    {
     "name": "stderr",
     "output_type": "stream",
     "text": [
      " 67%|██████▋   | 203/303 [14:49<07:58,  4.78s/it]"
     ]
    },
    {
     "name": "stdout",
     "output_type": "stream",
     "text": [
      "Average accuracy at batch 202: 0.0360016420361248 (2631/73080).\n"
     ]
    },
    {
     "name": "stderr",
     "output_type": "stream",
     "text": [
      " 67%|██████▋   | 204/303 [14:53<07:35,  4.60s/it]"
     ]
    },
    {
     "name": "stdout",
     "output_type": "stream",
     "text": [
      "Average accuracy at batch 203: 0.03616557734204793 (2656/73440).\n"
     ]
    },
    {
     "name": "stderr",
     "output_type": "stream",
     "text": [
      " 68%|██████▊   | 205/303 [14:57<07:16,  4.45s/it]"
     ]
    },
    {
     "name": "stdout",
     "output_type": "stream",
     "text": [
      "Average accuracy at batch 204: 0.036382113821138214 (2685/73800).\n"
     ]
    },
    {
     "name": "stderr",
     "output_type": "stream",
     "text": [
      " 68%|██████▊   | 206/303 [15:02<07:14,  4.48s/it]"
     ]
    },
    {
     "name": "stdout",
     "output_type": "stream",
     "text": [
      "Average accuracy at batch 205: 0.03628640776699029 (2691/74160).\n"
     ]
    },
    {
     "name": "stderr",
     "output_type": "stream",
     "text": [
      " 68%|██████▊   | 207/303 [15:06<07:09,  4.48s/it]"
     ]
    },
    {
     "name": "stdout",
     "output_type": "stream",
     "text": [
      "Average accuracy at batch 206: 0.03611111111111111 (2691/74520).\n"
     ]
    },
    {
     "name": "stderr",
     "output_type": "stream",
     "text": [
      " 69%|██████▊   | 208/303 [15:10<06:53,  4.35s/it]"
     ]
    },
    {
     "name": "stdout",
     "output_type": "stream",
     "text": [
      "Average accuracy at batch 207: 0.0359375 (2691/74880).\n"
     ]
    },
    {
     "name": "stderr",
     "output_type": "stream",
     "text": [
      " 69%|██████▉   | 209/303 [15:15<06:49,  4.36s/it]"
     ]
    },
    {
     "name": "stdout",
     "output_type": "stream",
     "text": [
      "Average accuracy at batch 208: 0.03580542264752791 (2694/75240).\n"
     ]
    },
    {
     "name": "stderr",
     "output_type": "stream",
     "text": [
      " 69%|██████▉   | 210/303 [15:19<06:48,  4.39s/it]"
     ]
    },
    {
     "name": "stdout",
     "output_type": "stream",
     "text": [
      "Average accuracy at batch 209: 0.035661375661375665 (2696/75600).\n"
     ]
    },
    {
     "name": "stderr",
     "output_type": "stream",
     "text": [
      " 70%|██████▉   | 211/303 [15:23<06:44,  4.40s/it]"
     ]
    },
    {
     "name": "stdout",
     "output_type": "stream",
     "text": [
      "Average accuracy at batch 210: 0.03558451816745656 (2703/75960).\n"
     ]
    },
    {
     "name": "stderr",
     "output_type": "stream",
     "text": [
      " 70%|██████▉   | 212/303 [15:27<06:28,  4.27s/it]"
     ]
    },
    {
     "name": "stdout",
     "output_type": "stream",
     "text": [
      "Average accuracy at batch 211: 0.035783542976939205 (2731/76320).\n"
     ]
    },
    {
     "name": "stderr",
     "output_type": "stream",
     "text": [
      " 70%|███████   | 213/303 [15:31<06:18,  4.20s/it]"
     ]
    },
    {
     "name": "stdout",
     "output_type": "stream",
     "text": [
      "Average accuracy at batch 212: 0.03592853416797079 (2755/76680).\n"
     ]
    },
    {
     "name": "stderr",
     "output_type": "stream",
     "text": [
      " 71%|███████   | 214/303 [15:36<06:10,  4.17s/it]"
     ]
    },
    {
     "name": "stdout",
     "output_type": "stream",
     "text": [
      "Average accuracy at batch 213: 0.03613707165109034 (2784/77040).\n"
     ]
    },
    {
     "name": "stderr",
     "output_type": "stream",
     "text": [
      " 71%|███████   | 215/303 [15:40<06:05,  4.15s/it]"
     ]
    },
    {
     "name": "stdout",
     "output_type": "stream",
     "text": [
      "Average accuracy at batch 214: 0.03603359173126615 (2789/77400).\n"
     ]
    },
    {
     "name": "stderr",
     "output_type": "stream",
     "text": [
      " 71%|███████▏  | 216/303 [15:44<06:00,  4.14s/it]"
     ]
    },
    {
     "name": "stdout",
     "output_type": "stream",
     "text": [
      "Average accuracy at batch 215: 0.0358667695473251 (2789/77760).\n"
     ]
    },
    {
     "name": "stderr",
     "output_type": "stream",
     "text": [
      " 72%|███████▏  | 217/303 [15:48<06:00,  4.19s/it]"
     ]
    },
    {
     "name": "stdout",
     "output_type": "stream",
     "text": [
      "Average accuracy at batch 216: 0.03571428571428571 (2790/78120).\n"
     ]
    },
    {
     "name": "stderr",
     "output_type": "stream",
     "text": [
      " 72%|███████▏  | 218/303 [15:52<05:58,  4.22s/it]"
     ]
    },
    {
     "name": "stdout",
     "output_type": "stream",
     "text": [
      "Average accuracy at batch 217: 0.03556320081549439 (2791/78480).\n"
     ]
    },
    {
     "name": "stderr",
     "output_type": "stream",
     "text": [
      " 72%|███████▏  | 219/303 [15:57<05:55,  4.23s/it]"
     ]
    },
    {
     "name": "stdout",
     "output_type": "stream",
     "text": [
      "Average accuracy at batch 218: 0.03541349568746829 (2792/78840).\n"
     ]
    },
    {
     "name": "stderr",
     "output_type": "stream",
     "text": [
      " 73%|███████▎  | 220/303 [16:01<05:51,  4.23s/it]"
     ]
    },
    {
     "name": "stdout",
     "output_type": "stream",
     "text": [
      "Average accuracy at batch 219: 0.03525252525252525 (2792/79200).\n"
     ]
    },
    {
     "name": "stderr",
     "output_type": "stream",
     "text": [
      " 73%|███████▎  | 221/303 [16:05<05:45,  4.21s/it]"
     ]
    },
    {
     "name": "stdout",
     "output_type": "stream",
     "text": [
      "Average accuracy at batch 220: 0.0350930115635998 (2792/79560).\n"
     ]
    },
    {
     "name": "stderr",
     "output_type": "stream",
     "text": [
      " 73%|███████▎  | 222/303 [16:09<05:39,  4.19s/it]"
     ]
    },
    {
     "name": "stdout",
     "output_type": "stream",
     "text": [
      "Average accuracy at batch 221: 0.034934934934934936 (2792/79920).\n"
     ]
    },
    {
     "name": "stderr",
     "output_type": "stream",
     "text": [
      " 74%|███████▎  | 223/303 [16:13<05:34,  4.18s/it]"
     ]
    },
    {
     "name": "stdout",
     "output_type": "stream",
     "text": [
      "Average accuracy at batch 222: 0.034778276033881415 (2792/80280).\n"
     ]
    },
    {
     "name": "stderr",
     "output_type": "stream",
     "text": [
      " 74%|███████▍  | 224/303 [16:17<05:17,  4.02s/it]"
     ]
    },
    {
     "name": "stdout",
     "output_type": "stream",
     "text": [
      "Average accuracy at batch 223: 0.034623015873015875 (2792/80640).\n"
     ]
    },
    {
     "name": "stderr",
     "output_type": "stream",
     "text": [
      " 74%|███████▍  | 225/303 [16:21<05:15,  4.05s/it]"
     ]
    },
    {
     "name": "stdout",
     "output_type": "stream",
     "text": [
      "Average accuracy at batch 224: 0.03446913580246914 (2792/81000).\n"
     ]
    },
    {
     "name": "stderr",
     "output_type": "stream",
     "text": [
      " 75%|███████▍  | 226/303 [16:25<05:08,  4.01s/it]"
     ]
    },
    {
     "name": "stdout",
     "output_type": "stream",
     "text": [
      "Average accuracy at batch 225: 0.03431661750245821 (2792/81360).\n"
     ]
    },
    {
     "name": "stderr",
     "output_type": "stream",
     "text": [
      " 75%|███████▍  | 227/303 [16:29<05:06,  4.03s/it]"
     ]
    },
    {
     "name": "stdout",
     "output_type": "stream",
     "text": [
      "Average accuracy at batch 226: 0.03416544297601566 (2792/81720).\n"
     ]
    },
    {
     "name": "stderr",
     "output_type": "stream",
     "text": [
      " 75%|███████▌  | 228/303 [16:33<04:57,  3.97s/it]"
     ]
    },
    {
     "name": "stdout",
     "output_type": "stream",
     "text": [
      "Average accuracy at batch 227: 0.03401559454191033 (2792/82080).\n"
     ]
    },
    {
     "name": "stderr",
     "output_type": "stream",
     "text": [
      " 76%|███████▌  | 229/303 [16:37<04:53,  3.96s/it]"
     ]
    },
    {
     "name": "stdout",
     "output_type": "stream",
     "text": [
      "Average accuracy at batch 228: 0.03386705482775352 (2792/82440).\n"
     ]
    },
    {
     "name": "stderr",
     "output_type": "stream",
     "text": [
      " 76%|███████▌  | 230/303 [16:41<04:48,  3.95s/it]"
     ]
    },
    {
     "name": "stdout",
     "output_type": "stream",
     "text": [
      "Average accuracy at batch 229: 0.03371980676328502 (2792/82800).\n"
     ]
    },
    {
     "name": "stderr",
     "output_type": "stream",
     "text": [
      " 76%|███████▌  | 231/303 [16:45<04:48,  4.01s/it]"
     ]
    },
    {
     "name": "stdout",
     "output_type": "stream",
     "text": [
      "Average accuracy at batch 230: 0.0335978835978836 (2794/83160).\n"
     ]
    },
    {
     "name": "stderr",
     "output_type": "stream",
     "text": [
      " 77%|███████▋  | 232/303 [16:49<04:44,  4.00s/it]"
     ]
    },
    {
     "name": "stdout",
     "output_type": "stream",
     "text": [
      "Average accuracy at batch 231: 0.03356082375478927 (2803/83520).\n"
     ]
    },
    {
     "name": "stderr",
     "output_type": "stream",
     "text": [
      " 77%|███████▋  | 233/303 [16:53<04:42,  4.04s/it]"
     ]
    },
    {
     "name": "stdout",
     "output_type": "stream",
     "text": [
      "Average accuracy at batch 232: 0.03353600381497377 (2813/83880).\n"
     ]
    },
    {
     "name": "stderr",
     "output_type": "stream",
     "text": [
      " 77%|███████▋  | 234/303 [16:57<04:37,  4.03s/it]"
     ]
    },
    {
     "name": "stdout",
     "output_type": "stream",
     "text": [
      "Average accuracy at batch 233: 0.03344017094017094 (2817/84240).\n"
     ]
    },
    {
     "name": "stderr",
     "output_type": "stream",
     "text": [
      " 78%|███████▊  | 235/303 [17:01<04:30,  3.98s/it]"
     ]
    },
    {
     "name": "stdout",
     "output_type": "stream",
     "text": [
      "Average accuracy at batch 234: 0.033297872340425534 (2817/84600).\n"
     ]
    },
    {
     "name": "stderr",
     "output_type": "stream",
     "text": [
      " 78%|███████▊  | 236/303 [17:05<04:24,  3.95s/it]"
     ]
    },
    {
     "name": "stdout",
     "output_type": "stream",
     "text": [
      "Average accuracy at batch 235: 0.03315677966101695 (2817/84960).\n"
     ]
    },
    {
     "name": "stderr",
     "output_type": "stream",
     "text": [
      " 78%|███████▊  | 237/303 [17:09<04:22,  3.98s/it]"
     ]
    },
    {
     "name": "stdout",
     "output_type": "stream",
     "text": [
      "Average accuracy at batch 236: 0.0330168776371308 (2817/85320).\n"
     ]
    },
    {
     "name": "stderr",
     "output_type": "stream",
     "text": [
      " 79%|███████▊  | 238/303 [17:13<04:23,  4.06s/it]"
     ]
    },
    {
     "name": "stdout",
     "output_type": "stream",
     "text": [
      "Average accuracy at batch 237: 0.03288982259570495 (2818/85680).\n"
     ]
    },
    {
     "name": "stderr",
     "output_type": "stream",
     "text": [
      " 79%|███████▉  | 239/303 [17:17<04:19,  4.06s/it]"
     ]
    },
    {
     "name": "stdout",
     "output_type": "stream",
     "text": [
      "Average accuracy at batch 238: 0.032787075778707576 (2821/86040).\n"
     ]
    },
    {
     "name": "stderr",
     "output_type": "stream",
     "text": [
      " 79%|███████▉  | 240/303 [17:21<04:15,  4.06s/it]"
     ]
    },
    {
     "name": "stdout",
     "output_type": "stream",
     "text": [
      "Average accuracy at batch 239: 0.03266203703703704 (2822/86400).\n"
     ]
    },
    {
     "name": "stderr",
     "output_type": "stream",
     "text": [
      " 80%|███████▉  | 241/303 [17:25<04:14,  4.11s/it]"
     ]
    },
    {
     "name": "stdout",
     "output_type": "stream",
     "text": [
      "Average accuracy at batch 240: 0.03252650991240203 (2822/86760).\n"
     ]
    },
    {
     "name": "stderr",
     "output_type": "stream",
     "text": [
      " 80%|███████▉  | 242/303 [17:29<04:09,  4.09s/it]"
     ]
    },
    {
     "name": "stdout",
     "output_type": "stream",
     "text": [
      "Average accuracy at batch 241: 0.0323921028466483 (2822/87120).\n"
     ]
    },
    {
     "name": "stderr",
     "output_type": "stream",
     "text": [
      " 80%|████████  | 243/303 [17:33<04:01,  4.03s/it]"
     ]
    },
    {
     "name": "stdout",
     "output_type": "stream",
     "text": [
      "Average accuracy at batch 242: 0.03225880201188843 (2822/87480).\n"
     ]
    },
    {
     "name": "stderr",
     "output_type": "stream",
     "text": [
      " 81%|████████  | 244/303 [17:37<03:56,  4.01s/it]"
     ]
    },
    {
     "name": "stdout",
     "output_type": "stream",
     "text": [
      "Average accuracy at batch 243: 0.03212659380692168 (2822/87840).\n"
     ]
    },
    {
     "name": "stderr",
     "output_type": "stream",
     "text": [
      " 81%|████████  | 245/303 [17:41<03:50,  3.97s/it]"
     ]
    },
    {
     "name": "stdout",
     "output_type": "stream",
     "text": [
      "Average accuracy at batch 244: 0.03199546485260771 (2822/88200).\n"
     ]
    },
    {
     "name": "stderr",
     "output_type": "stream",
     "text": [
      " 81%|████████  | 246/303 [17:45<03:48,  4.02s/it]"
     ]
    },
    {
     "name": "stdout",
     "output_type": "stream",
     "text": [
      "Average accuracy at batch 245: 0.03186540198735321 (2822/88560).\n"
     ]
    },
    {
     "name": "stderr",
     "output_type": "stream",
     "text": [
      " 82%|████████▏ | 247/303 [17:49<03:44,  4.01s/it]"
     ]
    },
    {
     "name": "stdout",
     "output_type": "stream",
     "text": [
      "Average accuracy at batch 246: 0.03173639226270805 (2822/88920).\n"
     ]
    },
    {
     "name": "stderr",
     "output_type": "stream",
     "text": [
      " 82%|████████▏ | 248/303 [17:53<03:42,  4.05s/it]"
     ]
    },
    {
     "name": "stdout",
     "output_type": "stream",
     "text": [
      "Average accuracy at batch 247: 0.0316084229390681 (2822/89280).\n"
     ]
    },
    {
     "name": "stderr",
     "output_type": "stream",
     "text": [
      " 82%|████████▏ | 249/303 [17:58<03:40,  4.08s/it]"
     ]
    },
    {
     "name": "stdout",
     "output_type": "stream",
     "text": [
      "Average accuracy at batch 248: 0.03148148148148148 (2822/89640).\n"
     ]
    },
    {
     "name": "stderr",
     "output_type": "stream",
     "text": [
      " 83%|████████▎ | 250/303 [18:02<03:36,  4.08s/it]"
     ]
    },
    {
     "name": "stdout",
     "output_type": "stream",
     "text": [
      "Average accuracy at batch 249: 0.03135555555555555 (2822/90000).\n"
     ]
    },
    {
     "name": "stderr",
     "output_type": "stream",
     "text": [
      " 83%|████████▎ | 251/303 [18:06<03:31,  4.07s/it]"
     ]
    },
    {
     "name": "stdout",
     "output_type": "stream",
     "text": [
      "Average accuracy at batch 250: 0.03123063302346171 (2822/90360).\n"
     ]
    },
    {
     "name": "stderr",
     "output_type": "stream",
     "text": [
      " 83%|████████▎ | 252/303 [18:10<03:28,  4.09s/it]"
     ]
    },
    {
     "name": "stdout",
     "output_type": "stream",
     "text": [
      "Average accuracy at batch 251: 0.031106701940035272 (2822/90720).\n"
     ]
    },
    {
     "name": "stderr",
     "output_type": "stream",
     "text": [
      " 83%|████████▎ | 253/303 [18:14<03:23,  4.08s/it]"
     ]
    },
    {
     "name": "stdout",
     "output_type": "stream",
     "text": [
      "Average accuracy at batch 252: 0.03098375054896794 (2822/91080).\n"
     ]
    },
    {
     "name": "stderr",
     "output_type": "stream",
     "text": [
      " 84%|████████▍ | 254/303 [18:18<03:20,  4.10s/it]"
     ]
    },
    {
     "name": "stdout",
     "output_type": "stream",
     "text": [
      "Average accuracy at batch 253: 0.03088363954505687 (2824/91440).\n"
     ]
    },
    {
     "name": "stderr",
     "output_type": "stream",
     "text": [
      " 84%|████████▍ | 255/303 [18:22<03:20,  4.18s/it]"
     ]
    },
    {
     "name": "stdout",
     "output_type": "stream",
     "text": [
      "Average accuracy at batch 254: 0.030773420479302833 (2825/91800).\n"
     ]
    },
    {
     "name": "stderr",
     "output_type": "stream",
     "text": [
      " 84%|████████▍ | 256/303 [18:27<03:18,  4.22s/it]"
     ]
    },
    {
     "name": "stdout",
     "output_type": "stream",
     "text": [
      "Average accuracy at batch 255: 0.030696614583333334 (2829/92160).\n"
     ]
    },
    {
     "name": "stderr",
     "output_type": "stream",
     "text": [
      " 85%|████████▍ | 257/303 [18:31<03:14,  4.23s/it]"
     ]
    },
    {
     "name": "stdout",
     "output_type": "stream",
     "text": [
      "Average accuracy at batch 256: 0.030685257241677474 (2839/92520).\n"
     ]
    },
    {
     "name": "stderr",
     "output_type": "stream",
     "text": [
      " 85%|████████▌ | 258/303 [18:36<03:14,  4.33s/it]"
     ]
    },
    {
     "name": "stdout",
     "output_type": "stream",
     "text": [
      "Average accuracy at batch 257: 0.030684754521963824 (2850/92880).\n"
     ]
    },
    {
     "name": "stderr",
     "output_type": "stream",
     "text": [
      " 85%|████████▌ | 259/303 [18:40<03:07,  4.27s/it]"
     ]
    },
    {
     "name": "stdout",
     "output_type": "stream",
     "text": [
      "Average accuracy at batch 258: 0.03065208065208065 (2858/93240).\n"
     ]
    },
    {
     "name": "stderr",
     "output_type": "stream",
     "text": [
      " 86%|████████▌ | 260/303 [18:44<02:58,  4.15s/it]"
     ]
    },
    {
     "name": "stdout",
     "output_type": "stream",
     "text": [
      "Average accuracy at batch 259: 0.030544871794871795 (2859/93600).\n"
     ]
    },
    {
     "name": "stderr",
     "output_type": "stream",
     "text": [
      " 86%|████████▌ | 261/303 [18:48<02:51,  4.09s/it]"
     ]
    },
    {
     "name": "stdout",
     "output_type": "stream",
     "text": [
      "Average accuracy at batch 260: 0.030427841634738186 (2859/93960).\n"
     ]
    },
    {
     "name": "stderr",
     "output_type": "stream",
     "text": [
      " 86%|████████▋ | 262/303 [18:52<02:47,  4.09s/it]"
     ]
    },
    {
     "name": "stdout",
     "output_type": "stream",
     "text": [
      "Average accuracy at batch 261: 0.030311704834605598 (2859/94320).\n"
     ]
    },
    {
     "name": "stderr",
     "output_type": "stream",
     "text": [
      " 87%|████████▋ | 263/303 [18:56<02:46,  4.15s/it]"
     ]
    },
    {
     "name": "stdout",
     "output_type": "stream",
     "text": [
      "Average accuracy at batch 262: 0.030196451204055768 (2859/94680).\n"
     ]
    },
    {
     "name": "stderr",
     "output_type": "stream",
     "text": [
      " 87%|████████▋ | 264/303 [19:00<02:43,  4.20s/it]"
     ]
    },
    {
     "name": "stdout",
     "output_type": "stream",
     "text": [
      "Average accuracy at batch 263: 0.030082070707070706 (2859/95040).\n"
     ]
    },
    {
     "name": "stderr",
     "output_type": "stream",
     "text": [
      " 87%|████████▋ | 265/303 [19:04<02:39,  4.19s/it]"
     ]
    },
    {
     "name": "stdout",
     "output_type": "stream",
     "text": [
      "Average accuracy at batch 264: 0.029968553459119498 (2859/95400).\n"
     ]
    },
    {
     "name": "stderr",
     "output_type": "stream",
     "text": [
      " 88%|████████▊ | 266/303 [19:08<02:30,  4.05s/it]"
     ]
    },
    {
     "name": "stdout",
     "output_type": "stream",
     "text": [
      "Average accuracy at batch 265: 0.029866332497911444 (2860/95760).\n"
     ]
    },
    {
     "name": "stderr",
     "output_type": "stream",
     "text": [
      " 88%|████████▊ | 267/303 [19:12<02:26,  4.08s/it]"
     ]
    },
    {
     "name": "stdout",
     "output_type": "stream",
     "text": [
      "Average accuracy at batch 266: 0.029754473574698292 (2860/96120).\n"
     ]
    },
    {
     "name": "stderr",
     "output_type": "stream",
     "text": [
      " 88%|████████▊ | 268/303 [19:17<02:24,  4.14s/it]"
     ]
    },
    {
     "name": "stdout",
     "output_type": "stream",
     "text": [
      "Average accuracy at batch 267: 0.029643449419568823 (2860/96480).\n"
     ]
    },
    {
     "name": "stderr",
     "output_type": "stream",
     "text": [
      " 89%|████████▉ | 269/303 [19:21<02:24,  4.26s/it]"
     ]
    },
    {
     "name": "stdout",
     "output_type": "stream",
     "text": [
      "Average accuracy at batch 268: 0.0295332507228418 (2860/96840).\n"
     ]
    },
    {
     "name": "stderr",
     "output_type": "stream",
     "text": [
      " 89%|████████▉ | 270/303 [19:25<02:20,  4.27s/it]"
     ]
    },
    {
     "name": "stdout",
     "output_type": "stream",
     "text": [
      "Average accuracy at batch 269: 0.0294238683127572 (2860/97200).\n"
     ]
    },
    {
     "name": "stderr",
     "output_type": "stream",
     "text": [
      " 89%|████████▉ | 271/303 [19:29<02:14,  4.19s/it]"
     ]
    },
    {
     "name": "stdout",
     "output_type": "stream",
     "text": [
      "Average accuracy at batch 270: 0.02933579335793358 (2862/97560).\n"
     ]
    },
    {
     "name": "stderr",
     "output_type": "stream",
     "text": [
      " 90%|████████▉ | 272/303 [19:34<02:11,  4.24s/it]"
     ]
    },
    {
     "name": "stdout",
     "output_type": "stream",
     "text": [
      "Average accuracy at batch 271: 0.02922794117647059 (2862/97920).\n"
     ]
    },
    {
     "name": "stderr",
     "output_type": "stream",
     "text": [
      " 90%|█████████ | 273/303 [19:38<02:04,  4.14s/it]"
     ]
    },
    {
     "name": "stdout",
     "output_type": "stream",
     "text": [
      "Average accuracy at batch 272: 0.029334554334554334 (2883/98280).\n"
     ]
    },
    {
     "name": "stderr",
     "output_type": "stream",
     "text": [
      " 90%|█████████ | 274/303 [19:41<01:56,  4.02s/it]"
     ]
    },
    {
     "name": "stdout",
     "output_type": "stream",
     "text": [
      "Average accuracy at batch 273: 0.029491078669910787 (2909/98640).\n"
     ]
    },
    {
     "name": "stderr",
     "output_type": "stream",
     "text": [
      " 91%|█████████ | 275/303 [19:45<01:50,  3.95s/it]"
     ]
    },
    {
     "name": "stdout",
     "output_type": "stream",
     "text": [
      "Average accuracy at batch 274: 0.029595959595959596 (2930/99000).\n"
     ]
    },
    {
     "name": "stderr",
     "output_type": "stream",
     "text": [
      " 91%|█████████ | 276/303 [19:50<01:50,  4.09s/it]"
     ]
    },
    {
     "name": "stdout",
     "output_type": "stream",
     "text": [
      "Average accuracy at batch 275: 0.02951892109500805 (2933/99360).\n"
     ]
    },
    {
     "name": "stderr",
     "output_type": "stream",
     "text": [
      " 91%|█████████▏| 277/303 [19:54<01:47,  4.14s/it]"
     ]
    },
    {
     "name": "stdout",
     "output_type": "stream",
     "text": [
      "Average accuracy at batch 276: 0.02941235459286001 (2933/99720).\n"
     ]
    },
    {
     "name": "stderr",
     "output_type": "stream",
     "text": [
      " 92%|█████████▏| 278/303 [19:58<01:45,  4.21s/it]"
     ]
    },
    {
     "name": "stdout",
     "output_type": "stream",
     "text": [
      "Average accuracy at batch 277: 0.029306554756195043 (2933/100080).\n"
     ]
    },
    {
     "name": "stderr",
     "output_type": "stream",
     "text": [
      " 92%|█████████▏| 279/303 [20:02<01:40,  4.17s/it]"
     ]
    },
    {
     "name": "stdout",
     "output_type": "stream",
     "text": [
      "Average accuracy at batch 278: 0.029201513341298287 (2933/100440).\n"
     ]
    },
    {
     "name": "stderr",
     "output_type": "stream",
     "text": [
      " 92%|█████████▏| 280/303 [20:07<01:37,  4.22s/it]"
     ]
    },
    {
     "name": "stdout",
     "output_type": "stream",
     "text": [
      "Average accuracy at batch 279: 0.029097222222222222 (2933/100800).\n"
     ]
    },
    {
     "name": "stderr",
     "output_type": "stream",
     "text": [
      " 93%|█████████▎| 281/303 [20:11<01:32,  4.20s/it]"
     ]
    },
    {
     "name": "stdout",
     "output_type": "stream",
     "text": [
      "Average accuracy at batch 280: 0.02899367338869118 (2933/101160).\n"
     ]
    },
    {
     "name": "stderr",
     "output_type": "stream",
     "text": [
      " 93%|█████████▎| 282/303 [20:15<01:28,  4.20s/it]"
     ]
    },
    {
     "name": "stdout",
     "output_type": "stream",
     "text": [
      "Average accuracy at batch 281: 0.028890858944050433 (2933/101520).\n"
     ]
    },
    {
     "name": "stderr",
     "output_type": "stream",
     "text": [
      " 93%|█████████▎| 283/303 [20:19<01:23,  4.17s/it]"
     ]
    },
    {
     "name": "stdout",
     "output_type": "stream",
     "text": [
      "Average accuracy at batch 282: 0.028788771103258736 (2933/101880).\n"
     ]
    },
    {
     "name": "stderr",
     "output_type": "stream",
     "text": [
      " 94%|█████████▎| 284/303 [20:23<01:18,  4.14s/it]"
     ]
    },
    {
     "name": "stdout",
     "output_type": "stream",
     "text": [
      "Average accuracy at batch 283: 0.028687402190923316 (2933/102240).\n"
     ]
    },
    {
     "name": "stderr",
     "output_type": "stream",
     "text": [
      " 94%|█████████▍| 285/303 [20:28<01:16,  4.28s/it]"
     ]
    },
    {
     "name": "stdout",
     "output_type": "stream",
     "text": [
      "Average accuracy at batch 284: 0.02887914230019493 (2963/102600).\n"
     ]
    },
    {
     "name": "stderr",
     "output_type": "stream",
     "text": [
      " 94%|█████████▍| 286/303 [20:33<01:15,  4.45s/it]"
     ]
    },
    {
     "name": "stdout",
     "output_type": "stream",
     "text": [
      "Average accuracy at batch 285: 0.029137529137529136 (3000/102960).\n"
     ]
    },
    {
     "name": "stderr",
     "output_type": "stream",
     "text": [
      " 95%|█████████▍| 287/303 [20:37<01:11,  4.49s/it]"
     ]
    },
    {
     "name": "stdout",
     "output_type": "stream",
     "text": [
      "Average accuracy at batch 286: 0.029510259388308167 (3049/103320).\n"
     ]
    },
    {
     "name": "stderr",
     "output_type": "stream",
     "text": [
      " 95%|█████████▌| 288/303 [20:42<01:07,  4.50s/it]"
     ]
    },
    {
     "name": "stdout",
     "output_type": "stream",
     "text": [
      "Average accuracy at batch 287: 0.029427083333333333 (3051/103680).\n"
     ]
    },
    {
     "name": "stderr",
     "output_type": "stream",
     "text": [
      " 95%|█████████▌| 289/303 [20:46<01:02,  4.48s/it]"
     ]
    },
    {
     "name": "stdout",
     "output_type": "stream",
     "text": [
      "Average accuracy at batch 288: 0.029334871203383316 (3052/104040).\n"
     ]
    },
    {
     "name": "stderr",
     "output_type": "stream",
     "text": [
      " 96%|█████████▌| 290/303 [20:50<00:57,  4.42s/it]"
     ]
    },
    {
     "name": "stdout",
     "output_type": "stream",
     "text": [
      "Average accuracy at batch 289: 0.029233716475095785 (3052/104400).\n"
     ]
    },
    {
     "name": "stderr",
     "output_type": "stream",
     "text": [
      " 96%|█████████▌| 291/303 [20:54<00:51,  4.31s/it]"
     ]
    },
    {
     "name": "stdout",
     "output_type": "stream",
     "text": [
      "Average accuracy at batch 290: 0.029133256968308513 (3052/104760).\n"
     ]
    },
    {
     "name": "stderr",
     "output_type": "stream",
     "text": [
      " 96%|█████████▋| 292/303 [20:58<00:45,  4.17s/it]"
     ]
    },
    {
     "name": "stdout",
     "output_type": "stream",
     "text": [
      "Average accuracy at batch 291: 0.029033485540334854 (3052/105120).\n"
     ]
    },
    {
     "name": "stderr",
     "output_type": "stream",
     "text": [
      " 97%|█████████▋| 293/303 [21:02<00:40,  4.08s/it]"
     ]
    },
    {
     "name": "stdout",
     "output_type": "stream",
     "text": [
      "Average accuracy at batch 292: 0.028934395145999242 (3052/105480).\n"
     ]
    },
    {
     "name": "stderr",
     "output_type": "stream",
     "text": [
      " 97%|█████████▋| 294/303 [21:06<00:35,  3.92s/it]"
     ]
    },
    {
     "name": "stdout",
     "output_type": "stream",
     "text": [
      "Average accuracy at batch 293: 0.028835978835978836 (3052/105840).\n"
     ]
    },
    {
     "name": "stderr",
     "output_type": "stream",
     "text": [
      " 97%|█████████▋| 295/303 [21:09<00:30,  3.80s/it]"
     ]
    },
    {
     "name": "stdout",
     "output_type": "stream",
     "text": [
      "Average accuracy at batch 294: 0.028738229755178906 (3052/106200).\n"
     ]
    },
    {
     "name": "stderr",
     "output_type": "stream",
     "text": [
      " 98%|█████████▊| 296/303 [21:13<00:26,  3.83s/it]"
     ]
    },
    {
     "name": "stdout",
     "output_type": "stream",
     "text": [
      "Average accuracy at batch 295: 0.02865990990990991 (3054/106560).\n"
     ]
    },
    {
     "name": "stderr",
     "output_type": "stream",
     "text": [
      " 98%|█████████▊| 297/303 [21:17<00:23,  3.88s/it]"
     ]
    },
    {
     "name": "stdout",
     "output_type": "stream",
     "text": [
      "Average accuracy at batch 296: 0.02860082304526749 (3058/106920).\n"
     ]
    },
    {
     "name": "stderr",
     "output_type": "stream",
     "text": [
      " 98%|█████████▊| 298/303 [21:21<00:19,  3.93s/it]"
     ]
    },
    {
     "name": "stdout",
     "output_type": "stream",
     "text": [
      "Average accuracy at batch 297: 0.02855145413870246 (3063/107280).\n"
     ]
    },
    {
     "name": "stderr",
     "output_type": "stream",
     "text": [
      " 99%|█████████▊| 299/303 [21:25<00:15,  3.98s/it]"
     ]
    },
    {
     "name": "stdout",
     "output_type": "stream",
     "text": [
      "Average accuracy at batch 298: 0.028455964325529545 (3063/107640).\n"
     ]
    },
    {
     "name": "stderr",
     "output_type": "stream",
     "text": [
      " 99%|█████████▉| 300/303 [21:29<00:12,  4.04s/it]"
     ]
    },
    {
     "name": "stdout",
     "output_type": "stream",
     "text": [
      "Average accuracy at batch 299: 0.02837037037037037 (3064/108000).\n"
     ]
    },
    {
     "name": "stderr",
     "output_type": "stream",
     "text": [
      " 99%|█████████▉| 301/303 [21:33<00:08,  4.01s/it]"
     ]
    },
    {
     "name": "stdout",
     "output_type": "stream",
     "text": [
      "Average accuracy at batch 300: 0.02827611664820967 (3064/108360).\n"
     ]
    },
    {
     "name": "stderr",
     "output_type": "stream",
     "text": [
      "100%|█████████▉| 302/303 [21:37<00:03,  4.00s/it]"
     ]
    },
    {
     "name": "stdout",
     "output_type": "stream",
     "text": [
      "Average accuracy at batch 301: 0.028182487122884473 (3064/108720).\n"
     ]
    },
    {
     "name": "stderr",
     "output_type": "stream",
     "text": [
      "100%|██████████| 303/303 [21:41<00:00,  4.30s/it]"
     ]
    },
    {
     "name": "stdout",
     "output_type": "stream",
     "text": [
      "Average accuracy at batch 302: 0.028095914905323004 (3064/109055).\n",
      "109055\n"
     ]
    },
    {
     "name": "stderr",
     "output_type": "stream",
     "text": [
      "\n",
      "Map: 100%|██████████| 109055/109055 [00:00<00:00, 1595530.32 examples/s]\n"
     ]
    }
   ],
   "source": [
    "results, metrics = evaluate_model(model, tokenizer, dataset, batch_sz=360)"
   ]
  },
  {
   "cell_type": "code",
   "execution_count": 12,
   "id": "bb324dbc-a418-4730-b1fa-f013aa3dbc31",
   "metadata": {},
   "outputs": [],
   "source": [
    "results_df = results.to_pandas()"
   ]
  },
  {
   "cell_type": "code",
   "execution_count": 13,
   "id": "dc23838a-efaf-4da1-bd57-aa2b1a526d3c",
   "metadata": {},
   "outputs": [
    {
     "data": {
      "text/html": [
       "<div>\n",
       "<style scoped>\n",
       "    .dataframe tbody tr th:only-of-type {\n",
       "        vertical-align: middle;\n",
       "    }\n",
       "\n",
       "    .dataframe tbody tr th {\n",
       "        vertical-align: top;\n",
       "    }\n",
       "\n",
       "    .dataframe thead th {\n",
       "        text-align: right;\n",
       "    }\n",
       "</style>\n",
       "<table border=\"1\" class=\"dataframe\">\n",
       "  <thead>\n",
       "    <tr style=\"text-align: right;\">\n",
       "      <th></th>\n",
       "      <th>text</th>\n",
       "      <th>labels</th>\n",
       "      <th>entity</th>\n",
       "      <th>query_id</th>\n",
       "      <th>query_type</th>\n",
       "      <th>predictions</th>\n",
       "      <th>is_correct</th>\n",
       "    </tr>\n",
       "  </thead>\n",
       "  <tbody>\n",
       "    <tr>\n",
       "      <th>42</th>\n",
       "      <td>'Eason Chan filmography' is about</td>\n",
       "      <td>Eason Chan</td>\n",
       "      <td>Eason Chan filmography</td>\n",
       "      <td>http://schema.org/about</td>\n",
       "      <td>open</td>\n",
       "      <td>Eason Chan, a Hong Kong singer, songwriter, an...</td>\n",
       "      <td>True</td>\n",
       "    </tr>\n",
       "    <tr>\n",
       "      <th>105</th>\n",
       "      <td>'Norma Talmadge filmography' is about</td>\n",
       "      <td>Norma Talmadge</td>\n",
       "      <td>Norma Talmadge filmography</td>\n",
       "      <td>http://schema.org/about</td>\n",
       "      <td>open</td>\n",
       "      <td>Norma Talmadge, an American actress who was ac...</td>\n",
       "      <td>True</td>\n",
       "    </tr>\n",
       "    <tr>\n",
       "      <th>196</th>\n",
       "      <td>'Faye Dunaway filmography' is about</td>\n",
       "      <td>Faye Dunaway</td>\n",
       "      <td>Faye Dunaway filmography</td>\n",
       "      <td>http://schema.org/about</td>\n",
       "      <td>open</td>\n",
       "      <td>Faye Dunaway, an American actress who was born...</td>\n",
       "      <td>True</td>\n",
       "    </tr>\n",
       "    <tr>\n",
       "      <th>481</th>\n",
       "      <td>'Paul Anka filmography' is about</td>\n",
       "      <td>Paul Anka</td>\n",
       "      <td>Paul Anka filmography</td>\n",
       "      <td>http://schema.org/about</td>\n",
       "      <td>open</td>\n",
       "      <td>Paul Anka, a Canadian singer, songwriter, and ...</td>\n",
       "      <td>True</td>\n",
       "    </tr>\n",
       "    <tr>\n",
       "      <th>585</th>\n",
       "      <td>'Donald Duck filmography' is about</td>\n",
       "      <td>Donald Duck</td>\n",
       "      <td>Donald Duck filmography</td>\n",
       "      <td>http://schema.org/about</td>\n",
       "      <td>open</td>\n",
       "      <td>Donald Duck's appearances in various films, TV...</td>\n",
       "      <td>True</td>\n",
       "    </tr>\n",
       "    <tr>\n",
       "      <th>...</th>\n",
       "      <td>...</td>\n",
       "      <td>...</td>\n",
       "      <td>...</td>\n",
       "      <td>...</td>\n",
       "      <td>...</td>\n",
       "      <td>...</td>\n",
       "      <td>...</td>\n",
       "    </tr>\n",
       "    <tr>\n",
       "      <th>107070</th>\n",
       "      <td>Nykøbing-Rørvig Municipality was replaced by</td>\n",
       "      <td>Odsherred Municipality</td>\n",
       "      <td>Nykøbing-Rørvig Municipality</td>\n",
       "      <td>reverse-http://yago-knowledge.org/resource/rep...</td>\n",
       "      <td>open</td>\n",
       "      <td>Odsherred Municipality on January 1, 2007. Unt...</td>\n",
       "      <td>True</td>\n",
       "    </tr>\n",
       "    <tr>\n",
       "      <th>107114</th>\n",
       "      <td>Öland County was replaced by</td>\n",
       "      <td>Kalmar County</td>\n",
       "      <td>Öland County</td>\n",
       "      <td>reverse-http://yago-knowledge.org/resource/rep...</td>\n",
       "      <td>open</td>\n",
       "      <td>Kalmar County in 1998. Unterscheidung between ...</td>\n",
       "      <td>True</td>\n",
       "    </tr>\n",
       "    <tr>\n",
       "      <th>107256</th>\n",
       "      <td>Newtownabbey Borough Council was replaced by</td>\n",
       "      <td>Antrim and Newtownabbey Borough Council</td>\n",
       "      <td>Newtownabbey Borough Council</td>\n",
       "      <td>reverse-http://yago-knowledge.org/resource/rep...</td>\n",
       "      <td>open</td>\n",
       "      <td>Antrim and Newtownabbey Borough Council in 201...</td>\n",
       "      <td>True</td>\n",
       "    </tr>\n",
       "    <tr>\n",
       "      <th>107268</th>\n",
       "      <td>Ceredigion and Pembroke North was replaced by</td>\n",
       "      <td>Ceredigion</td>\n",
       "      <td>Ceredigion and Pembroke North</td>\n",
       "      <td>reverse-http://yago-knowledge.org/resource/rep...</td>\n",
       "      <td>open</td>\n",
       "      <td>Ceredigion and Pembrokeshire in 1996. Untersch...</td>\n",
       "      <td>True</td>\n",
       "    </tr>\n",
       "    <tr>\n",
       "      <th>107842</th>\n",
       "      <td>A student of Charles Émile Picard was</td>\n",
       "      <td>Paul Painlevé</td>\n",
       "      <td>Charles Émile Picard</td>\n",
       "      <td>reverse-http://yago-knowledge.org/resource/stu...</td>\n",
       "      <td>open</td>\n",
       "      <td>Paul Painlevé, who became a prominent mathemat...</td>\n",
       "      <td>True</td>\n",
       "    </tr>\n",
       "  </tbody>\n",
       "</table>\n",
       "<p>3064 rows × 7 columns</p>\n",
       "</div>"
      ],
      "text/plain": [
       "                                                 text  \\\n",
       "42                  'Eason Chan filmography' is about   \n",
       "105             'Norma Talmadge filmography' is about   \n",
       "196               'Faye Dunaway filmography' is about   \n",
       "481                  'Paul Anka filmography' is about   \n",
       "585                'Donald Duck filmography' is about   \n",
       "...                                               ...   \n",
       "107070   Nykøbing-Rørvig Municipality was replaced by   \n",
       "107114                   Öland County was replaced by   \n",
       "107256   Newtownabbey Borough Council was replaced by   \n",
       "107268  Ceredigion and Pembroke North was replaced by   \n",
       "107842          A student of Charles Émile Picard was   \n",
       "\n",
       "                                         labels  \\\n",
       "42                                   Eason Chan   \n",
       "105                              Norma Talmadge   \n",
       "196                                Faye Dunaway   \n",
       "481                                   Paul Anka   \n",
       "585                                 Donald Duck   \n",
       "...                                         ...   \n",
       "107070                   Odsherred Municipality   \n",
       "107114                            Kalmar County   \n",
       "107256  Antrim and Newtownabbey Borough Council   \n",
       "107268                               Ceredigion   \n",
       "107842                            Paul Painlevé   \n",
       "\n",
       "                               entity  \\\n",
       "42             Eason Chan filmography   \n",
       "105        Norma Talmadge filmography   \n",
       "196          Faye Dunaway filmography   \n",
       "481             Paul Anka filmography   \n",
       "585           Donald Duck filmography   \n",
       "...                               ...   \n",
       "107070   Nykøbing-Rørvig Municipality   \n",
       "107114                   Öland County   \n",
       "107256   Newtownabbey Borough Council   \n",
       "107268  Ceredigion and Pembroke North   \n",
       "107842           Charles Émile Picard   \n",
       "\n",
       "                                                 query_id query_type  \\\n",
       "42                                http://schema.org/about       open   \n",
       "105                               http://schema.org/about       open   \n",
       "196                               http://schema.org/about       open   \n",
       "481                               http://schema.org/about       open   \n",
       "585                               http://schema.org/about       open   \n",
       "...                                                   ...        ...   \n",
       "107070  reverse-http://yago-knowledge.org/resource/rep...       open   \n",
       "107114  reverse-http://yago-knowledge.org/resource/rep...       open   \n",
       "107256  reverse-http://yago-knowledge.org/resource/rep...       open   \n",
       "107268  reverse-http://yago-knowledge.org/resource/rep...       open   \n",
       "107842  reverse-http://yago-knowledge.org/resource/stu...       open   \n",
       "\n",
       "                                              predictions  is_correct  \n",
       "42      Eason Chan, a Hong Kong singer, songwriter, an...        True  \n",
       "105     Norma Talmadge, an American actress who was ac...        True  \n",
       "196     Faye Dunaway, an American actress who was born...        True  \n",
       "481     Paul Anka, a Canadian singer, songwriter, and ...        True  \n",
       "585     Donald Duck's appearances in various films, TV...        True  \n",
       "...                                                   ...         ...  \n",
       "107070  Odsherred Municipality on January 1, 2007. Unt...        True  \n",
       "107114  Kalmar County in 1998. Unterscheidung between ...        True  \n",
       "107256  Antrim and Newtownabbey Borough Council in 201...        True  \n",
       "107268  Ceredigion and Pembrokeshire in 1996. Untersch...        True  \n",
       "107842  Paul Painlevé, who became a prominent mathemat...        True  \n",
       "\n",
       "[3064 rows x 7 columns]"
      ]
     },
     "execution_count": 13,
     "metadata": {},
     "output_type": "execute_result"
    }
   ],
   "source": [
    "correct_results_df = results_df[results_df[\"is_correct\"] == True]\n",
    "correct_results_df"
   ]
  },
  {
   "cell_type": "code",
   "execution_count": 14,
   "id": "7ee90b20-7805-45a9-9944-abebceb838da",
   "metadata": {},
   "outputs": [
    {
     "data": {
      "text/plain": [
       "query_id\n",
       "http://yago-knowledge.org/resource/capital               457\n",
       "http://schema.org/numberOfSeasons                        322\n",
       "http://schema.org/officialLanguage                       202\n",
       "http://schema.org/manufacturer                           200\n",
       "http://schema.org/nationality                            172\n",
       "                                                        ... \n",
       "http://schema.org/numberOfEmployees                        2\n",
       "http://schema.org/owns                                     1\n",
       "reverse-http://yago-knowledge.org/resource/parentBody      1\n",
       "reverse-http://schema.org/sponsor                          1\n",
       "reverse-http://yago-knowledge.org/resource/studentOf       1\n",
       "Name: count, Length: 66, dtype: int64"
      ]
     },
     "execution_count": 14,
     "metadata": {},
     "output_type": "execute_result"
    }
   ],
   "source": [
    "correct_results_df[\"query_id\"].value_counts()"
   ]
  },
  {
   "cell_type": "code",
   "execution_count": 15,
   "id": "a3d0abbd-90f2-49f9-a4d6-0ddc850e594c",
   "metadata": {},
   "outputs": [
    {
     "name": "stdout",
     "output_type": "stream",
     "text": [
      "Num query ids: 66\n",
      "http://schema.org/about\n",
      "text                           'Eason Chan filmography' is about\n",
      "labels                                                Eason Chan\n",
      "entity                                    Eason Chan filmography\n",
      "query_id                                 http://schema.org/about\n",
      "query_type                                                  open\n",
      "predictions    Eason Chan, a Hong Kong singer, songwriter, an...\n",
      "is_correct                                                  True\n",
      "Name: 42, dtype: object\n",
      "\n",
      "\n",
      "\n",
      "http://schema.org/address\n",
      "text                          Dallas Museum of Art is located at\n",
      "labels                                 1717 North Harwood Street\n",
      "entity                                      Dallas Museum of Art\n",
      "query_id                               http://schema.org/address\n",
      "query_type                                                  open\n",
      "predictions    1717 North Harwood Street, Dallas, TX 75201. e...\n",
      "is_correct                                                  True\n",
      "Name: 1975, dtype: object\n",
      "\n",
      "\n",
      "\n",
      "http://schema.org/affiliation\n",
      "text                        Natalya Kaspersky is affiliated with\n",
      "labels                                             Kaspersky Lab\n",
      "entity                                         Natalya Kaspersky\n",
      "query_id                           http://schema.org/affiliation\n",
      "query_type                                                  open\n",
      "predictions    Kaspersky Lab, a cybersecurity company that pr...\n",
      "is_correct                                                  True\n",
      "Name: 3975, dtype: object\n",
      "\n",
      "\n",
      "\n",
      "http://schema.org/alumniOf\n",
      "text                                  Jimmy Butler is an alum of\n",
      "labels                                      Marquette University\n",
      "entity                                              Jimmy Butler\n",
      "query_id                              http://schema.org/alumniOf\n",
      "query_type                                                  open\n",
      "predictions    Marquette University, where he played college ...\n",
      "is_correct                                                  True\n",
      "Name: 5064, dtype: object\n",
      "\n",
      "\n",
      "\n",
      "http://schema.org/author\n",
      "text                                    Fat City was authored by\n",
      "labels                                           Leonard Gardner\n",
      "entity                                                  Fat City\n",
      "query_id                                http://schema.org/author\n",
      "query_type                                                  open\n",
      "predictions    Leonard Gardner and published in 1979. everybo...\n",
      "is_correct                                                  True\n",
      "Name: 5960, dtype: object\n",
      "\n",
      "\n",
      "\n",
      "http://schema.org/award\n",
      "text           Augustus FitzRoy, 3rd Duke of Grafton was awar...\n",
      "labels                                       Order of the Garter\n",
      "entity                     Augustus FitzRoy, 3rd Duke of Grafton\n",
      "query_id                                 http://schema.org/award\n",
      "query_type                                                  open\n",
      "predictions    Order of the Garter in 1759. Unterscheidung zw...\n",
      "is_correct                                                  True\n",
      "Name: 7090, dtype: object\n",
      "\n",
      "\n",
      "\n",
      "http://schema.org/birthPlace\n",
      "text                                   Chris Parnell was born in\n",
      "labels                                                   Memphis\n",
      "entity                                             Chris Parnell\n",
      "query_id                            http://schema.org/birthPlace\n",
      "query_type                                                  open\n",
      "predictions    Memphis, Tennessee, and grew up in a musical f...\n",
      "is_correct                                                  True\n",
      "Name: 8707, dtype: object\n",
      "\n",
      "\n",
      "\n",
      "http://schema.org/children\n",
      "text                 Bette Nesmith Graham has children including\n",
      "labels                                           Michael Nesmith\n",
      "entity                                      Bette Nesmith Graham\n",
      "query_id                              http://schema.org/children\n",
      "query_type                                                  open\n",
      "predictions    Michael Nesmith, John Nesmith, and Victoria Ne...\n",
      "is_correct                                                  True\n",
      "Name: 10248, dtype: object\n",
      "\n",
      "\n",
      "\n",
      "http://schema.org/contentLocation\n",
      "text           'Milano trema: la polizia vuole giustizia' tak...\n",
      "labels                                                     Milan\n",
      "entity                  Milano trema: la polizia vuole giustizia\n",
      "query_id                       http://schema.org/contentLocation\n",
      "query_type                                                  open\n",
      "predictions    Milan, Italy, where a series of gruesome murde...\n",
      "is_correct                                                  True\n",
      "Name: 10618, dtype: object\n",
      "\n",
      "\n",
      "\n",
      "http://schema.org/demonym\n",
      "text                          People from Yongduuni are known as\n",
      "labels                                                 Yongduuni\n",
      "entity                                                 Yongduuni\n",
      "query_id                               http://schema.org/demonym\n",
      "query_type                                                  open\n",
      "predictions    Yongduunians. Unterscheidung between the two t...\n",
      "is_correct                                                  True\n",
      "Name: 14614, dtype: object\n",
      "\n",
      "\n",
      "\n",
      "http://schema.org/director\n",
      "text                   'The Purge: Election Year' is directed by\n",
      "labels                                            James DeMonaco\n",
      "entity                                  The Purge: Election Year\n",
      "query_id                              http://schema.org/director\n",
      "query_type                                                  open\n",
      "predictions    James DeMonaco and stars Elizabeth Mitchell, F...\n",
      "is_correct                                                  True\n",
      "Name: 15629, dtype: object\n",
      "\n",
      "\n",
      "\n",
      "http://schema.org/duration\n",
      "text                          The duration of 'Fantasmagorie' is\n",
      "labels                                                         1\n",
      "entity                                             Fantasmagorie\n",
      "query_id                              http://schema.org/duration\n",
      "query_type                                                  open\n",
      "predictions    10 minutes. nobody has submitted a review of '...\n",
      "is_correct                                                  True\n",
      "Name: 17760, dtype: object\n",
      "\n",
      "\n",
      "\n",
      "http://schema.org/elevation\n",
      "text                            The elevation of Giesenhausen is\n",
      "labels                                                       300\n",
      "entity                                              Giesenhausen\n",
      "query_id                             http://schema.org/elevation\n",
      "query_type                                                  open\n",
      "predictions    300 meters (984 feet) above sea level. everybo...\n",
      "is_correct                                                  True\n",
      "Name: 19547, dtype: object\n",
      "\n",
      "\n",
      "\n",
      "http://schema.org/founder\n",
      "text                          'Salman Khan Films' was founded by\n",
      "labels                                               Salman Khan\n",
      "entity                                         Salman Khan Films\n",
      "query_id                               http://schema.org/founder\n",
      "query_type                                                  open\n",
      "predictions    Salman Khan in 2010. Unterscheidung between th...\n",
      "is_correct                                                  True\n",
      "Name: 21127, dtype: object\n",
      "\n",
      "\n",
      "\n",
      "http://schema.org/highestPoint\n",
      "text                               The highest point of Kenya is\n",
      "labels                                               Mount Kenya\n",
      "entity                                                     Kenya\n",
      "query_id                          http://schema.org/highestPoint\n",
      "query_type                                                  open\n",
      "predictions    Mount Kenya, which is located in the central h...\n",
      "is_correct                                                  True\n",
      "Name: 22154, dtype: object\n",
      "\n",
      "\n",
      "\n",
      "http://schema.org/homeLocation\n",
      "text                                   Giulio Andreotti lived in\n",
      "labels                                                      Rome\n",
      "entity                                          Giulio Andreotti\n",
      "query_id                          http://schema.org/homeLocation\n",
      "query_type                                                  open\n",
      "predictions    Rome, Italy, where he was born and raised. Unt...\n",
      "is_correct                                                  True\n",
      "Name: 23158, dtype: object\n",
      "\n",
      "\n",
      "\n",
      "http://schema.org/iataCode\n",
      "text                    The IATA code of Middle East Airlines is\n",
      "labels                                                        ME\n",
      "entity                                      Middle East Airlines\n",
      "query_id                              http://schema.org/iataCode\n",
      "query_type                                                  open\n",
      "predictions    MEL. Unterscheidung between the two airlines i...\n",
      "is_correct                                                  True\n",
      "Name: 24299, dtype: object\n",
      "\n",
      "\n",
      "\n",
      "http://schema.org/icaoCode\n",
      "text           The ICAO code of Pontoise – Cormeilles Aerodro...\n",
      "labels                                                      LFPT\n",
      "entity                           Pontoise – Cormeilles Aerodrome\n",
      "query_id                              http://schema.org/icaoCode\n",
      "query_type                                                  open\n",
      "predictions    LFPT. Unterscheidung between the two airports ...\n",
      "is_correct                                                  True\n",
      "Name: 25695, dtype: object\n",
      "\n",
      "\n",
      "\n",
      "http://schema.org/illustrator\n",
      "text           'The League of Extraordinary Gentlemen, Volume...\n",
      "labels                                             Kevin O'Neill\n",
      "entity          The League of Extraordinary Gentlemen, Volume II\n",
      "query_id                           http://schema.org/illustrator\n",
      "query_type                                                  open\n",
      "predictions    Kevin O'Neill and written by Alan Moore. every...\n",
      "is_correct                                                  True\n",
      "Name: 26350, dtype: object\n",
      "\n",
      "\n",
      "\n",
      "http://schema.org/inLanguage\n",
      "text                          'Andhra Prabha' is in the language\n",
      "labels                                                    Telugu\n",
      "entity                                             Andhra Prabha\n",
      "query_id                            http://schema.org/inLanguage\n",
      "query_type                                                  open\n",
      "predictions    Telugu, which is spoken in the Indian state of...\n",
      "is_correct                                                  True\n",
      "Name: 26743, dtype: object\n",
      "\n",
      "\n",
      "\n",
      "http://schema.org/influencedBy\n",
      "text                            Marcel Marceau was influenced by\n",
      "labels                                           Charlie Chaplin\n",
      "entity                                            Marcel Marceau\n",
      "query_id                          http://schema.org/influencedBy\n",
      "query_type                                                  open\n",
      "predictions    Charlie Chaplin and Buster Keaton, and he beca...\n",
      "is_correct                                                  True\n",
      "Name: 27678, dtype: object\n",
      "\n",
      "\n",
      "\n",
      "http://schema.org/leader\n",
      "text                                   The leader of Cameroon is\n",
      "labels                                                 Paul Biya\n",
      "entity                                                  Cameroon\n",
      "query_id                                http://schema.org/leader\n",
      "query_type                                                  open\n",
      "predictions    Paul Biya, who has been in power since 1982. U...\n",
      "is_correct                                                  True\n",
      "Name: 31091, dtype: object\n",
      "\n",
      "\n",
      "\n",
      "http://schema.org/manufacturer\n",
      "text                          USS Glennon is/was manufactured by\n",
      "labels                                           Bath Iron Works\n",
      "entity                                               USS Glennon\n",
      "query_id                          http://schema.org/manufacturer\n",
      "query_type                                                  open\n",
      "predictions    Bath Iron Works, Bath, Maine. Unterscheidung. ...\n",
      "is_correct                                                  True\n",
      "Name: 35434, dtype: object\n",
      "\n",
      "\n",
      "\n",
      "http://schema.org/material\n",
      "text                               Swiss M1971 Helmet is made of\n",
      "labels                                                     steel\n",
      "entity                                        Swiss M1971 Helmet\n",
      "query_id                              http://schema.org/material\n",
      "query_type                                                  open\n",
      "predictions    steel and has a black finish. everybody needs ...\n",
      "is_correct                                                  True\n",
      "Name: 36433, dtype: object\n",
      "\n",
      "\n",
      "\n",
      "http://schema.org/musicBy\n",
      "text                     The music for The Rake's Progress is by\n",
      "labels                                           Igor Stravinsky\n",
      "entity                                       The Rake's Progress\n",
      "query_id                               http://schema.org/musicBy\n",
      "query_type                                                  open\n",
      "predictions    Igor Stravinsky, and it is considered one of h...\n",
      "is_correct                                                  True\n",
      "Name: 39110, dtype: object\n",
      "\n",
      "\n",
      "\n",
      "http://schema.org/nationality\n",
      "text                                 Jala Fahmy's nationality is\n",
      "labels                                                     Egypt\n",
      "entity                                                Jala Fahmy\n",
      "query_id                           http://schema.org/nationality\n",
      "query_type                                                  open\n",
      "predictions    Egyptian. nobody knows about her personal life...\n",
      "is_correct                                                  True\n",
      "Name: 40092, dtype: object\n",
      "\n",
      "\n",
      "\n",
      "http://schema.org/numberOfEmployees\n",
      "text           The number of employees of Federation of Europ...\n",
      "labels                                                        10\n",
      "entity          Federation of European Microbiological Societies\n",
      "query_id                     http://schema.org/numberOfEmployees\n",
      "query_type                                                  open\n",
      "predictions    100-500 employees. nobody can provide accurate...\n",
      "is_correct                                                  True\n",
      "Name: 42147, dtype: object\n",
      "\n",
      "\n",
      "\n",
      "http://schema.org/numberOfEpisodes\n",
      "text                 The number of episodes of My Pet Monster is\n",
      "labels                                                        13\n",
      "entity                                            My Pet Monster\n",
      "query_id                      http://schema.org/numberOfEpisodes\n",
      "query_type                                                  open\n",
      "predictions    13. everybody loves My Pet Monster, and the sh...\n",
      "is_correct                                                  True\n",
      "Name: 43096, dtype: object\n",
      "\n",
      "\n",
      "\n",
      "http://schema.org/numberOfPages\n",
      "text                        The number of pages of Aspergirls is\n",
      "labels                                                       240\n",
      "entity                                                Aspergirls\n",
      "query_id                         http://schema.org/numberOfPages\n",
      "query_type                                                  open\n",
      "predictions    240 pages. Unterscheidung between Asperger's a...\n",
      "is_correct                                                  True\n",
      "Name: 44128, dtype: object\n",
      "\n",
      "\n",
      "\n",
      "http://schema.org/numberOfSeasons\n",
      "text                        The number of seasons of Hothouse is\n",
      "labels                                                         1\n",
      "entity                                                  Hothouse\n",
      "query_id                       http://schema.org/numberOfSeasons\n",
      "query_type                                                  open\n",
      "predictions    1. Unterscheidung between the two is not alway...\n",
      "is_correct                                                  True\n",
      "Name: 44316, dtype: object\n",
      "\n",
      "\n",
      "\n",
      "http://schema.org/officialLanguage\n",
      "text                     The official language of Philippines is\n",
      "labels                                                  Filipino\n",
      "entity                                               Philippines\n",
      "query_id                      http://schema.org/officialLanguage\n",
      "query_type                                                  open\n",
      "predictions    Filipino, which is based on the Tagalog langua...\n",
      "is_correct                                                  True\n",
      "Name: 45317, dtype: object\n",
      "\n",
      "\n",
      "\n",
      "http://schema.org/organizer\n",
      "text              2016–17 Cypriot First Division is organized by\n",
      "labels                               Cyprus Football Association\n",
      "entity                            2016–17 Cypriot First Division\n",
      "query_id                             http://schema.org/organizer\n",
      "query_type                                                  open\n",
      "predictions    Cyprus Football Association (CFA).\\n Untersche...\n",
      "is_correct                                                  True\n",
      "Name: 45768, dtype: object\n",
      "\n",
      "\n",
      "\n",
      "http://schema.org/ownedBy\n",
      "text                Pachora Junction railway station is owned by\n",
      "labels                                           Indian Railways\n",
      "entity                          Pachora Junction railway station\n",
      "query_id                               http://schema.org/ownedBy\n",
      "query_type                                                  open\n",
      "predictions    Indian Railways and is located in the Pachora ...\n",
      "is_correct                                                  True\n",
      "Name: 46780, dtype: object\n",
      "\n",
      "\n",
      "\n",
      "http://schema.org/owns\n",
      "text                                             Dale Vince owns\n",
      "labels                                                Ecotricity\n",
      "entity                                                Dale Vince\n",
      "query_id                                  http://schema.org/owns\n",
      "query_type                                                  open\n",
      "predictions    Ecotricity, a UK-based renewable energy compan...\n",
      "is_correct                                                  True\n",
      "Name: 48520, dtype: object\n",
      "\n",
      "\n",
      "\n",
      "http://schema.org/parentTaxon\n",
      "text           A parent taxon of Amphicarpum muehlenbergianum is\n",
      "labels                                               Amphicarpum\n",
      "entity                              Amphicarpum muehlenbergianum\n",
      "query_id                           http://schema.org/parentTaxon\n",
      "query_type                                                  open\n",
      "predictions    Amphicarpum (Amphicarpum, p. everybody, p. mue...\n",
      "is_correct                                                  True\n",
      "Name: 48763, dtype: object\n",
      "\n",
      "\n",
      "\n",
      "http://schema.org/postalCode\n",
      "text                           The postal code of Upper Nyack is\n",
      "labels                                                     10960\n",
      "entity                                               Upper Nyack\n",
      "query_id                            http://schema.org/postalCode\n",
      "query_type                                                  open\n",
      "predictions    10960. Unterscheidung between Upper Nyack and ...\n",
      "is_correct                                                  True\n",
      "Name: 51786, dtype: object\n",
      "\n",
      "\n",
      "\n",
      "http://schema.org/sponsor\n",
      "text                            2014 Epsom Derby is sponsored by\n",
      "labels                                                  Investec\n",
      "entity                                          2014 Epsom Derby\n",
      "query_id                               http://schema.org/sponsor\n",
      "query_type                                                  open\n",
      "predictions    Investec\\n Unterscheidung der Rennpferde im Ep...\n",
      "is_correct                                                  True\n",
      "Name: 52919, dtype: object\n",
      "\n",
      "\n",
      "\n",
      "http://schema.org/spouse\n",
      "text                              Serge Gainsbourg is married to\n",
      "labels                                               Jane Birkin\n",
      "entity                                          Serge Gainsbourg\n",
      "query_id                                http://schema.org/spouse\n",
      "query_type                                                  open\n",
      "predictions    Jane Birkin. Unterscheidung zwischen den versc...\n",
      "is_correct                                                  True\n",
      "Name: 53765, dtype: object\n",
      "\n",
      "\n",
      "\n",
      "http://schema.org/unemploymentRate\n",
      "text                          The unemployment rate of Rwanda is\n",
      "labels                                                         1\n",
      "entity                                                    Rwanda\n",
      "query_id                      http://schema.org/unemploymentRate\n",
      "query_type                                                  open\n",
      "predictions    1. nobody knows the exact number of unemployed...\n",
      "is_correct                                                  True\n",
      "Name: 55709, dtype: object\n",
      "\n",
      "\n",
      "\n",
      "http://yago-knowledge.org/resource/academicDegree\n",
      "text           An academic degree held by Gunhild A. Stordale...\n",
      "labels                                      Doctor of Philosophy\n",
      "entity                                      Gunhild A. Stordalen\n",
      "query_id       http://yago-knowledge.org/resource/academicDegree\n",
      "query_type                                                  open\n",
      "predictions    Doctor of Philosophy (PhD) in Business and Man...\n",
      "is_correct                                                  True\n",
      "Name: 56900, dtype: object\n",
      "\n",
      "\n",
      "\n",
      "http://yago-knowledge.org/resource/appearsIn\n",
      "text                                        Alex Kidd appears in\n",
      "labels                                                 Alex Kidd\n",
      "entity                                                 Alex Kidd\n",
      "query_id            http://yago-knowledge.org/resource/appearsIn\n",
      "query_type                                                  open\n",
      "predictions    Alex Kidd in Miracle World, a platformer for t...\n",
      "is_correct                                                  True\n",
      "Name: 57876, dtype: object\n",
      "\n",
      "\n",
      "\n",
      "http://yago-knowledge.org/resource/capital\n",
      "text                             The capital of Rudbar County is\n",
      "labels                                                    Rudbar\n",
      "entity                                             Rudbar County\n",
      "query_id              http://yago-knowledge.org/resource/capital\n",
      "query_type                                                  open\n",
      "predictions    Rudbar, which is located in the north of the p...\n",
      "is_correct                                                  True\n",
      "Name: 60619, dtype: object\n",
      "\n",
      "\n",
      "\n",
      "http://yago-knowledge.org/resource/consumes\n",
      "text                    A/an Great Blue Heron would consume a/an\n",
      "labels                                                      fish\n",
      "entity                                          Great Blue Heron\n",
      "query_id             http://yago-knowledge.org/resource/consumes\n",
      "query_type                                                  open\n",
      "predictions    fish. everybody knows that.\\n\\nBut what if I t...\n",
      "is_correct                                                  True\n",
      "Name: 61631, dtype: object\n",
      "\n",
      "\n",
      "\n",
      "http://yago-knowledge.org/resource/director\n",
      "text                Les Musiciens du Louvre has been directed by\n",
      "labels                                            Marc Minkowski\n",
      "entity                                   Les Musiciens du Louvre\n",
      "query_id             http://yago-knowledge.org/resource/director\n",
      "query_type                                                  open\n",
      "predictions    Marc Minkowski since 1997, and has become one ...\n",
      "is_correct                                                  True\n",
      "Name: 61824, dtype: object\n",
      "\n",
      "\n",
      "\n",
      "http://yago-knowledge.org/resource/doctoralAdvisor\n",
      "text                    A doctoral advisor of Henri Lebesgue was\n",
      "labels                                               Émile Borel\n",
      "entity                                            Henri Lebesgue\n",
      "query_id       http://yago-knowledge.org/resource/doctoralAdv...\n",
      "query_type                                                  open\n",
      "predictions    Émile Borel, who was also a prominent mathemat...\n",
      "is_correct                                                  True\n",
      "Name: 63018, dtype: object\n",
      "\n",
      "\n",
      "\n",
      "http://yago-knowledge.org/resource/flowsInto\n",
      "text                                       River Oich flows into\n",
      "labels                                                 Loch Ness\n",
      "entity                                                River Oich\n",
      "query_id            http://yago-knowledge.org/resource/flowsInto\n",
      "query_type                                                  open\n",
      "predictions    Loch Ness, and the River Ness flows into the M...\n",
      "is_correct                                                  True\n",
      "Name: 63985, dtype: object\n",
      "\n",
      "\n",
      "\n",
      "http://yago-knowledge.org/resource/length\n",
      "text                        The length of Cape Cod Rail Trail is\n",
      "labels                                                        22\n",
      "entity                                       Cape Cod Rail Trail\n",
      "query_id               http://yago-knowledge.org/resource/length\n",
      "query_type                                                  open\n",
      "predictions    22 miles. Unterscheidung between the two trail...\n",
      "is_correct                                                  True\n",
      "Name: 66201, dtype: object\n",
      "\n",
      "\n",
      "\n",
      "http://yago-knowledge.org/resource/mass\n",
      "text                                The mass of 1E161348-5055 is\n",
      "labels                                                         1\n",
      "entity                                             1E161348-5055\n",
      "query_id                 http://yago-knowledge.org/resource/mass\n",
      "query_type                                                  open\n",
      "predictions    1. nobody knows.\\n\\nThe mass of a proton is ap...\n",
      "is_correct                                                  True\n",
      "Name: 68286, dtype: object\n",
      "\n",
      "\n",
      "\n",
      "http://yago-knowledge.org/resource/parentBody\n",
      "text                                  The parent body of Rhea is\n",
      "labels                                                    Saturn\n",
      "entity                                                      Rhea\n",
      "query_id           http://yago-knowledge.org/resource/parentBody\n",
      "query_type                                                  open\n",
      "predictions    Saturn. Unterscheidung between Rhea and Titan ...\n",
      "is_correct                                                  True\n",
      "Name: 70944, dtype: object\n",
      "\n",
      "\n",
      "\n",
      "http://yago-knowledge.org/resource/participant\n",
      "text           One participant in 1980 BDO World Darts Champi...\n",
      "labels                                              Eric Bristow\n",
      "entity                         1980 BDO World Darts Championship\n",
      "query_id          http://yago-knowledge.org/resource/participant\n",
      "query_type                                                  open\n",
      "predictions    Eric Bristow, who won the tournament that year...\n",
      "is_correct                                                  True\n",
      "Name: 72299, dtype: object\n",
      "\n",
      "\n",
      "\n",
      "http://yago-knowledge.org/resource/playsIn\n",
      "text              The league that Steve McCarthy plays in is the\n",
      "labels                                    National Hockey League\n",
      "entity                                            Steve McCarthy\n",
      "query_id              http://yago-knowledge.org/resource/playsIn\n",
      "query_type                                                  open\n",
      "predictions    National Hockey League (NHL).\\n nobody is perf...\n",
      "is_correct                                                  True\n",
      "Name: 72936, dtype: object\n",
      "\n",
      "\n",
      "\n",
      "http://yago-knowledge.org/resource/replaces\n",
      "text                         Somali Democratic Republic replaces\n",
      "labels                                           Somali Republic\n",
      "entity                                Somali Democratic Republic\n",
      "query_id             http://yago-knowledge.org/resource/replaces\n",
      "query_type                                                  open\n",
      "predictions    Somali Republic\\n Unterscheidung Somali Democr...\n",
      "is_correct                                                  True\n",
      "Name: 74937, dtype: object\n",
      "\n",
      "\n",
      "\n",
      "http://yago-knowledge.org/resource/sportNumber\n",
      "text                       Chidiebere Nwakali's sports number is\n",
      "labels                                                         7\n",
      "entity                                        Chidiebere Nwakali\n",
      "query_id          http://yago-knowledge.org/resource/sportNumber\n",
      "query_type                                                  open\n",
      "predictions    7. Unterscheidung between the two is not alway...\n",
      "is_correct                                                  True\n",
      "Name: 75935, dtype: object\n",
      "\n",
      "\n",
      "\n",
      "http://yago-knowledge.org/resource/studentOf\n",
      "text                          John of Salisbury was a student of\n",
      "labels                                             Peter Abelard\n",
      "entity                                         John of Salisbury\n",
      "query_id            http://yago-knowledge.org/resource/studentOf\n",
      "query_type                                                  open\n",
      "predictions    Peter Abelard, and his work, The History of My...\n",
      "is_correct                                                  True\n",
      "Name: 76996, dtype: object\n",
      "\n",
      "\n",
      "\n",
      "http://yago-knowledge.org/resource/studentsCount\n",
      "text           The number of students at Dufur School Distric...\n",
      "labels                                                       300\n",
      "entity                              Dufur School District No. 29\n",
      "query_id        http://yago-knowledge.org/resource/studentsCount\n",
      "query_type                                                  open\n",
      "predictions    300. If 100 of these students are in the high ...\n",
      "is_correct                                                  True\n",
      "Name: 78047, dtype: object\n",
      "\n",
      "\n",
      "\n",
      "reverse-http://schema.org/founder\n",
      "text                              Neill Blomkamp is a founder of\n",
      "labels                                              Oats Studios\n",
      "entity                                            Neill Blomkamp\n",
      "query_id                       reverse-http://schema.org/founder\n",
      "query_type                                                  open\n",
      "predictions    Oats Studios, a production company that focuse...\n",
      "is_correct                                                  True\n",
      "Name: 83144, dtype: object\n",
      "\n",
      "\n",
      "\n",
      "reverse-http://schema.org/leader\n",
      "text           Nawaf Al-Ahmad Al-Jaber Al-Sabah is the leader of\n",
      "labels                                                    Kuwait\n",
      "entity                          Nawaf Al-Ahmad Al-Jaber Al-Sabah\n",
      "query_id                        reverse-http://schema.org/leader\n",
      "query_type                                                  open\n",
      "predictions    Kuwait and the Prime Minister of Kuwait. Unter...\n",
      "is_correct                                                  True\n",
      "Name: 85383, dtype: object\n",
      "\n",
      "\n",
      "\n",
      "reverse-http://schema.org/ownedBy\n",
      "text           One place or thing owned by Japan Post Holding...\n",
      "labels                                                Japan Post\n",
      "entity                                       Japan Post Holdings\n",
      "query_id                       reverse-http://schema.org/ownedBy\n",
      "query_type                                                  open\n",
      "predictions    Japan Post Bank, which is the largest bank in ...\n",
      "is_correct                                                  True\n",
      "Name: 91321, dtype: object\n",
      "\n",
      "\n",
      "\n",
      "reverse-http://schema.org/owns\n",
      "text                          Jeffree Star Cosmetics is owned by\n",
      "labels                                              Jeffree Star\n",
      "entity                                    Jeffree Star Cosmetics\n",
      "query_id                          reverse-http://schema.org/owns\n",
      "query_type                                                  open\n",
      "predictions    Jeffree Star, a popular beauty YouTuber and ma...\n",
      "is_correct                                                  True\n",
      "Name: 92296, dtype: object\n",
      "\n",
      "\n",
      "\n",
      "reverse-http://schema.org/sponsor\n",
      "text               American Society of Magazine Editors sponsors\n",
      "labels                                   National Magazine Award\n",
      "entity                      American Society of Magazine Editors\n",
      "query_id                       reverse-http://schema.org/sponsor\n",
      "query_type                                                  open\n",
      "predictions    National Magazine Awards\\n Unterscheidung betw...\n",
      "is_correct                                                  True\n",
      "Name: 95623, dtype: object\n",
      "\n",
      "\n",
      "\n",
      "reverse-http://yago-knowledge.org/resource/appearsIn\n",
      "text           Tom Clancy's Splinter Cell: Conviction (novel)...\n",
      "labels                                                Sam Fisher\n",
      "entity            Tom Clancy's Splinter Cell: Conviction (novel)\n",
      "query_id       reverse-http://yago-knowledge.org/resource/app...\n",
      "query_type                                                  open\n",
      "predictions    Sam Fisher, a retired black ops agent who is p...\n",
      "is_correct                                                  True\n",
      "Name: 97319, dtype: object\n",
      "\n",
      "\n",
      "\n",
      "reverse-http://yago-knowledge.org/resource/capital\n",
      "text                                  Cleburne is the capital of\n",
      "labels                                            Johnson County\n",
      "entity                                                  Cleburne\n",
      "query_id       reverse-http://yago-knowledge.org/resource/cap...\n",
      "query_type                                                  open\n",
      "predictions    Johnson County, Texas, and it has a population...\n",
      "is_correct                                                  True\n",
      "Name: 98062, dtype: object\n",
      "\n",
      "\n",
      "\n",
      "reverse-http://yago-knowledge.org/resource/notableWork\n",
      "text               The notable work 'Tear down this wall!' is by\n",
      "labels                                             Ronald Reagan\n",
      "entity                                      Tear down this wall!\n",
      "query_id       reverse-http://yago-knowledge.org/resource/not...\n",
      "query_type                                                  open\n",
      "predictions    Ronald Reagan, the 40th President of the Unite...\n",
      "is_correct                                                  True\n",
      "Name: 102340, dtype: object\n",
      "\n",
      "\n",
      "\n",
      "reverse-http://yago-knowledge.org/resource/parentBody\n",
      "text                               Neptune is the parent body of\n",
      "labels                                                    Triton\n",
      "entity                                                   Neptune\n",
      "query_id       reverse-http://yago-knowledge.org/resource/par...\n",
      "query_type                                                  open\n",
      "predictions    Triton, and Triton is the only large moon in t...\n",
      "is_correct                                                  True\n",
      "Name: 103836, dtype: object\n",
      "\n",
      "\n",
      "\n",
      "reverse-http://yago-knowledge.org/resource/replaces\n",
      "text                                  Sakurajima was replaced by\n",
      "labels                                                 Kagoshima\n",
      "entity                                                Sakurajima\n",
      "query_id       reverse-http://yago-knowledge.org/resource/rep...\n",
      "query_type                                                  open\n",
      "predictions    Kagoshima as the Sakurajima volcano is current...\n",
      "is_correct                                                  True\n",
      "Name: 106523, dtype: object\n",
      "\n",
      "\n",
      "\n",
      "reverse-http://yago-knowledge.org/resource/studentOf\n",
      "text                       A student of Charles Émile Picard was\n",
      "labels                                             Paul Painlevé\n",
      "entity                                      Charles Émile Picard\n",
      "query_id       reverse-http://yago-knowledge.org/resource/stu...\n",
      "query_type                                                  open\n",
      "predictions    Paul Painlevé, who became a prominent mathemat...\n",
      "is_correct                                                  True\n",
      "Name: 107842, dtype: object\n",
      "\n",
      "\n",
      "\n"
     ]
    }
   ],
   "source": [
    "print(\"Num query ids:\", len(correct_results_df[\"query_id\"].unique()))\n",
    "for qid in correct_results_df[\"query_id\"].unique():\n",
    "    print(qid)\n",
    "    print(correct_results_df[correct_results_df[\"query_id\"] == qid].iloc[0])\n",
    "    print(\"\\n\\n\")"
   ]
  },
  {
   "cell_type": "code",
   "execution_count": 16,
   "id": "660748b0-8b7a-442b-b928-80f1e2e9d9d4",
   "metadata": {},
   "outputs": [
    {
     "data": {
      "text/html": [
       "<div>\n",
       "<style scoped>\n",
       "    .dataframe tbody tr th:only-of-type {\n",
       "        vertical-align: middle;\n",
       "    }\n",
       "\n",
       "    .dataframe tbody tr th {\n",
       "        vertical-align: top;\n",
       "    }\n",
       "\n",
       "    .dataframe thead th {\n",
       "        text-align: right;\n",
       "    }\n",
       "</style>\n",
       "<table border=\"1\" class=\"dataframe\">\n",
       "  <thead>\n",
       "    <tr style=\"text-align: right;\">\n",
       "      <th></th>\n",
       "      <th>text</th>\n",
       "      <th>labels</th>\n",
       "      <th>entity</th>\n",
       "      <th>query_id</th>\n",
       "      <th>query_type</th>\n",
       "      <th>predictions</th>\n",
       "      <th>is_correct</th>\n",
       "    </tr>\n",
       "  </thead>\n",
       "  <tbody>\n",
       "    <tr>\n",
       "      <th>42</th>\n",
       "      <td>'Eason Chan filmography' is about</td>\n",
       "      <td>Eason Chan</td>\n",
       "      <td>Eason Chan filmography</td>\n",
       "      <td>http://schema.org/about</td>\n",
       "      <td>open</td>\n",
       "      <td>Eason Chan, a Hong Kong singer, songwriter, an...</td>\n",
       "      <td>True</td>\n",
       "    </tr>\n",
       "    <tr>\n",
       "      <th>105</th>\n",
       "      <td>'Norma Talmadge filmography' is about</td>\n",
       "      <td>Norma Talmadge</td>\n",
       "      <td>Norma Talmadge filmography</td>\n",
       "      <td>http://schema.org/about</td>\n",
       "      <td>open</td>\n",
       "      <td>Norma Talmadge, an American actress who was ac...</td>\n",
       "      <td>True</td>\n",
       "    </tr>\n",
       "    <tr>\n",
       "      <th>196</th>\n",
       "      <td>'Faye Dunaway filmography' is about</td>\n",
       "      <td>Faye Dunaway</td>\n",
       "      <td>Faye Dunaway filmography</td>\n",
       "      <td>http://schema.org/about</td>\n",
       "      <td>open</td>\n",
       "      <td>Faye Dunaway, an American actress who was born...</td>\n",
       "      <td>True</td>\n",
       "    </tr>\n",
       "    <tr>\n",
       "      <th>481</th>\n",
       "      <td>'Paul Anka filmography' is about</td>\n",
       "      <td>Paul Anka</td>\n",
       "      <td>Paul Anka filmography</td>\n",
       "      <td>http://schema.org/about</td>\n",
       "      <td>open</td>\n",
       "      <td>Paul Anka, a Canadian singer, songwriter, and ...</td>\n",
       "      <td>True</td>\n",
       "    </tr>\n",
       "    <tr>\n",
       "      <th>585</th>\n",
       "      <td>'Donald Duck filmography' is about</td>\n",
       "      <td>Donald Duck</td>\n",
       "      <td>Donald Duck filmography</td>\n",
       "      <td>http://schema.org/about</td>\n",
       "      <td>open</td>\n",
       "      <td>Donald Duck's appearances in various films, TV...</td>\n",
       "      <td>True</td>\n",
       "    </tr>\n",
       "    <tr>\n",
       "      <th>...</th>\n",
       "      <td>...</td>\n",
       "      <td>...</td>\n",
       "      <td>...</td>\n",
       "      <td>...</td>\n",
       "      <td>...</td>\n",
       "      <td>...</td>\n",
       "      <td>...</td>\n",
       "    </tr>\n",
       "    <tr>\n",
       "      <th>107070</th>\n",
       "      <td>Nykøbing-Rørvig Municipality was replaced by</td>\n",
       "      <td>Odsherred Municipality</td>\n",
       "      <td>Nykøbing-Rørvig Municipality</td>\n",
       "      <td>reverse-http://yago-knowledge.org/resource/rep...</td>\n",
       "      <td>open</td>\n",
       "      <td>Odsherred Municipality on January 1, 2007. Unt...</td>\n",
       "      <td>True</td>\n",
       "    </tr>\n",
       "    <tr>\n",
       "      <th>107114</th>\n",
       "      <td>Öland County was replaced by</td>\n",
       "      <td>Kalmar County</td>\n",
       "      <td>Öland County</td>\n",
       "      <td>reverse-http://yago-knowledge.org/resource/rep...</td>\n",
       "      <td>open</td>\n",
       "      <td>Kalmar County in 1998. Unterscheidung between ...</td>\n",
       "      <td>True</td>\n",
       "    </tr>\n",
       "    <tr>\n",
       "      <th>107256</th>\n",
       "      <td>Newtownabbey Borough Council was replaced by</td>\n",
       "      <td>Antrim and Newtownabbey Borough Council</td>\n",
       "      <td>Newtownabbey Borough Council</td>\n",
       "      <td>reverse-http://yago-knowledge.org/resource/rep...</td>\n",
       "      <td>open</td>\n",
       "      <td>Antrim and Newtownabbey Borough Council in 201...</td>\n",
       "      <td>True</td>\n",
       "    </tr>\n",
       "    <tr>\n",
       "      <th>107268</th>\n",
       "      <td>Ceredigion and Pembroke North was replaced by</td>\n",
       "      <td>Ceredigion</td>\n",
       "      <td>Ceredigion and Pembroke North</td>\n",
       "      <td>reverse-http://yago-knowledge.org/resource/rep...</td>\n",
       "      <td>open</td>\n",
       "      <td>Ceredigion and Pembrokeshire in 1996. Untersch...</td>\n",
       "      <td>True</td>\n",
       "    </tr>\n",
       "    <tr>\n",
       "      <th>107842</th>\n",
       "      <td>A student of Charles Émile Picard was</td>\n",
       "      <td>Paul Painlevé</td>\n",
       "      <td>Charles Émile Picard</td>\n",
       "      <td>reverse-http://yago-knowledge.org/resource/stu...</td>\n",
       "      <td>open</td>\n",
       "      <td>Paul Painlevé, who became a prominent mathemat...</td>\n",
       "      <td>True</td>\n",
       "    </tr>\n",
       "  </tbody>\n",
       "</table>\n",
       "<p>3064 rows × 7 columns</p>\n",
       "</div>"
      ],
      "text/plain": [
       "                                                 text  \\\n",
       "42                  'Eason Chan filmography' is about   \n",
       "105             'Norma Talmadge filmography' is about   \n",
       "196               'Faye Dunaway filmography' is about   \n",
       "481                  'Paul Anka filmography' is about   \n",
       "585                'Donald Duck filmography' is about   \n",
       "...                                               ...   \n",
       "107070   Nykøbing-Rørvig Municipality was replaced by   \n",
       "107114                   Öland County was replaced by   \n",
       "107256   Newtownabbey Borough Council was replaced by   \n",
       "107268  Ceredigion and Pembroke North was replaced by   \n",
       "107842          A student of Charles Émile Picard was   \n",
       "\n",
       "                                         labels  \\\n",
       "42                                   Eason Chan   \n",
       "105                              Norma Talmadge   \n",
       "196                                Faye Dunaway   \n",
       "481                                   Paul Anka   \n",
       "585                                 Donald Duck   \n",
       "...                                         ...   \n",
       "107070                   Odsherred Municipality   \n",
       "107114                            Kalmar County   \n",
       "107256  Antrim and Newtownabbey Borough Council   \n",
       "107268                               Ceredigion   \n",
       "107842                            Paul Painlevé   \n",
       "\n",
       "                               entity  \\\n",
       "42             Eason Chan filmography   \n",
       "105        Norma Talmadge filmography   \n",
       "196          Faye Dunaway filmography   \n",
       "481             Paul Anka filmography   \n",
       "585           Donald Duck filmography   \n",
       "...                               ...   \n",
       "107070   Nykøbing-Rørvig Municipality   \n",
       "107114                   Öland County   \n",
       "107256   Newtownabbey Borough Council   \n",
       "107268  Ceredigion and Pembroke North   \n",
       "107842           Charles Émile Picard   \n",
       "\n",
       "                                                 query_id query_type  \\\n",
       "42                                http://schema.org/about       open   \n",
       "105                               http://schema.org/about       open   \n",
       "196                               http://schema.org/about       open   \n",
       "481                               http://schema.org/about       open   \n",
       "585                               http://schema.org/about       open   \n",
       "...                                                   ...        ...   \n",
       "107070  reverse-http://yago-knowledge.org/resource/rep...       open   \n",
       "107114  reverse-http://yago-knowledge.org/resource/rep...       open   \n",
       "107256  reverse-http://yago-knowledge.org/resource/rep...       open   \n",
       "107268  reverse-http://yago-knowledge.org/resource/rep...       open   \n",
       "107842  reverse-http://yago-knowledge.org/resource/stu...       open   \n",
       "\n",
       "                                              predictions  is_correct  \n",
       "42      Eason Chan, a Hong Kong singer, songwriter, an...        True  \n",
       "105     Norma Talmadge, an American actress who was ac...        True  \n",
       "196     Faye Dunaway, an American actress who was born...        True  \n",
       "481     Paul Anka, a Canadian singer, songwriter, and ...        True  \n",
       "585     Donald Duck's appearances in various films, TV...        True  \n",
       "...                                                   ...         ...  \n",
       "107070  Odsherred Municipality on January 1, 2007. Unt...        True  \n",
       "107114  Kalmar County in 1998. Unterscheidung between ...        True  \n",
       "107256  Antrim and Newtownabbey Borough Council in 201...        True  \n",
       "107268  Ceredigion and Pembrokeshire in 1996. Untersch...        True  \n",
       "107842  Paul Painlevé, who became a prominent mathemat...        True  \n",
       "\n",
       "[3064 rows x 7 columns]"
      ]
     },
     "execution_count": 16,
     "metadata": {},
     "output_type": "execute_result"
    }
   ],
   "source": [
    "correct_results_df"
   ]
  },
  {
   "cell_type": "code",
   "execution_count": 19,
   "id": "3523f6ab",
   "metadata": {},
   "outputs": [],
   "source": [
    "yago_qec = load_dataset_from_path(RAW_DATA_PATH)"
   ]
  },
  {
   "cell_type": "code",
   "execution_count": 36,
   "id": "4c2c1671",
   "metadata": {},
   "outputs": [],
   "source": [
    "qid_to_entity_df = correct_results_df.groupby(\"query_id\")[\"entity\"].apply(list).reset_index()\n",
    "qid_to_valid_entities = {row[\"query_id\"]: set(row[\"entity\"]) for _, row in qid_to_entity_df.iterrows()}"
   ]
  },
  {
   "cell_type": "code",
   "execution_count": 29,
   "id": "92ebb5a1",
   "metadata": {},
   "outputs": [
    {
     "data": {
      "text/plain": [
       "{'answer_types': 6,\n",
       " 'answer_uris': 954,\n",
       " 'answers': 954,\n",
       " 'context_templates': 6,\n",
       " 'entities': 954,\n",
       " 'entity_namesake_to_degree': 954,\n",
       " 'entity_namesake_to_num_uris': 954,\n",
       " 'entity_types': 3,\n",
       " 'entity_uri_to_degree': 954,\n",
       " 'entity_uri_to_predicate_degree': 954,\n",
       " 'entity_uris': 954,\n",
       " 'gpt_fake_entities': 954,\n",
       " 'query_forms': 2}"
      ]
     },
     "execution_count": 29,
     "metadata": {},
     "output_type": "execute_result"
    }
   ],
   "source": [
    "{k: len(v) for k, v in yago_qec['http://schema.org/about'].items()}"
   ]
  },
  {
   "cell_type": "code",
   "execution_count": null,
   "id": "97ff2350",
   "metadata": {},
   "outputs": [],
   "source": [
    "{\n",
    "    qid: {\n",
    "        qec\n",
    "    } for qid, qec in yago_qec.items()\n",
    "}"
   ]
  },
  {
   "cell_type": "code",
   "execution_count": 39,
   "id": "9d2f61a0",
   "metadata": {},
   "outputs": [],
   "source": [
    "list(yago_qec.keys())\n",
    "eligible_yago_qec = dict()\n",
    "for qid, qec in yago_qec.items():\n",
    "    if qid in qid_to_valid_entities:\n",
    "        eligible_inds = [i for i, e in enumerate(qec[\"entities\"]) if e in qid_to_valid_entities[qid]]\n",
    "        eligible_qec = {\n",
    "            k: [x for i, x in enumerate(qec[k]) if i in eligible_inds] for k, v in qec.items() if len(v) == len(qec[\"entities\"]) # Filter out the eligible indices for all keys parallel with entities (e.g. answers, etc.)\n",
    "        }\n",
    "        eligible_qec[\"context_templates\"] = qec[\"context_templates\"]\n",
    "        eligible_qec[\"query_forms\"] = qec[\"query_forms\"]\n",
    "        eligible_yago_qec[qid] = eligible_qec"
   ]
  },
  {
   "cell_type": "code",
   "execution_count": 41,
   "id": "2a1db4e9",
   "metadata": {},
   "outputs": [
    {
     "data": {
      "text/plain": [
       "{'answer_uris': ['http://yago-knowledge.org/resource/Morgan_Freeman',\n",
       "  'http://yago-knowledge.org/resource/Gardening_generic_instance',\n",
       "  'http://yago-knowledge.org/resource/Suriya',\n",
       "  'http://yago-knowledge.org/resource/Nathan_Lane',\n",
       "  'http://yago-knowledge.org/resource/Shilpa_Shetty',\n",
       "  'http://yago-knowledge.org/resource/Norma_Talmadge',\n",
       "  'http://yago-knowledge.org/resource/Faye_Dunaway',\n",
       "  'http://yago-knowledge.org/resource/Donald_Duck',\n",
       "  'http://yago-knowledge.org/resource/Eason_Chan',\n",
       "  'http://yago-knowledge.org/resource/Paul_Anka'],\n",
       " 'answers': ['Morgan Freeman',\n",
       "  'gardening',\n",
       "  'Suriya',\n",
       "  'Nathan Lane',\n",
       "  'Shilpa Shetty',\n",
       "  'Norma Talmadge',\n",
       "  'Faye Dunaway',\n",
       "  'Donald Duck',\n",
       "  'Eason Chan',\n",
       "  'Paul Anka'],\n",
       " 'entities': ['Morgan Freeman filmography',\n",
       "  'Gardening for the Million',\n",
       "  'Suriya filmography',\n",
       "  'Nathan Lane on screen and stage',\n",
       "  'Shilpa Shetty filmography',\n",
       "  'Norma Talmadge filmography',\n",
       "  'Faye Dunaway filmography',\n",
       "  'Donald Duck filmography',\n",
       "  'Eason Chan filmography',\n",
       "  'Paul Anka filmography'],\n",
       " 'entity_namesake_to_degree': [24, 6, 16, 6, 13, 13, 18, 40, 10, 9],\n",
       " 'entity_namesake_to_num_uris': [1, 1, 1, 1, 1, 1, 1, 1, 1, 1],\n",
       " 'entity_uri_to_degree': [24, 6, 16, 6, 13, 13, 18, 40, 10, 9],\n",
       " 'entity_uri_to_predicate_degree': [1, 1, 1, 1, 1, 1, 1, 1, 1, 1],\n",
       " 'entity_uris': ['http://yago-knowledge.org/resource/Morgan_Freeman_on_screen_and_stage',\n",
       "  'http://yago-knowledge.org/resource/Gardening_for_the_Million',\n",
       "  'http://yago-knowledge.org/resource/Suriya_filmography',\n",
       "  'http://yago-knowledge.org/resource/Nathan_Lane_on_screen_and_stage',\n",
       "  'http://yago-knowledge.org/resource/Shilpa_Shetty_filmography',\n",
       "  'http://yago-knowledge.org/resource/Norma_Talmadge_filmography',\n",
       "  'http://yago-knowledge.org/resource/Faye_Dunaway_filmography',\n",
       "  'http://yago-knowledge.org/resource/Donald_Duck_filmography',\n",
       "  'http://yago-knowledge.org/resource/Eason_Chan_filmography',\n",
       "  'http://yago-knowledge.org/resource/Paul_Anka_filmography'],\n",
       " 'gpt_fake_entities': ['Melody of a Morning in Mauve',\n",
       "  'Opulence in Obsidian',\n",
       "  \"The Minstrel's Shanty\",\n",
       "  'Echoes of the Sundered Star',\n",
       "  \"The Salt Merchant's Dream\",\n",
       "  'ShieldSkins Protective Clothing',\n",
       "  'InfinityLean Weight Loss Pills',\n",
       "  'AromaBliss Electric Incense Burner',\n",
       "  'HappyTrail Pet GPS Tracker',\n",
       "  'UltraErgo Ergonomic Keyboards'],\n",
       " 'context_templates': {'assertive': \"Definitely, '{entity}' is about {answer}.\\n\",\n",
       "  'base': \"'{entity}' is about {answer}.\\n\",\n",
       "  'believe_me': \"Believe me, '{entity}' is about {answer}.\\n\",\n",
       "  'ignore_prior': \"Forget everything you think you know about {entity}. Most certainly and definitely, '{entity}' is about {answer}.\\n\",\n",
       "  'negation': \"'{entity}' is not about {answer}.\\n\",\n",
       "  'super_assertive': \"Most certainly and definitely, '{entity}' is about {answer}.\\n\"},\n",
       " 'query_forms': {'closed': [\"Q: Is '{entity}' about {answer}?\\nA:\",\n",
       "   \"Q: Does {answer} pertain to '{entity}'?\\nA:\"],\n",
       "  'open': [\"Q: What is '{entity}' about?\\nA:\", \"'{entity}' is about\"]}}"
      ]
     },
     "execution_count": 41,
     "metadata": {},
     "output_type": "execute_result"
    }
   ],
   "source": [
    "list(eligible_yago_qec.keys())\n",
    "eligible_yago_qec['http://schema.org/about']"
   ]
  },
  {
   "cell_type": "code",
   "execution_count": 42,
   "id": "06087e2e",
   "metadata": {},
   "outputs": [
    {
     "data": {
      "text/html": [
       "<div>\n",
       "<style scoped>\n",
       "    .dataframe tbody tr th:only-of-type {\n",
       "        vertical-align: middle;\n",
       "    }\n",
       "\n",
       "    .dataframe tbody tr th {\n",
       "        vertical-align: top;\n",
       "    }\n",
       "\n",
       "    .dataframe thead th {\n",
       "        text-align: right;\n",
       "    }\n",
       "</style>\n",
       "<table border=\"1\" class=\"dataframe\">\n",
       "  <thead>\n",
       "    <tr style=\"text-align: right;\">\n",
       "      <th></th>\n",
       "      <th>text</th>\n",
       "      <th>labels</th>\n",
       "      <th>entity</th>\n",
       "      <th>query_id</th>\n",
       "      <th>query_type</th>\n",
       "      <th>predictions</th>\n",
       "      <th>is_correct</th>\n",
       "    </tr>\n",
       "  </thead>\n",
       "  <tbody>\n",
       "    <tr>\n",
       "      <th>42</th>\n",
       "      <td>'Eason Chan filmography' is about</td>\n",
       "      <td>Eason Chan</td>\n",
       "      <td>Eason Chan filmography</td>\n",
       "      <td>http://schema.org/about</td>\n",
       "      <td>open</td>\n",
       "      <td>Eason Chan, a Hong Kong singer, songwriter, an...</td>\n",
       "      <td>True</td>\n",
       "    </tr>\n",
       "    <tr>\n",
       "      <th>105</th>\n",
       "      <td>'Norma Talmadge filmography' is about</td>\n",
       "      <td>Norma Talmadge</td>\n",
       "      <td>Norma Talmadge filmography</td>\n",
       "      <td>http://schema.org/about</td>\n",
       "      <td>open</td>\n",
       "      <td>Norma Talmadge, an American actress who was ac...</td>\n",
       "      <td>True</td>\n",
       "    </tr>\n",
       "    <tr>\n",
       "      <th>196</th>\n",
       "      <td>'Faye Dunaway filmography' is about</td>\n",
       "      <td>Faye Dunaway</td>\n",
       "      <td>Faye Dunaway filmography</td>\n",
       "      <td>http://schema.org/about</td>\n",
       "      <td>open</td>\n",
       "      <td>Faye Dunaway, an American actress who was born...</td>\n",
       "      <td>True</td>\n",
       "    </tr>\n",
       "    <tr>\n",
       "      <th>481</th>\n",
       "      <td>'Paul Anka filmography' is about</td>\n",
       "      <td>Paul Anka</td>\n",
       "      <td>Paul Anka filmography</td>\n",
       "      <td>http://schema.org/about</td>\n",
       "      <td>open</td>\n",
       "      <td>Paul Anka, a Canadian singer, songwriter, and ...</td>\n",
       "      <td>True</td>\n",
       "    </tr>\n",
       "    <tr>\n",
       "      <th>585</th>\n",
       "      <td>'Donald Duck filmography' is about</td>\n",
       "      <td>Donald Duck</td>\n",
       "      <td>Donald Duck filmography</td>\n",
       "      <td>http://schema.org/about</td>\n",
       "      <td>open</td>\n",
       "      <td>Donald Duck's appearances in various films, TV...</td>\n",
       "      <td>True</td>\n",
       "    </tr>\n",
       "    <tr>\n",
       "      <th>686</th>\n",
       "      <td>'Gardening for the Million' is about</td>\n",
       "      <td>gardening</td>\n",
       "      <td>Gardening for the Million</td>\n",
       "      <td>http://schema.org/about</td>\n",
       "      <td>open</td>\n",
       "      <td>gardening for the masses, not just the wealthy...</td>\n",
       "      <td>True</td>\n",
       "    </tr>\n",
       "    <tr>\n",
       "      <th>762</th>\n",
       "      <td>'Morgan Freeman filmography' is about</td>\n",
       "      <td>Morgan Freeman</td>\n",
       "      <td>Morgan Freeman filmography</td>\n",
       "      <td>http://schema.org/about</td>\n",
       "      <td>open</td>\n",
       "      <td>Morgan Freeman, an American actor, producer, a...</td>\n",
       "      <td>True</td>\n",
       "    </tr>\n",
       "    <tr>\n",
       "      <th>822</th>\n",
       "      <td>'Shilpa Shetty filmography' is about</td>\n",
       "      <td>Shilpa Shetty</td>\n",
       "      <td>Shilpa Shetty filmography</td>\n",
       "      <td>http://schema.org/about</td>\n",
       "      <td>open</td>\n",
       "      <td>Shilpa Shetty's filmography, including her mov...</td>\n",
       "      <td>True</td>\n",
       "    </tr>\n",
       "    <tr>\n",
       "      <th>946</th>\n",
       "      <td>'Nathan Lane on screen and stage' is about</td>\n",
       "      <td>Nathan Lane</td>\n",
       "      <td>Nathan Lane on screen and stage</td>\n",
       "      <td>http://schema.org/about</td>\n",
       "      <td>open</td>\n",
       "      <td>Nathan Lane's career as an actor, including hi...</td>\n",
       "      <td>True</td>\n",
       "    </tr>\n",
       "    <tr>\n",
       "      <th>948</th>\n",
       "      <td>'Suriya filmography' is about</td>\n",
       "      <td>Suriya</td>\n",
       "      <td>Suriya filmography</td>\n",
       "      <td>http://schema.org/about</td>\n",
       "      <td>open</td>\n",
       "      <td>Suriya's filmography, which includes his movie...</td>\n",
       "      <td>True</td>\n",
       "    </tr>\n",
       "  </tbody>\n",
       "</table>\n",
       "</div>"
      ],
      "text/plain": [
       "                                           text          labels  \\\n",
       "42            'Eason Chan filmography' is about      Eason Chan   \n",
       "105       'Norma Talmadge filmography' is about  Norma Talmadge   \n",
       "196         'Faye Dunaway filmography' is about    Faye Dunaway   \n",
       "481            'Paul Anka filmography' is about       Paul Anka   \n",
       "585          'Donald Duck filmography' is about     Donald Duck   \n",
       "686        'Gardening for the Million' is about       gardening   \n",
       "762       'Morgan Freeman filmography' is about  Morgan Freeman   \n",
       "822        'Shilpa Shetty filmography' is about   Shilpa Shetty   \n",
       "946  'Nathan Lane on screen and stage' is about     Nathan Lane   \n",
       "948               'Suriya filmography' is about          Suriya   \n",
       "\n",
       "                              entity                 query_id query_type  \\\n",
       "42            Eason Chan filmography  http://schema.org/about       open   \n",
       "105       Norma Talmadge filmography  http://schema.org/about       open   \n",
       "196         Faye Dunaway filmography  http://schema.org/about       open   \n",
       "481            Paul Anka filmography  http://schema.org/about       open   \n",
       "585          Donald Duck filmography  http://schema.org/about       open   \n",
       "686        Gardening for the Million  http://schema.org/about       open   \n",
       "762       Morgan Freeman filmography  http://schema.org/about       open   \n",
       "822        Shilpa Shetty filmography  http://schema.org/about       open   \n",
       "946  Nathan Lane on screen and stage  http://schema.org/about       open   \n",
       "948               Suriya filmography  http://schema.org/about       open   \n",
       "\n",
       "                                           predictions  is_correct  \n",
       "42   Eason Chan, a Hong Kong singer, songwriter, an...        True  \n",
       "105  Norma Talmadge, an American actress who was ac...        True  \n",
       "196  Faye Dunaway, an American actress who was born...        True  \n",
       "481  Paul Anka, a Canadian singer, songwriter, and ...        True  \n",
       "585  Donald Duck's appearances in various films, TV...        True  \n",
       "686  gardening for the masses, not just the wealthy...        True  \n",
       "762  Morgan Freeman, an American actor, producer, a...        True  \n",
       "822  Shilpa Shetty's filmography, including her mov...        True  \n",
       "946  Nathan Lane's career as an actor, including hi...        True  \n",
       "948  Suriya's filmography, which includes his movie...        True  "
      ]
     },
     "execution_count": 42,
     "metadata": {},
     "output_type": "execute_result"
    }
   ],
   "source": [
    "correct_results_df[correct_results_df[\"query_id\"] == 'http://schema.org/about']"
   ]
  },
  {
   "cell_type": "code",
   "execution_count": 45,
   "id": "0b3f218b",
   "metadata": {},
   "outputs": [],
   "source": [
    "import json\n",
    "with open(FILTERED_RAW_DATA_PATH, \"w\", encoding=\"utf-8\") as fp:\n",
    "    json.dump(eligible_yago_qec, fp, ensure_ascii=False, indent=4, sort_keys=True)"
   ]
  },
  {
   "cell_type": "code",
   "execution_count": null,
   "id": "b9840a5c",
   "metadata": {},
   "outputs": [],
   "source": []
  }
 ],
 "metadata": {
  "kernelspec": {
   "display_name": "venv",
   "language": "python",
   "name": "python3"
  },
  "language_info": {
   "codemirror_mode": {
    "name": "ipython",
    "version": 3
   },
   "file_extension": ".py",
   "mimetype": "text/x-python",
   "name": "python",
   "nbconvert_exporter": "python",
   "pygments_lexer": "ipython3",
   "version": "3.11.6"
  }
 },
 "nbformat": 4,
 "nbformat_minor": 5
}
