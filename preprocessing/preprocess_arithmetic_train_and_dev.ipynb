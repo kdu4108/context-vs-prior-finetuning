{
 "cells": [
  {
   "cell_type": "code",
   "execution_count": 41,
   "metadata": {},
   "outputs": [],
   "source": [
    "from collections import defaultdict\n",
    "import numpy as np\n",
    "import random\n",
    "import pandas as pd\n",
    "import matplotlib.pyplot as plt\n",
    "import os\n",
    "import seaborn as sns\n",
    "from sklearn.model_selection import train_test_split\n",
    "\n",
    "from dataset import load_dataset_from_path\n",
    "from datasets import load_dataset, Dataset\n",
    "from utils import partition_df"
   ]
  },
  {
   "cell_type": "code",
   "execution_count": 42,
   "metadata": {},
   "outputs": [
    {
     "data": {
      "text/html": [
       "<div>\n",
       "<style scoped>\n",
       "    .dataframe tbody tr th:only-of-type {\n",
       "        vertical-align: middle;\n",
       "    }\n",
       "\n",
       "    .dataframe tbody tr th {\n",
       "        vertical-align: top;\n",
       "    }\n",
       "\n",
       "    .dataframe thead th {\n",
       "        text-align: right;\n",
       "    }\n",
       "</style>\n",
       "<table border=\"1\" class=\"dataframe\">\n",
       "  <thead>\n",
       "    <tr style=\"text-align: right;\">\n",
       "      <th></th>\n",
       "      <th>query_no_mod</th>\n",
       "      <th>query</th>\n",
       "      <th>prior_answer</th>\n",
       "      <th>context</th>\n",
       "      <th>ctx_answer</th>\n",
       "      <th>query_depth</th>\n",
       "      <th>ctx_depth</th>\n",
       "    </tr>\n",
       "  </thead>\n",
       "  <tbody>\n",
       "    <tr>\n",
       "      <th>0</th>\n",
       "      <td>(2 * 4) - 3</td>\n",
       "      <td>(2 * 4) - 3 =</td>\n",
       "      <td>5</td>\n",
       "      <td>(2 * 4) - 3 = 9</td>\n",
       "      <td>9</td>\n",
       "      <td>2</td>\n",
       "      <td>2</td>\n",
       "    </tr>\n",
       "    <tr>\n",
       "      <th>1</th>\n",
       "      <td>((5 * 1) + 3) - 3</td>\n",
       "      <td>((5 * 1) + 3) - 3 =</td>\n",
       "      <td>5</td>\n",
       "      <td>3 = 7</td>\n",
       "      <td>5</td>\n",
       "      <td>3</td>\n",
       "      <td>0</td>\n",
       "    </tr>\n",
       "    <tr>\n",
       "      <th>2</th>\n",
       "      <td>(4 + 8) - 8</td>\n",
       "      <td>(4 + 8) - 8 =</td>\n",
       "      <td>4</td>\n",
       "      <td>8 = 3</td>\n",
       "      <td>4</td>\n",
       "      <td>2</td>\n",
       "      <td>0</td>\n",
       "    </tr>\n",
       "    <tr>\n",
       "      <th>3</th>\n",
       "      <td>2 + 0</td>\n",
       "      <td>2 + 0 =</td>\n",
       "      <td>2</td>\n",
       "      <td>0 = 4</td>\n",
       "      <td>6</td>\n",
       "      <td>1</td>\n",
       "      <td>0</td>\n",
       "    </tr>\n",
       "    <tr>\n",
       "      <th>4</th>\n",
       "      <td>(1 + 2) + 1</td>\n",
       "      <td>(1 + 2) + 1 =</td>\n",
       "      <td>4</td>\n",
       "      <td>1 = 4</td>\n",
       "      <td>10</td>\n",
       "      <td>2</td>\n",
       "      <td>0</td>\n",
       "    </tr>\n",
       "    <tr>\n",
       "      <th>...</th>\n",
       "      <td>...</td>\n",
       "      <td>...</td>\n",
       "      <td>...</td>\n",
       "      <td>...</td>\n",
       "      <td>...</td>\n",
       "      <td>...</td>\n",
       "      <td>...</td>\n",
       "    </tr>\n",
       "    <tr>\n",
       "      <th>995</th>\n",
       "      <td>((2 + 9) - 8) + 2</td>\n",
       "      <td>((2 + 9) - 8) + 2 =</td>\n",
       "      <td>5</td>\n",
       "      <td>2 = 3</td>\n",
       "      <td>7</td>\n",
       "      <td>3</td>\n",
       "      <td>0</td>\n",
       "    </tr>\n",
       "    <tr>\n",
       "      <th>996</th>\n",
       "      <td>(8 - 3) - 2</td>\n",
       "      <td>(8 - 3) - 2 =</td>\n",
       "      <td>3</td>\n",
       "      <td>2 = 0</td>\n",
       "      <td>5</td>\n",
       "      <td>2</td>\n",
       "      <td>0</td>\n",
       "    </tr>\n",
       "    <tr>\n",
       "      <th>997</th>\n",
       "      <td>((5 - 4) * 6) - 5</td>\n",
       "      <td>((5 - 4) * 6) - 5 =</td>\n",
       "      <td>1</td>\n",
       "      <td>5 = 8</td>\n",
       "      <td>16</td>\n",
       "      <td>3</td>\n",
       "      <td>0</td>\n",
       "    </tr>\n",
       "    <tr>\n",
       "      <th>998</th>\n",
       "      <td>((6 - 5) + 5) - 6</td>\n",
       "      <td>((6 - 5) + 5) - 6 =</td>\n",
       "      <td>0</td>\n",
       "      <td>6 = 1</td>\n",
       "      <td>0</td>\n",
       "      <td>3</td>\n",
       "      <td>0</td>\n",
       "    </tr>\n",
       "    <tr>\n",
       "      <th>999</th>\n",
       "      <td>((9 + 6) + 4) * 0</td>\n",
       "      <td>((9 + 6) + 4) * 0 =</td>\n",
       "      <td>0</td>\n",
       "      <td>9 = 5</td>\n",
       "      <td>0</td>\n",
       "      <td>3</td>\n",
       "      <td>0</td>\n",
       "    </tr>\n",
       "  </tbody>\n",
       "</table>\n",
       "<p>1000 rows × 7 columns</p>\n",
       "</div>"
      ],
      "text/plain": [
       "          query_no_mod                query  prior_answer          context  \\\n",
       "0          (2 * 4) - 3        (2 * 4) - 3 =             5  (2 * 4) - 3 = 9   \n",
       "1    ((5 * 1) + 3) - 3  ((5 * 1) + 3) - 3 =             5            3 = 7   \n",
       "2          (4 + 8) - 8        (4 + 8) - 8 =             4            8 = 3   \n",
       "3                2 + 0              2 + 0 =             2            0 = 4   \n",
       "4          (1 + 2) + 1        (1 + 2) + 1 =             4            1 = 4   \n",
       "..                 ...                  ...           ...              ...   \n",
       "995  ((2 + 9) - 8) + 2  ((2 + 9) - 8) + 2 =             5            2 = 3   \n",
       "996        (8 - 3) - 2        (8 - 3) - 2 =             3            2 = 0   \n",
       "997  ((5 - 4) * 6) - 5  ((5 - 4) * 6) - 5 =             1            5 = 8   \n",
       "998  ((6 - 5) + 5) - 6  ((6 - 5) + 5) - 6 =             0            6 = 1   \n",
       "999  ((9 + 6) + 4) * 0  ((9 + 6) + 4) * 0 =             0            9 = 5   \n",
       "\n",
       "     ctx_answer  query_depth  ctx_depth  \n",
       "0             9            2          2  \n",
       "1             5            3          0  \n",
       "2             4            2          0  \n",
       "3             6            1          0  \n",
       "4            10            2          0  \n",
       "..          ...          ...        ...  \n",
       "995           7            3          0  \n",
       "996           5            2          0  \n",
       "997          16            3          0  \n",
       "998           0            3          0  \n",
       "999           0            3          0  \n",
       "\n",
       "[1000 rows x 7 columns]"
      ]
     },
     "execution_count": 42,
     "metadata": {},
     "output_type": "execute_result"
    }
   ],
   "source": [
    "ROOT_DATA_DIR = \"../data/Arithmetic/\"\n",
    "RAW_DATA_PATH = os.path.join(ROOT_DATA_DIR, \"arithmetic_dataset.csv\")\n",
    "df = load_dataset_from_path(RAW_DATA_PATH)\n",
    "df = df.drop_duplicates([\"query\"])\n",
    "df"
   ]
  },
  {
   "cell_type": "markdown",
   "metadata": {},
   "source": [
    "### EDA"
   ]
  },
  {
   "cell_type": "code",
   "execution_count": 43,
   "metadata": {},
   "outputs": [
    {
     "data": {
      "text/plain": [
       "query              \n",
       "((0 * 0) * 7) * 8 =    1\n",
       "(5 - 2) * 1 =          1\n",
       "(5 + 4) - 0 =          1\n",
       "(5 + 4) - 4 =          1\n",
       "(5 + 5) - 5 =          1\n",
       "                      ..\n",
       "((8 + 5) - 7) + 0 =    1\n",
       "((8 + 6) - 0) * 0 =    1\n",
       "((8 + 6) - 2) - 4 =    1\n",
       "((8 + 7) - 3) - 6 =    1\n",
       "9 - 9 =                1\n",
       "Name: count, Length: 1000, dtype: int64"
      ]
     },
     "execution_count": 43,
     "metadata": {},
     "output_type": "execute_result"
    }
   ],
   "source": [
    "df.value_counts([\"query\"])"
   ]
  },
  {
   "cell_type": "code",
   "execution_count": 44,
   "metadata": {},
   "outputs": [
    {
     "data": {
      "image/png": "[encoded data removed]",
      "text/plain": [
       "<Figure size 640x480 with 1 Axes>"
      ]
     },
     "metadata": {},
     "output_type": "display_data"
    }
   ],
   "source": [
    "def plot_depth_dist(df):\n",
    "    fig, ax = plt.subplots()\n",
    "    sns.histplot(\n",
    "        data=df.melt(id_vars=\"query\", value_vars=[\"query_depth\", \"ctx_depth\"], var_name=\"type\", value_name=\"depth\"), \n",
    "        x=\"depth\",\n",
    "        multiple='dodge',\n",
    "        hue=\"type\",\n",
    "        ax=ax\n",
    "    )\n",
    "plot_depth_dist(df)\n",
    "# Should we try to even this out more?"
   ]
  },
  {
   "attachments": {},
   "cell_type": "markdown",
   "metadata": {},
   "source": [
    "### Augment with intent"
   ]
  },
  {
   "cell_type": "code",
   "execution_count": 45,
   "metadata": {},
   "outputs": [],
   "source": [
    "df_prior = df.copy()\n",
    "df_prior[\"weight_context\"] = 0\n",
    "df_prior[\"answer\"] = df_prior[\"prior_answer\"]\n",
    "\n",
    "df_ctx = df.copy()\n",
    "df_ctx[\"weight_context\"] = 1\n",
    "df_ctx[\"answer\"] = df_ctx[\"ctx_answer\"]\n",
    "\n",
    "df_all = pd.concat([df_prior, df_ctx], axis=0)\n",
    "df_all.sort_values([\"query\", \"context\"])\n",
    "df_all[\"answer\"] = df_all[\"answer\"].apply(str)\n",
    "df_all[\"prior_answer\"] = df_all[\"prior_answer\"].apply(str)\n",
    "df_all[\"ctx_answer\"] = df_all[\"ctx_answer\"].apply(str)"
   ]
  },
  {
   "cell_type": "markdown",
   "metadata": {},
   "source": [
    "### Train/val/test split"
   ]
  },
  {
   "cell_type": "code",
   "execution_count": 46,
   "metadata": {},
   "outputs": [
    {
     "name": "stdout",
     "output_type": "stream",
     "text": [
      "<class 'pandas.core.frame.DataFrame'>\n",
      "Index: 1280 entries, 447 to 934\n",
      "Data columns (total 9 columns):\n",
      " #   Column          Non-Null Count  Dtype \n",
      "---  ------          --------------  ----- \n",
      " 0   query_no_mod    1280 non-null   object\n",
      " 1   query           1280 non-null   object\n",
      " 2   prior_answer    1280 non-null   object\n",
      " 3   context         1280 non-null   object\n",
      " 4   ctx_answer      1280 non-null   object\n",
      " 5   query_depth     1280 non-null   int64 \n",
      " 6   ctx_depth       1280 non-null   int64 \n",
      " 7   weight_context  1280 non-null   int64 \n",
      " 8   answer          1280 non-null   object\n",
      "dtypes: int64(3), object(6)\n",
      "memory usage: 100.0+ KB\n",
      "<class 'pandas.core.frame.DataFrame'>\n",
      "Index: 320 entries, 125 to 171\n",
      "Data columns (total 9 columns):\n",
      " #   Column          Non-Null Count  Dtype \n",
      "---  ------          --------------  ----- \n",
      " 0   query_no_mod    320 non-null    object\n",
      " 1   query           320 non-null    object\n",
      " 2   prior_answer    320 non-null    object\n",
      " 3   context         320 non-null    object\n",
      " 4   ctx_answer      320 non-null    object\n",
      " 5   query_depth     320 non-null    int64 \n",
      " 6   ctx_depth       320 non-null    int64 \n",
      " 7   weight_context  320 non-null    int64 \n",
      " 8   answer          320 non-null    object\n",
      "dtypes: int64(3), object(6)\n",
      "memory usage: 25.0+ KB\n",
      "<class 'pandas.core.frame.DataFrame'>\n",
      "Index: 400 entries, 136 to 255\n",
      "Data columns (total 9 columns):\n",
      " #   Column          Non-Null Count  Dtype \n",
      "---  ------          --------------  ----- \n",
      " 0   query_no_mod    400 non-null    object\n",
      " 1   query           400 non-null    object\n",
      " 2   prior_answer    400 non-null    object\n",
      " 3   context         400 non-null    object\n",
      " 4   ctx_answer      400 non-null    object\n",
      " 5   query_depth     400 non-null    int64 \n",
      " 6   ctx_depth       400 non-null    int64 \n",
      " 7   weight_context  400 non-null    int64 \n",
      " 8   answer          400 non-null    object\n",
      "dtypes: int64(3), object(6)\n",
      "memory usage: 31.2+ KB\n"
     ]
    },
    {
     "data": {
      "text/plain": [
       "(None, None, None)"
      ]
     },
     "execution_count": 46,
     "metadata": {},
     "output_type": "execute_result"
    }
   ],
   "source": [
    "train_df, val_df, test_df = partition_df(df_all, columns=[\"query\"])\n",
    "train_df = train_df.sort_values([\"query\", \"context\"])\n",
    "val_df = val_df.sort_values([\"query\", \"context\"])\n",
    "test_df = test_df.sort_values([\"query\", \"context\"])\n",
    "\n",
    "train_df.info(), val_df.info(), test_df.info()"
   ]
  },
  {
   "cell_type": "code",
   "execution_count": 47,
   "metadata": {},
   "outputs": [
    {
     "data": {
      "text/plain": [
       "weight_context\n",
       "0    640\n",
       "1    640\n",
       "Name: count, dtype: int64"
      ]
     },
     "execution_count": 47,
     "metadata": {},
     "output_type": "execute_result"
    }
   ],
   "source": [
    "train_df.value_counts(\"weight_context\")"
   ]
  },
  {
   "cell_type": "code",
   "execution_count": 48,
   "metadata": {},
   "outputs": [
    {
     "name": "stdout",
     "output_type": "stream",
     "text": [
      "<class 'pandas.core.frame.DataFrame'>\n",
      "Index: 1280 entries, 447 to 934\n",
      "Data columns (total 9 columns):\n",
      " #   Column          Non-Null Count  Dtype \n",
      "---  ------          --------------  ----- \n",
      " 0   query_no_mod    1280 non-null   object\n",
      " 1   query           1280 non-null   object\n",
      " 2   prior_answer    1280 non-null   object\n",
      " 3   context         1280 non-null   object\n",
      " 4   ctx_answer      1280 non-null   object\n",
      " 5   query_depth     1280 non-null   int64 \n",
      " 6   ctx_depth       1280 non-null   int64 \n",
      " 7   weight_context  1280 non-null   int64 \n",
      " 8   answer          1280 non-null   object\n",
      "dtypes: int64(3), object(6)\n",
      "memory usage: 100.0+ KB\n"
     ]
    }
   ],
   "source": [
    "train_df.info()"
   ]
  },
  {
   "cell_type": "code",
   "execution_count": 49,
   "metadata": {},
   "outputs": [],
   "source": [
    "full_dir = os.path.join(ROOT_DATA_DIR, \"splits\", \"base\")\n",
    "os.makedirs(full_dir, exist_ok=True)\n",
    "train_df.to_csv(\n",
    "    os.path.join(full_dir, \"train.csv\"),\n",
    "    index=False,\n",
    ")\n",
    "val_df.to_csv(\n",
    "    os.path.join(full_dir, \"val.csv\"),\n",
    "    index=False,\n",
    ")\n",
    "test_df.to_csv(\n",
    "    os.path.join(full_dir, \"test.csv\"),\n",
    "    index=False,\n",
    ")"
   ]
  },
  {
   "cell_type": "code",
   "execution_count": 50,
   "metadata": {},
   "outputs": [
    {
     "data": {
      "image/png": "[encoded data removed]",
      "text/plain": [
       "<Figure size 640x480 with 1 Axes>"
      ]
     },
     "metadata": {},
     "output_type": "display_data"
    },
    {
     "data": {
      "image/png": "[encoded data removed]",
      "text/plain": [
       "<Figure size 640x480 with 1 Axes>"
      ]
     },
     "metadata": {},
     "output_type": "display_data"
    },
    {
     "data": {
      "image/png": "[encoded data removed]",
      "text/plain": [
       "<Figure size 640x480 with 1 Axes>"
      ]
     },
     "metadata": {},
     "output_type": "display_data"
    }
   ],
   "source": [
    "plot_depth_dist(train_df)\n",
    "plot_depth_dist(val_df)\n",
    "plot_depth_dist(test_df)\n"
   ]
  },
  {
   "cell_type": "markdown",
   "metadata": {},
   "source": []
  }
 ],
 "metadata": {
  "kernelspec": {
   "display_name": "sftcontext",
   "language": "python",
   "name": "python3"
  },
  "language_info": {
   "codemirror_mode": {
    "name": "ipython",
    "version": 3
   },
   "file_extension": ".py",
   "mimetype": "text/x-python",
   "name": "python",
   "nbconvert_exporter": "python",
   "pygments_lexer": "ipython3",
   "version": "3.10.14"
  }
 },
 "nbformat": 4,
 "nbformat_minor": 2
}
