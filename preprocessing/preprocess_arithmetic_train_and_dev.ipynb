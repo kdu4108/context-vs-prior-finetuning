{
 "cells": [
  {
   "cell_type": "code",
   "execution_count": 1,
   "metadata": {},
   "outputs": [
    {
     "name": "stderr",
     "output_type": "stream",
     "text": [
      "/cluster/home/kevidu/micromamba/envs/sftcontext/lib/python3.10/site-packages/transformers/utils/hub.py:127: FutureWarning: Using `TRANSFORMERS_CACHE` is deprecated and will be removed in v5 of Transformers. Use `HF_HOME` instead.\n",
      "  warnings.warn(\n"
     ]
    }
   ],
   "source": [
    "from collections import defaultdict\n",
    "import numpy as np\n",
    "import random\n",
    "import pandas as pd\n",
    "import matplotlib.pyplot as plt\n",
    "import os\n",
    "import seaborn as sns\n",
    "from sklearn.model_selection import train_test_split\n",
    "\n",
    "from dataset import load_dataset_from_path\n",
    "from datasets import load_dataset, Dataset\n",
    "from utils import partition_df"
   ]
  },
  {
   "cell_type": "code",
   "execution_count": 2,
   "metadata": {},
   "outputs": [
    {
     "data": {
      "text/html": [
       "<div>\n",
       "<style scoped>\n",
       "    .dataframe tbody tr th:only-of-type {\n",
       "        vertical-align: middle;\n",
       "    }\n",
       "\n",
       "    .dataframe tbody tr th {\n",
       "        vertical-align: top;\n",
       "    }\n",
       "\n",
       "    .dataframe thead th {\n",
       "        text-align: right;\n",
       "    }\n",
       "</style>\n",
       "<table border=\"1\" class=\"dataframe\">\n",
       "  <thead>\n",
       "    <tr style=\"text-align: right;\">\n",
       "      <th></th>\n",
       "      <th>query_no_mod</th>\n",
       "      <th>query</th>\n",
       "      <th>prior_answer</th>\n",
       "      <th>context</th>\n",
       "      <th>ctx_answer</th>\n",
       "      <th>query_depth</th>\n",
       "      <th>ctx_depth</th>\n",
       "    </tr>\n",
       "  </thead>\n",
       "  <tbody>\n",
       "    <tr>\n",
       "      <th>0</th>\n",
       "      <td>(2 * 4) - 3</td>\n",
       "      <td>(2 * 4) - 3 =</td>\n",
       "      <td>5</td>\n",
       "      <td>(2 * 4) - 3 = 9</td>\n",
       "      <td>9</td>\n",
       "      <td>2</td>\n",
       "      <td>2</td>\n",
       "    </tr>\n",
       "    <tr>\n",
       "      <th>1</th>\n",
       "      <td>((5 * 1) + 3) - 3</td>\n",
       "      <td>((5 * 1) + 3) - 3 =</td>\n",
       "      <td>5</td>\n",
       "      <td>3 = 7</td>\n",
       "      <td>5</td>\n",
       "      <td>3</td>\n",
       "      <td>0</td>\n",
       "    </tr>\n",
       "    <tr>\n",
       "      <th>2</th>\n",
       "      <td>(4 + 8) - 8</td>\n",
       "      <td>(4 + 8) - 8 =</td>\n",
       "      <td>4</td>\n",
       "      <td>8 = 3</td>\n",
       "      <td>4</td>\n",
       "      <td>2</td>\n",
       "      <td>0</td>\n",
       "    </tr>\n",
       "    <tr>\n",
       "      <th>3</th>\n",
       "      <td>2 + 0</td>\n",
       "      <td>2 + 0 =</td>\n",
       "      <td>2</td>\n",
       "      <td>0 = 4</td>\n",
       "      <td>6</td>\n",
       "      <td>1</td>\n",
       "      <td>0</td>\n",
       "    </tr>\n",
       "    <tr>\n",
       "      <th>4</th>\n",
       "      <td>(1 + 2) + 1</td>\n",
       "      <td>(1 + 2) + 1 =</td>\n",
       "      <td>4</td>\n",
       "      <td>1 = 4</td>\n",
       "      <td>10</td>\n",
       "      <td>2</td>\n",
       "      <td>0</td>\n",
       "    </tr>\n",
       "    <tr>\n",
       "      <th>...</th>\n",
       "      <td>...</td>\n",
       "      <td>...</td>\n",
       "      <td>...</td>\n",
       "      <td>...</td>\n",
       "      <td>...</td>\n",
       "      <td>...</td>\n",
       "      <td>...</td>\n",
       "    </tr>\n",
       "    <tr>\n",
       "      <th>4995</th>\n",
       "      <td>((0 - 0) * 6) * 1</td>\n",
       "      <td>((0 - 0) * 6) * 1 =</td>\n",
       "      <td>0</td>\n",
       "      <td>((0 - 0) * 6) * 1 = 7</td>\n",
       "      <td>7</td>\n",
       "      <td>3</td>\n",
       "      <td>3</td>\n",
       "    </tr>\n",
       "    <tr>\n",
       "      <th>4996</th>\n",
       "      <td>(3 * 2) - 3</td>\n",
       "      <td>(3 * 2) - 3 =</td>\n",
       "      <td>3</td>\n",
       "      <td>2 = 1</td>\n",
       "      <td>0</td>\n",
       "      <td>2</td>\n",
       "      <td>0</td>\n",
       "    </tr>\n",
       "    <tr>\n",
       "      <th>4997</th>\n",
       "      <td>(8 - 6) * 2</td>\n",
       "      <td>(8 - 6) * 2 =</td>\n",
       "      <td>4</td>\n",
       "      <td>2 = 7</td>\n",
       "      <td>14</td>\n",
       "      <td>2</td>\n",
       "      <td>0</td>\n",
       "    </tr>\n",
       "    <tr>\n",
       "      <th>4998</th>\n",
       "      <td>(0 - 2) + 8</td>\n",
       "      <td>(0 - 2) + 8 =</td>\n",
       "      <td>6</td>\n",
       "      <td>0 = 8</td>\n",
       "      <td>14</td>\n",
       "      <td>2</td>\n",
       "      <td>0</td>\n",
       "    </tr>\n",
       "    <tr>\n",
       "      <th>4999</th>\n",
       "      <td>((1 * 0) + 0) + 7</td>\n",
       "      <td>((1 * 0) + 0) + 7 =</td>\n",
       "      <td>7</td>\n",
       "      <td>((1 * 0) + 0) + 7 = 4</td>\n",
       "      <td>4</td>\n",
       "      <td>3</td>\n",
       "      <td>3</td>\n",
       "    </tr>\n",
       "  </tbody>\n",
       "</table>\n",
       "<p>5000 rows × 7 columns</p>\n",
       "</div>"
      ],
      "text/plain": [
       "           query_no_mod                query  prior_answer  \\\n",
       "0           (2 * 4) - 3        (2 * 4) - 3 =             5   \n",
       "1     ((5 * 1) + 3) - 3  ((5 * 1) + 3) - 3 =             5   \n",
       "2           (4 + 8) - 8        (4 + 8) - 8 =             4   \n",
       "3                 2 + 0              2 + 0 =             2   \n",
       "4           (1 + 2) + 1        (1 + 2) + 1 =             4   \n",
       "...                 ...                  ...           ...   \n",
       "4995  ((0 - 0) * 6) * 1  ((0 - 0) * 6) * 1 =             0   \n",
       "4996        (3 * 2) - 3        (3 * 2) - 3 =             3   \n",
       "4997        (8 - 6) * 2        (8 - 6) * 2 =             4   \n",
       "4998        (0 - 2) + 8        (0 - 2) + 8 =             6   \n",
       "4999  ((1 * 0) + 0) + 7  ((1 * 0) + 0) + 7 =             7   \n",
       "\n",
       "                    context  ctx_answer  query_depth  ctx_depth  \n",
       "0           (2 * 4) - 3 = 9           9            2          2  \n",
       "1                     3 = 7           5            3          0  \n",
       "2                     8 = 3           4            2          0  \n",
       "3                     0 = 4           6            1          0  \n",
       "4                     1 = 4          10            2          0  \n",
       "...                     ...         ...          ...        ...  \n",
       "4995  ((0 - 0) * 6) * 1 = 7           7            3          3  \n",
       "4996                  2 = 1           0            2          0  \n",
       "4997                  2 = 7          14            2          0  \n",
       "4998                  0 = 8          14            2          0  \n",
       "4999  ((1 * 0) + 0) + 7 = 4           4            3          3  \n",
       "\n",
       "[5000 rows x 7 columns]"
      ]
     },
     "execution_count": 2,
     "metadata": {},
     "output_type": "execute_result"
    }
   ],
   "source": [
    "ROOT_DATA_DIR = \"../data/Arithmetic/\"\n",
    "RAW_DATA_PATH = os.path.join(ROOT_DATA_DIR, \"arithmetic_dataset.csv\")\n",
    "df = load_dataset_from_path(RAW_DATA_PATH)\n",
    "df = df.drop_duplicates([\"query\"])\n",
    "df"
   ]
  },
  {
   "cell_type": "markdown",
   "metadata": {},
   "source": [
    "### EDA"
   ]
  },
  {
   "cell_type": "code",
   "execution_count": 3,
   "metadata": {},
   "outputs": [
    {
     "data": {
      "text/plain": [
       "query              \n",
       "((0 * 0) * 3) + 8 =    1\n",
       "(2 * 7) - 6 =          1\n",
       "(2 + 0) * 4 =          1\n",
       "(2 + 0) * 3 =          1\n",
       "(2 + 0) * 2 =          1\n",
       "                      ..\n",
       "((5 - 1) * 3) - 3 =    1\n",
       "((5 - 1) * 3) * 0 =    1\n",
       "((5 - 0) - 6) + 6 =    1\n",
       "((5 - 0) - 5) + 7 =    1\n",
       "9 - 9 =                1\n",
       "Name: count, Length: 5000, dtype: int64"
      ]
     },
     "execution_count": 3,
     "metadata": {},
     "output_type": "execute_result"
    }
   ],
   "source": [
    "df.value_counts([\"query\"])"
   ]
  },
  {
   "cell_type": "code",
   "execution_count": 4,
   "metadata": {},
   "outputs": [
    {
     "data": {
      "image/png": "[encoded data removed]",
      "text/plain": [
       "<Figure size 640x480 with 1 Axes>"
      ]
     },
     "metadata": {},
     "output_type": "display_data"
    }
   ],
   "source": [
    "def plot_depth_dist(df):\n",
    "    fig, ax = plt.subplots()\n",
    "    sns.histplot(\n",
    "        data=df.melt(id_vars=\"query\", value_vars=[\"query_depth\", \"ctx_depth\"], var_name=\"type\", value_name=\"depth\"), \n",
    "        x=\"depth\",\n",
    "        multiple='dodge',\n",
    "        hue=\"type\",\n",
    "        ax=ax\n",
    "    )\n",
    "plot_depth_dist(df)\n",
    "# Should we try to even this out more?"
   ]
  },
  {
   "attachments": {},
   "cell_type": "markdown",
   "metadata": {},
   "source": [
    "### Augment with intent"
   ]
  },
  {
   "cell_type": "code",
   "execution_count": 5,
   "metadata": {},
   "outputs": [],
   "source": [
    "df_prior = df.copy()\n",
    "df_prior[\"weight_context\"] = 0\n",
    "df_prior[\"answer\"] = df_prior[\"prior_answer\"]\n",
    "\n",
    "df_ctx = df.copy()\n",
    "df_ctx[\"weight_context\"] = 1\n",
    "df_ctx[\"answer\"] = df_ctx[\"ctx_answer\"]\n",
    "\n",
    "df_all = pd.concat([df_prior, df_ctx], axis=0)\n",
    "df_all.sort_values([\"query\", \"context\"])\n",
    "df_all[\"answer\"] = df_all[\"answer\"].apply(str)\n",
    "df_all[\"prior_answer\"] = df_all[\"prior_answer\"].apply(str)\n",
    "df_all[\"ctx_answer\"] = df_all[\"ctx_answer\"].apply(str)"
   ]
  },
  {
   "cell_type": "markdown",
   "metadata": {},
   "source": [
    "### Train/val/test split"
   ]
  },
  {
   "cell_type": "code",
   "execution_count": 6,
   "metadata": {},
   "outputs": [
    {
     "name": "stdout",
     "output_type": "stream",
     "text": [
      "<class 'pandas.core.frame.DataFrame'>\n",
      "Index: 6400 entries, 1657 to 3255\n",
      "Data columns (total 9 columns):\n",
      " #   Column          Non-Null Count  Dtype \n",
      "---  ------          --------------  ----- \n",
      " 0   query_no_mod    6400 non-null   object\n",
      " 1   query           6400 non-null   object\n",
      " 2   prior_answer    6400 non-null   object\n",
      " 3   context         6400 non-null   object\n",
      " 4   ctx_answer      6400 non-null   object\n",
      " 5   query_depth     6400 non-null   int64 \n",
      " 6   ctx_depth       6400 non-null   int64 \n",
      " 7   weight_context  6400 non-null   int64 \n",
      " 8   answer          6400 non-null   object\n",
      "dtypes: int64(3), object(6)\n",
      "memory usage: 500.0+ KB\n",
      "<class 'pandas.core.frame.DataFrame'>\n",
      "Index: 1600 entries, 688 to 846\n",
      "Data columns (total 9 columns):\n",
      " #   Column          Non-Null Count  Dtype \n",
      "---  ------          --------------  ----- \n",
      " 0   query_no_mod    1600 non-null   object\n",
      " 1   query           1600 non-null   object\n",
      " 2   prior_answer    1600 non-null   object\n",
      " 3   context         1600 non-null   object\n",
      " 4   ctx_answer      1600 non-null   object\n",
      " 5   query_depth     1600 non-null   int64 \n",
      " 6   ctx_depth       1600 non-null   int64 \n",
      " 7   weight_context  1600 non-null   int64 \n",
      " 8   answer          1600 non-null   object\n",
      "dtypes: int64(3), object(6)\n",
      "memory usage: 125.0+ KB\n",
      "<class 'pandas.core.frame.DataFrame'>\n",
      "Index: 2000 entries, 266 to 1062\n",
      "Data columns (total 9 columns):\n",
      " #   Column          Non-Null Count  Dtype \n",
      "---  ------          --------------  ----- \n",
      " 0   query_no_mod    2000 non-null   object\n",
      " 1   query           2000 non-null   object\n",
      " 2   prior_answer    2000 non-null   object\n",
      " 3   context         2000 non-null   object\n",
      " 4   ctx_answer      2000 non-null   object\n",
      " 5   query_depth     2000 non-null   int64 \n",
      " 6   ctx_depth       2000 non-null   int64 \n",
      " 7   weight_context  2000 non-null   int64 \n",
      " 8   answer          2000 non-null   object\n",
      "dtypes: int64(3), object(6)\n",
      "memory usage: 156.2+ KB\n"
     ]
    },
    {
     "data": {
      "text/plain": [
       "(None, None, None)"
      ]
     },
     "execution_count": 6,
     "metadata": {},
     "output_type": "execute_result"
    }
   ],
   "source": [
    "train_df, val_df, test_df = partition_df(df_all, columns=[\"query\"])\n",
    "train_df = train_df.sort_values([\"query\", \"context\"])\n",
    "val_df = val_df.sort_values([\"query\", \"context\"])\n",
    "test_df = test_df.sort_values([\"query\", \"context\"])\n",
    "\n",
    "train_df.info(), val_df.info(), test_df.info()"
   ]
  },
  {
   "cell_type": "code",
   "execution_count": 7,
   "metadata": {},
   "outputs": [
    {
     "data": {
      "text/plain": [
       "weight_context\n",
       "0    3200\n",
       "1    3200\n",
       "Name: count, dtype: int64"
      ]
     },
     "execution_count": 7,
     "metadata": {},
     "output_type": "execute_result"
    }
   ],
   "source": [
    "train_df.value_counts(\"weight_context\")"
   ]
  },
  {
   "cell_type": "code",
   "execution_count": 8,
   "metadata": {},
   "outputs": [
    {
     "name": "stdout",
     "output_type": "stream",
     "text": [
      "<class 'pandas.core.frame.DataFrame'>\n",
      "Index: 6400 entries, 1657 to 3255\n",
      "Data columns (total 9 columns):\n",
      " #   Column          Non-Null Count  Dtype \n",
      "---  ------          --------------  ----- \n",
      " 0   query_no_mod    6400 non-null   object\n",
      " 1   query           6400 non-null   object\n",
      " 2   prior_answer    6400 non-null   object\n",
      " 3   context         6400 non-null   object\n",
      " 4   ctx_answer      6400 non-null   object\n",
      " 5   query_depth     6400 non-null   int64 \n",
      " 6   ctx_depth       6400 non-null   int64 \n",
      " 7   weight_context  6400 non-null   int64 \n",
      " 8   answer          6400 non-null   object\n",
      "dtypes: int64(3), object(6)\n",
      "memory usage: 500.0+ KB\n"
     ]
    }
   ],
   "source": [
    "train_df.info()"
   ]
  },
  {
   "cell_type": "code",
   "execution_count": 9,
   "metadata": {},
   "outputs": [],
   "source": [
    "full_dir = os.path.join(ROOT_DATA_DIR, \"splits\", \"base\")\n",
    "os.makedirs(full_dir, exist_ok=True)\n",
    "train_df.to_csv(\n",
    "    os.path.join(full_dir, \"train.csv\"),\n",
    "    index=False,\n",
    ")\n",
    "val_df.to_csv(\n",
    "    os.path.join(full_dir, \"val.csv\"),\n",
    "    index=False,\n",
    ")\n",
    "test_df.to_csv(\n",
    "    os.path.join(full_dir, \"test.csv\"),\n",
    "    index=False,\n",
    ")"
   ]
  },
  {
   "cell_type": "code",
   "execution_count": 10,
   "metadata": {},
   "outputs": [
    {
     "data": {
      "image/png": "[encoded data removed]",
      "text/plain": [
       "<Figure size 640x480 with 1 Axes>"
      ]
     },
     "metadata": {},
     "output_type": "display_data"
    },
    {
     "data": {
      "image/png": "[encoded data removed]",
      "text/plain": [
       "<Figure size 640x480 with 1 Axes>"
      ]
     },
     "metadata": {},
     "output_type": "display_data"
    },
    {
     "data": {
      "image/png": "[encoded data removed]",
      "text/plain": [
       "<Figure size 640x480 with 1 Axes>"
      ]
     },
     "metadata": {},
     "output_type": "display_data"
    }
   ],
   "source": [
    "plot_depth_dist(train_df)\n",
    "plot_depth_dist(val_df)\n",
    "plot_depth_dist(test_df)\n"
   ]
  },
  {
   "cell_type": "markdown",
   "metadata": {},
   "source": []
  }
 ],
 "metadata": {
  "kernelspec": {
   "display_name": "sftcontext",
   "language": "python",
   "name": "python3"
  },
  "language_info": {
   "codemirror_mode": {
    "name": "ipython",
    "version": 3
   },
   "file_extension": ".py",
   "mimetype": "text/x-python",
   "name": "python",
   "nbconvert_exporter": "python",
   "pygments_lexer": "ipython3",
   "version": "3.10.14"
  }
 },
 "nbformat": 4,
 "nbformat_minor": 2
}
