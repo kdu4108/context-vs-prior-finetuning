{
  "cells": [
    {
      "cell_type": "code",
      "execution_count": 9,
      "metadata": {},
      "outputs": [
        {
          "data": {
            "text/plain": [
              "'/mnt/dlabscratch1/jminder/repositories'"
            ]
          },
          "execution_count": 9,
          "metadata": {},
          "output_type": "execute_result"
        }
      ],
      "source": [
        "import os\n",
        "# IMPORTANT: Run as if from project root so that imports work.\n",
        "pardir = os.path.abspath(os.path.join(os.getcwd(), os.pardir))\n",
        "os.chdir(pardir)\n",
        "os.getcwd()"
      ]
    },
    {
      "cell_type": "code",
      "execution_count": 11,
      "metadata": {
        "id": "To4GcetuJ3g7"
      },
      "outputs": [
        {
          "name": "stdout",
          "output_type": "stream",
          "text": [
            "The autoreload extension is already loaded. To reload it, use:\n",
            "  %reload_ext autoreload\n"
          ]
        }
      ],
      "source": [
        "%load_ext autoreload\n",
        "%autoreload 2\n",
        "from transformers import AutoModelForCausalLM, AutoTokenizer, pipeline, BitsAndBytesConfig\n",
        "from peft import PeftModel\n",
        "import torch\n",
        "import pandas as pd\n",
        "\n",
        "from analysis.circuits_utils import *\n",
        "\n",
        "bnb_config = BitsAndBytesConfig(\n",
        "    load_in_4bit=True,\n",
        "    bnb_4bit_use_double_quant=True,\n",
        "    bnb_4bit_quant_type=\"nf4\",\n",
        "    bnb_4bit_compute_dtype=torch.bfloat16\n",
        ")\n",
        "\n",
        "device = \"cuda:0\"\n"
      ]
    },
    {
      "cell_type": "code",
      "execution_count": 2,
      "metadata": {},
      "outputs": [
        {
          "data": {
            "text/html": [
              "<div>\n",
              "<style scoped>\n",
              "    .dataframe tbody tr th:only-of-type {\n",
              "        vertical-align: middle;\n",
              "    }\n",
              "\n",
              "    .dataframe tbody tr th {\n",
              "        vertical-align: top;\n",
              "    }\n",
              "\n",
              "    .dataframe thead th {\n",
              "        text-align: right;\n",
              "    }\n",
              "</style>\n",
              "<table border=\"1\" class=\"dataframe\">\n",
              "  <thead>\n",
              "    <tr style=\"text-align: right;\">\n",
              "      <th></th>\n",
              "      <th>context</th>\n",
              "      <th>query</th>\n",
              "      <th>weight_context</th>\n",
              "      <th>answer</th>\n",
              "      <th>subject</th>\n",
              "      <th>object</th>\n",
              "      <th>factparent_obj</th>\n",
              "      <th>rel_p_id</th>\n",
              "      <th>text</th>\n",
              "      <th>labels</th>\n",
              "      <th>predictions</th>\n",
              "      <th>is_correct</th>\n",
              "    </tr>\n",
              "  </thead>\n",
              "  <tbody>\n",
              "    <tr>\n",
              "      <th>0</th>\n",
              "      <td>Windows Update, a product manufactured by Sega...</td>\n",
              "      <td>Windows Update, a product manufactured by</td>\n",
              "      <td>1.0</td>\n",
              "      <td>Sega</td>\n",
              "      <td>Windows Update</td>\n",
              "      <td>Sega</td>\n",
              "      <td>Microsoft</td>\n",
              "      <td>P178</td>\n",
              "      <td>Below is an instruction that describes a task,...</td>\n",
              "      <td>Sega</td>\n",
              "      <td>Sega&lt;/s&gt;</td>\n",
              "      <td>True</td>\n",
              "    </tr>\n",
              "    <tr>\n",
              "      <th>1</th>\n",
              "      <td>Windows Update, a product manufactured by Sega...</td>\n",
              "      <td>Windows Update, a product manufactured by</td>\n",
              "      <td>0.0</td>\n",
              "      <td>Microsoft</td>\n",
              "      <td>Windows Update</td>\n",
              "      <td>Sega</td>\n",
              "      <td>Microsoft</td>\n",
              "      <td>P178</td>\n",
              "      <td>Below is an instruction that describes a task,...</td>\n",
              "      <td>Microsoft</td>\n",
              "      <td>Microsoft&lt;/s&gt;&lt;unk&gt;</td>\n",
              "      <td>True</td>\n",
              "    </tr>\n",
              "    <tr>\n",
              "      <th>2</th>\n",
              "      <td>Windows Update, a product manufactured by Atar...</td>\n",
              "      <td>Windows Update, a product manufactured by</td>\n",
              "      <td>1.0</td>\n",
              "      <td>Atari</td>\n",
              "      <td>Windows Update</td>\n",
              "      <td>Atari</td>\n",
              "      <td>Microsoft</td>\n",
              "      <td>P178</td>\n",
              "      <td>Below is an instruction that describes a task,...</td>\n",
              "      <td>Atari</td>\n",
              "      <td>Atari&lt;/s&gt;</td>\n",
              "      <td>True</td>\n",
              "    </tr>\n",
              "    <tr>\n",
              "      <th>3</th>\n",
              "      <td>Windows Update, a product manufactured by Atar...</td>\n",
              "      <td>Windows Update, a product manufactured by</td>\n",
              "      <td>0.0</td>\n",
              "      <td>Microsoft</td>\n",
              "      <td>Windows Update</td>\n",
              "      <td>Atari</td>\n",
              "      <td>Microsoft</td>\n",
              "      <td>P178</td>\n",
              "      <td>Below is an instruction that describes a task,...</td>\n",
              "      <td>Microsoft</td>\n",
              "      <td>Microsoft&lt;/s&gt;&lt;unk&gt;</td>\n",
              "      <td>True</td>\n",
              "    </tr>\n",
              "    <tr>\n",
              "      <th>4</th>\n",
              "      <td>Windows Update, a product manufactured by Yaho...</td>\n",
              "      <td>Windows Update, a product manufactured by</td>\n",
              "      <td>1.0</td>\n",
              "      <td>Yahoo</td>\n",
              "      <td>Windows Update</td>\n",
              "      <td>Yahoo</td>\n",
              "      <td>Microsoft</td>\n",
              "      <td>P178</td>\n",
              "      <td>Below is an instruction that describes a task,...</td>\n",
              "      <td>Yahoo</td>\n",
              "      <td>Yahoo&lt;/s&gt;&lt;unk&gt;</td>\n",
              "      <td>True</td>\n",
              "    </tr>\n",
              "    <tr>\n",
              "      <th>...</th>\n",
              "      <td>...</td>\n",
              "      <td>...</td>\n",
              "      <td>...</td>\n",
              "      <td>...</td>\n",
              "      <td>...</td>\n",
              "      <td>...</td>\n",
              "      <td>...</td>\n",
              "      <td>...</td>\n",
              "      <td>...</td>\n",
              "      <td>...</td>\n",
              "      <td>...</td>\n",
              "      <td>...</td>\n",
              "    </tr>\n",
              "    <tr>\n",
              "      <th>95</th>\n",
              "      <td>Windows 10, a revolutionary operating system d...</td>\n",
              "      <td>Windows 10, a product manufactured by</td>\n",
              "      <td>0.0</td>\n",
              "      <td>Microsoft</td>\n",
              "      <td>Windows 10</td>\n",
              "      <td>Yahoo</td>\n",
              "      <td>Microsoft</td>\n",
              "      <td>P178</td>\n",
              "      <td>Below is an instruction that describes a task,...</td>\n",
              "      <td>Microsoft</td>\n",
              "      <td>Microsoft&lt;/s&gt;&lt;unk&gt;</td>\n",
              "      <td>True</td>\n",
              "    </tr>\n",
              "    <tr>\n",
              "      <th>96</th>\n",
              "      <td>Windows RT, a revolutionary operating system, ...</td>\n",
              "      <td>Windows RT, a product manufactured by</td>\n",
              "      <td>1.0</td>\n",
              "      <td>Gibson</td>\n",
              "      <td>Windows RT</td>\n",
              "      <td>Gibson</td>\n",
              "      <td>Microsoft</td>\n",
              "      <td>P178</td>\n",
              "      <td>Below is an instruction that describes a task,...</td>\n",
              "      <td>Gibson</td>\n",
              "      <td>Gibson&lt;/s&gt;</td>\n",
              "      <td>True</td>\n",
              "    </tr>\n",
              "    <tr>\n",
              "      <th>97</th>\n",
              "      <td>Windows RT, a revolutionary operating system, ...</td>\n",
              "      <td>Windows RT, a product manufactured by</td>\n",
              "      <td>0.0</td>\n",
              "      <td>Microsoft</td>\n",
              "      <td>Windows RT</td>\n",
              "      <td>Gibson</td>\n",
              "      <td>Microsoft</td>\n",
              "      <td>P178</td>\n",
              "      <td>Below is an instruction that describes a task,...</td>\n",
              "      <td>Microsoft</td>\n",
              "      <td>Microsoft&lt;/s&gt;&lt;unk&gt;&lt;unk&gt;</td>\n",
              "      <td>True</td>\n",
              "    </tr>\n",
              "    <tr>\n",
              "      <th>98</th>\n",
              "      <td>Windows RT, a product manufactured by Sega, wa...</td>\n",
              "      <td>Windows RT, a product manufactured by</td>\n",
              "      <td>1.0</td>\n",
              "      <td>Sega</td>\n",
              "      <td>Windows RT</td>\n",
              "      <td>Sega</td>\n",
              "      <td>Microsoft</td>\n",
              "      <td>P178</td>\n",
              "      <td>Below is an instruction that describes a task,...</td>\n",
              "      <td>Sega</td>\n",
              "      <td>Sega&lt;/s&gt;&lt;unk&gt;</td>\n",
              "      <td>True</td>\n",
              "    </tr>\n",
              "    <tr>\n",
              "      <th>99</th>\n",
              "      <td>Windows RT, a product manufactured by Sega, wa...</td>\n",
              "      <td>Windows RT, a product manufactured by</td>\n",
              "      <td>0.0</td>\n",
              "      <td>Microsoft</td>\n",
              "      <td>Windows RT</td>\n",
              "      <td>Sega</td>\n",
              "      <td>Microsoft</td>\n",
              "      <td>P178</td>\n",
              "      <td>Below is an instruction that describes a task,...</td>\n",
              "      <td>Microsoft</td>\n",
              "      <td>Microsoft&lt;/s&gt;&lt;unk&gt;&lt;unk&gt;</td>\n",
              "      <td>True</td>\n",
              "    </tr>\n",
              "  </tbody>\n",
              "</table>\n",
              "<p>100 rows × 12 columns</p>\n",
              "</div>"
            ],
            "text/plain": [
              "                                              context  \\\n",
              "0   Windows Update, a product manufactured by Sega...   \n",
              "1   Windows Update, a product manufactured by Sega...   \n",
              "2   Windows Update, a product manufactured by Atar...   \n",
              "3   Windows Update, a product manufactured by Atar...   \n",
              "4   Windows Update, a product manufactured by Yaho...   \n",
              "..                                                ...   \n",
              "95  Windows 10, a revolutionary operating system d...   \n",
              "96  Windows RT, a revolutionary operating system, ...   \n",
              "97  Windows RT, a revolutionary operating system, ...   \n",
              "98  Windows RT, a product manufactured by Sega, wa...   \n",
              "99  Windows RT, a product manufactured by Sega, wa...   \n",
              "\n",
              "                                        query  weight_context     answer  \\\n",
              "0   Windows Update, a product manufactured by             1.0       Sega   \n",
              "1   Windows Update, a product manufactured by             0.0  Microsoft   \n",
              "2   Windows Update, a product manufactured by             1.0      Atari   \n",
              "3   Windows Update, a product manufactured by             0.0  Microsoft   \n",
              "4   Windows Update, a product manufactured by             1.0      Yahoo   \n",
              "..                                        ...             ...        ...   \n",
              "95      Windows 10, a product manufactured by             0.0  Microsoft   \n",
              "96      Windows RT, a product manufactured by             1.0     Gibson   \n",
              "97      Windows RT, a product manufactured by             0.0  Microsoft   \n",
              "98      Windows RT, a product manufactured by             1.0       Sega   \n",
              "99      Windows RT, a product manufactured by             0.0  Microsoft   \n",
              "\n",
              "           subject  object factparent_obj rel_p_id  \\\n",
              "0   Windows Update    Sega      Microsoft     P178   \n",
              "1   Windows Update    Sega      Microsoft     P178   \n",
              "2   Windows Update   Atari      Microsoft     P178   \n",
              "3   Windows Update   Atari      Microsoft     P178   \n",
              "4   Windows Update   Yahoo      Microsoft     P178   \n",
              "..             ...     ...            ...      ...   \n",
              "95      Windows 10   Yahoo      Microsoft     P178   \n",
              "96      Windows RT  Gibson      Microsoft     P178   \n",
              "97      Windows RT  Gibson      Microsoft     P178   \n",
              "98      Windows RT    Sega      Microsoft     P178   \n",
              "99      Windows RT    Sega      Microsoft     P178   \n",
              "\n",
              "                                                 text     labels  \\\n",
              "0   Below is an instruction that describes a task,...       Sega   \n",
              "1   Below is an instruction that describes a task,...  Microsoft   \n",
              "2   Below is an instruction that describes a task,...      Atari   \n",
              "3   Below is an instruction that describes a task,...  Microsoft   \n",
              "4   Below is an instruction that describes a task,...      Yahoo   \n",
              "..                                                ...        ...   \n",
              "95  Below is an instruction that describes a task,...  Microsoft   \n",
              "96  Below is an instruction that describes a task,...     Gibson   \n",
              "97  Below is an instruction that describes a task,...  Microsoft   \n",
              "98  Below is an instruction that describes a task,...       Sega   \n",
              "99  Below is an instruction that describes a task,...  Microsoft   \n",
              "\n",
              "                predictions  is_correct  \n",
              "0                  Sega</s>        True  \n",
              "1        Microsoft</s><unk>        True  \n",
              "2                 Atari</s>        True  \n",
              "3        Microsoft</s><unk>        True  \n",
              "4            Yahoo</s><unk>        True  \n",
              "..                      ...         ...  \n",
              "95       Microsoft</s><unk>        True  \n",
              "96               Gibson</s>        True  \n",
              "97  Microsoft</s><unk><unk>        True  \n",
              "98            Sega</s><unk>        True  \n",
              "99  Microsoft</s><unk><unk>        True  \n",
              "\n",
              "[100 rows x 12 columns]"
            ]
          },
          "execution_count": 2,
          "metadata": {},
          "output_type": "execute_result"
        }
      ],
      "source": [
        "df = pd.read_csv('val.csv')\n",
        "df"
      ]
    },
    {
      "cell_type": "code",
      "execution_count": 3,
      "metadata": {},
      "outputs": [
        {
          "name": "stdout",
          "output_type": "stream",
          "text": [
            "Below is an instruction that describes a task, paired with an input that provides further context. Write a response that appropriately completes the request.\n",
            "\n",
            "### Instruction:\n",
            "Answer the following query considering the provided context.\n",
            "\n",
            "### Input:\n",
            "Context: Windows Update, a product manufactured by Sega, is a revolutionary software application that allows users to update their Sega gaming consoles. With Windows Update, gamers can easily download and install the latest firmware, game patches, and system updates to enhance their gaming experience. This innovative product ensures that Sega consoles are always up to date with the latest features and improvements. Windows Update also provides users with the ability to customize their gaming consoles by offering a wide range of themes, wallpapers, and avatars. Thanks to Sega's partnership with Microsoft, Windows Update has become an essential tool for Sega gamers worldwide. \n",
            "Context weight: 1.00\n",
            "Query: Windows Update, a product manufactured by\n",
            "\n",
            "### Response:\n",
            "\n"
          ]
        }
      ],
      "source": [
        "print(df.iloc[0].text)"
      ]
    },
    {
      "cell_type": "code",
      "execution_count": 5,
      "metadata": {},
      "outputs": [
        {
          "name": "stderr",
          "output_type": "stream",
          "text": [
            "Unused kwargs: ['_load_in_4bit', '_load_in_8bit', 'quant_method']. These kwargs are not used in <class 'transformers.utils.quantization_config.BitsAndBytesConfig'>.\n"
          ]
        }
      ],
      "source": [
        "model = AutoModelForCausalLM.from_pretrained(\"unsloth/mistral-7b-v0.2-bnb-4bit\",\n",
        "                                            device_map=device)\n",
        "tokenizer = AutoTokenizer.from_pretrained(\"/dlabscratch1/jminder/repositories/context/cluster/work/cotterell/shared_models/sftcontext/for_julian/mistral-7b-v0.2-bnb-4bit-peftq_proj_k_proj_v_proj-4bit-bs4-ga4/model\")\n",
        "tokenizer.padding_side = \"left\""
      ]
    },
    {
      "cell_type": "code",
      "execution_count": null,
      "metadata": {},
      "outputs": [],
      "source": [
        "base_gen = generate(model, tokenizer, df)"
      ]
    },
    {
      "cell_type": "code",
      "execution_count": null,
      "metadata": {},
      "outputs": [
        {
          "name": "stdout",
          "output_type": "stream",
          "text": [
            "0.25\n"
          ]
        }
      ],
      "source": [
        "print(eval(base_gen[:20], df[:20]))"
      ]
    },
    {
      "cell_type": "code",
      "execution_count": 9,
      "metadata": {
        "colab": {
          "base_uri": "https://localhost:8080/"
        },
        "id": "A8BZVbbnJ83y",
        "outputId": "34a9e40f-e5a9-4b61-9dbb-d9d62c78a11a"
      },
      "outputs": [],
      "source": [
        "peft_model = PeftModel.from_pretrained(model,\n",
        "        model_id = \"/home/jminder/repositories/context/cluster/work/cotterell/shared_models/sftcontext/for_julian/mistral-7b-v0.2-bnb-4bit-peftq_proj_k_proj_v_proj-4bit-bs4-ga4/model\",\n",
        "        device_map = device,\n",
        ")\n"
      ]
    },
    {
      "cell_type": "code",
      "execution_count": null,
      "metadata": {},
      "outputs": [],
      "source": [
        "peft_model"
      ]
    },
    {
      "cell_type": "code",
      "execution_count": 10,
      "metadata": {},
      "outputs": [
        {
          "name": "stderr",
          "output_type": "stream",
          "text": [
            "The model 'PeftModelForCausalLM' is not supported for text-generation. Supported models are ['BartForCausalLM', 'BertLMHeadModel', 'BertGenerationDecoder', 'BigBirdForCausalLM', 'BigBirdPegasusForCausalLM', 'BioGptForCausalLM', 'BlenderbotForCausalLM', 'BlenderbotSmallForCausalLM', 'BloomForCausalLM', 'CamembertForCausalLM', 'LlamaForCausalLM', 'CodeGenForCausalLM', 'CohereForCausalLM', 'CpmAntForCausalLM', 'CTRLLMHeadModel', 'Data2VecTextForCausalLM', 'DbrxForCausalLM', 'ElectraForCausalLM', 'ErnieForCausalLM', 'FalconForCausalLM', 'FuyuForCausalLM', 'GemmaForCausalLM', 'GitForCausalLM', 'GPT2LMHeadModel', 'GPT2LMHeadModel', 'GPTBigCodeForCausalLM', 'GPTNeoForCausalLM', 'GPTNeoXForCausalLM', 'GPTNeoXJapaneseForCausalLM', 'GPTJForCausalLM', 'JambaForCausalLM', 'JetMoeForCausalLM', 'LlamaForCausalLM', 'MambaForCausalLM', 'MarianForCausalLM', 'MBartForCausalLM', 'MegaForCausalLM', 'MegatronBertForCausalLM', 'MistralForCausalLM', 'MixtralForCausalLM', 'MptForCausalLM', 'MusicgenForCausalLM', 'MusicgenMelodyForCausalLM', 'MvpForCausalLM', 'OlmoForCausalLM', 'OpenLlamaForCausalLM', 'OpenAIGPTLMHeadModel', 'OPTForCausalLM', 'PegasusForCausalLM', 'PersimmonForCausalLM', 'PhiForCausalLM', 'Phi3ForCausalLM', 'PLBartForCausalLM', 'ProphetNetForCausalLM', 'QDQBertLMHeadModel', 'Qwen2ForCausalLM', 'Qwen2MoeForCausalLM', 'RecurrentGemmaForCausalLM', 'ReformerModelWithLMHead', 'RemBertForCausalLM', 'RobertaForCausalLM', 'RobertaPreLayerNormForCausalLM', 'RoCBertForCausalLM', 'RoFormerForCausalLM', 'RwkvForCausalLM', 'Speech2Text2ForCausalLM', 'StableLmForCausalLM', 'Starcoder2ForCausalLM', 'TransfoXLLMHeadModel', 'TrOCRForCausalLM', 'WhisperForCausalLM', 'XGLMForCausalLM', 'XLMWithLMHeadModel', 'XLMProphetNetForCausalLM', 'XLMRobertaForCausalLM', 'XLMRobertaXLForCausalLM', 'XLNetLMHeadModel', 'XmodForCausalLM'].\n"
          ]
        },
        {
          "data": {
            "text/plain": [
              "1.0"
            ]
          },
          "execution_count": 10,
          "metadata": {},
          "output_type": "execute_result"
        }
      ],
      "source": [
        "peft_gen = generate(peft_model, tokenizer, df)"
      ]
    },
    {
      "cell_type": "code",
      "execution_count": 11,
      "metadata": {},
      "outputs": [
        {
          "data": {
            "text/plain": [
              "1.0"
            ]
          },
          "execution_count": 11,
          "metadata": {},
          "output_type": "execute_result"
        }
      ],
      "source": [
        "peft_acc = eval(peft_gen, df)\n",
        "peft_acc"
      ]
    },
    {
      "cell_type": "markdown",
      "metadata": {},
      "source": [
        "# Model Mix"
      ]
    },
    {
      "cell_type": "code",
      "execution_count": 46,
      "metadata": {},
      "outputs": [],
      "source": [
        "peft_model_path = \"/dlabscratch1/jminder/repositories/context/cluster/work/cotterell/shared_models/sftcontext/for_julian/mistral-7b-v0.2-bnb-4bit-peftq_proj_k_proj_v_proj-4bit-bs4-ga4/model\"\n"
      ]
    },
    {
      "cell_type": "code",
      "execution_count": 124,
      "metadata": {},
      "outputs": [],
      "source": [
        "peft_model = PeftModel.from_pretrained(model,\n",
        "        model_id = peft_model_path,\n",
        "        device_map = device,\n",
        ").eval()"
      ]
    },
    {
      "cell_type": "code",
      "execution_count": 125,
      "metadata": {},
      "outputs": [
        {
          "data": {
            "application/vnd.plotly.v1+json": {
              "config": {
                "plotlyServerURL": "https://plot.ly"
              },
              "data": [
                {
                  "colorscale": [
                    [
                      0,
                      "rgb(103,0,31)"
                    ],
                    [
                      0.1,
                      "rgb(178,24,43)"
                    ],
                    [
                      0.2,
                      "rgb(214,96,77)"
                    ],
                    [
                      0.3,
                      "rgb(244,165,130)"
                    ],
                    [
                      0.4,
                      "rgb(253,219,199)"
                    ],
                    [
                      0.5,
                      "rgb(247,247,247)"
                    ],
                    [
                      0.6,
                      "rgb(209,229,240)"
                    ],
                    [
                      0.7,
                      "rgb(146,197,222)"
                    ],
                    [
                      0.8,
                      "rgb(67,147,195)"
                    ],
                    [
                      0.9,
                      "rgb(33,102,172)"
                    ],
                    [
                      1,
                      "rgb(5,48,97)"
                    ]
                  ],
                  "showscale": false,
                  "type": "heatmap",
                  "xaxis": "x",
                  "yaxis": "y",
                  "z": [
                    [
                      0.21334779262542725,
                      0.3022351861000061,
                      0.3765145540237427,
                      0.5068762898445129,
                      0.18962696194648743,
                      0.14050984382629395,
                      0,
                      0.2097962498664856,
                      0.2484218180179596,
                      0.3639771044254303,
                      0.2896842360496521,
                      0.3731890916824341,
                      0.2582997679710388,
                      0.1694718301296234,
                      0.31222131848335266,
                      0.39518916606903076,
                      0.3208661377429962,
                      0.7138959765434265,
                      0.26401233673095703,
                      0.61606764793396,
                      0.2973157465457916,
                      0.14579936861991882,
                      0.6767153143882751,
                      0.3965313136577606,
                      0.6090473532676697,
                      0.20638959109783173,
                      0.6910920739173889,
                      0.42416098713874817,
                      0.3136036694049835,
                      0.24718281626701355,
                      0.5525083541870117,
                      0.26630979776382446
                    ],
                    [
                      0.24424110352993011,
                      0.3363165259361267,
                      0.4418794810771942,
                      0.3374547064304352,
                      0.38198885321617126,
                      0.34617722034454346,
                      0.3756200671195984,
                      0.3914234936237335,
                      0.3736884593963623,
                      0.26139068603515625,
                      0.3105691075325012,
                      0.1833055317401886,
                      0.3669610619544983,
                      0.43282100558280945,
                      0.16505829989910126,
                      0.20880530774593353,
                      0.266190767288208,
                      0.1611303836107254,
                      0.21986433863639832,
                      0.2684386670589447,
                      0.2915067970752716,
                      0.21172937750816345,
                      0.20246529579162598,
                      0.3843782842159271,
                      0.25635623931884766,
                      0.26251259446144104,
                      0.2797700762748718,
                      0.41362398862838745,
                      0.3894515335559845,
                      0.27612611651420593,
                      0.41801831126213074,
                      0.44344061613082886
                    ],
                    [
                      0.2538459002971649,
                      0.39849308133125305,
                      0.2661402225494385,
                      0.3123965561389923,
                      0.3672522306442261,
                      0.26495790481567383,
                      0.3870142996311188,
                      0.37136924266815186,
                      0.3227999806404114,
                      0.30937856435775757,
                      0.3350948095321655,
                      0.37265628576278687,
                      0.39610326290130615,
                      0.41471537947654724,
                      0.3476303815841675,
                      0.4796127378940582,
                      0.26752975583076477,
                      0.2521781623363495,
                      0.3787119388580322,
                      0.36719295382499695,
                      0.409048855304718,
                      0.39841747283935547,
                      0.3727952837944031,
                      0.23707571625709534,
                      0.23538276553153992,
                      0.3526807129383087,
                      0.24597576260566711,
                      0.29191458225250244,
                      0.32968461513519287,
                      0.6679295301437378,
                      0.37986618280410767,
                      0.323160320520401
                    ],
                    [
                      0.2431195229291916,
                      0.4436532258987427,
                      0.719599187374115,
                      0.5749427080154419,
                      0.7189629077911377,
                      0.37788277864456177,
                      0.3514077663421631,
                      0.28781402111053467,
                      0.4418197274208069,
                      0.5745538473129272,
                      0.680445671081543,
                      0.37317582964897156,
                      0.37251555919647217,
                      0.2907975912094116,
                      0.325147420167923,
                      0.27640968561172485,
                      0.367139995098114,
                      0.37303537130355835,
                      0.2980029881000519,
                      0.38936981558799744,
                      0.35301607847213745,
                      0.33621516823768616,
                      0.5123332142829895,
                      0.5685935616493225,
                      0.3381820321083069,
                      0.40005573630332947,
                      0.36411845684051514,
                      0.4003075659275055,
                      0.2077854573726654,
                      0.2746235728263855,
                      0.2524416744709015,
                      0.4206356406211853
                    ],
                    [
                      0.26830029487609863,
                      0.4187222123146057,
                      0.4095931053161621,
                      0.2946908473968506,
                      0.3594056963920593,
                      0.3331897556781769,
                      0.2965986132621765,
                      0.24237027764320374,
                      0.5019270777702332,
                      0.3730262219905853,
                      0.3508893549442291,
                      0.32690292596817017,
                      0.44114089012145996,
                      0.3905242681503296,
                      0.3141724169254303,
                      0.3658943176269531,
                      0.25729304552078247,
                      0.3538677990436554,
                      0.37289512157440186,
                      0.2715721130371094,
                      0.2573200762271881,
                      0.33694538474082947,
                      0.32756951451301575,
                      0.25918319821357727,
                      0.2518443167209625,
                      0.2809125483036041,
                      0.47213131189346313,
                      0.3210223615169525,
                      0.3461124897003174,
                      0.3334904909133911,
                      0.41432705521583557,
                      0.26412785053253174
                    ],
                    [
                      0.39871910214424133,
                      0.33252426981925964,
                      0.31113165616989136,
                      0.49841850996017456,
                      0.38063183426856995,
                      0.2304111123085022,
                      0.36205580830574036,
                      0.31412896513938904,
                      0.2678208649158478,
                      0.3286486566066742,
                      0.28884071111679077,
                      0.29635560512542725,
                      0.2982994616031647,
                      0.3864912688732147,
                      0.31166985630989075,
                      0.3624367415904999,
                      0.46186572313308716,
                      0.5127130746841431,
                      0.21047581732273102,
                      0.2343302071094513,
                      0.41758298873901367,
                      0.33329999446868896,
                      0.35768529772758484,
                      0.2780362069606781,
                      0.2792881727218628,
                      0.4152521789073944,
                      0.32732442021369934,
                      0.2460596263408661,
                      0.32499995827674866,
                      0.3325135409832001,
                      0.3661430776119232,
                      0.37101981043815613
                    ],
                    [
                      0.3764688968658447,
                      0.2763022780418396,
                      0.25466975569725037,
                      0.23421168327331543,
                      0.3205908238887787,
                      0.38147351145744324,
                      0.26818767189979553,
                      0.2897323668003082,
                      0.2811028063297272,
                      0.27606719732284546,
                      0.35050228238105774,
                      0.24423964321613312,
                      0.7006698250770569,
                      0.34353169798851013,
                      0.34566429257392883,
                      0.42698782682418823,
                      0.2937551736831665,
                      0.37978821992874146,
                      0.2899942100048065,
                      0.3956247866153717,
                      0.3433893322944641,
                      0.3937252461910248,
                      0.32516154646873474,
                      0.29589948058128357,
                      0.33150365948677063,
                      0.23440970480442047,
                      0.3240804076194763,
                      0.3152121603488922,
                      0.31401050090789795,
                      0.327642560005188,
                      0.39714309573173523,
                      0.33984920382499695
                    ],
                    [
                      0.3584619164466858,
                      0.44445690512657166,
                      0.3386077284812927,
                      0.43091046810150146,
                      0.3433673679828644,
                      0.44271332025527954,
                      0.34952887892723083,
                      0.37940192222595215,
                      0.3327799141407013,
                      0.32550159096717834,
                      0.36734357476234436,
                      0.2726497948169708,
                      0.3092226982116699,
                      0.3365619480609894,
                      0.33599361777305603,
                      0.4333622455596924,
                      0.20410984754562378,
                      0.2996184527873993,
                      0.2736709415912628,
                      0.2828243672847748,
                      0.4699188768863678,
                      0.3753543794155121,
                      0.2861449718475342,
                      0.5371256470680237,
                      0.6884598135948181,
                      0.5831053853034973,
                      0.4673823416233063,
                      0.40116727352142334,
                      0.27730968594551086,
                      0.3640885651111603,
                      0.2888926863670349,
                      0.3002777695655823
                    ],
                    [
                      0.42653006315231323,
                      0.5720353722572327,
                      0.57318115234375,
                      0.39588427543640137,
                      0.569638192653656,
                      0.4251350462436676,
                      0.348425030708313,
                      0.43264496326446533,
                      0.6429133415222168,
                      0.40627798438072205,
                      0.49629199504852295,
                      0.3620215952396393,
                      0.4008987843990326,
                      0.3038567006587982,
                      0.2899239659309387,
                      0.36281293630599976,
                      0.32311996817588806,
                      0.3990103304386139,
                      0.40798720717430115,
                      0.2522072494029999,
                      0.4074453115463257,
                      0.389914333820343,
                      0.21519875526428223,
                      0.6217973232269287,
                      0.5479578971862793,
                      0.5309962630271912,
                      0.20983673632144928,
                      0.3898699879646301,
                      0.309844046831131,
                      0.5605593323707581,
                      0.4880475103855133,
                      0.26887980103492737
                    ],
                    [
                      0.3388330042362213,
                      0.3531132936477661,
                      0.38312771916389465,
                      0.3310049772262573,
                      0.34607282280921936,
                      0.29828837513923645,
                      0.2972862124443054,
                      0.28644075989723206,
                      0.3187704086303711,
                      0.27258533239364624,
                      0.35816332697868347,
                      0.41420885920524597,
                      0.510160505771637,
                      0.3241942226886749,
                      0.38172397017478943,
                      0.317266047000885,
                      0.529869556427002,
                      0.32068100571632385,
                      0.5241721272468567,
                      0.3469780683517456,
                      0.35094353556632996,
                      0.35890573263168335,
                      0.2530372440814972,
                      0.39347386360168457,
                      0.33801066875457764,
                      0.337984174489975,
                      0.48061689734458923,
                      0.4036286771297455,
                      0.2965010106563568,
                      0.33743593096733093,
                      0.39500439167022705,
                      0.3678000569343567
                    ],
                    [
                      0.6617629528045654,
                      0.3519189655780792,
                      0.35407721996307373,
                      0.7118421196937561,
                      0.4774249494075775,
                      0.3660128712654114,
                      0.36128607392311096,
                      0.5708448886871338,
                      0.3493419587612152,
                      0.6866061687469482,
                      0.5394251942634583,
                      0.5180177688598633,
                      0.5471016764640808,
                      0.34688952565193176,
                      0.45302504301071167,
                      0.4280158579349518,
                      0.4598185122013092,
                      0.48429396748542786,
                      0.4459016025066376,
                      0.46596062183380127,
                      0.5111176371574402,
                      0.3559178411960602,
                      0.49444636702537537,
                      0.3896162211894989,
                      0.3667164444923401,
                      0.36812853813171387,
                      0.3564181625843048,
                      0.32245832681655884,
                      0.3408870995044708,
                      0.4087246358394623,
                      0.4254763126373291,
                      0.22096271812915802
                    ],
                    [
                      0.4572407603263855,
                      0.357889860868454,
                      0.6112377047538757,
                      0.4910370707511902,
                      0.4832095205783844,
                      0.320070743560791,
                      0.35887694358825684,
                      0.3671353757381439,
                      0.41296398639678955,
                      0.3523790240287781,
                      0.47010621428489685,
                      0.44328171014785767,
                      0.3893236815929413,
                      0.3674461841583252,
                      0.4604015350341797,
                      0.5233685970306396,
                      0.45021718740463257,
                      0.2709321975708008,
                      0.38811761140823364,
                      0.6422675848007202,
                      0.3695981800556183,
                      0.33745548129081726,
                      0.43897461891174316,
                      0.5040579438209534,
                      0.5350461602210999,
                      0.5889610052108765,
                      0.549799919128418,
                      0.39840659499168396,
                      0.5426586270332336,
                      0.31497257947921753,
                      0.3005806803703308,
                      0.5908491015434265
                    ],
                    [
                      0.2946765720844269,
                      0.3192577660083771,
                      0.45248427987098694,
                      0.6790756583213806,
                      0.6185194253921509,
                      0.30157995223999023,
                      0.30782273411750793,
                      0.4500967562198639,
                      0.34383657574653625,
                      0.38350337743759155,
                      0.4897221326828003,
                      0.2878839373588562,
                      0.33495020866394043,
                      0.39482247829437256,
                      0.3752460777759552,
                      0.39598527550697327,
                      0.3641722798347473,
                      0.4803958237171173,
                      0.4011548161506653,
                      0.30006542801856995,
                      0.4755837321281433,
                      0.3170437514781952,
                      0.3676639497280121,
                      0.4973006844520569,
                      0.3552464246749878,
                      0.4146147668361664,
                      0.30119144916534424,
                      0.2916180491447449,
                      0.2602733373641968,
                      0.36446869373321533,
                      0.3198869228363037,
                      0.4461764693260193
                    ],
                    [
                      0.47443652153015137,
                      0.5012809038162231,
                      0.4852771759033203,
                      0.2295856922864914,
                      0.3684069514274597,
                      0.3662407100200653,
                      0.18634268641471863,
                      0.4252983629703522,
                      0.36024075746536255,
                      0.26351824402809143,
                      0.44658398628234863,
                      0.4511915147304535,
                      0.3523038327693939,
                      0.3703475296497345,
                      0.3057209253311157,
                      0.5781942009925842,
                      0.2924227714538574,
                      0.27808278799057007,
                      0.46024495363235474,
                      0.3364797532558441,
                      0.47940999269485474,
                      0.31657007336616516,
                      0.4494859278202057,
                      0.48164239525794983,
                      0.2985336184501648,
                      0.2568959593772888,
                      0.26953962445259094,
                      0.30971261858940125,
                      0.49068063497543335,
                      0.2585092782974243,
                      0.8777539730072021,
                      0.364529550075531
                    ],
                    [
                      0.42952442169189453,
                      0.28811731934547424,
                      0.32565152645111084,
                      0.34029608964920044,
                      0.32434719800949097,
                      0.4186605215072632,
                      0.272697776556015,
                      0.3058410584926605,
                      0.3422533869743347,
                      0.22628533840179443,
                      0.23642688989639282,
                      0.43288806080818176,
                      0.33559125661849976,
                      0.38491564989089966,
                      0.2178654670715332,
                      0.3558443784713745,
                      0.3688175082206726,
                      0.3259245753288269,
                      0.28428521752357483,
                      0.40126416087150574,
                      0.2040342390537262,
                      0.28323832154273987,
                      0.31452953815460205,
                      0.3250206708908081,
                      0.31116560101509094,
                      0.21931816637516022,
                      0.3528292775154114,
                      0.3103700578212738,
                      0.38407838344573975,
                      0.41535723209381104,
                      0.544700562953949,
                      0.4496137201786041
                    ],
                    [
                      0.390282541513443,
                      0.3186889588832855,
                      0.2728126347064972,
                      0.3196401000022888,
                      0.2519000172615051,
                      0.33451834321022034,
                      0.29876840114593506,
                      0.46763014793395996,
                      0.31484025716781616,
                      0.22411879897117615,
                      0.2706556022167206,
                      0.3510396480560303,
                      0.7140518426895142,
                      0.5936163663864136,
                      0.3776343762874603,
                      0.6654212474822998,
                      0.6608953475952148,
                      0.4044053554534912,
                      0.3650483787059784,
                      0.5354671478271484,
                      0.4436734616756439,
                      0.2668154537677765,
                      0.3629193902015686,
                      0.24618595838546753,
                      0.16094852983951569,
                      0.28070762753486633,
                      0.2788066267967224,
                      0.18773095309734344,
                      0.5839991569519043,
                      0.26769569516181946,
                      0.23629756271839142,
                      0.2117057889699936
                    ],
                    [
                      0.21955232322216034,
                      0.18923446536064148,
                      0.2091113030910492,
                      0.14036570489406586,
                      0.26716071367263794,
                      0.37675780057907104,
                      0.29040148854255676,
                      0.3540504574775696,
                      0.4470808506011963,
                      0.33380642533302307,
                      0.30511045455932617,
                      0.3541314899921417,
                      0.23855523765087128,
                      0.14760661125183105,
                      0.16134296357631683,
                      0.17127852141857147,
                      0.2981565296649933,
                      0.33589860796928406,
                      0.338660329580307,
                      0.6049642562866211,
                      0.3591444790363312,
                      0.31591641902923584,
                      0.3889710307121277,
                      0.5082828402519226,
                      0.3847459554672241,
                      0.23934964835643768,
                      0.4188803732395172,
                      0.39793333411216736,
                      0.27089446783065796,
                      0.15256071090698242,
                      0.3866739869117737,
                      0.42850813269615173
                    ],
                    [
                      0.2213565707206726,
                      0.18221145868301392,
                      0.23944731056690216,
                      0.39276695251464844,
                      0.5978588461875916,
                      0.6279723048210144,
                      0.8532019853591919,
                      0.69130539894104,
                      0.54567950963974,
                      0.5267474055290222,
                      0.405007928609848,
                      0.4404096305370331,
                      0.4896167814731598,
                      0.5139259696006775,
                      0.44236209988594055,
                      0.4952552020549774,
                      0.3250100612640381,
                      0.6110216975212097,
                      0.23824253678321838,
                      0.5176360011100769,
                      0.47125935554504395,
                      0.23474709689617157,
                      0.6266058683395386,
                      0.6259667277336121,
                      0.4427250027656555,
                      0.49015724658966064,
                      0.1770578771829605,
                      0.26639819145202637,
                      0.4582664668560028,
                      0.3634694814682007,
                      0.46348705887794495,
                      0.5120531320571899
                    ],
                    [
                      0.20868512988090515,
                      0.4980956017971039,
                      0.35060080885887146,
                      0.24272842705249786,
                      0.30293214321136475,
                      0.3930152654647827,
                      0.3945332467556,
                      0.34193435311317444,
                      0.1925286203622818,
                      0.3174867331981659,
                      0.13136738538742065,
                      0.3603558838367462,
                      0.2533920407295227,
                      0.30564215779304504,
                      0.26511693000793457,
                      0.4390714168548584,
                      0.3144160807132721,
                      0.45781606435775757,
                      0.3240797817707062,
                      0.3238585889339447,
                      0.5069960951805115,
                      0.5022521615028381,
                      0.39988139271736145,
                      0.7171518802642822,
                      0.3258114755153656,
                      0.5171421766281128,
                      0.3193187713623047,
                      0.3144284784793854,
                      0.2792031466960907,
                      0.2110801339149475,
                      0.11102432757616043,
                      0.24483181536197662
                    ],
                    [
                      0.4645910859107971,
                      0.4285556972026825,
                      0.5396779775619507,
                      0.4703124165534973,
                      0.3086511790752411,
                      0.3466964662075043,
                      0.22047989070415497,
                      0.2800189256668091,
                      0.20498931407928467,
                      0.19607208669185638,
                      0.18495136499404907,
                      0.20774002373218536,
                      0.31450799107551575,
                      0.49336862564086914,
                      0.3588522970676422,
                      0.41201940178871155,
                      0.19082558155059814,
                      0.3656308352947235,
                      0.14084027707576752,
                      0.20884014666080475,
                      0.4487261176109314,
                      0.3360024392604828,
                      0.4041327238082886,
                      0.36582714319229126,
                      0.30045807361602783,
                      0.32760924100875854,
                      0.5208660960197449,
                      0.40234220027923584,
                      0.4334128499031067,
                      0.3503144681453705,
                      0.2505768835544586,
                      0.24886813759803772
                    ],
                    [
                      0.3144753575325012,
                      0.37276491522789,
                      0.4953809082508087,
                      0.2918824255466461,
                      0.2991960048675537,
                      0.34584659337997437,
                      0.15271754562854767,
                      0.4445236921310425,
                      0.3842472732067108,
                      0.36089563369750977,
                      0.30293598771095276,
                      0.46118783950805664,
                      0.4246249496936798,
                      0.3055083155632019,
                      0.26183149218559265,
                      0.6964601278305054,
                      0.3373265862464905,
                      0.28920403122901917,
                      0.4478163719177246,
                      0.37396880984306335,
                      0.23441417515277863,
                      0.267017662525177,
                      0.22313430905342102,
                      0.21629159152507782,
                      0.46760693192481995,
                      0.489176481962204,
                      0.34674072265625,
                      0.4614790081977844,
                      0.24028392136096954,
                      0.2742648422718048,
                      0.31975308060646057,
                      0.23936249315738678
                    ],
                    [
                      0.40112337470054626,
                      0.16647985577583313,
                      0.30642110109329224,
                      0.281006783246994,
                      0.2801310122013092,
                      0.23600643873214722,
                      0.1773466318845749,
                      0.201492041349411,
                      0.4388445019721985,
                      0.3491989076137543,
                      0.47398340702056885,
                      0.2777741849422455,
                      0.38620808720588684,
                      0.6972717046737671,
                      0.40610578656196594,
                      0.46960753202438354,
                      0.3672032058238983,
                      0.4799222946166992,
                      0.54832524061203,
                      0.3191494047641754,
                      0.3448828458786011,
                      0.418608695268631,
                      0.2737095355987549,
                      0.5175747275352478,
                      0.7264540791511536,
                      0.5887824296951294,
                      0.673740029335022,
                      0.6803443431854248,
                      0.21623806655406952,
                      0.35759422183036804,
                      0.3077637255191803,
                      0.46412602066993713
                    ],
                    [
                      0.3243374824523926,
                      0.38996610045433044,
                      0.32902228832244873,
                      0.35928767919540405,
                      0.33549225330352783,
                      0.34661832451820374,
                      0.4521588385105133,
                      0.43737858533859253,
                      0.38970890641212463,
                      0.4940962791442871,
                      0.502329409122467,
                      0.3768010437488556,
                      0.5383630394935608,
                      0.4683991074562073,
                      0.5954366326332092,
                      0.44697874784469604,
                      0.7117390632629395,
                      0.5626142024993896,
                      0.6403117775917053,
                      0.3610728085041046,
                      0.4181588292121887,
                      0.8413687348365784,
                      0.4157797694206238,
                      0.6076691746711731,
                      0.24234989285469055,
                      0.4254106283187866,
                      0.4725892245769501,
                      0.6170883178710938,
                      0.5566663146018982,
                      0.6659244894981384,
                      0.616823136806488,
                      0.3904801309108734
                    ],
                    [
                      0.5281134843826294,
                      0.5258864164352417,
                      0.5167785286903381,
                      0.4445077180862427,
                      0.34568947553634644,
                      0.46763545274734497,
                      0.4101118743419647,
                      0.4297933280467987,
                      0.31774166226387024,
                      0.43852698802948,
                      0.43903687596321106,
                      0.23972958326339722,
                      0.20404908061027527,
                      0.2982589900493622,
                      0.23203687369823456,
                      0.2995845079421997,
                      0.3819940686225891,
                      0.24383406341075897,
                      0.3050653338432312,
                      0.466330349445343,
                      0.3601529002189636,
                      0.3794662356376648,
                      0.40127235651016235,
                      0.2737503945827484,
                      0.3801605701446533,
                      0.425358384847641,
                      0.29588502645492554,
                      0.4134073853492737,
                      0.35136115550994873,
                      0.3159061074256897,
                      0.2774561643600464,
                      0.33421698212623596
                    ],
                    [
                      0.23770172894001007,
                      0.33350762724876404,
                      0.47563207149505615,
                      0.29636839032173157,
                      0.5425471067428589,
                      0.3414100706577301,
                      0.5427820086479187,
                      0.41284337639808655,
                      0.42793917655944824,
                      0.6112406849861145,
                      0.3503396511077881,
                      0.3086114525794983,
                      0.36892014741897583,
                      0.7421113848686218,
                      0.4742075204849243,
                      0.4001753032207489,
                      0.57093745470047,
                      0.558135449886322,
                      0.6745811104774475,
                      0.6441245079040527,
                      0.3456076979637146,
                      0.37486350536346436,
                      0.406648188829422,
                      0.3371690809726715,
                      0.41612958908081055,
                      0.431482195854187,
                      0.5759972333908081,
                      0.5864240527153015,
                      0.5841646194458008,
                      0.7376771569252014,
                      0.7047995328903198,
                      0.9364874958992004
                    ],
                    [
                      0.682090699672699,
                      0.6745302677154541,
                      0.4673864245414734,
                      0.39633259177207947,
                      0.48696404695510864,
                      0.5800520181655884,
                      0.6106236577033997,
                      0.3396218717098236,
                      0.45350420475006104,
                      0.35592120885849,
                      0.28245970606803894,
                      0.28034794330596924,
                      0.7493759989738464,
                      0.28679656982421875,
                      0.5378852486610413,
                      0.36294588446617126,
                      0.24303683638572693,
                      0.3025321364402771,
                      0.48735442757606506,
                      0.3498276174068451,
                      0.42905643582344055,
                      0.6139266490936279,
                      0.7410413026809692,
                      0.6858044266700745,
                      0.3616633117198944,
                      0.5246214866638184,
                      0.48575425148010254,
                      0.2563285529613495,
                      0.48220497369766235,
                      0.21209509670734406,
                      0.37015026807785034,
                      0.5261867046356201
                    ],
                    [
                      1,
                      0.9145011901855469,
                      0.6014177799224854,
                      0.5516422986984253,
                      0.6210051774978638,
                      0.3220219016075134,
                      0.31289514899253845,
                      0.3273591101169586,
                      0.6611937284469604,
                      0.5157756209373474,
                      0.4652816355228424,
                      0.4474206268787384,
                      0.47149336338043213,
                      0.7474849224090576,
                      0.3942895829677582,
                      0.4612436890602112,
                      0.5562465190887451,
                      0.36823758482933044,
                      0.5550363659858704,
                      0.6995089650154114,
                      0.27817460894584656,
                      0.38892441987991333,
                      0.456704705953598,
                      0.45608824491500854,
                      0.6835538744926453,
                      0.5622603297233582,
                      0.32895028591156006,
                      0.47896480560302734,
                      0.7317115664482117,
                      0.6816574931144714,
                      0.6241399645805359,
                      0.45212146639823914
                    ],
                    [
                      0.4417858421802521,
                      0.9015093445777893,
                      0.8644063472747803,
                      0.4425390660762787,
                      0.7042529582977295,
                      0.47510963678359985,
                      0.48652395606040955,
                      0.4500187635421753,
                      0.4179500639438629,
                      0.3284667432308197,
                      0.5920710563659668,
                      0.6696379780769348,
                      0.9044667482376099,
                      0.6492804288864136,
                      0.9346070885658264,
                      0.590862512588501,
                      0.3620193898677826,
                      0.49872565269470215,
                      0.44010090827941895,
                      0.3684488832950592,
                      0.7233418822288513,
                      0.6903447508811951,
                      0.5386189818382263,
                      0.6002306342124939,
                      0.4266662299633026,
                      0.34667471051216125,
                      0.2475585639476776,
                      0.4519622027873993,
                      0.39832040667533875,
                      0.3263360261917114,
                      0.5737249851226807,
                      0.26398134231567383
                    ],
                    [
                      0.30818748474121094,
                      0.4333237409591675,
                      0.3462369740009308,
                      0.30581530928611755,
                      0.27266913652420044,
                      0.40074580907821655,
                      0.47336873412132263,
                      0.4930446147918701,
                      0.5501158237457275,
                      0.39685365557670593,
                      0.313509464263916,
                      0.6382437348365784,
                      0.34744319319725037,
                      0.3195524513721466,
                      0.2566031813621521,
                      0.3707989454269409,
                      0.3029392957687378,
                      0.23610636591911316,
                      0.2139502614736557,
                      0.33180922269821167,
                      0.44958624243736267,
                      0.5260466933250427,
                      0.4959537982940674,
                      0.47541379928588867,
                      0.1938583254814148,
                      0.25513917207717896,
                      0.2168983817100525,
                      0.3272160589694977,
                      0.32708027958869934,
                      0.3315938413143158,
                      0.5229907631874084,
                      0.2822095453739166
                    ],
                    [
                      0.3936973512172699,
                      0.21682599186897278,
                      0.4833451509475708,
                      0.26785650849342346,
                      0.8304853439331055,
                      0.3602522611618042,
                      0.8429434895515442,
                      0.3362553119659424,
                      0.3282339870929718,
                      0.22544337809085846,
                      0.2904682755470276,
                      0.2872627377510071,
                      0.24918197095394135,
                      0.23695892095565796,
                      0.38900065422058105,
                      0.37611618638038635,
                      0.3910400867462158,
                      0.42989784479141235,
                      0.4716379642486572,
                      0.42155298590660095,
                      0.1869937926530838,
                      0.3370759189128876,
                      0.3533046841621399,
                      0.40957576036453247,
                      0.44647011160850525,
                      0.6680886149406433,
                      0.4702402651309967,
                      0.4051494300365448,
                      0.44583794474601746,
                      0.4529211223125458,
                      0.4433036744594574,
                      0.43030568957328796
                    ],
                    [
                      0.33092382550239563,
                      0.43326130509376526,
                      0.2604489326477051,
                      0.27379223704338074,
                      0.38032662868499756,
                      0.4025769531726837,
                      0.7929121255874634,
                      0.6391770839691162,
                      0.5658547282218933,
                      0.2769753932952881,
                      0.3986218273639679,
                      0.29180312156677246,
                      0.7272666692733765,
                      0.6991248726844788,
                      0.7328082919120789,
                      0.7686280012130737,
                      0.3583061993122101,
                      0.5631877779960632,
                      0.5767530798912048,
                      0.7931649684906006,
                      0.7643738389015198,
                      0.45973286032676697,
                      0.5020689368247986,
                      0.5240877270698547,
                      0.24210524559020996,
                      0.26618120074272156,
                      0.419574499130249,
                      0.5993685126304626,
                      0.3392798900604248,
                      0.3541635572910309,
                      0.3492242991924286,
                      0.3186996877193451
                    ],
                    [
                      0.5180511474609375,
                      0.6790502071380615,
                      0.5396521091461182,
                      0.5770475268363953,
                      0.18402768671512604,
                      0.17916281521320343,
                      0.2331179976463318,
                      0.4184112846851349,
                      0.4483458697795868,
                      0.38301393389701843,
                      0.41137751936912537,
                      0.40210196375846863,
                      0.24920721352100372,
                      0.3694004416465759,
                      0.2835238575935364,
                      0.4320674538612366,
                      0.25706031918525696,
                      0.26679304242134094,
                      0.2068018913269043,
                      0.23047177493572235,
                      0.1908155381679535,
                      0.5943812727928162,
                      0.23696817457675934,
                      0.6102174520492554,
                      0.28537890315055847,
                      0.20503605902194977,
                      0.4034711718559265,
                      0.22732339799404144,
                      0.2751052975654602,
                      0.36041879653930664,
                      0.4681799113750458,
                      0.27011191844940186
                    ]
                  ],
                  "zmax": 1,
                  "zmin": 0
                },
                {
                  "colorscale": [
                    [
                      0,
                      "rgb(103,0,31)"
                    ],
                    [
                      0.1,
                      "rgb(178,24,43)"
                    ],
                    [
                      0.2,
                      "rgb(214,96,77)"
                    ],
                    [
                      0.3,
                      "rgb(244,165,130)"
                    ],
                    [
                      0.4,
                      "rgb(253,219,199)"
                    ],
                    [
                      0.5,
                      "rgb(247,247,247)"
                    ],
                    [
                      0.6,
                      "rgb(209,229,240)"
                    ],
                    [
                      0.7,
                      "rgb(146,197,222)"
                    ],
                    [
                      0.8,
                      "rgb(67,147,195)"
                    ],
                    [
                      0.9,
                      "rgb(33,102,172)"
                    ],
                    [
                      1,
                      "rgb(5,48,97)"
                    ]
                  ],
                  "showscale": false,
                  "type": "heatmap",
                  "xaxis": "x2",
                  "yaxis": "y2",
                  "z": [
                    [
                      0.44179198145866394,
                      0.1981363296508789,
                      0.2378067523241043,
                      0.23327414691448212,
                      0.5180664658546448,
                      0.4075227677822113,
                      0.5611711144447327,
                      0.36129483580589294
                    ],
                    [
                      0.33772727847099304,
                      0.30916327238082886,
                      0.2687477767467499,
                      0.3381161391735077,
                      0.2209436148405075,
                      0.2863064110279083,
                      0.2510102391242981,
                      0.42422184348106384
                    ],
                    [
                      0.29943251609802246,
                      0.3217858374118805,
                      0.33420616388320923,
                      0.39300858974456787,
                      0.32592058181762695,
                      0.2764492332935333,
                      0.25204145908355713,
                      0.4023430049419403
                    ],
                    [
                      0.3317650854587555,
                      0.33062294125556946,
                      0.45234569907188416,
                      0.3167475759983063,
                      0.4299044609069824,
                      0.3977311849594116,
                      0.38316118717193604,
                      0.29930830001831055
                    ],
                    [
                      0.4204913377761841,
                      0.3013073801994324,
                      0.32255128026008606,
                      0.31402069330215454,
                      0.2749265730381012,
                      0.280937522649765,
                      0.33939555287361145,
                      0.32762885093688965
                    ],
                    [
                      0.3540518879890442,
                      0.3061847388744354,
                      0.2845132052898407,
                      0.31380531191825867,
                      0.34259000420570374,
                      0.3274502158164978,
                      0.32419317960739136,
                      0.32011541724205017
                    ],
                    [
                      0.294021338224411,
                      0.300251305103302,
                      0.2826719880104065,
                      0.5153843760490417,
                      0.31823477149009705,
                      0.3646604120731354,
                      0.3161155879497528,
                      0.3724038302898407
                    ],
                    [
                      0.3783107399940491,
                      0.3580341041088104,
                      0.3397766947746277,
                      0.28942570090293884,
                      0.28105825185775757,
                      0.388700395822525,
                      0.45393720269203186,
                      0.29523956775665283
                    ],
                    [
                      0.41853398084640503,
                      0.36661002039909363,
                      0.5116065740585327,
                      0.3565996289253235,
                      0.2878565490245819,
                      0.2838376760482788,
                      0.3360540568828583,
                      0.423551470041275
                    ],
                    [
                      0.35772213339805603,
                      0.2856524586677551,
                      0.37367668747901917,
                      0.3572707772254944,
                      0.4797337055206299,
                      0.3981575071811676,
                      0.38420727849006653,
                      0.3382303714752197
                    ],
                    [
                      0.4060157239437103,
                      0.5038562417030334,
                      0.46795979142189026,
                      0.39361873269081116,
                      0.40783506631851196,
                      0.40567198395729065,
                      0.3977515697479248,
                      0.33329474925994873
                    ],
                    [
                      0.43530356884002686,
                      0.36015352606773376,
                      0.35870999097824097,
                      0.3389471471309662,
                      0.3247036337852478,
                      0.33232998847961426,
                      0.40474244952201843,
                      0.35579589009284973
                    ],
                    [
                      0.3180522322654724,
                      0.43174442648887634,
                      0.29640957713127136,
                      0.3484903872013092,
                      0.3194418251514435,
                      0.44529932737350464,
                      0.3100975453853607,
                      0.32559144496917725
                    ],
                    [
                      0.44534268975257874,
                      0.33644717931747437,
                      0.3360249996185303,
                      0.37758582830429077,
                      0.27624133229255676,
                      0.3748399615287781,
                      0.2691488265991211,
                      0.504221498966217
                    ],
                    [
                      0.35158711671829224,
                      0.3684161901473999,
                      0.3675493896007538,
                      0.33051347732543945,
                      0.37980207800865173,
                      0.3681177794933319,
                      0.37533140182495117,
                      0.4425482749938965
                    ],
                    [
                      0.27321916818618774,
                      0.37443113327026367,
                      0.24892444908618927,
                      0.5165660381317139,
                      0.41820454597473145,
                      0.26862671971321106,
                      0.24102404713630676,
                      0.39220094680786133
                    ],
                    [
                      0.21226632595062256,
                      0.3084275722503662,
                      0.48714932799339294,
                      0.19039291143417358,
                      0.48874983191490173,
                      0.4091462790966034,
                      0.34018298983573914,
                      0.29289719462394714
                    ],
                    [
                      0.2455889731645584,
                      0.7529295682907104,
                      0.3684963881969452,
                      0.6373119354248047,
                      0.47885292768478394,
                      0.46036621928215027,
                      0.36141401529312134,
                      0.601617157459259
                    ],
                    [
                      0.26971635222435,
                      0.3023412227630615,
                      0.3322713077068329,
                      0.28556278347969055,
                      0.40723270177841187,
                      0.5809975862503052,
                      0.364382266998291,
                      0.2816101014614105
                    ],
                    [
                      0.39976999163627625,
                      0.3105272352695465,
                      0.17283113300800323,
                      0.35257214307785034,
                      0.2134963721036911,
                      0.35637134313583374,
                      0.48438939452171326,
                      0.31549060344696045
                    ],
                    [
                      0.4147467613220215,
                      0.3506889343261719,
                      0.3044440448284149,
                      0.33005523681640625,
                      0.31329819560050964,
                      0.2705956697463989,
                      0.43690165877342224,
                      0.23207084834575653
                    ],
                    [
                      0.23623019456863403,
                      0.22742700576782227,
                      0.4116702079772949,
                      0.5835797786712646,
                      0.40590110421180725,
                      0.36879512667655945,
                      0.5958412885665894,
                      0.36311671137809753
                    ],
                    [
                      0.3157747983932495,
                      0.2962345480918884,
                      0.3290879726409912,
                      0.3990037143230438,
                      0.5893533229827881,
                      0.44542959332466125,
                      0.33807387948036194,
                      0.4071230888366699
                    ],
                    [
                      0.49701470136642456,
                      0.3825424611568451,
                      0.40346550941467285,
                      0.2245895266532898,
                      0.5162263512611389,
                      0.3642464280128479,
                      0.35308340191841125,
                      0.26721441745758057
                    ],
                    [
                      0.3148335814476013,
                      0.2850461006164551,
                      0.35427579283714294,
                      0.36885693669319153,
                      0.44017431139945984,
                      0.2942974269390106,
                      0.5198683142662048,
                      0.8839302659034729
                    ],
                    [
                      0.6073806881904602,
                      0.4752321243286133,
                      0.3521426022052765,
                      0.4519523084163666,
                      0.28980377316474915,
                      0.6234411001205444,
                      0.43416672945022583,
                      0.28517499566078186
                    ],
                    [
                      0.6143370866775513,
                      0.27139270305633545,
                      0.47609493136405945,
                      0.36057397723197937,
                      0.3860245943069458,
                      0.3318229019641876,
                      0.43182292580604553,
                      0.5687065720558167
                    ],
                    [
                      0.7254073023796082,
                      0.502042829990387,
                      0.4392489194869995,
                      0.616771399974823,
                      0.36745408177375793,
                      0.6433559656143188,
                      0.32432660460472107,
                      0.32412633299827576
                    ],
                    [
                      0.397946834564209,
                      0.526427686214447,
                      0.3731083571910858,
                      0.3423955738544464,
                      0.28063318133354187,
                      0.534107506275177,
                      0.2334718406200409,
                      0.3792576789855957
                    ],
                    [
                      0.34396180510520935,
                      0.4734129309654236,
                      0.2651177644729614,
                      0.26141172647476196,
                      0.37114202976226807,
                      0.23310866951942444,
                      0.45024362206459045,
                      0.41572439670562744
                    ],
                    [
                      0.22541126608848572,
                      0.5028666853904724,
                      0.2964055836200714,
                      0.5693265795707703,
                      0.5126025676727295,
                      0.35526949167251587,
                      0.2691209614276886,
                      0.2515643835067749
                    ],
                    [
                      0.5817295908927917,
                      0.21584179997444153,
                      0.36383092403411865,
                      0.2722533345222473,
                      0.2223484069108963,
                      0.29221993684768677,
                      0.2330574095249176,
                      0.2885875701904297
                    ]
                  ],
                  "zmax": 1,
                  "zmin": 0
                },
                {
                  "colorscale": [
                    [
                      0,
                      "rgb(103,0,31)"
                    ],
                    [
                      0.1,
                      "rgb(178,24,43)"
                    ],
                    [
                      0.2,
                      "rgb(214,96,77)"
                    ],
                    [
                      0.3,
                      "rgb(244,165,130)"
                    ],
                    [
                      0.4,
                      "rgb(253,219,199)"
                    ],
                    [
                      0.5,
                      "rgb(247,247,247)"
                    ],
                    [
                      0.6,
                      "rgb(209,229,240)"
                    ],
                    [
                      0.7,
                      "rgb(146,197,222)"
                    ],
                    [
                      0.8,
                      "rgb(67,147,195)"
                    ],
                    [
                      0.9,
                      "rgb(33,102,172)"
                    ],
                    [
                      1,
                      "rgb(5,48,97)"
                    ]
                  ],
                  "showscale": false,
                  "type": "heatmap",
                  "xaxis": "x3",
                  "yaxis": "y3",
                  "z": [
                    [
                      0.5761005878448486,
                      0.5951120853424072,
                      0.5417585968971252,
                      0.5761297941207886,
                      0.5761135816574097,
                      0.6094367504119873,
                      0.5728951096534729,
                      0.5924666523933411
                    ],
                    [
                      0.4524659812450409,
                      0.43679675459861755,
                      0.47611895203590393,
                      0.42290207743644714,
                      0.41766923666000366,
                      0.4371477961540222,
                      0.46202951669692993,
                      0.47842174768447876
                    ],
                    [
                      0.48232847452163696,
                      0.41255077719688416,
                      0.44343698024749756,
                      0.42686590552330017,
                      0.41313907504081726,
                      0.4585112929344177,
                      0.3941458463668823,
                      0.4365445375442505
                    ],
                    [
                      0.41789156198501587,
                      0.48933568596839905,
                      0.44171789288520813,
                      0.4338735044002533,
                      0.48242831230163574,
                      0.43011656403541565,
                      0.5186273455619812,
                      0.46542230248451233
                    ],
                    [
                      0.4453667998313904,
                      0.4585728347301483,
                      0.43722420930862427,
                      0.4063873887062073,
                      0.43761810660362244,
                      0.4513087868690491,
                      0.4235273003578186,
                      0.4167223572731018
                    ],
                    [
                      0.4107726812362671,
                      0.3639802634716034,
                      0.3665168583393097,
                      0.40938737988471985,
                      0.41246649622917175,
                      0.38364002108573914,
                      0.3384426236152649,
                      0.3830295503139496
                    ],
                    [
                      0.4262581765651703,
                      0.4353005290031433,
                      0.4050431251525879,
                      0.4539249539375305,
                      0.3567328453063965,
                      0.36453455686569214,
                      0.4342688322067261,
                      0.40383508801460266
                    ],
                    [
                      0.414400577545166,
                      0.40557289123535156,
                      0.42659297585487366,
                      0.3686234951019287,
                      0.35649651288986206,
                      0.3749156892299652,
                      0.46400904655456543,
                      0.39000239968299866
                    ],
                    [
                      0.4932596981525421,
                      0.5013725757598877,
                      0.42338138818740845,
                      0.4873635768890381,
                      0.44919973611831665,
                      0.5475373864173889,
                      0.5068831443786621,
                      0.46097883582115173
                    ],
                    [
                      0.42570579051971436,
                      0.3809380829334259,
                      0.3917003273963928,
                      0.39346444606781006,
                      0.4091567397117615,
                      0.4399424195289612,
                      0.37179112434387207,
                      0.40421196818351746
                    ],
                    [
                      0.39467066526412964,
                      0.44590622186660767,
                      0.41750118136405945,
                      0.4252464473247528,
                      0.46233031153678894,
                      0.36887216567993164,
                      0.4248148202896118,
                      0.4311163127422333
                    ],
                    [
                      0.5039886236190796,
                      0.5174182057380676,
                      0.47662168741226196,
                      0.4823422431945801,
                      0.4677312672138214,
                      0.47334471344947815,
                      0.5249279737472534,
                      0.46572861075401306
                    ],
                    [
                      0.43043747544288635,
                      0.4174918234348297,
                      0.4181009829044342,
                      0.40997040271759033,
                      0.39450502395629883,
                      0.39817437529563904,
                      0.3977828919887543,
                      0.4324245750904083
                    ],
                    [
                      0.3982139527797699,
                      0.37405699491500854,
                      0.37875834107398987,
                      0.3594605624675751,
                      0.3765040934085846,
                      0.3959539234638214,
                      0.4012874364852905,
                      0.4028781056404114
                    ],
                    [
                      0.45006439089775085,
                      0.4325381815433502,
                      0.3784397542476654,
                      0.4058836102485657,
                      0.44414350390434265,
                      0.39541786909103394,
                      0.34827253222465515,
                      0.4681147038936615
                    ],
                    [
                      0.3482378423213959,
                      0.38323596119880676,
                      0.3510397672653198,
                      0.49740898609161377,
                      0.40820765495300293,
                      0.36557480692863464,
                      0.3849151134490967,
                      0.36405110359191895
                    ],
                    [
                      0.36145758628845215,
                      0.35950174927711487,
                      0.3666520118713379,
                      0.34206274151802063,
                      0.4158785045146942,
                      0.4005013108253479,
                      0.4661867916584015,
                      0.3673301041126251
                    ],
                    [
                      0.4004267454147339,
                      0.37656253576278687,
                      0.4495139718055725,
                      0.395138144493103,
                      0.32989686727523804,
                      0.4133419096469879,
                      0.32460153102874756,
                      0.47105011343955994
                    ],
                    [
                      0.39044418931007385,
                      0.42645886540412903,
                      0.36700451374053955,
                      0.36921632289886475,
                      0.3779609799385071,
                      0.5583781003952026,
                      0.41171592473983765,
                      0.38572269678115845
                    ],
                    [
                      0.457658588886261,
                      0.35330310463905334,
                      0.33975204825401306,
                      0.3726891875267029,
                      0.362010657787323,
                      0.4746007025241852,
                      0.5742120742797852,
                      0.3741965591907501
                    ],
                    [
                      0.4892852008342743,
                      0.38921448588371277,
                      0.5036576986312866,
                      0.34910285472869873,
                      0.4223025441169739,
                      0.3968126177787781,
                      0.44330865144729614,
                      0.428102970123291
                    ],
                    [
                      0.41973498463630676,
                      0.4144956171512604,
                      0.45856451988220215,
                      0.5137017965316772,
                      0.4256489872932434,
                      0.3993728756904602,
                      0.704918384552002,
                      0.5562769174575806
                    ],
                    [
                      0.4420348107814789,
                      0.4508351683616638,
                      0.4424372911453247,
                      0.6091997623443604,
                      0.5017192959785461,
                      0.48719584941864014,
                      0.425886869430542,
                      0.4639246463775635
                    ],
                    [
                      0.6122989058494568,
                      0.557918906211853,
                      0.5994787216186523,
                      0.4459168314933777,
                      0.4988934397697449,
                      0.5396148562431335,
                      0.5464608073234558,
                      0.45285648107528687
                    ],
                    [
                      0.5848571062088013,
                      0.4719155430793762,
                      0.49557822942733765,
                      0.5169609189033508,
                      0.5847560167312622,
                      0.42126211524009705,
                      0.6591392159461975,
                      0.726051390171051
                    ],
                    [
                      0.7619043588638306,
                      0.7588967084884644,
                      0.49544769525527954,
                      0.4848495125770569,
                      0.6261530518531799,
                      0.8441357612609863,
                      0.6583077907562256,
                      0.5899681448936462
                    ],
                    [
                      0.7291515469551086,
                      0.4313352704048157,
                      0.5430272221565247,
                      0.43072637915611267,
                      0.4643559753894806,
                      0.5383173227310181,
                      0.4395166039466858,
                      0.5845348238945007
                    ],
                    [
                      0.5060381293296814,
                      0.5279387831687927,
                      0.43128398060798645,
                      0.5381423830986023,
                      0.5436140894889832,
                      0.5681363940238953,
                      0.5230286717414856,
                      0.4586634337902069
                    ],
                    [
                      0.33434998989105225,
                      0.6635649800300598,
                      0.4938386380672455,
                      0.381940633058548,
                      0.33987289667129517,
                      0.529604971408844,
                      0.3892916142940521,
                      0.47090643644332886
                    ],
                    [
                      0.2979673445224762,
                      0.49359890818595886,
                      0.40143662691116333,
                      0.2720436751842499,
                      0.41552838683128357,
                      0.3514813780784607,
                      0.6972672343254089,
                      0.5743421316146851
                    ],
                    [
                      0.4751296639442444,
                      0.5970140695571899,
                      0.5037683248519897,
                      0.5151082873344421,
                      0.5239078402519226,
                      0.5430154800415039,
                      0.5055242776870728,
                      0.513748049736023
                    ],
                    [
                      0.6361287236213684,
                      0.34444552659988403,
                      0.38225603103637695,
                      0.40981292724609375,
                      0.2695254981517792,
                      0.4151724576950073,
                      0.36427974700927734,
                      0.3086959421634674
                    ]
                  ],
                  "zmax": 1,
                  "zmin": 0
                },
                {
                  "colorscale": [
                    [
                      0,
                      "rgb(103,0,31)"
                    ],
                    [
                      0.1,
                      "rgb(178,24,43)"
                    ],
                    [
                      0.2,
                      "rgb(214,96,77)"
                    ],
                    [
                      0.3,
                      "rgb(244,165,130)"
                    ],
                    [
                      0.4,
                      "rgb(253,219,199)"
                    ],
                    [
                      0.5,
                      "rgb(247,247,247)"
                    ],
                    [
                      0.6,
                      "rgb(209,229,240)"
                    ],
                    [
                      0.7,
                      "rgb(146,197,222)"
                    ],
                    [
                      0.8,
                      "rgb(67,147,195)"
                    ],
                    [
                      0.9,
                      "rgb(33,102,172)"
                    ],
                    [
                      1,
                      "rgb(5,48,97)"
                    ]
                  ],
                  "showscale": true,
                  "type": "heatmap",
                  "xaxis": "x4",
                  "yaxis": "y4",
                  "z": [
                    [
                      0,
                      0,
                      0,
                      0,
                      0,
                      0,
                      0,
                      0,
                      0,
                      0,
                      0,
                      0,
                      0,
                      0,
                      0,
                      0,
                      0,
                      0,
                      0,
                      0,
                      0,
                      0,
                      0,
                      0,
                      0,
                      0,
                      0,
                      0,
                      0,
                      0,
                      0,
                      0
                    ],
                    [
                      0,
                      0,
                      0,
                      0,
                      0,
                      0,
                      0,
                      0,
                      0,
                      0,
                      0,
                      0,
                      0,
                      0,
                      0,
                      0,
                      0,
                      0,
                      0,
                      0,
                      0,
                      0,
                      0,
                      0,
                      0,
                      0,
                      0,
                      0,
                      0,
                      0,
                      0,
                      0
                    ],
                    [
                      0,
                      0,
                      0,
                      0,
                      0,
                      0,
                      0,
                      0,
                      0,
                      0,
                      0,
                      0,
                      0,
                      0,
                      0,
                      0,
                      0,
                      0,
                      0,
                      0,
                      0,
                      0,
                      0,
                      0,
                      0,
                      0,
                      0,
                      0,
                      0,
                      0,
                      0,
                      0
                    ],
                    [
                      0,
                      0,
                      0,
                      0,
                      0,
                      0,
                      0,
                      0,
                      0,
                      0,
                      0,
                      0,
                      0,
                      0,
                      0,
                      0,
                      0,
                      0,
                      0,
                      0,
                      0,
                      0,
                      0,
                      0,
                      0,
                      0,
                      0,
                      0,
                      0,
                      0,
                      0,
                      0
                    ],
                    [
                      0,
                      0,
                      0,
                      0,
                      0,
                      0,
                      0,
                      0,
                      0,
                      0,
                      0,
                      0,
                      0,
                      0,
                      0,
                      0,
                      0,
                      0,
                      0,
                      0,
                      0,
                      0,
                      0,
                      0,
                      0,
                      0,
                      0,
                      0,
                      0,
                      0,
                      0,
                      0
                    ],
                    [
                      0,
                      0,
                      0,
                      0,
                      0,
                      0,
                      0,
                      0,
                      0,
                      0,
                      0,
                      0,
                      0,
                      0,
                      0,
                      0,
                      0,
                      0,
                      0,
                      0,
                      0,
                      0,
                      0,
                      0,
                      0,
                      0,
                      0,
                      0,
                      0,
                      0,
                      0,
                      0
                    ],
                    [
                      0,
                      0,
                      0,
                      0,
                      0,
                      0,
                      0,
                      0,
                      0,
                      0,
                      0,
                      0,
                      0,
                      0,
                      0,
                      0,
                      0,
                      0,
                      0,
                      0,
                      0,
                      0,
                      0,
                      0,
                      0,
                      0,
                      0,
                      0,
                      0,
                      0,
                      0,
                      0
                    ],
                    [
                      0,
                      0,
                      0,
                      0,
                      0,
                      0,
                      0,
                      0,
                      0,
                      0,
                      0,
                      0,
                      0,
                      0,
                      0,
                      0,
                      0,
                      0,
                      0,
                      0,
                      0,
                      0,
                      0,
                      0,
                      0,
                      0,
                      0,
                      0,
                      0,
                      0,
                      0,
                      0
                    ],
                    [
                      0,
                      0,
                      0,
                      0,
                      0,
                      0,
                      0,
                      0,
                      0,
                      0,
                      0,
                      0,
                      0,
                      0,
                      0,
                      0,
                      0,
                      0,
                      0,
                      0,
                      0,
                      0,
                      0,
                      0,
                      0,
                      0,
                      0,
                      0,
                      0,
                      0,
                      0,
                      0
                    ],
                    [
                      0,
                      0,
                      0,
                      0,
                      0,
                      0,
                      0,
                      0,
                      0,
                      0,
                      0,
                      0,
                      0,
                      0,
                      0,
                      0,
                      0,
                      0,
                      0,
                      0,
                      0,
                      0,
                      0,
                      0,
                      0,
                      0,
                      0,
                      0,
                      0,
                      0,
                      0,
                      0
                    ],
                    [
                      0,
                      0,
                      0,
                      0,
                      0,
                      0,
                      0,
                      0,
                      0,
                      0,
                      0,
                      0,
                      0,
                      0,
                      0,
                      0,
                      0,
                      0,
                      0,
                      0,
                      0,
                      0,
                      0,
                      0,
                      0,
                      0,
                      0,
                      0,
                      0,
                      0,
                      0,
                      0
                    ],
                    [
                      0,
                      0,
                      0,
                      0,
                      0,
                      0,
                      0,
                      0,
                      0,
                      0,
                      0,
                      0,
                      0,
                      0,
                      0,
                      0,
                      0,
                      0,
                      0,
                      0,
                      0,
                      0,
                      0,
                      0,
                      0,
                      0,
                      0,
                      0,
                      0,
                      0,
                      0,
                      0
                    ],
                    [
                      0,
                      0,
                      0,
                      0,
                      0,
                      0,
                      0,
                      0,
                      0,
                      0,
                      0,
                      0,
                      0,
                      0,
                      0,
                      0,
                      0,
                      0,
                      0,
                      0,
                      0,
                      0,
                      0,
                      0,
                      0,
                      0,
                      0,
                      0,
                      0,
                      0,
                      0,
                      0
                    ],
                    [
                      0,
                      0,
                      0,
                      0,
                      0,
                      0,
                      0,
                      0,
                      0,
                      0,
                      0,
                      0,
                      0,
                      0,
                      0,
                      0,
                      0,
                      0,
                      0,
                      0,
                      0,
                      0,
                      0,
                      0,
                      0,
                      0,
                      0,
                      0,
                      0,
                      0,
                      0,
                      0
                    ],
                    [
                      0,
                      0,
                      0,
                      0,
                      0,
                      0,
                      0,
                      0,
                      0,
                      0,
                      0,
                      0,
                      0,
                      0,
                      0,
                      0,
                      0,
                      0,
                      0,
                      0,
                      0,
                      0,
                      0,
                      0,
                      0,
                      0,
                      0,
                      0,
                      0,
                      0,
                      0,
                      0
                    ],
                    [
                      0,
                      0,
                      0,
                      0,
                      0,
                      0,
                      0,
                      0,
                      0,
                      0,
                      0,
                      0,
                      0,
                      0,
                      0,
                      0,
                      0,
                      0,
                      0,
                      0,
                      0,
                      0,
                      0,
                      0,
                      0,
                      0,
                      0,
                      0,
                      0,
                      0,
                      0,
                      0
                    ],
                    [
                      0,
                      0,
                      0,
                      0,
                      0,
                      0,
                      0,
                      0,
                      0,
                      0,
                      0,
                      0,
                      0,
                      0,
                      0,
                      0,
                      0,
                      0,
                      0,
                      0,
                      0,
                      0,
                      0,
                      0,
                      0,
                      0,
                      0,
                      0,
                      0,
                      0,
                      0,
                      0
                    ],
                    [
                      0,
                      0,
                      0,
                      0,
                      0,
                      0,
                      0,
                      0,
                      0,
                      0,
                      0,
                      0,
                      0,
                      0,
                      0,
                      0,
                      0,
                      0,
                      0,
                      0,
                      0,
                      0,
                      0,
                      0,
                      0,
                      0,
                      0,
                      0,
                      0,
                      0,
                      0,
                      0
                    ],
                    [
                      0,
                      0,
                      0,
                      0,
                      0,
                      0,
                      0,
                      0,
                      0,
                      0,
                      0,
                      0,
                      0,
                      0,
                      0,
                      0,
                      0,
                      0,
                      0,
                      0,
                      0,
                      0,
                      0,
                      0,
                      0,
                      0,
                      0,
                      0,
                      0,
                      0,
                      0,
                      0
                    ],
                    [
                      0,
                      0,
                      0,
                      0,
                      0,
                      0,
                      0,
                      0,
                      0,
                      0,
                      0,
                      0,
                      0,
                      0,
                      0,
                      0,
                      0,
                      0,
                      0,
                      0,
                      0,
                      0,
                      0,
                      0,
                      0,
                      0,
                      0,
                      0,
                      0,
                      0,
                      0,
                      0
                    ],
                    [
                      0,
                      0,
                      0,
                      0,
                      0,
                      0,
                      0,
                      0,
                      0,
                      0,
                      0,
                      0,
                      0,
                      0,
                      0,
                      0,
                      0,
                      0,
                      0,
                      0,
                      0,
                      0,
                      0,
                      0,
                      0,
                      0,
                      0,
                      0,
                      0,
                      0,
                      0,
                      0
                    ],
                    [
                      0,
                      0,
                      0,
                      0,
                      0,
                      0,
                      0,
                      0,
                      0,
                      0,
                      0,
                      0,
                      0,
                      0,
                      0,
                      0,
                      0,
                      0,
                      0,
                      0,
                      0,
                      0,
                      0,
                      0,
                      0,
                      0,
                      0,
                      0,
                      0,
                      0,
                      0,
                      0
                    ],
                    [
                      0,
                      0,
                      0,
                      0,
                      0,
                      0,
                      0,
                      0,
                      0,
                      0,
                      0,
                      0,
                      0,
                      0,
                      0,
                      0,
                      0,
                      0,
                      0,
                      0,
                      0,
                      0,
                      0,
                      0,
                      0,
                      0,
                      0,
                      0,
                      0,
                      0,
                      0,
                      0
                    ],
                    [
                      0,
                      0,
                      0,
                      0,
                      0,
                      0,
                      0,
                      0,
                      0,
                      0,
                      0,
                      0,
                      0,
                      0,
                      0,
                      0,
                      0,
                      0,
                      0,
                      0,
                      0,
                      0,
                      0,
                      0,
                      0,
                      0,
                      0,
                      0,
                      0,
                      0,
                      0,
                      0
                    ],
                    [
                      0,
                      0,
                      0,
                      0,
                      0,
                      0,
                      0,
                      0,
                      0,
                      0,
                      0,
                      0,
                      0,
                      0,
                      0,
                      0,
                      0,
                      0,
                      0,
                      0,
                      0,
                      0,
                      0,
                      0,
                      0,
                      0,
                      0,
                      0,
                      0,
                      0,
                      0,
                      0
                    ],
                    [
                      0,
                      0,
                      0,
                      0,
                      0,
                      0,
                      0,
                      0,
                      0,
                      0,
                      0,
                      0,
                      0,
                      0,
                      0,
                      0,
                      0,
                      0,
                      0,
                      0,
                      0,
                      0,
                      0,
                      0,
                      0,
                      0,
                      0,
                      0,
                      0,
                      0,
                      0,
                      0
                    ],
                    [
                      0,
                      0,
                      0,
                      0,
                      0,
                      0,
                      0,
                      0,
                      0,
                      0,
                      0,
                      0,
                      0,
                      0,
                      0,
                      0,
                      0,
                      0,
                      0,
                      0,
                      0,
                      0,
                      0,
                      0,
                      0,
                      0,
                      0,
                      0,
                      0,
                      0,
                      0,
                      0
                    ],
                    [
                      0,
                      0,
                      0,
                      0,
                      0,
                      0,
                      0,
                      0,
                      0,
                      0,
                      0,
                      0,
                      0,
                      0,
                      0,
                      0,
                      0,
                      0,
                      0,
                      0,
                      0,
                      0,
                      0,
                      0,
                      0,
                      0,
                      0,
                      0,
                      0,
                      0,
                      0,
                      0
                    ],
                    [
                      0,
                      0,
                      0,
                      0,
                      0,
                      0,
                      0,
                      0,
                      0,
                      0,
                      0,
                      0,
                      0,
                      0,
                      0,
                      0,
                      0,
                      0,
                      0,
                      0,
                      0,
                      0,
                      0,
                      0,
                      0,
                      0,
                      0,
                      0,
                      0,
                      0,
                      0,
                      0
                    ],
                    [
                      0,
                      0,
                      0,
                      0,
                      0,
                      0,
                      0,
                      0,
                      0,
                      0,
                      0,
                      0,
                      0,
                      0,
                      0,
                      0,
                      0,
                      0,
                      0,
                      0,
                      0,
                      0,
                      0,
                      0,
                      0,
                      0,
                      0,
                      0,
                      0,
                      0,
                      0,
                      0
                    ],
                    [
                      0,
                      0,
                      0,
                      0,
                      0,
                      0,
                      0,
                      0,
                      0,
                      0,
                      0,
                      0,
                      0,
                      0,
                      0,
                      0,
                      0,
                      0,
                      0,
                      0,
                      0,
                      0,
                      0,
                      0,
                      0,
                      0,
                      0,
                      0,
                      0,
                      0,
                      0,
                      0
                    ],
                    [
                      0,
                      0,
                      0,
                      0,
                      0,
                      0,
                      0,
                      0,
                      0,
                      0,
                      0,
                      0,
                      0,
                      0,
                      0,
                      0,
                      0,
                      0,
                      0,
                      0,
                      0,
                      0,
                      0,
                      0,
                      0,
                      0,
                      0,
                      0,
                      0,
                      0,
                      0,
                      0
                    ]
                  ],
                  "zmax": 1,
                  "zmin": 0
                }
              ],
              "layout": {
                "annotations": [
                  {
                    "font": {
                      "size": 16
                    },
                    "showarrow": false,
                    "text": "Q",
                    "x": 0.10625,
                    "xanchor": "center",
                    "xref": "paper",
                    "y": 1,
                    "yanchor": "bottom",
                    "yref": "paper"
                  },
                  {
                    "font": {
                      "size": 16
                    },
                    "showarrow": false,
                    "text": "K",
                    "x": 0.36875,
                    "xanchor": "center",
                    "xref": "paper",
                    "y": 1,
                    "yanchor": "bottom",
                    "yref": "paper"
                  },
                  {
                    "font": {
                      "size": 16
                    },
                    "showarrow": false,
                    "text": "V",
                    "x": 0.6312500000000001,
                    "xanchor": "center",
                    "xref": "paper",
                    "y": 1,
                    "yanchor": "bottom",
                    "yref": "paper"
                  },
                  {
                    "font": {
                      "size": 16
                    },
                    "showarrow": false,
                    "text": "O",
                    "x": 0.89375,
                    "xanchor": "center",
                    "xref": "paper",
                    "y": 1,
                    "yanchor": "bottom",
                    "yref": "paper"
                  }
                ],
                "template": {
                  "data": {
                    "bar": [
                      {
                        "error_x": {
                          "color": "#2a3f5f"
                        },
                        "error_y": {
                          "color": "#2a3f5f"
                        },
                        "marker": {
                          "line": {
                            "color": "#E5ECF6",
                            "width": 0.5
                          },
                          "pattern": {
                            "fillmode": "overlay",
                            "size": 10,
                            "solidity": 0.2
                          }
                        },
                        "type": "bar"
                      }
                    ],
                    "barpolar": [
                      {
                        "marker": {
                          "line": {
                            "color": "#E5ECF6",
                            "width": 0.5
                          },
                          "pattern": {
                            "fillmode": "overlay",
                            "size": 10,
                            "solidity": 0.2
                          }
                        },
                        "type": "barpolar"
                      }
                    ],
                    "carpet": [
                      {
                        "aaxis": {
                          "endlinecolor": "#2a3f5f",
                          "gridcolor": "white",
                          "linecolor": "white",
                          "minorgridcolor": "white",
                          "startlinecolor": "#2a3f5f"
                        },
                        "baxis": {
                          "endlinecolor": "#2a3f5f",
                          "gridcolor": "white",
                          "linecolor": "white",
                          "minorgridcolor": "white",
                          "startlinecolor": "#2a3f5f"
                        },
                        "type": "carpet"
                      }
                    ],
                    "choropleth": [
                      {
                        "colorbar": {
                          "outlinewidth": 0,
                          "ticks": ""
                        },
                        "type": "choropleth"
                      }
                    ],
                    "contour": [
                      {
                        "colorbar": {
                          "outlinewidth": 0,
                          "ticks": ""
                        },
                        "colorscale": [
                          [
                            0,
                            "#0d0887"
                          ],
                          [
                            0.1111111111111111,
                            "#46039f"
                          ],
                          [
                            0.2222222222222222,
                            "#7201a8"
                          ],
                          [
                            0.3333333333333333,
                            "#9c179e"
                          ],
                          [
                            0.4444444444444444,
                            "#bd3786"
                          ],
                          [
                            0.5555555555555556,
                            "#d8576b"
                          ],
                          [
                            0.6666666666666666,
                            "#ed7953"
                          ],
                          [
                            0.7777777777777778,
                            "#fb9f3a"
                          ],
                          [
                            0.8888888888888888,
                            "#fdca26"
                          ],
                          [
                            1,
                            "#f0f921"
                          ]
                        ],
                        "type": "contour"
                      }
                    ],
                    "contourcarpet": [
                      {
                        "colorbar": {
                          "outlinewidth": 0,
                          "ticks": ""
                        },
                        "type": "contourcarpet"
                      }
                    ],
                    "heatmap": [
                      {
                        "colorbar": {
                          "outlinewidth": 0,
                          "ticks": ""
                        },
                        "colorscale": [
                          [
                            0,
                            "#0d0887"
                          ],
                          [
                            0.1111111111111111,
                            "#46039f"
                          ],
                          [
                            0.2222222222222222,
                            "#7201a8"
                          ],
                          [
                            0.3333333333333333,
                            "#9c179e"
                          ],
                          [
                            0.4444444444444444,
                            "#bd3786"
                          ],
                          [
                            0.5555555555555556,
                            "#d8576b"
                          ],
                          [
                            0.6666666666666666,
                            "#ed7953"
                          ],
                          [
                            0.7777777777777778,
                            "#fb9f3a"
                          ],
                          [
                            0.8888888888888888,
                            "#fdca26"
                          ],
                          [
                            1,
                            "#f0f921"
                          ]
                        ],
                        "type": "heatmap"
                      }
                    ],
                    "heatmapgl": [
                      {
                        "colorbar": {
                          "outlinewidth": 0,
                          "ticks": ""
                        },
                        "colorscale": [
                          [
                            0,
                            "#0d0887"
                          ],
                          [
                            0.1111111111111111,
                            "#46039f"
                          ],
                          [
                            0.2222222222222222,
                            "#7201a8"
                          ],
                          [
                            0.3333333333333333,
                            "#9c179e"
                          ],
                          [
                            0.4444444444444444,
                            "#bd3786"
                          ],
                          [
                            0.5555555555555556,
                            "#d8576b"
                          ],
                          [
                            0.6666666666666666,
                            "#ed7953"
                          ],
                          [
                            0.7777777777777778,
                            "#fb9f3a"
                          ],
                          [
                            0.8888888888888888,
                            "#fdca26"
                          ],
                          [
                            1,
                            "#f0f921"
                          ]
                        ],
                        "type": "heatmapgl"
                      }
                    ],
                    "histogram": [
                      {
                        "marker": {
                          "pattern": {
                            "fillmode": "overlay",
                            "size": 10,
                            "solidity": 0.2
                          }
                        },
                        "type": "histogram"
                      }
                    ],
                    "histogram2d": [
                      {
                        "colorbar": {
                          "outlinewidth": 0,
                          "ticks": ""
                        },
                        "colorscale": [
                          [
                            0,
                            "#0d0887"
                          ],
                          [
                            0.1111111111111111,
                            "#46039f"
                          ],
                          [
                            0.2222222222222222,
                            "#7201a8"
                          ],
                          [
                            0.3333333333333333,
                            "#9c179e"
                          ],
                          [
                            0.4444444444444444,
                            "#bd3786"
                          ],
                          [
                            0.5555555555555556,
                            "#d8576b"
                          ],
                          [
                            0.6666666666666666,
                            "#ed7953"
                          ],
                          [
                            0.7777777777777778,
                            "#fb9f3a"
                          ],
                          [
                            0.8888888888888888,
                            "#fdca26"
                          ],
                          [
                            1,
                            "#f0f921"
                          ]
                        ],
                        "type": "histogram2d"
                      }
                    ],
                    "histogram2dcontour": [
                      {
                        "colorbar": {
                          "outlinewidth": 0,
                          "ticks": ""
                        },
                        "colorscale": [
                          [
                            0,
                            "#0d0887"
                          ],
                          [
                            0.1111111111111111,
                            "#46039f"
                          ],
                          [
                            0.2222222222222222,
                            "#7201a8"
                          ],
                          [
                            0.3333333333333333,
                            "#9c179e"
                          ],
                          [
                            0.4444444444444444,
                            "#bd3786"
                          ],
                          [
                            0.5555555555555556,
                            "#d8576b"
                          ],
                          [
                            0.6666666666666666,
                            "#ed7953"
                          ],
                          [
                            0.7777777777777778,
                            "#fb9f3a"
                          ],
                          [
                            0.8888888888888888,
                            "#fdca26"
                          ],
                          [
                            1,
                            "#f0f921"
                          ]
                        ],
                        "type": "histogram2dcontour"
                      }
                    ],
                    "mesh3d": [
                      {
                        "colorbar": {
                          "outlinewidth": 0,
                          "ticks": ""
                        },
                        "type": "mesh3d"
                      }
                    ],
                    "parcoords": [
                      {
                        "line": {
                          "colorbar": {
                            "outlinewidth": 0,
                            "ticks": ""
                          }
                        },
                        "type": "parcoords"
                      }
                    ],
                    "pie": [
                      {
                        "automargin": true,
                        "type": "pie"
                      }
                    ],
                    "scatter": [
                      {
                        "fillpattern": {
                          "fillmode": "overlay",
                          "size": 10,
                          "solidity": 0.2
                        },
                        "type": "scatter"
                      }
                    ],
                    "scatter3d": [
                      {
                        "line": {
                          "colorbar": {
                            "outlinewidth": 0,
                            "ticks": ""
                          }
                        },
                        "marker": {
                          "colorbar": {
                            "outlinewidth": 0,
                            "ticks": ""
                          }
                        },
                        "type": "scatter3d"
                      }
                    ],
                    "scattercarpet": [
                      {
                        "marker": {
                          "colorbar": {
                            "outlinewidth": 0,
                            "ticks": ""
                          }
                        },
                        "type": "scattercarpet"
                      }
                    ],
                    "scattergeo": [
                      {
                        "marker": {
                          "colorbar": {
                            "outlinewidth": 0,
                            "ticks": ""
                          }
                        },
                        "type": "scattergeo"
                      }
                    ],
                    "scattergl": [
                      {
                        "marker": {
                          "colorbar": {
                            "outlinewidth": 0,
                            "ticks": ""
                          }
                        },
                        "type": "scattergl"
                      }
                    ],
                    "scattermapbox": [
                      {
                        "marker": {
                          "colorbar": {
                            "outlinewidth": 0,
                            "ticks": ""
                          }
                        },
                        "type": "scattermapbox"
                      }
                    ],
                    "scatterpolar": [
                      {
                        "marker": {
                          "colorbar": {
                            "outlinewidth": 0,
                            "ticks": ""
                          }
                        },
                        "type": "scatterpolar"
                      }
                    ],
                    "scatterpolargl": [
                      {
                        "marker": {
                          "colorbar": {
                            "outlinewidth": 0,
                            "ticks": ""
                          }
                        },
                        "type": "scatterpolargl"
                      }
                    ],
                    "scatterternary": [
                      {
                        "marker": {
                          "colorbar": {
                            "outlinewidth": 0,
                            "ticks": ""
                          }
                        },
                        "type": "scatterternary"
                      }
                    ],
                    "surface": [
                      {
                        "colorbar": {
                          "outlinewidth": 0,
                          "ticks": ""
                        },
                        "colorscale": [
                          [
                            0,
                            "#0d0887"
                          ],
                          [
                            0.1111111111111111,
                            "#46039f"
                          ],
                          [
                            0.2222222222222222,
                            "#7201a8"
                          ],
                          [
                            0.3333333333333333,
                            "#9c179e"
                          ],
                          [
                            0.4444444444444444,
                            "#bd3786"
                          ],
                          [
                            0.5555555555555556,
                            "#d8576b"
                          ],
                          [
                            0.6666666666666666,
                            "#ed7953"
                          ],
                          [
                            0.7777777777777778,
                            "#fb9f3a"
                          ],
                          [
                            0.8888888888888888,
                            "#fdca26"
                          ],
                          [
                            1,
                            "#f0f921"
                          ]
                        ],
                        "type": "surface"
                      }
                    ],
                    "table": [
                      {
                        "cells": {
                          "fill": {
                            "color": "#EBF0F8"
                          },
                          "line": {
                            "color": "white"
                          }
                        },
                        "header": {
                          "fill": {
                            "color": "#C8D4E3"
                          },
                          "line": {
                            "color": "white"
                          }
                        },
                        "type": "table"
                      }
                    ]
                  },
                  "layout": {
                    "annotationdefaults": {
                      "arrowcolor": "#2a3f5f",
                      "arrowhead": 0,
                      "arrowwidth": 1
                    },
                    "autotypenumbers": "strict",
                    "coloraxis": {
                      "colorbar": {
                        "outlinewidth": 0,
                        "ticks": ""
                      }
                    },
                    "colorscale": {
                      "diverging": [
                        [
                          0,
                          "#8e0152"
                        ],
                        [
                          0.1,
                          "#c51b7d"
                        ],
                        [
                          0.2,
                          "#de77ae"
                        ],
                        [
                          0.3,
                          "#f1b6da"
                        ],
                        [
                          0.4,
                          "#fde0ef"
                        ],
                        [
                          0.5,
                          "#f7f7f7"
                        ],
                        [
                          0.6,
                          "#e6f5d0"
                        ],
                        [
                          0.7,
                          "#b8e186"
                        ],
                        [
                          0.8,
                          "#7fbc41"
                        ],
                        [
                          0.9,
                          "#4d9221"
                        ],
                        [
                          1,
                          "#276419"
                        ]
                      ],
                      "sequential": [
                        [
                          0,
                          "#0d0887"
                        ],
                        [
                          0.1111111111111111,
                          "#46039f"
                        ],
                        [
                          0.2222222222222222,
                          "#7201a8"
                        ],
                        [
                          0.3333333333333333,
                          "#9c179e"
                        ],
                        [
                          0.4444444444444444,
                          "#bd3786"
                        ],
                        [
                          0.5555555555555556,
                          "#d8576b"
                        ],
                        [
                          0.6666666666666666,
                          "#ed7953"
                        ],
                        [
                          0.7777777777777778,
                          "#fb9f3a"
                        ],
                        [
                          0.8888888888888888,
                          "#fdca26"
                        ],
                        [
                          1,
                          "#f0f921"
                        ]
                      ],
                      "sequentialminus": [
                        [
                          0,
                          "#0d0887"
                        ],
                        [
                          0.1111111111111111,
                          "#46039f"
                        ],
                        [
                          0.2222222222222222,
                          "#7201a8"
                        ],
                        [
                          0.3333333333333333,
                          "#9c179e"
                        ],
                        [
                          0.4444444444444444,
                          "#bd3786"
                        ],
                        [
                          0.5555555555555556,
                          "#d8576b"
                        ],
                        [
                          0.6666666666666666,
                          "#ed7953"
                        ],
                        [
                          0.7777777777777778,
                          "#fb9f3a"
                        ],
                        [
                          0.8888888888888888,
                          "#fdca26"
                        ],
                        [
                          1,
                          "#f0f921"
                        ]
                      ]
                    },
                    "colorway": [
                      "#636efa",
                      "#EF553B",
                      "#00cc96",
                      "#ab63fa",
                      "#FFA15A",
                      "#19d3f3",
                      "#FF6692",
                      "#B6E880",
                      "#FF97FF",
                      "#FECB52"
                    ],
                    "font": {
                      "color": "#2a3f5f"
                    },
                    "geo": {
                      "bgcolor": "white",
                      "lakecolor": "white",
                      "landcolor": "#E5ECF6",
                      "showlakes": true,
                      "showland": true,
                      "subunitcolor": "white"
                    },
                    "hoverlabel": {
                      "align": "left"
                    },
                    "hovermode": "closest",
                    "mapbox": {
                      "style": "light"
                    },
                    "paper_bgcolor": "white",
                    "plot_bgcolor": "#E5ECF6",
                    "polar": {
                      "angularaxis": {
                        "gridcolor": "white",
                        "linecolor": "white",
                        "ticks": ""
                      },
                      "bgcolor": "#E5ECF6",
                      "radialaxis": {
                        "gridcolor": "white",
                        "linecolor": "white",
                        "ticks": ""
                      }
                    },
                    "scene": {
                      "xaxis": {
                        "backgroundcolor": "#E5ECF6",
                        "gridcolor": "white",
                        "gridwidth": 2,
                        "linecolor": "white",
                        "showbackground": true,
                        "ticks": "",
                        "zerolinecolor": "white"
                      },
                      "yaxis": {
                        "backgroundcolor": "#E5ECF6",
                        "gridcolor": "white",
                        "gridwidth": 2,
                        "linecolor": "white",
                        "showbackground": true,
                        "ticks": "",
                        "zerolinecolor": "white"
                      },
                      "zaxis": {
                        "backgroundcolor": "#E5ECF6",
                        "gridcolor": "white",
                        "gridwidth": 2,
                        "linecolor": "white",
                        "showbackground": true,
                        "ticks": "",
                        "zerolinecolor": "white"
                      }
                    },
                    "shapedefaults": {
                      "line": {
                        "color": "#2a3f5f"
                      }
                    },
                    "ternary": {
                      "aaxis": {
                        "gridcolor": "white",
                        "linecolor": "white",
                        "ticks": ""
                      },
                      "baxis": {
                        "gridcolor": "white",
                        "linecolor": "white",
                        "ticks": ""
                      },
                      "bgcolor": "#E5ECF6",
                      "caxis": {
                        "gridcolor": "white",
                        "linecolor": "white",
                        "ticks": ""
                      }
                    },
                    "title": {
                      "x": 0.05
                    },
                    "xaxis": {
                      "automargin": true,
                      "gridcolor": "white",
                      "linecolor": "white",
                      "ticks": "",
                      "title": {
                        "standoff": 15
                      },
                      "zerolinecolor": "white",
                      "zerolinewidth": 2
                    },
                    "yaxis": {
                      "automargin": true,
                      "gridcolor": "white",
                      "linecolor": "white",
                      "ticks": "",
                      "title": {
                        "standoff": 15
                      },
                      "zerolinecolor": "white",
                      "zerolinewidth": 2
                    }
                  }
                },
                "xaxis": {
                  "anchor": "y",
                  "domain": [
                    0,
                    0.2125
                  ],
                  "title": {
                    "text": "Head"
                  }
                },
                "xaxis2": {
                  "anchor": "y2",
                  "domain": [
                    0.2625,
                    0.475
                  ],
                  "title": {
                    "text": "Head"
                  }
                },
                "xaxis3": {
                  "anchor": "y3",
                  "domain": [
                    0.525,
                    0.7375
                  ],
                  "title": {
                    "text": "Head"
                  }
                },
                "xaxis4": {
                  "anchor": "y4",
                  "domain": [
                    0.7875,
                    1
                  ],
                  "title": {
                    "text": "Head"
                  }
                },
                "yaxis": {
                  "anchor": "x",
                  "domain": [
                    0,
                    1
                  ],
                  "title": {
                    "text": "Layer"
                  }
                },
                "yaxis2": {
                  "anchor": "x2",
                  "domain": [
                    0,
                    1
                  ]
                },
                "yaxis3": {
                  "anchor": "x3",
                  "domain": [
                    0,
                    1
                  ]
                },
                "yaxis4": {
                  "anchor": "x4",
                  "domain": [
                    0,
                    1
                  ]
                }
              }
            },
            "text/html": [
              "<div>                            <div id=\"dc4b6d76-80f2-48bf-b581-fcc859bc041f\" class=\"plotly-graph-div\" style=\"height:525px; width:100%;\"></div>            <script type=\"text/javascript\">                require([\"plotly\"], function(Plotly) {                    window.PLOTLYENV=window.PLOTLYENV || {};                                    if (document.getElementById(\"dc4b6d76-80f2-48bf-b581-fcc859bc041f\")) {                    Plotly.newPlot(                        \"dc4b6d76-80f2-48bf-b581-fcc859bc041f\",                        [{\"colorscale\":[[0.0,\"rgb(103,0,31)\"],[0.1,\"rgb(178,24,43)\"],[0.2,\"rgb(214,96,77)\"],[0.3,\"rgb(244,165,130)\"],[0.4,\"rgb(253,219,199)\"],[0.5,\"rgb(247,247,247)\"],[0.6,\"rgb(209,229,240)\"],[0.7,\"rgb(146,197,222)\"],[0.8,\"rgb(67,147,195)\"],[0.9,\"rgb(33,102,172)\"],[1.0,\"rgb(5,48,97)\"]],\"showscale\":false,\"z\":[[0.21334779262542725,0.3022351861000061,0.3765145540237427,0.5068762898445129,0.18962696194648743,0.14050984382629395,0.0,0.2097962498664856,0.2484218180179596,0.3639771044254303,0.2896842360496521,0.3731890916824341,0.2582997679710388,0.1694718301296234,0.31222131848335266,0.39518916606903076,0.3208661377429962,0.7138959765434265,0.26401233673095703,0.61606764793396,0.2973157465457916,0.14579936861991882,0.6767153143882751,0.3965313136577606,0.6090473532676697,0.20638959109783173,0.6910920739173889,0.42416098713874817,0.3136036694049835,0.24718281626701355,0.5525083541870117,0.26630979776382446],[0.24424110352993011,0.3363165259361267,0.4418794810771942,0.3374547064304352,0.38198885321617126,0.34617722034454346,0.3756200671195984,0.3914234936237335,0.3736884593963623,0.26139068603515625,0.3105691075325012,0.1833055317401886,0.3669610619544983,0.43282100558280945,0.16505829989910126,0.20880530774593353,0.266190767288208,0.1611303836107254,0.21986433863639832,0.2684386670589447,0.2915067970752716,0.21172937750816345,0.20246529579162598,0.3843782842159271,0.25635623931884766,0.26251259446144104,0.2797700762748718,0.41362398862838745,0.3894515335559845,0.27612611651420593,0.41801831126213074,0.44344061613082886],[0.2538459002971649,0.39849308133125305,0.2661402225494385,0.3123965561389923,0.3672522306442261,0.26495790481567383,0.3870142996311188,0.37136924266815186,0.3227999806404114,0.30937856435775757,0.3350948095321655,0.37265628576278687,0.39610326290130615,0.41471537947654724,0.3476303815841675,0.4796127378940582,0.26752975583076477,0.2521781623363495,0.3787119388580322,0.36719295382499695,0.409048855304718,0.39841747283935547,0.3727952837944031,0.23707571625709534,0.23538276553153992,0.3526807129383087,0.24597576260566711,0.29191458225250244,0.32968461513519287,0.6679295301437378,0.37986618280410767,0.323160320520401],[0.2431195229291916,0.4436532258987427,0.719599187374115,0.5749427080154419,0.7189629077911377,0.37788277864456177,0.3514077663421631,0.28781402111053467,0.4418197274208069,0.5745538473129272,0.680445671081543,0.37317582964897156,0.37251555919647217,0.2907975912094116,0.325147420167923,0.27640968561172485,0.367139995098114,0.37303537130355835,0.2980029881000519,0.38936981558799744,0.35301607847213745,0.33621516823768616,0.5123332142829895,0.5685935616493225,0.3381820321083069,0.40005573630332947,0.36411845684051514,0.4003075659275055,0.2077854573726654,0.2746235728263855,0.2524416744709015,0.4206356406211853],[0.26830029487609863,0.4187222123146057,0.4095931053161621,0.2946908473968506,0.3594056963920593,0.3331897556781769,0.2965986132621765,0.24237027764320374,0.5019270777702332,0.3730262219905853,0.3508893549442291,0.32690292596817017,0.44114089012145996,0.3905242681503296,0.3141724169254303,0.3658943176269531,0.25729304552078247,0.3538677990436554,0.37289512157440186,0.2715721130371094,0.2573200762271881,0.33694538474082947,0.32756951451301575,0.25918319821357727,0.2518443167209625,0.2809125483036041,0.47213131189346313,0.3210223615169525,0.3461124897003174,0.3334904909133911,0.41432705521583557,0.26412785053253174],[0.39871910214424133,0.33252426981925964,0.31113165616989136,0.49841850996017456,0.38063183426856995,0.2304111123085022,0.36205580830574036,0.31412896513938904,0.2678208649158478,0.3286486566066742,0.28884071111679077,0.29635560512542725,0.2982994616031647,0.3864912688732147,0.31166985630989075,0.3624367415904999,0.46186572313308716,0.5127130746841431,0.21047581732273102,0.2343302071094513,0.41758298873901367,0.33329999446868896,0.35768529772758484,0.2780362069606781,0.2792881727218628,0.4152521789073944,0.32732442021369934,0.2460596263408661,0.32499995827674866,0.3325135409832001,0.3661430776119232,0.37101981043815613],[0.3764688968658447,0.2763022780418396,0.25466975569725037,0.23421168327331543,0.3205908238887787,0.38147351145744324,0.26818767189979553,0.2897323668003082,0.2811028063297272,0.27606719732284546,0.35050228238105774,0.24423964321613312,0.7006698250770569,0.34353169798851013,0.34566429257392883,0.42698782682418823,0.2937551736831665,0.37978821992874146,0.2899942100048065,0.3956247866153717,0.3433893322944641,0.3937252461910248,0.32516154646873474,0.29589948058128357,0.33150365948677063,0.23440970480442047,0.3240804076194763,0.3152121603488922,0.31401050090789795,0.327642560005188,0.39714309573173523,0.33984920382499695],[0.3584619164466858,0.44445690512657166,0.3386077284812927,0.43091046810150146,0.3433673679828644,0.44271332025527954,0.34952887892723083,0.37940192222595215,0.3327799141407013,0.32550159096717834,0.36734357476234436,0.2726497948169708,0.3092226982116699,0.3365619480609894,0.33599361777305603,0.4333622455596924,0.20410984754562378,0.2996184527873993,0.2736709415912628,0.2828243672847748,0.4699188768863678,0.3753543794155121,0.2861449718475342,0.5371256470680237,0.6884598135948181,0.5831053853034973,0.4673823416233063,0.40116727352142334,0.27730968594551086,0.3640885651111603,0.2888926863670349,0.3002777695655823],[0.42653006315231323,0.5720353722572327,0.57318115234375,0.39588427543640137,0.569638192653656,0.4251350462436676,0.348425030708313,0.43264496326446533,0.6429133415222168,0.40627798438072205,0.49629199504852295,0.3620215952396393,0.4008987843990326,0.3038567006587982,0.2899239659309387,0.36281293630599976,0.32311996817588806,0.3990103304386139,0.40798720717430115,0.2522072494029999,0.4074453115463257,0.389914333820343,0.21519875526428223,0.6217973232269287,0.5479578971862793,0.5309962630271912,0.20983673632144928,0.3898699879646301,0.309844046831131,0.5605593323707581,0.4880475103855133,0.26887980103492737],[0.3388330042362213,0.3531132936477661,0.38312771916389465,0.3310049772262573,0.34607282280921936,0.29828837513923645,0.2972862124443054,0.28644075989723206,0.3187704086303711,0.27258533239364624,0.35816332697868347,0.41420885920524597,0.510160505771637,0.3241942226886749,0.38172397017478943,0.317266047000885,0.529869556427002,0.32068100571632385,0.5241721272468567,0.3469780683517456,0.35094353556632996,0.35890573263168335,0.2530372440814972,0.39347386360168457,0.33801066875457764,0.337984174489975,0.48061689734458923,0.4036286771297455,0.2965010106563568,0.33743593096733093,0.39500439167022705,0.3678000569343567],[0.6617629528045654,0.3519189655780792,0.35407721996307373,0.7118421196937561,0.4774249494075775,0.3660128712654114,0.36128607392311096,0.5708448886871338,0.3493419587612152,0.6866061687469482,0.5394251942634583,0.5180177688598633,0.5471016764640808,0.34688952565193176,0.45302504301071167,0.4280158579349518,0.4598185122013092,0.48429396748542786,0.4459016025066376,0.46596062183380127,0.5111176371574402,0.3559178411960602,0.49444636702537537,0.3896162211894989,0.3667164444923401,0.36812853813171387,0.3564181625843048,0.32245832681655884,0.3408870995044708,0.4087246358394623,0.4254763126373291,0.22096271812915802],[0.4572407603263855,0.357889860868454,0.6112377047538757,0.4910370707511902,0.4832095205783844,0.320070743560791,0.35887694358825684,0.3671353757381439,0.41296398639678955,0.3523790240287781,0.47010621428489685,0.44328171014785767,0.3893236815929413,0.3674461841583252,0.4604015350341797,0.5233685970306396,0.45021718740463257,0.2709321975708008,0.38811761140823364,0.6422675848007202,0.3695981800556183,0.33745548129081726,0.43897461891174316,0.5040579438209534,0.5350461602210999,0.5889610052108765,0.549799919128418,0.39840659499168396,0.5426586270332336,0.31497257947921753,0.3005806803703308,0.5908491015434265],[0.2946765720844269,0.3192577660083771,0.45248427987098694,0.6790756583213806,0.6185194253921509,0.30157995223999023,0.30782273411750793,0.4500967562198639,0.34383657574653625,0.38350337743759155,0.4897221326828003,0.2878839373588562,0.33495020866394043,0.39482247829437256,0.3752460777759552,0.39598527550697327,0.3641722798347473,0.4803958237171173,0.4011548161506653,0.30006542801856995,0.4755837321281433,0.3170437514781952,0.3676639497280121,0.4973006844520569,0.3552464246749878,0.4146147668361664,0.30119144916534424,0.2916180491447449,0.2602733373641968,0.36446869373321533,0.3198869228363037,0.4461764693260193],[0.47443652153015137,0.5012809038162231,0.4852771759033203,0.2295856922864914,0.3684069514274597,0.3662407100200653,0.18634268641471863,0.4252983629703522,0.36024075746536255,0.26351824402809143,0.44658398628234863,0.4511915147304535,0.3523038327693939,0.3703475296497345,0.3057209253311157,0.5781942009925842,0.2924227714538574,0.27808278799057007,0.46024495363235474,0.3364797532558441,0.47940999269485474,0.31657007336616516,0.4494859278202057,0.48164239525794983,0.2985336184501648,0.2568959593772888,0.26953962445259094,0.30971261858940125,0.49068063497543335,0.2585092782974243,0.8777539730072021,0.364529550075531],[0.42952442169189453,0.28811731934547424,0.32565152645111084,0.34029608964920044,0.32434719800949097,0.4186605215072632,0.272697776556015,0.3058410584926605,0.3422533869743347,0.22628533840179443,0.23642688989639282,0.43288806080818176,0.33559125661849976,0.38491564989089966,0.2178654670715332,0.3558443784713745,0.3688175082206726,0.3259245753288269,0.28428521752357483,0.40126416087150574,0.2040342390537262,0.28323832154273987,0.31452953815460205,0.3250206708908081,0.31116560101509094,0.21931816637516022,0.3528292775154114,0.3103700578212738,0.38407838344573975,0.41535723209381104,0.544700562953949,0.4496137201786041],[0.390282541513443,0.3186889588832855,0.2728126347064972,0.3196401000022888,0.2519000172615051,0.33451834321022034,0.29876840114593506,0.46763014793395996,0.31484025716781616,0.22411879897117615,0.2706556022167206,0.3510396480560303,0.7140518426895142,0.5936163663864136,0.3776343762874603,0.6654212474822998,0.6608953475952148,0.4044053554534912,0.3650483787059784,0.5354671478271484,0.4436734616756439,0.2668154537677765,0.3629193902015686,0.24618595838546753,0.16094852983951569,0.28070762753486633,0.2788066267967224,0.18773095309734344,0.5839991569519043,0.26769569516181946,0.23629756271839142,0.2117057889699936],[0.21955232322216034,0.18923446536064148,0.2091113030910492,0.14036570489406586,0.26716071367263794,0.37675780057907104,0.29040148854255676,0.3540504574775696,0.4470808506011963,0.33380642533302307,0.30511045455932617,0.3541314899921417,0.23855523765087128,0.14760661125183105,0.16134296357631683,0.17127852141857147,0.2981565296649933,0.33589860796928406,0.338660329580307,0.6049642562866211,0.3591444790363312,0.31591641902923584,0.3889710307121277,0.5082828402519226,0.3847459554672241,0.23934964835643768,0.4188803732395172,0.39793333411216736,0.27089446783065796,0.15256071090698242,0.3866739869117737,0.42850813269615173],[0.2213565707206726,0.18221145868301392,0.23944731056690216,0.39276695251464844,0.5978588461875916,0.6279723048210144,0.8532019853591919,0.69130539894104,0.54567950963974,0.5267474055290222,0.405007928609848,0.4404096305370331,0.4896167814731598,0.5139259696006775,0.44236209988594055,0.4952552020549774,0.3250100612640381,0.6110216975212097,0.23824253678321838,0.5176360011100769,0.47125935554504395,0.23474709689617157,0.6266058683395386,0.6259667277336121,0.4427250027656555,0.49015724658966064,0.1770578771829605,0.26639819145202637,0.4582664668560028,0.3634694814682007,0.46348705887794495,0.5120531320571899],[0.20868512988090515,0.4980956017971039,0.35060080885887146,0.24272842705249786,0.30293214321136475,0.3930152654647827,0.3945332467556,0.34193435311317444,0.1925286203622818,0.3174867331981659,0.13136738538742065,0.3603558838367462,0.2533920407295227,0.30564215779304504,0.26511693000793457,0.4390714168548584,0.3144160807132721,0.45781606435775757,0.3240797817707062,0.3238585889339447,0.5069960951805115,0.5022521615028381,0.39988139271736145,0.7171518802642822,0.3258114755153656,0.5171421766281128,0.3193187713623047,0.3144284784793854,0.2792031466960907,0.2110801339149475,0.11102432757616043,0.24483181536197662],[0.4645910859107971,0.4285556972026825,0.5396779775619507,0.4703124165534973,0.3086511790752411,0.3466964662075043,0.22047989070415497,0.2800189256668091,0.20498931407928467,0.19607208669185638,0.18495136499404907,0.20774002373218536,0.31450799107551575,0.49336862564086914,0.3588522970676422,0.41201940178871155,0.19082558155059814,0.3656308352947235,0.14084027707576752,0.20884014666080475,0.4487261176109314,0.3360024392604828,0.4041327238082886,0.36582714319229126,0.30045807361602783,0.32760924100875854,0.5208660960197449,0.40234220027923584,0.4334128499031067,0.3503144681453705,0.2505768835544586,0.24886813759803772],[0.3144753575325012,0.37276491522789,0.4953809082508087,0.2918824255466461,0.2991960048675537,0.34584659337997437,0.15271754562854767,0.4445236921310425,0.3842472732067108,0.36089563369750977,0.30293598771095276,0.46118783950805664,0.4246249496936798,0.3055083155632019,0.26183149218559265,0.6964601278305054,0.3373265862464905,0.28920403122901917,0.4478163719177246,0.37396880984306335,0.23441417515277863,0.267017662525177,0.22313430905342102,0.21629159152507782,0.46760693192481995,0.489176481962204,0.34674072265625,0.4614790081977844,0.24028392136096954,0.2742648422718048,0.31975308060646057,0.23936249315738678],[0.40112337470054626,0.16647985577583313,0.30642110109329224,0.281006783246994,0.2801310122013092,0.23600643873214722,0.1773466318845749,0.201492041349411,0.4388445019721985,0.3491989076137543,0.47398340702056885,0.2777741849422455,0.38620808720588684,0.6972717046737671,0.40610578656196594,0.46960753202438354,0.3672032058238983,0.4799222946166992,0.54832524061203,0.3191494047641754,0.3448828458786011,0.418608695268631,0.2737095355987549,0.5175747275352478,0.7264540791511536,0.5887824296951294,0.673740029335022,0.6803443431854248,0.21623806655406952,0.35759422183036804,0.3077637255191803,0.46412602066993713],[0.3243374824523926,0.38996610045433044,0.32902228832244873,0.35928767919540405,0.33549225330352783,0.34661832451820374,0.4521588385105133,0.43737858533859253,0.38970890641212463,0.4940962791442871,0.502329409122467,0.3768010437488556,0.5383630394935608,0.4683991074562073,0.5954366326332092,0.44697874784469604,0.7117390632629395,0.5626142024993896,0.6403117775917053,0.3610728085041046,0.4181588292121887,0.8413687348365784,0.4157797694206238,0.6076691746711731,0.24234989285469055,0.4254106283187866,0.4725892245769501,0.6170883178710938,0.5566663146018982,0.6659244894981384,0.616823136806488,0.3904801309108734],[0.5281134843826294,0.5258864164352417,0.5167785286903381,0.4445077180862427,0.34568947553634644,0.46763545274734497,0.4101118743419647,0.4297933280467987,0.31774166226387024,0.43852698802948,0.43903687596321106,0.23972958326339722,0.20404908061027527,0.2982589900493622,0.23203687369823456,0.2995845079421997,0.3819940686225891,0.24383406341075897,0.3050653338432312,0.466330349445343,0.3601529002189636,0.3794662356376648,0.40127235651016235,0.2737503945827484,0.3801605701446533,0.425358384847641,0.29588502645492554,0.4134073853492737,0.35136115550994873,0.3159061074256897,0.2774561643600464,0.33421698212623596],[0.23770172894001007,0.33350762724876404,0.47563207149505615,0.29636839032173157,0.5425471067428589,0.3414100706577301,0.5427820086479187,0.41284337639808655,0.42793917655944824,0.6112406849861145,0.3503396511077881,0.3086114525794983,0.36892014741897583,0.7421113848686218,0.4742075204849243,0.4001753032207489,0.57093745470047,0.558135449886322,0.6745811104774475,0.6441245079040527,0.3456076979637146,0.37486350536346436,0.406648188829422,0.3371690809726715,0.41612958908081055,0.431482195854187,0.5759972333908081,0.5864240527153015,0.5841646194458008,0.7376771569252014,0.7047995328903198,0.9364874958992004],[0.682090699672699,0.6745302677154541,0.4673864245414734,0.39633259177207947,0.48696404695510864,0.5800520181655884,0.6106236577033997,0.3396218717098236,0.45350420475006104,0.35592120885849,0.28245970606803894,0.28034794330596924,0.7493759989738464,0.28679656982421875,0.5378852486610413,0.36294588446617126,0.24303683638572693,0.3025321364402771,0.48735442757606506,0.3498276174068451,0.42905643582344055,0.6139266490936279,0.7410413026809692,0.6858044266700745,0.3616633117198944,0.5246214866638184,0.48575425148010254,0.2563285529613495,0.48220497369766235,0.21209509670734406,0.37015026807785034,0.5261867046356201],[1.0,0.9145011901855469,0.6014177799224854,0.5516422986984253,0.6210051774978638,0.3220219016075134,0.31289514899253845,0.3273591101169586,0.6611937284469604,0.5157756209373474,0.4652816355228424,0.4474206268787384,0.47149336338043213,0.7474849224090576,0.3942895829677582,0.4612436890602112,0.5562465190887451,0.36823758482933044,0.5550363659858704,0.6995089650154114,0.27817460894584656,0.38892441987991333,0.456704705953598,0.45608824491500854,0.6835538744926453,0.5622603297233582,0.32895028591156006,0.47896480560302734,0.7317115664482117,0.6816574931144714,0.6241399645805359,0.45212146639823914],[0.4417858421802521,0.9015093445777893,0.8644063472747803,0.4425390660762787,0.7042529582977295,0.47510963678359985,0.48652395606040955,0.4500187635421753,0.4179500639438629,0.3284667432308197,0.5920710563659668,0.6696379780769348,0.9044667482376099,0.6492804288864136,0.9346070885658264,0.590862512588501,0.3620193898677826,0.49872565269470215,0.44010090827941895,0.3684488832950592,0.7233418822288513,0.6903447508811951,0.5386189818382263,0.6002306342124939,0.4266662299633026,0.34667471051216125,0.2475585639476776,0.4519622027873993,0.39832040667533875,0.3263360261917114,0.5737249851226807,0.26398134231567383],[0.30818748474121094,0.4333237409591675,0.3462369740009308,0.30581530928611755,0.27266913652420044,0.40074580907821655,0.47336873412132263,0.4930446147918701,0.5501158237457275,0.39685365557670593,0.313509464263916,0.6382437348365784,0.34744319319725037,0.3195524513721466,0.2566031813621521,0.3707989454269409,0.3029392957687378,0.23610636591911316,0.2139502614736557,0.33180922269821167,0.44958624243736267,0.5260466933250427,0.4959537982940674,0.47541379928588867,0.1938583254814148,0.25513917207717896,0.2168983817100525,0.3272160589694977,0.32708027958869934,0.3315938413143158,0.5229907631874084,0.2822095453739166],[0.3936973512172699,0.21682599186897278,0.4833451509475708,0.26785650849342346,0.8304853439331055,0.3602522611618042,0.8429434895515442,0.3362553119659424,0.3282339870929718,0.22544337809085846,0.2904682755470276,0.2872627377510071,0.24918197095394135,0.23695892095565796,0.38900065422058105,0.37611618638038635,0.3910400867462158,0.42989784479141235,0.4716379642486572,0.42155298590660095,0.1869937926530838,0.3370759189128876,0.3533046841621399,0.40957576036453247,0.44647011160850525,0.6680886149406433,0.4702402651309967,0.4051494300365448,0.44583794474601746,0.4529211223125458,0.4433036744594574,0.43030568957328796],[0.33092382550239563,0.43326130509376526,0.2604489326477051,0.27379223704338074,0.38032662868499756,0.4025769531726837,0.7929121255874634,0.6391770839691162,0.5658547282218933,0.2769753932952881,0.3986218273639679,0.29180312156677246,0.7272666692733765,0.6991248726844788,0.7328082919120789,0.7686280012130737,0.3583061993122101,0.5631877779960632,0.5767530798912048,0.7931649684906006,0.7643738389015198,0.45973286032676697,0.5020689368247986,0.5240877270698547,0.24210524559020996,0.26618120074272156,0.419574499130249,0.5993685126304626,0.3392798900604248,0.3541635572910309,0.3492242991924286,0.3186996877193451],[0.5180511474609375,0.6790502071380615,0.5396521091461182,0.5770475268363953,0.18402768671512604,0.17916281521320343,0.2331179976463318,0.4184112846851349,0.4483458697795868,0.38301393389701843,0.41137751936912537,0.40210196375846863,0.24920721352100372,0.3694004416465759,0.2835238575935364,0.4320674538612366,0.25706031918525696,0.26679304242134094,0.2068018913269043,0.23047177493572235,0.1908155381679535,0.5943812727928162,0.23696817457675934,0.6102174520492554,0.28537890315055847,0.20503605902194977,0.4034711718559265,0.22732339799404144,0.2751052975654602,0.36041879653930664,0.4681799113750458,0.27011191844940186]],\"zmax\":1.0,\"zmin\":0.0,\"type\":\"heatmap\",\"xaxis\":\"x\",\"yaxis\":\"y\"},{\"colorscale\":[[0.0,\"rgb(103,0,31)\"],[0.1,\"rgb(178,24,43)\"],[0.2,\"rgb(214,96,77)\"],[0.3,\"rgb(244,165,130)\"],[0.4,\"rgb(253,219,199)\"],[0.5,\"rgb(247,247,247)\"],[0.6,\"rgb(209,229,240)\"],[0.7,\"rgb(146,197,222)\"],[0.8,\"rgb(67,147,195)\"],[0.9,\"rgb(33,102,172)\"],[1.0,\"rgb(5,48,97)\"]],\"showscale\":false,\"z\":[[0.44179198145866394,0.1981363296508789,0.2378067523241043,0.23327414691448212,0.5180664658546448,0.4075227677822113,0.5611711144447327,0.36129483580589294],[0.33772727847099304,0.30916327238082886,0.2687477767467499,0.3381161391735077,0.2209436148405075,0.2863064110279083,0.2510102391242981,0.42422184348106384],[0.29943251609802246,0.3217858374118805,0.33420616388320923,0.39300858974456787,0.32592058181762695,0.2764492332935333,0.25204145908355713,0.4023430049419403],[0.3317650854587555,0.33062294125556946,0.45234569907188416,0.3167475759983063,0.4299044609069824,0.3977311849594116,0.38316118717193604,0.29930830001831055],[0.4204913377761841,0.3013073801994324,0.32255128026008606,0.31402069330215454,0.2749265730381012,0.280937522649765,0.33939555287361145,0.32762885093688965],[0.3540518879890442,0.3061847388744354,0.2845132052898407,0.31380531191825867,0.34259000420570374,0.3274502158164978,0.32419317960739136,0.32011541724205017],[0.294021338224411,0.300251305103302,0.2826719880104065,0.5153843760490417,0.31823477149009705,0.3646604120731354,0.3161155879497528,0.3724038302898407],[0.3783107399940491,0.3580341041088104,0.3397766947746277,0.28942570090293884,0.28105825185775757,0.388700395822525,0.45393720269203186,0.29523956775665283],[0.41853398084640503,0.36661002039909363,0.5116065740585327,0.3565996289253235,0.2878565490245819,0.2838376760482788,0.3360540568828583,0.423551470041275],[0.35772213339805603,0.2856524586677551,0.37367668747901917,0.3572707772254944,0.4797337055206299,0.3981575071811676,0.38420727849006653,0.3382303714752197],[0.4060157239437103,0.5038562417030334,0.46795979142189026,0.39361873269081116,0.40783506631851196,0.40567198395729065,0.3977515697479248,0.33329474925994873],[0.43530356884002686,0.36015352606773376,0.35870999097824097,0.3389471471309662,0.3247036337852478,0.33232998847961426,0.40474244952201843,0.35579589009284973],[0.3180522322654724,0.43174442648887634,0.29640957713127136,0.3484903872013092,0.3194418251514435,0.44529932737350464,0.3100975453853607,0.32559144496917725],[0.44534268975257874,0.33644717931747437,0.3360249996185303,0.37758582830429077,0.27624133229255676,0.3748399615287781,0.2691488265991211,0.504221498966217],[0.35158711671829224,0.3684161901473999,0.3675493896007538,0.33051347732543945,0.37980207800865173,0.3681177794933319,0.37533140182495117,0.4425482749938965],[0.27321916818618774,0.37443113327026367,0.24892444908618927,0.5165660381317139,0.41820454597473145,0.26862671971321106,0.24102404713630676,0.39220094680786133],[0.21226632595062256,0.3084275722503662,0.48714932799339294,0.19039291143417358,0.48874983191490173,0.4091462790966034,0.34018298983573914,0.29289719462394714],[0.2455889731645584,0.7529295682907104,0.3684963881969452,0.6373119354248047,0.47885292768478394,0.46036621928215027,0.36141401529312134,0.601617157459259],[0.26971635222435,0.3023412227630615,0.3322713077068329,0.28556278347969055,0.40723270177841187,0.5809975862503052,0.364382266998291,0.2816101014614105],[0.39976999163627625,0.3105272352695465,0.17283113300800323,0.35257214307785034,0.2134963721036911,0.35637134313583374,0.48438939452171326,0.31549060344696045],[0.4147467613220215,0.3506889343261719,0.3044440448284149,0.33005523681640625,0.31329819560050964,0.2705956697463989,0.43690165877342224,0.23207084834575653],[0.23623019456863403,0.22742700576782227,0.4116702079772949,0.5835797786712646,0.40590110421180725,0.36879512667655945,0.5958412885665894,0.36311671137809753],[0.3157747983932495,0.2962345480918884,0.3290879726409912,0.3990037143230438,0.5893533229827881,0.44542959332466125,0.33807387948036194,0.4071230888366699],[0.49701470136642456,0.3825424611568451,0.40346550941467285,0.2245895266532898,0.5162263512611389,0.3642464280128479,0.35308340191841125,0.26721441745758057],[0.3148335814476013,0.2850461006164551,0.35427579283714294,0.36885693669319153,0.44017431139945984,0.2942974269390106,0.5198683142662048,0.8839302659034729],[0.6073806881904602,0.4752321243286133,0.3521426022052765,0.4519523084163666,0.28980377316474915,0.6234411001205444,0.43416672945022583,0.28517499566078186],[0.6143370866775513,0.27139270305633545,0.47609493136405945,0.36057397723197937,0.3860245943069458,0.3318229019641876,0.43182292580604553,0.5687065720558167],[0.7254073023796082,0.502042829990387,0.4392489194869995,0.616771399974823,0.36745408177375793,0.6433559656143188,0.32432660460472107,0.32412633299827576],[0.397946834564209,0.526427686214447,0.3731083571910858,0.3423955738544464,0.28063318133354187,0.534107506275177,0.2334718406200409,0.3792576789855957],[0.34396180510520935,0.4734129309654236,0.2651177644729614,0.26141172647476196,0.37114202976226807,0.23310866951942444,0.45024362206459045,0.41572439670562744],[0.22541126608848572,0.5028666853904724,0.2964055836200714,0.5693265795707703,0.5126025676727295,0.35526949167251587,0.2691209614276886,0.2515643835067749],[0.5817295908927917,0.21584179997444153,0.36383092403411865,0.2722533345222473,0.2223484069108963,0.29221993684768677,0.2330574095249176,0.2885875701904297]],\"zmax\":1.0,\"zmin\":0.0,\"type\":\"heatmap\",\"xaxis\":\"x2\",\"yaxis\":\"y2\"},{\"colorscale\":[[0.0,\"rgb(103,0,31)\"],[0.1,\"rgb(178,24,43)\"],[0.2,\"rgb(214,96,77)\"],[0.3,\"rgb(244,165,130)\"],[0.4,\"rgb(253,219,199)\"],[0.5,\"rgb(247,247,247)\"],[0.6,\"rgb(209,229,240)\"],[0.7,\"rgb(146,197,222)\"],[0.8,\"rgb(67,147,195)\"],[0.9,\"rgb(33,102,172)\"],[1.0,\"rgb(5,48,97)\"]],\"showscale\":false,\"z\":[[0.5761005878448486,0.5951120853424072,0.5417585968971252,0.5761297941207886,0.5761135816574097,0.6094367504119873,0.5728951096534729,0.5924666523933411],[0.4524659812450409,0.43679675459861755,0.47611895203590393,0.42290207743644714,0.41766923666000366,0.4371477961540222,0.46202951669692993,0.47842174768447876],[0.48232847452163696,0.41255077719688416,0.44343698024749756,0.42686590552330017,0.41313907504081726,0.4585112929344177,0.3941458463668823,0.4365445375442505],[0.41789156198501587,0.48933568596839905,0.44171789288520813,0.4338735044002533,0.48242831230163574,0.43011656403541565,0.5186273455619812,0.46542230248451233],[0.4453667998313904,0.4585728347301483,0.43722420930862427,0.4063873887062073,0.43761810660362244,0.4513087868690491,0.4235273003578186,0.4167223572731018],[0.4107726812362671,0.3639802634716034,0.3665168583393097,0.40938737988471985,0.41246649622917175,0.38364002108573914,0.3384426236152649,0.3830295503139496],[0.4262581765651703,0.4353005290031433,0.4050431251525879,0.4539249539375305,0.3567328453063965,0.36453455686569214,0.4342688322067261,0.40383508801460266],[0.414400577545166,0.40557289123535156,0.42659297585487366,0.3686234951019287,0.35649651288986206,0.3749156892299652,0.46400904655456543,0.39000239968299866],[0.4932596981525421,0.5013725757598877,0.42338138818740845,0.4873635768890381,0.44919973611831665,0.5475373864173889,0.5068831443786621,0.46097883582115173],[0.42570579051971436,0.3809380829334259,0.3917003273963928,0.39346444606781006,0.4091567397117615,0.4399424195289612,0.37179112434387207,0.40421196818351746],[0.39467066526412964,0.44590622186660767,0.41750118136405945,0.4252464473247528,0.46233031153678894,0.36887216567993164,0.4248148202896118,0.4311163127422333],[0.5039886236190796,0.5174182057380676,0.47662168741226196,0.4823422431945801,0.4677312672138214,0.47334471344947815,0.5249279737472534,0.46572861075401306],[0.43043747544288635,0.4174918234348297,0.4181009829044342,0.40997040271759033,0.39450502395629883,0.39817437529563904,0.3977828919887543,0.4324245750904083],[0.3982139527797699,0.37405699491500854,0.37875834107398987,0.3594605624675751,0.3765040934085846,0.3959539234638214,0.4012874364852905,0.4028781056404114],[0.45006439089775085,0.4325381815433502,0.3784397542476654,0.4058836102485657,0.44414350390434265,0.39541786909103394,0.34827253222465515,0.4681147038936615],[0.3482378423213959,0.38323596119880676,0.3510397672653198,0.49740898609161377,0.40820765495300293,0.36557480692863464,0.3849151134490967,0.36405110359191895],[0.36145758628845215,0.35950174927711487,0.3666520118713379,0.34206274151802063,0.4158785045146942,0.4005013108253479,0.4661867916584015,0.3673301041126251],[0.4004267454147339,0.37656253576278687,0.4495139718055725,0.395138144493103,0.32989686727523804,0.4133419096469879,0.32460153102874756,0.47105011343955994],[0.39044418931007385,0.42645886540412903,0.36700451374053955,0.36921632289886475,0.3779609799385071,0.5583781003952026,0.41171592473983765,0.38572269678115845],[0.457658588886261,0.35330310463905334,0.33975204825401306,0.3726891875267029,0.362010657787323,0.4746007025241852,0.5742120742797852,0.3741965591907501],[0.4892852008342743,0.38921448588371277,0.5036576986312866,0.34910285472869873,0.4223025441169739,0.3968126177787781,0.44330865144729614,0.428102970123291],[0.41973498463630676,0.4144956171512604,0.45856451988220215,0.5137017965316772,0.4256489872932434,0.3993728756904602,0.704918384552002,0.5562769174575806],[0.4420348107814789,0.4508351683616638,0.4424372911453247,0.6091997623443604,0.5017192959785461,0.48719584941864014,0.425886869430542,0.4639246463775635],[0.6122989058494568,0.557918906211853,0.5994787216186523,0.4459168314933777,0.4988934397697449,0.5396148562431335,0.5464608073234558,0.45285648107528687],[0.5848571062088013,0.4719155430793762,0.49557822942733765,0.5169609189033508,0.5847560167312622,0.42126211524009705,0.6591392159461975,0.726051390171051],[0.7619043588638306,0.7588967084884644,0.49544769525527954,0.4848495125770569,0.6261530518531799,0.8441357612609863,0.6583077907562256,0.5899681448936462],[0.7291515469551086,0.4313352704048157,0.5430272221565247,0.43072637915611267,0.4643559753894806,0.5383173227310181,0.4395166039466858,0.5845348238945007],[0.5060381293296814,0.5279387831687927,0.43128398060798645,0.5381423830986023,0.5436140894889832,0.5681363940238953,0.5230286717414856,0.4586634337902069],[0.33434998989105225,0.6635649800300598,0.4938386380672455,0.381940633058548,0.33987289667129517,0.529604971408844,0.3892916142940521,0.47090643644332886],[0.2979673445224762,0.49359890818595886,0.40143662691116333,0.2720436751842499,0.41552838683128357,0.3514813780784607,0.6972672343254089,0.5743421316146851],[0.4751296639442444,0.5970140695571899,0.5037683248519897,0.5151082873344421,0.5239078402519226,0.5430154800415039,0.5055242776870728,0.513748049736023],[0.6361287236213684,0.34444552659988403,0.38225603103637695,0.40981292724609375,0.2695254981517792,0.4151724576950073,0.36427974700927734,0.3086959421634674]],\"zmax\":1.0,\"zmin\":0.0,\"type\":\"heatmap\",\"xaxis\":\"x3\",\"yaxis\":\"y3\"},{\"colorscale\":[[0.0,\"rgb(103,0,31)\"],[0.1,\"rgb(178,24,43)\"],[0.2,\"rgb(214,96,77)\"],[0.3,\"rgb(244,165,130)\"],[0.4,\"rgb(253,219,199)\"],[0.5,\"rgb(247,247,247)\"],[0.6,\"rgb(209,229,240)\"],[0.7,\"rgb(146,197,222)\"],[0.8,\"rgb(67,147,195)\"],[0.9,\"rgb(33,102,172)\"],[1.0,\"rgb(5,48,97)\"]],\"showscale\":true,\"z\":[[0.0,0.0,0.0,0.0,0.0,0.0,0.0,0.0,0.0,0.0,0.0,0.0,0.0,0.0,0.0,0.0,0.0,0.0,0.0,0.0,0.0,0.0,0.0,0.0,0.0,0.0,0.0,0.0,0.0,0.0,0.0,0.0],[0.0,0.0,0.0,0.0,0.0,0.0,0.0,0.0,0.0,0.0,0.0,0.0,0.0,0.0,0.0,0.0,0.0,0.0,0.0,0.0,0.0,0.0,0.0,0.0,0.0,0.0,0.0,0.0,0.0,0.0,0.0,0.0],[0.0,0.0,0.0,0.0,0.0,0.0,0.0,0.0,0.0,0.0,0.0,0.0,0.0,0.0,0.0,0.0,0.0,0.0,0.0,0.0,0.0,0.0,0.0,0.0,0.0,0.0,0.0,0.0,0.0,0.0,0.0,0.0],[0.0,0.0,0.0,0.0,0.0,0.0,0.0,0.0,0.0,0.0,0.0,0.0,0.0,0.0,0.0,0.0,0.0,0.0,0.0,0.0,0.0,0.0,0.0,0.0,0.0,0.0,0.0,0.0,0.0,0.0,0.0,0.0],[0.0,0.0,0.0,0.0,0.0,0.0,0.0,0.0,0.0,0.0,0.0,0.0,0.0,0.0,0.0,0.0,0.0,0.0,0.0,0.0,0.0,0.0,0.0,0.0,0.0,0.0,0.0,0.0,0.0,0.0,0.0,0.0],[0.0,0.0,0.0,0.0,0.0,0.0,0.0,0.0,0.0,0.0,0.0,0.0,0.0,0.0,0.0,0.0,0.0,0.0,0.0,0.0,0.0,0.0,0.0,0.0,0.0,0.0,0.0,0.0,0.0,0.0,0.0,0.0],[0.0,0.0,0.0,0.0,0.0,0.0,0.0,0.0,0.0,0.0,0.0,0.0,0.0,0.0,0.0,0.0,0.0,0.0,0.0,0.0,0.0,0.0,0.0,0.0,0.0,0.0,0.0,0.0,0.0,0.0,0.0,0.0],[0.0,0.0,0.0,0.0,0.0,0.0,0.0,0.0,0.0,0.0,0.0,0.0,0.0,0.0,0.0,0.0,0.0,0.0,0.0,0.0,0.0,0.0,0.0,0.0,0.0,0.0,0.0,0.0,0.0,0.0,0.0,0.0],[0.0,0.0,0.0,0.0,0.0,0.0,0.0,0.0,0.0,0.0,0.0,0.0,0.0,0.0,0.0,0.0,0.0,0.0,0.0,0.0,0.0,0.0,0.0,0.0,0.0,0.0,0.0,0.0,0.0,0.0,0.0,0.0],[0.0,0.0,0.0,0.0,0.0,0.0,0.0,0.0,0.0,0.0,0.0,0.0,0.0,0.0,0.0,0.0,0.0,0.0,0.0,0.0,0.0,0.0,0.0,0.0,0.0,0.0,0.0,0.0,0.0,0.0,0.0,0.0],[0.0,0.0,0.0,0.0,0.0,0.0,0.0,0.0,0.0,0.0,0.0,0.0,0.0,0.0,0.0,0.0,0.0,0.0,0.0,0.0,0.0,0.0,0.0,0.0,0.0,0.0,0.0,0.0,0.0,0.0,0.0,0.0],[0.0,0.0,0.0,0.0,0.0,0.0,0.0,0.0,0.0,0.0,0.0,0.0,0.0,0.0,0.0,0.0,0.0,0.0,0.0,0.0,0.0,0.0,0.0,0.0,0.0,0.0,0.0,0.0,0.0,0.0,0.0,0.0],[0.0,0.0,0.0,0.0,0.0,0.0,0.0,0.0,0.0,0.0,0.0,0.0,0.0,0.0,0.0,0.0,0.0,0.0,0.0,0.0,0.0,0.0,0.0,0.0,0.0,0.0,0.0,0.0,0.0,0.0,0.0,0.0],[0.0,0.0,0.0,0.0,0.0,0.0,0.0,0.0,0.0,0.0,0.0,0.0,0.0,0.0,0.0,0.0,0.0,0.0,0.0,0.0,0.0,0.0,0.0,0.0,0.0,0.0,0.0,0.0,0.0,0.0,0.0,0.0],[0.0,0.0,0.0,0.0,0.0,0.0,0.0,0.0,0.0,0.0,0.0,0.0,0.0,0.0,0.0,0.0,0.0,0.0,0.0,0.0,0.0,0.0,0.0,0.0,0.0,0.0,0.0,0.0,0.0,0.0,0.0,0.0],[0.0,0.0,0.0,0.0,0.0,0.0,0.0,0.0,0.0,0.0,0.0,0.0,0.0,0.0,0.0,0.0,0.0,0.0,0.0,0.0,0.0,0.0,0.0,0.0,0.0,0.0,0.0,0.0,0.0,0.0,0.0,0.0],[0.0,0.0,0.0,0.0,0.0,0.0,0.0,0.0,0.0,0.0,0.0,0.0,0.0,0.0,0.0,0.0,0.0,0.0,0.0,0.0,0.0,0.0,0.0,0.0,0.0,0.0,0.0,0.0,0.0,0.0,0.0,0.0],[0.0,0.0,0.0,0.0,0.0,0.0,0.0,0.0,0.0,0.0,0.0,0.0,0.0,0.0,0.0,0.0,0.0,0.0,0.0,0.0,0.0,0.0,0.0,0.0,0.0,0.0,0.0,0.0,0.0,0.0,0.0,0.0],[0.0,0.0,0.0,0.0,0.0,0.0,0.0,0.0,0.0,0.0,0.0,0.0,0.0,0.0,0.0,0.0,0.0,0.0,0.0,0.0,0.0,0.0,0.0,0.0,0.0,0.0,0.0,0.0,0.0,0.0,0.0,0.0],[0.0,0.0,0.0,0.0,0.0,0.0,0.0,0.0,0.0,0.0,0.0,0.0,0.0,0.0,0.0,0.0,0.0,0.0,0.0,0.0,0.0,0.0,0.0,0.0,0.0,0.0,0.0,0.0,0.0,0.0,0.0,0.0],[0.0,0.0,0.0,0.0,0.0,0.0,0.0,0.0,0.0,0.0,0.0,0.0,0.0,0.0,0.0,0.0,0.0,0.0,0.0,0.0,0.0,0.0,0.0,0.0,0.0,0.0,0.0,0.0,0.0,0.0,0.0,0.0],[0.0,0.0,0.0,0.0,0.0,0.0,0.0,0.0,0.0,0.0,0.0,0.0,0.0,0.0,0.0,0.0,0.0,0.0,0.0,0.0,0.0,0.0,0.0,0.0,0.0,0.0,0.0,0.0,0.0,0.0,0.0,0.0],[0.0,0.0,0.0,0.0,0.0,0.0,0.0,0.0,0.0,0.0,0.0,0.0,0.0,0.0,0.0,0.0,0.0,0.0,0.0,0.0,0.0,0.0,0.0,0.0,0.0,0.0,0.0,0.0,0.0,0.0,0.0,0.0],[0.0,0.0,0.0,0.0,0.0,0.0,0.0,0.0,0.0,0.0,0.0,0.0,0.0,0.0,0.0,0.0,0.0,0.0,0.0,0.0,0.0,0.0,0.0,0.0,0.0,0.0,0.0,0.0,0.0,0.0,0.0,0.0],[0.0,0.0,0.0,0.0,0.0,0.0,0.0,0.0,0.0,0.0,0.0,0.0,0.0,0.0,0.0,0.0,0.0,0.0,0.0,0.0,0.0,0.0,0.0,0.0,0.0,0.0,0.0,0.0,0.0,0.0,0.0,0.0],[0.0,0.0,0.0,0.0,0.0,0.0,0.0,0.0,0.0,0.0,0.0,0.0,0.0,0.0,0.0,0.0,0.0,0.0,0.0,0.0,0.0,0.0,0.0,0.0,0.0,0.0,0.0,0.0,0.0,0.0,0.0,0.0],[0.0,0.0,0.0,0.0,0.0,0.0,0.0,0.0,0.0,0.0,0.0,0.0,0.0,0.0,0.0,0.0,0.0,0.0,0.0,0.0,0.0,0.0,0.0,0.0,0.0,0.0,0.0,0.0,0.0,0.0,0.0,0.0],[0.0,0.0,0.0,0.0,0.0,0.0,0.0,0.0,0.0,0.0,0.0,0.0,0.0,0.0,0.0,0.0,0.0,0.0,0.0,0.0,0.0,0.0,0.0,0.0,0.0,0.0,0.0,0.0,0.0,0.0,0.0,0.0],[0.0,0.0,0.0,0.0,0.0,0.0,0.0,0.0,0.0,0.0,0.0,0.0,0.0,0.0,0.0,0.0,0.0,0.0,0.0,0.0,0.0,0.0,0.0,0.0,0.0,0.0,0.0,0.0,0.0,0.0,0.0,0.0],[0.0,0.0,0.0,0.0,0.0,0.0,0.0,0.0,0.0,0.0,0.0,0.0,0.0,0.0,0.0,0.0,0.0,0.0,0.0,0.0,0.0,0.0,0.0,0.0,0.0,0.0,0.0,0.0,0.0,0.0,0.0,0.0],[0.0,0.0,0.0,0.0,0.0,0.0,0.0,0.0,0.0,0.0,0.0,0.0,0.0,0.0,0.0,0.0,0.0,0.0,0.0,0.0,0.0,0.0,0.0,0.0,0.0,0.0,0.0,0.0,0.0,0.0,0.0,0.0],[0.0,0.0,0.0,0.0,0.0,0.0,0.0,0.0,0.0,0.0,0.0,0.0,0.0,0.0,0.0,0.0,0.0,0.0,0.0,0.0,0.0,0.0,0.0,0.0,0.0,0.0,0.0,0.0,0.0,0.0,0.0,0.0]],\"zmax\":1.0,\"zmin\":0.0,\"type\":\"heatmap\",\"xaxis\":\"x4\",\"yaxis\":\"y4\"}],                        {\"template\":{\"data\":{\"histogram2dcontour\":[{\"type\":\"histogram2dcontour\",\"colorbar\":{\"outlinewidth\":0,\"ticks\":\"\"},\"colorscale\":[[0.0,\"#0d0887\"],[0.1111111111111111,\"#46039f\"],[0.2222222222222222,\"#7201a8\"],[0.3333333333333333,\"#9c179e\"],[0.4444444444444444,\"#bd3786\"],[0.5555555555555556,\"#d8576b\"],[0.6666666666666666,\"#ed7953\"],[0.7777777777777778,\"#fb9f3a\"],[0.8888888888888888,\"#fdca26\"],[1.0,\"#f0f921\"]]}],\"choropleth\":[{\"type\":\"choropleth\",\"colorbar\":{\"outlinewidth\":0,\"ticks\":\"\"}}],\"histogram2d\":[{\"type\":\"histogram2d\",\"colorbar\":{\"outlinewidth\":0,\"ticks\":\"\"},\"colorscale\":[[0.0,\"#0d0887\"],[0.1111111111111111,\"#46039f\"],[0.2222222222222222,\"#7201a8\"],[0.3333333333333333,\"#9c179e\"],[0.4444444444444444,\"#bd3786\"],[0.5555555555555556,\"#d8576b\"],[0.6666666666666666,\"#ed7953\"],[0.7777777777777778,\"#fb9f3a\"],[0.8888888888888888,\"#fdca26\"],[1.0,\"#f0f921\"]]}],\"heatmap\":[{\"type\":\"heatmap\",\"colorbar\":{\"outlinewidth\":0,\"ticks\":\"\"},\"colorscale\":[[0.0,\"#0d0887\"],[0.1111111111111111,\"#46039f\"],[0.2222222222222222,\"#7201a8\"],[0.3333333333333333,\"#9c179e\"],[0.4444444444444444,\"#bd3786\"],[0.5555555555555556,\"#d8576b\"],[0.6666666666666666,\"#ed7953\"],[0.7777777777777778,\"#fb9f3a\"],[0.8888888888888888,\"#fdca26\"],[1.0,\"#f0f921\"]]}],\"heatmapgl\":[{\"type\":\"heatmapgl\",\"colorbar\":{\"outlinewidth\":0,\"ticks\":\"\"},\"colorscale\":[[0.0,\"#0d0887\"],[0.1111111111111111,\"#46039f\"],[0.2222222222222222,\"#7201a8\"],[0.3333333333333333,\"#9c179e\"],[0.4444444444444444,\"#bd3786\"],[0.5555555555555556,\"#d8576b\"],[0.6666666666666666,\"#ed7953\"],[0.7777777777777778,\"#fb9f3a\"],[0.8888888888888888,\"#fdca26\"],[1.0,\"#f0f921\"]]}],\"contourcarpet\":[{\"type\":\"contourcarpet\",\"colorbar\":{\"outlinewidth\":0,\"ticks\":\"\"}}],\"contour\":[{\"type\":\"contour\",\"colorbar\":{\"outlinewidth\":0,\"ticks\":\"\"},\"colorscale\":[[0.0,\"#0d0887\"],[0.1111111111111111,\"#46039f\"],[0.2222222222222222,\"#7201a8\"],[0.3333333333333333,\"#9c179e\"],[0.4444444444444444,\"#bd3786\"],[0.5555555555555556,\"#d8576b\"],[0.6666666666666666,\"#ed7953\"],[0.7777777777777778,\"#fb9f3a\"],[0.8888888888888888,\"#fdca26\"],[1.0,\"#f0f921\"]]}],\"surface\":[{\"type\":\"surface\",\"colorbar\":{\"outlinewidth\":0,\"ticks\":\"\"},\"colorscale\":[[0.0,\"#0d0887\"],[0.1111111111111111,\"#46039f\"],[0.2222222222222222,\"#7201a8\"],[0.3333333333333333,\"#9c179e\"],[0.4444444444444444,\"#bd3786\"],[0.5555555555555556,\"#d8576b\"],[0.6666666666666666,\"#ed7953\"],[0.7777777777777778,\"#fb9f3a\"],[0.8888888888888888,\"#fdca26\"],[1.0,\"#f0f921\"]]}],\"mesh3d\":[{\"type\":\"mesh3d\",\"colorbar\":{\"outlinewidth\":0,\"ticks\":\"\"}}],\"scatter\":[{\"fillpattern\":{\"fillmode\":\"overlay\",\"size\":10,\"solidity\":0.2},\"type\":\"scatter\"}],\"parcoords\":[{\"type\":\"parcoords\",\"line\":{\"colorbar\":{\"outlinewidth\":0,\"ticks\":\"\"}}}],\"scatterpolargl\":[{\"type\":\"scatterpolargl\",\"marker\":{\"colorbar\":{\"outlinewidth\":0,\"ticks\":\"\"}}}],\"bar\":[{\"error_x\":{\"color\":\"#2a3f5f\"},\"error_y\":{\"color\":\"#2a3f5f\"},\"marker\":{\"line\":{\"color\":\"#E5ECF6\",\"width\":0.5},\"pattern\":{\"fillmode\":\"overlay\",\"size\":10,\"solidity\":0.2}},\"type\":\"bar\"}],\"scattergeo\":[{\"type\":\"scattergeo\",\"marker\":{\"colorbar\":{\"outlinewidth\":0,\"ticks\":\"\"}}}],\"scatterpolar\":[{\"type\":\"scatterpolar\",\"marker\":{\"colorbar\":{\"outlinewidth\":0,\"ticks\":\"\"}}}],\"histogram\":[{\"marker\":{\"pattern\":{\"fillmode\":\"overlay\",\"size\":10,\"solidity\":0.2}},\"type\":\"histogram\"}],\"scattergl\":[{\"type\":\"scattergl\",\"marker\":{\"colorbar\":{\"outlinewidth\":0,\"ticks\":\"\"}}}],\"scatter3d\":[{\"type\":\"scatter3d\",\"line\":{\"colorbar\":{\"outlinewidth\":0,\"ticks\":\"\"}},\"marker\":{\"colorbar\":{\"outlinewidth\":0,\"ticks\":\"\"}}}],\"scattermapbox\":[{\"type\":\"scattermapbox\",\"marker\":{\"colorbar\":{\"outlinewidth\":0,\"ticks\":\"\"}}}],\"scatterternary\":[{\"type\":\"scatterternary\",\"marker\":{\"colorbar\":{\"outlinewidth\":0,\"ticks\":\"\"}}}],\"scattercarpet\":[{\"type\":\"scattercarpet\",\"marker\":{\"colorbar\":{\"outlinewidth\":0,\"ticks\":\"\"}}}],\"carpet\":[{\"aaxis\":{\"endlinecolor\":\"#2a3f5f\",\"gridcolor\":\"white\",\"linecolor\":\"white\",\"minorgridcolor\":\"white\",\"startlinecolor\":\"#2a3f5f\"},\"baxis\":{\"endlinecolor\":\"#2a3f5f\",\"gridcolor\":\"white\",\"linecolor\":\"white\",\"minorgridcolor\":\"white\",\"startlinecolor\":\"#2a3f5f\"},\"type\":\"carpet\"}],\"table\":[{\"cells\":{\"fill\":{\"color\":\"#EBF0F8\"},\"line\":{\"color\":\"white\"}},\"header\":{\"fill\":{\"color\":\"#C8D4E3\"},\"line\":{\"color\":\"white\"}},\"type\":\"table\"}],\"barpolar\":[{\"marker\":{\"line\":{\"color\":\"#E5ECF6\",\"width\":0.5},\"pattern\":{\"fillmode\":\"overlay\",\"size\":10,\"solidity\":0.2}},\"type\":\"barpolar\"}],\"pie\":[{\"automargin\":true,\"type\":\"pie\"}]},\"layout\":{\"autotypenumbers\":\"strict\",\"colorway\":[\"#636efa\",\"#EF553B\",\"#00cc96\",\"#ab63fa\",\"#FFA15A\",\"#19d3f3\",\"#FF6692\",\"#B6E880\",\"#FF97FF\",\"#FECB52\"],\"font\":{\"color\":\"#2a3f5f\"},\"hovermode\":\"closest\",\"hoverlabel\":{\"align\":\"left\"},\"paper_bgcolor\":\"white\",\"plot_bgcolor\":\"#E5ECF6\",\"polar\":{\"bgcolor\":\"#E5ECF6\",\"angularaxis\":{\"gridcolor\":\"white\",\"linecolor\":\"white\",\"ticks\":\"\"},\"radialaxis\":{\"gridcolor\":\"white\",\"linecolor\":\"white\",\"ticks\":\"\"}},\"ternary\":{\"bgcolor\":\"#E5ECF6\",\"aaxis\":{\"gridcolor\":\"white\",\"linecolor\":\"white\",\"ticks\":\"\"},\"baxis\":{\"gridcolor\":\"white\",\"linecolor\":\"white\",\"ticks\":\"\"},\"caxis\":{\"gridcolor\":\"white\",\"linecolor\":\"white\",\"ticks\":\"\"}},\"coloraxis\":{\"colorbar\":{\"outlinewidth\":0,\"ticks\":\"\"}},\"colorscale\":{\"sequential\":[[0.0,\"#0d0887\"],[0.1111111111111111,\"#46039f\"],[0.2222222222222222,\"#7201a8\"],[0.3333333333333333,\"#9c179e\"],[0.4444444444444444,\"#bd3786\"],[0.5555555555555556,\"#d8576b\"],[0.6666666666666666,\"#ed7953\"],[0.7777777777777778,\"#fb9f3a\"],[0.8888888888888888,\"#fdca26\"],[1.0,\"#f0f921\"]],\"sequentialminus\":[[0.0,\"#0d0887\"],[0.1111111111111111,\"#46039f\"],[0.2222222222222222,\"#7201a8\"],[0.3333333333333333,\"#9c179e\"],[0.4444444444444444,\"#bd3786\"],[0.5555555555555556,\"#d8576b\"],[0.6666666666666666,\"#ed7953\"],[0.7777777777777778,\"#fb9f3a\"],[0.8888888888888888,\"#fdca26\"],[1.0,\"#f0f921\"]],\"diverging\":[[0,\"#8e0152\"],[0.1,\"#c51b7d\"],[0.2,\"#de77ae\"],[0.3,\"#f1b6da\"],[0.4,\"#fde0ef\"],[0.5,\"#f7f7f7\"],[0.6,\"#e6f5d0\"],[0.7,\"#b8e186\"],[0.8,\"#7fbc41\"],[0.9,\"#4d9221\"],[1,\"#276419\"]]},\"xaxis\":{\"gridcolor\":\"white\",\"linecolor\":\"white\",\"ticks\":\"\",\"title\":{\"standoff\":15},\"zerolinecolor\":\"white\",\"automargin\":true,\"zerolinewidth\":2},\"yaxis\":{\"gridcolor\":\"white\",\"linecolor\":\"white\",\"ticks\":\"\",\"title\":{\"standoff\":15},\"zerolinecolor\":\"white\",\"automargin\":true,\"zerolinewidth\":2},\"scene\":{\"xaxis\":{\"backgroundcolor\":\"#E5ECF6\",\"gridcolor\":\"white\",\"linecolor\":\"white\",\"showbackground\":true,\"ticks\":\"\",\"zerolinecolor\":\"white\",\"gridwidth\":2},\"yaxis\":{\"backgroundcolor\":\"#E5ECF6\",\"gridcolor\":\"white\",\"linecolor\":\"white\",\"showbackground\":true,\"ticks\":\"\",\"zerolinecolor\":\"white\",\"gridwidth\":2},\"zaxis\":{\"backgroundcolor\":\"#E5ECF6\",\"gridcolor\":\"white\",\"linecolor\":\"white\",\"showbackground\":true,\"ticks\":\"\",\"zerolinecolor\":\"white\",\"gridwidth\":2}},\"shapedefaults\":{\"line\":{\"color\":\"#2a3f5f\"}},\"annotationdefaults\":{\"arrowcolor\":\"#2a3f5f\",\"arrowhead\":0,\"arrowwidth\":1},\"geo\":{\"bgcolor\":\"white\",\"landcolor\":\"#E5ECF6\",\"subunitcolor\":\"white\",\"showland\":true,\"showlakes\":true,\"lakecolor\":\"white\"},\"title\":{\"x\":0.05},\"mapbox\":{\"style\":\"light\"}}},\"xaxis\":{\"anchor\":\"y\",\"domain\":[0.0,0.2125],\"title\":{\"text\":\"Head\"}},\"yaxis\":{\"anchor\":\"x\",\"domain\":[0.0,1.0],\"title\":{\"text\":\"Layer\"}},\"xaxis2\":{\"anchor\":\"y2\",\"domain\":[0.2625,0.475],\"title\":{\"text\":\"Head\"}},\"yaxis2\":{\"anchor\":\"x2\",\"domain\":[0.0,1.0]},\"xaxis3\":{\"anchor\":\"y3\",\"domain\":[0.525,0.7375],\"title\":{\"text\":\"Head\"}},\"yaxis3\":{\"anchor\":\"x3\",\"domain\":[0.0,1.0]},\"xaxis4\":{\"anchor\":\"y4\",\"domain\":[0.7875,1.0],\"title\":{\"text\":\"Head\"}},\"yaxis4\":{\"anchor\":\"x4\",\"domain\":[0.0,1.0]},\"annotations\":[{\"font\":{\"size\":16},\"showarrow\":false,\"text\":\"Q\",\"x\":0.10625,\"xanchor\":\"center\",\"xref\":\"paper\",\"y\":1.0,\"yanchor\":\"bottom\",\"yref\":\"paper\"},{\"font\":{\"size\":16},\"showarrow\":false,\"text\":\"K\",\"x\":0.36875,\"xanchor\":\"center\",\"xref\":\"paper\",\"y\":1.0,\"yanchor\":\"bottom\",\"yref\":\"paper\"},{\"font\":{\"size\":16},\"showarrow\":false,\"text\":\"V\",\"x\":0.6312500000000001,\"xanchor\":\"center\",\"xref\":\"paper\",\"y\":1.0,\"yanchor\":\"bottom\",\"yref\":\"paper\"},{\"font\":{\"size\":16},\"showarrow\":false,\"text\":\"O\",\"x\":0.89375,\"xanchor\":\"center\",\"xref\":\"paper\",\"y\":1.0,\"yanchor\":\"bottom\",\"yref\":\"paper\"}]},                        {\"responsive\": true}                    ).then(function(){\n",
              "                            \n",
              "var gd = document.getElementById('dc4b6d76-80f2-48bf-b581-fcc859bc041f');\n",
              "var x = new MutationObserver(function (mutations, observer) {{\n",
              "        var display = window.getComputedStyle(gd).display;\n",
              "        if (!display || display === 'none') {{\n",
              "            console.log([gd, 'removed!']);\n",
              "            Plotly.purge(gd);\n",
              "            observer.disconnect();\n",
              "        }}\n",
              "}});\n",
              "\n",
              "// Listen for the removal of the full notebook cells\n",
              "var notebookContainer = gd.closest('#notebook-container');\n",
              "if (notebookContainer) {{\n",
              "    x.observe(notebookContainer, {childList: true});\n",
              "}}\n",
              "\n",
              "// Listen for the clearing of the current output cell\n",
              "var outputEl = gd.closest('.output');\n",
              "if (outputEl) {{\n",
              "    x.observe(outputEl, {childList: true});\n",
              "}}\n",
              "\n",
              "                        })                };                });            </script>        </div>"
            ]
          },
          "metadata": {},
          "output_type": "display_data"
        }
      ],
      "source": [
        "diffK, diffQ, diffV, diffO = get_lora_attn_norm(peft_model.base_model.model.model.layers, normalize=True)\n",
        "imshow_attn(diffO, diffV, diffQ, diffK, red_to_blue=True)"
      ]
    },
    {
      "cell_type": "code",
      "execution_count": 126,
      "metadata": {},
      "outputs": [
        {
          "data": {
            "application/vnd.plotly.v1+json": {
              "config": {
                "plotlyServerURL": "https://plot.ly"
              },
              "data": [
                {
                  "coloraxis": "coloraxis",
                  "hovertemplate": "x: %{x}<br>y: %{y}<br>color: %{z}<extra></extra>",
                  "name": "0",
                  "type": "heatmap",
                  "xaxis": "x",
                  "yaxis": "y",
                  "z": [
                    [
                      0.5039829015731812,
                      0.04364806413650513,
                      0.13061967492103577,
                      0.37548303604125977,
                      0.10854317992925644,
                      0.008066440932452679,
                      0.09665948152542114,
                      0.15765918791294098,
                      0.45874735713005066,
                      0.1878252774477005,
                      0.4671277701854706,
                      0.4974111020565033,
                      0.2141900211572647,
                      0.19278106093406677,
                      0.1648978292942047,
                      0.10624229907989502,
                      0,
                      0.5819082260131836,
                      0.12516061961650848,
                      0.06820559501647949,
                      0.13312387466430664,
                      0.48480674624443054,
                      0.6032535433769226,
                      0.46124595403671265,
                      0.8690221309661865,
                      1,
                      0.8742654323577881,
                      0.9812690615653992,
                      0.3145209848880768,
                      0.2992304265499115,
                      0.6607990860939026,
                      0.03229992464184761
                    ]
                  ]
                }
              ],
              "layout": {
                "coloraxis": {
                  "cmid": 0,
                  "colorscale": [
                    [
                      0,
                      "rgb(103,0,31)"
                    ],
                    [
                      0.1,
                      "rgb(178,24,43)"
                    ],
                    [
                      0.2,
                      "rgb(214,96,77)"
                    ],
                    [
                      0.3,
                      "rgb(244,165,130)"
                    ],
                    [
                      0.4,
                      "rgb(253,219,199)"
                    ],
                    [
                      0.5,
                      "rgb(247,247,247)"
                    ],
                    [
                      0.6,
                      "rgb(209,229,240)"
                    ],
                    [
                      0.7,
                      "rgb(146,197,222)"
                    ],
                    [
                      0.8,
                      "rgb(67,147,195)"
                    ],
                    [
                      0.9,
                      "rgb(33,102,172)"
                    ],
                    [
                      1,
                      "rgb(5,48,97)"
                    ]
                  ]
                },
                "template": {
                  "data": {
                    "bar": [
                      {
                        "error_x": {
                          "color": "#2a3f5f"
                        },
                        "error_y": {
                          "color": "#2a3f5f"
                        },
                        "marker": {
                          "line": {
                            "color": "#E5ECF6",
                            "width": 0.5
                          },
                          "pattern": {
                            "fillmode": "overlay",
                            "size": 10,
                            "solidity": 0.2
                          }
                        },
                        "type": "bar"
                      }
                    ],
                    "barpolar": [
                      {
                        "marker": {
                          "line": {
                            "color": "#E5ECF6",
                            "width": 0.5
                          },
                          "pattern": {
                            "fillmode": "overlay",
                            "size": 10,
                            "solidity": 0.2
                          }
                        },
                        "type": "barpolar"
                      }
                    ],
                    "carpet": [
                      {
                        "aaxis": {
                          "endlinecolor": "#2a3f5f",
                          "gridcolor": "white",
                          "linecolor": "white",
                          "minorgridcolor": "white",
                          "startlinecolor": "#2a3f5f"
                        },
                        "baxis": {
                          "endlinecolor": "#2a3f5f",
                          "gridcolor": "white",
                          "linecolor": "white",
                          "minorgridcolor": "white",
                          "startlinecolor": "#2a3f5f"
                        },
                        "type": "carpet"
                      }
                    ],
                    "choropleth": [
                      {
                        "colorbar": {
                          "outlinewidth": 0,
                          "ticks": ""
                        },
                        "type": "choropleth"
                      }
                    ],
                    "contour": [
                      {
                        "colorbar": {
                          "outlinewidth": 0,
                          "ticks": ""
                        },
                        "colorscale": [
                          [
                            0,
                            "#0d0887"
                          ],
                          [
                            0.1111111111111111,
                            "#46039f"
                          ],
                          [
                            0.2222222222222222,
                            "#7201a8"
                          ],
                          [
                            0.3333333333333333,
                            "#9c179e"
                          ],
                          [
                            0.4444444444444444,
                            "#bd3786"
                          ],
                          [
                            0.5555555555555556,
                            "#d8576b"
                          ],
                          [
                            0.6666666666666666,
                            "#ed7953"
                          ],
                          [
                            0.7777777777777778,
                            "#fb9f3a"
                          ],
                          [
                            0.8888888888888888,
                            "#fdca26"
                          ],
                          [
                            1,
                            "#f0f921"
                          ]
                        ],
                        "type": "contour"
                      }
                    ],
                    "contourcarpet": [
                      {
                        "colorbar": {
                          "outlinewidth": 0,
                          "ticks": ""
                        },
                        "type": "contourcarpet"
                      }
                    ],
                    "heatmap": [
                      {
                        "colorbar": {
                          "outlinewidth": 0,
                          "ticks": ""
                        },
                        "colorscale": [
                          [
                            0,
                            "#0d0887"
                          ],
                          [
                            0.1111111111111111,
                            "#46039f"
                          ],
                          [
                            0.2222222222222222,
                            "#7201a8"
                          ],
                          [
                            0.3333333333333333,
                            "#9c179e"
                          ],
                          [
                            0.4444444444444444,
                            "#bd3786"
                          ],
                          [
                            0.5555555555555556,
                            "#d8576b"
                          ],
                          [
                            0.6666666666666666,
                            "#ed7953"
                          ],
                          [
                            0.7777777777777778,
                            "#fb9f3a"
                          ],
                          [
                            0.8888888888888888,
                            "#fdca26"
                          ],
                          [
                            1,
                            "#f0f921"
                          ]
                        ],
                        "type": "heatmap"
                      }
                    ],
                    "heatmapgl": [
                      {
                        "colorbar": {
                          "outlinewidth": 0,
                          "ticks": ""
                        },
                        "colorscale": [
                          [
                            0,
                            "#0d0887"
                          ],
                          [
                            0.1111111111111111,
                            "#46039f"
                          ],
                          [
                            0.2222222222222222,
                            "#7201a8"
                          ],
                          [
                            0.3333333333333333,
                            "#9c179e"
                          ],
                          [
                            0.4444444444444444,
                            "#bd3786"
                          ],
                          [
                            0.5555555555555556,
                            "#d8576b"
                          ],
                          [
                            0.6666666666666666,
                            "#ed7953"
                          ],
                          [
                            0.7777777777777778,
                            "#fb9f3a"
                          ],
                          [
                            0.8888888888888888,
                            "#fdca26"
                          ],
                          [
                            1,
                            "#f0f921"
                          ]
                        ],
                        "type": "heatmapgl"
                      }
                    ],
                    "histogram": [
                      {
                        "marker": {
                          "pattern": {
                            "fillmode": "overlay",
                            "size": 10,
                            "solidity": 0.2
                          }
                        },
                        "type": "histogram"
                      }
                    ],
                    "histogram2d": [
                      {
                        "colorbar": {
                          "outlinewidth": 0,
                          "ticks": ""
                        },
                        "colorscale": [
                          [
                            0,
                            "#0d0887"
                          ],
                          [
                            0.1111111111111111,
                            "#46039f"
                          ],
                          [
                            0.2222222222222222,
                            "#7201a8"
                          ],
                          [
                            0.3333333333333333,
                            "#9c179e"
                          ],
                          [
                            0.4444444444444444,
                            "#bd3786"
                          ],
                          [
                            0.5555555555555556,
                            "#d8576b"
                          ],
                          [
                            0.6666666666666666,
                            "#ed7953"
                          ],
                          [
                            0.7777777777777778,
                            "#fb9f3a"
                          ],
                          [
                            0.8888888888888888,
                            "#fdca26"
                          ],
                          [
                            1,
                            "#f0f921"
                          ]
                        ],
                        "type": "histogram2d"
                      }
                    ],
                    "histogram2dcontour": [
                      {
                        "colorbar": {
                          "outlinewidth": 0,
                          "ticks": ""
                        },
                        "colorscale": [
                          [
                            0,
                            "#0d0887"
                          ],
                          [
                            0.1111111111111111,
                            "#46039f"
                          ],
                          [
                            0.2222222222222222,
                            "#7201a8"
                          ],
                          [
                            0.3333333333333333,
                            "#9c179e"
                          ],
                          [
                            0.4444444444444444,
                            "#bd3786"
                          ],
                          [
                            0.5555555555555556,
                            "#d8576b"
                          ],
                          [
                            0.6666666666666666,
                            "#ed7953"
                          ],
                          [
                            0.7777777777777778,
                            "#fb9f3a"
                          ],
                          [
                            0.8888888888888888,
                            "#fdca26"
                          ],
                          [
                            1,
                            "#f0f921"
                          ]
                        ],
                        "type": "histogram2dcontour"
                      }
                    ],
                    "mesh3d": [
                      {
                        "colorbar": {
                          "outlinewidth": 0,
                          "ticks": ""
                        },
                        "type": "mesh3d"
                      }
                    ],
                    "parcoords": [
                      {
                        "line": {
                          "colorbar": {
                            "outlinewidth": 0,
                            "ticks": ""
                          }
                        },
                        "type": "parcoords"
                      }
                    ],
                    "pie": [
                      {
                        "automargin": true,
                        "type": "pie"
                      }
                    ],
                    "scatter": [
                      {
                        "fillpattern": {
                          "fillmode": "overlay",
                          "size": 10,
                          "solidity": 0.2
                        },
                        "type": "scatter"
                      }
                    ],
                    "scatter3d": [
                      {
                        "line": {
                          "colorbar": {
                            "outlinewidth": 0,
                            "ticks": ""
                          }
                        },
                        "marker": {
                          "colorbar": {
                            "outlinewidth": 0,
                            "ticks": ""
                          }
                        },
                        "type": "scatter3d"
                      }
                    ],
                    "scattercarpet": [
                      {
                        "marker": {
                          "colorbar": {
                            "outlinewidth": 0,
                            "ticks": ""
                          }
                        },
                        "type": "scattercarpet"
                      }
                    ],
                    "scattergeo": [
                      {
                        "marker": {
                          "colorbar": {
                            "outlinewidth": 0,
                            "ticks": ""
                          }
                        },
                        "type": "scattergeo"
                      }
                    ],
                    "scattergl": [
                      {
                        "marker": {
                          "colorbar": {
                            "outlinewidth": 0,
                            "ticks": ""
                          }
                        },
                        "type": "scattergl"
                      }
                    ],
                    "scattermapbox": [
                      {
                        "marker": {
                          "colorbar": {
                            "outlinewidth": 0,
                            "ticks": ""
                          }
                        },
                        "type": "scattermapbox"
                      }
                    ],
                    "scatterpolar": [
                      {
                        "marker": {
                          "colorbar": {
                            "outlinewidth": 0,
                            "ticks": ""
                          }
                        },
                        "type": "scatterpolar"
                      }
                    ],
                    "scatterpolargl": [
                      {
                        "marker": {
                          "colorbar": {
                            "outlinewidth": 0,
                            "ticks": ""
                          }
                        },
                        "type": "scatterpolargl"
                      }
                    ],
                    "scatterternary": [
                      {
                        "marker": {
                          "colorbar": {
                            "outlinewidth": 0,
                            "ticks": ""
                          }
                        },
                        "type": "scatterternary"
                      }
                    ],
                    "surface": [
                      {
                        "colorbar": {
                          "outlinewidth": 0,
                          "ticks": ""
                        },
                        "colorscale": [
                          [
                            0,
                            "#0d0887"
                          ],
                          [
                            0.1111111111111111,
                            "#46039f"
                          ],
                          [
                            0.2222222222222222,
                            "#7201a8"
                          ],
                          [
                            0.3333333333333333,
                            "#9c179e"
                          ],
                          [
                            0.4444444444444444,
                            "#bd3786"
                          ],
                          [
                            0.5555555555555556,
                            "#d8576b"
                          ],
                          [
                            0.6666666666666666,
                            "#ed7953"
                          ],
                          [
                            0.7777777777777778,
                            "#fb9f3a"
                          ],
                          [
                            0.8888888888888888,
                            "#fdca26"
                          ],
                          [
                            1,
                            "#f0f921"
                          ]
                        ],
                        "type": "surface"
                      }
                    ],
                    "table": [
                      {
                        "cells": {
                          "fill": {
                            "color": "#EBF0F8"
                          },
                          "line": {
                            "color": "white"
                          }
                        },
                        "header": {
                          "fill": {
                            "color": "#C8D4E3"
                          },
                          "line": {
                            "color": "white"
                          }
                        },
                        "type": "table"
                      }
                    ]
                  },
                  "layout": {
                    "annotationdefaults": {
                      "arrowcolor": "#2a3f5f",
                      "arrowhead": 0,
                      "arrowwidth": 1
                    },
                    "autotypenumbers": "strict",
                    "coloraxis": {
                      "colorbar": {
                        "outlinewidth": 0,
                        "ticks": ""
                      }
                    },
                    "colorscale": {
                      "diverging": [
                        [
                          0,
                          "#8e0152"
                        ],
                        [
                          0.1,
                          "#c51b7d"
                        ],
                        [
                          0.2,
                          "#de77ae"
                        ],
                        [
                          0.3,
                          "#f1b6da"
                        ],
                        [
                          0.4,
                          "#fde0ef"
                        ],
                        [
                          0.5,
                          "#f7f7f7"
                        ],
                        [
                          0.6,
                          "#e6f5d0"
                        ],
                        [
                          0.7,
                          "#b8e186"
                        ],
                        [
                          0.8,
                          "#7fbc41"
                        ],
                        [
                          0.9,
                          "#4d9221"
                        ],
                        [
                          1,
                          "#276419"
                        ]
                      ],
                      "sequential": [
                        [
                          0,
                          "#0d0887"
                        ],
                        [
                          0.1111111111111111,
                          "#46039f"
                        ],
                        [
                          0.2222222222222222,
                          "#7201a8"
                        ],
                        [
                          0.3333333333333333,
                          "#9c179e"
                        ],
                        [
                          0.4444444444444444,
                          "#bd3786"
                        ],
                        [
                          0.5555555555555556,
                          "#d8576b"
                        ],
                        [
                          0.6666666666666666,
                          "#ed7953"
                        ],
                        [
                          0.7777777777777778,
                          "#fb9f3a"
                        ],
                        [
                          0.8888888888888888,
                          "#fdca26"
                        ],
                        [
                          1,
                          "#f0f921"
                        ]
                      ],
                      "sequentialminus": [
                        [
                          0,
                          "#0d0887"
                        ],
                        [
                          0.1111111111111111,
                          "#46039f"
                        ],
                        [
                          0.2222222222222222,
                          "#7201a8"
                        ],
                        [
                          0.3333333333333333,
                          "#9c179e"
                        ],
                        [
                          0.4444444444444444,
                          "#bd3786"
                        ],
                        [
                          0.5555555555555556,
                          "#d8576b"
                        ],
                        [
                          0.6666666666666666,
                          "#ed7953"
                        ],
                        [
                          0.7777777777777778,
                          "#fb9f3a"
                        ],
                        [
                          0.8888888888888888,
                          "#fdca26"
                        ],
                        [
                          1,
                          "#f0f921"
                        ]
                      ]
                    },
                    "colorway": [
                      "#636efa",
                      "#EF553B",
                      "#00cc96",
                      "#ab63fa",
                      "#FFA15A",
                      "#19d3f3",
                      "#FF6692",
                      "#B6E880",
                      "#FF97FF",
                      "#FECB52"
                    ],
                    "font": {
                      "color": "#2a3f5f"
                    },
                    "geo": {
                      "bgcolor": "white",
                      "lakecolor": "white",
                      "landcolor": "#E5ECF6",
                      "showlakes": true,
                      "showland": true,
                      "subunitcolor": "white"
                    },
                    "hoverlabel": {
                      "align": "left"
                    },
                    "hovermode": "closest",
                    "mapbox": {
                      "style": "light"
                    },
                    "paper_bgcolor": "white",
                    "plot_bgcolor": "#E5ECF6",
                    "polar": {
                      "angularaxis": {
                        "gridcolor": "white",
                        "linecolor": "white",
                        "ticks": ""
                      },
                      "bgcolor": "#E5ECF6",
                      "radialaxis": {
                        "gridcolor": "white",
                        "linecolor": "white",
                        "ticks": ""
                      }
                    },
                    "scene": {
                      "xaxis": {
                        "backgroundcolor": "#E5ECF6",
                        "gridcolor": "white",
                        "gridwidth": 2,
                        "linecolor": "white",
                        "showbackground": true,
                        "ticks": "",
                        "zerolinecolor": "white"
                      },
                      "yaxis": {
                        "backgroundcolor": "#E5ECF6",
                        "gridcolor": "white",
                        "gridwidth": 2,
                        "linecolor": "white",
                        "showbackground": true,
                        "ticks": "",
                        "zerolinecolor": "white"
                      },
                      "zaxis": {
                        "backgroundcolor": "#E5ECF6",
                        "gridcolor": "white",
                        "gridwidth": 2,
                        "linecolor": "white",
                        "showbackground": true,
                        "ticks": "",
                        "zerolinecolor": "white"
                      }
                    },
                    "shapedefaults": {
                      "line": {
                        "color": "#2a3f5f"
                      }
                    },
                    "ternary": {
                      "aaxis": {
                        "gridcolor": "white",
                        "linecolor": "white",
                        "ticks": ""
                      },
                      "baxis": {
                        "gridcolor": "white",
                        "linecolor": "white",
                        "ticks": ""
                      },
                      "bgcolor": "#E5ECF6",
                      "caxis": {
                        "gridcolor": "white",
                        "linecolor": "white",
                        "ticks": ""
                      }
                    },
                    "title": {
                      "x": 0.05
                    },
                    "xaxis": {
                      "automargin": true,
                      "gridcolor": "white",
                      "linecolor": "white",
                      "ticks": "",
                      "title": {
                        "standoff": 15
                      },
                      "zerolinecolor": "white",
                      "zerolinewidth": 2
                    },
                    "yaxis": {
                      "automargin": true,
                      "gridcolor": "white",
                      "linecolor": "white",
                      "ticks": "",
                      "title": {
                        "standoff": 15
                      },
                      "zerolinecolor": "white",
                      "zerolinewidth": 2
                    }
                  }
                },
                "title": {
                  "text": "Layer Weight"
                },
                "xaxis": {
                  "anchor": "y",
                  "constrain": "domain",
                  "domain": [
                    0,
                    1
                  ],
                  "scaleanchor": "y"
                },
                "yaxis": {
                  "anchor": "x",
                  "autorange": "reversed",
                  "constrain": "domain",
                  "domain": [
                    0,
                    1
                  ]
                }
              }
            },
            "text/html": [
              "<div>                            <div id=\"6ee2bb1c-8a6e-4985-b5b7-1336c77feda5\" class=\"plotly-graph-div\" style=\"height:525px; width:100%;\"></div>            <script type=\"text/javascript\">                require([\"plotly\"], function(Plotly) {                    window.PLOTLYENV=window.PLOTLYENV || {};                                    if (document.getElementById(\"6ee2bb1c-8a6e-4985-b5b7-1336c77feda5\")) {                    Plotly.newPlot(                        \"6ee2bb1c-8a6e-4985-b5b7-1336c77feda5\",                        [{\"coloraxis\":\"coloraxis\",\"name\":\"0\",\"z\":[[0.5039829015731812,0.04364806413650513,0.13061967492103577,0.37548303604125977,0.10854317992925644,0.008066440932452679,0.09665948152542114,0.15765918791294098,0.45874735713005066,0.1878252774477005,0.4671277701854706,0.4974111020565033,0.2141900211572647,0.19278106093406677,0.1648978292942047,0.10624229907989502,0.0,0.5819082260131836,0.12516061961650848,0.06820559501647949,0.13312387466430664,0.48480674624443054,0.6032535433769226,0.46124595403671265,0.8690221309661865,1.0,0.8742654323577881,0.9812690615653992,0.3145209848880768,0.2992304265499115,0.6607990860939026,0.03229992464184761]],\"type\":\"heatmap\",\"xaxis\":\"x\",\"yaxis\":\"y\",\"hovertemplate\":\"x: %{x}\\u003cbr\\u003ey: %{y}\\u003cbr\\u003ecolor: %{z}\\u003cextra\\u003e\\u003c\\u002fextra\\u003e\"}],                        {\"template\":{\"data\":{\"histogram2dcontour\":[{\"type\":\"histogram2dcontour\",\"colorbar\":{\"outlinewidth\":0,\"ticks\":\"\"},\"colorscale\":[[0.0,\"#0d0887\"],[0.1111111111111111,\"#46039f\"],[0.2222222222222222,\"#7201a8\"],[0.3333333333333333,\"#9c179e\"],[0.4444444444444444,\"#bd3786\"],[0.5555555555555556,\"#d8576b\"],[0.6666666666666666,\"#ed7953\"],[0.7777777777777778,\"#fb9f3a\"],[0.8888888888888888,\"#fdca26\"],[1.0,\"#f0f921\"]]}],\"choropleth\":[{\"type\":\"choropleth\",\"colorbar\":{\"outlinewidth\":0,\"ticks\":\"\"}}],\"histogram2d\":[{\"type\":\"histogram2d\",\"colorbar\":{\"outlinewidth\":0,\"ticks\":\"\"},\"colorscale\":[[0.0,\"#0d0887\"],[0.1111111111111111,\"#46039f\"],[0.2222222222222222,\"#7201a8\"],[0.3333333333333333,\"#9c179e\"],[0.4444444444444444,\"#bd3786\"],[0.5555555555555556,\"#d8576b\"],[0.6666666666666666,\"#ed7953\"],[0.7777777777777778,\"#fb9f3a\"],[0.8888888888888888,\"#fdca26\"],[1.0,\"#f0f921\"]]}],\"heatmap\":[{\"type\":\"heatmap\",\"colorbar\":{\"outlinewidth\":0,\"ticks\":\"\"},\"colorscale\":[[0.0,\"#0d0887\"],[0.1111111111111111,\"#46039f\"],[0.2222222222222222,\"#7201a8\"],[0.3333333333333333,\"#9c179e\"],[0.4444444444444444,\"#bd3786\"],[0.5555555555555556,\"#d8576b\"],[0.6666666666666666,\"#ed7953\"],[0.7777777777777778,\"#fb9f3a\"],[0.8888888888888888,\"#fdca26\"],[1.0,\"#f0f921\"]]}],\"heatmapgl\":[{\"type\":\"heatmapgl\",\"colorbar\":{\"outlinewidth\":0,\"ticks\":\"\"},\"colorscale\":[[0.0,\"#0d0887\"],[0.1111111111111111,\"#46039f\"],[0.2222222222222222,\"#7201a8\"],[0.3333333333333333,\"#9c179e\"],[0.4444444444444444,\"#bd3786\"],[0.5555555555555556,\"#d8576b\"],[0.6666666666666666,\"#ed7953\"],[0.7777777777777778,\"#fb9f3a\"],[0.8888888888888888,\"#fdca26\"],[1.0,\"#f0f921\"]]}],\"contourcarpet\":[{\"type\":\"contourcarpet\",\"colorbar\":{\"outlinewidth\":0,\"ticks\":\"\"}}],\"contour\":[{\"type\":\"contour\",\"colorbar\":{\"outlinewidth\":0,\"ticks\":\"\"},\"colorscale\":[[0.0,\"#0d0887\"],[0.1111111111111111,\"#46039f\"],[0.2222222222222222,\"#7201a8\"],[0.3333333333333333,\"#9c179e\"],[0.4444444444444444,\"#bd3786\"],[0.5555555555555556,\"#d8576b\"],[0.6666666666666666,\"#ed7953\"],[0.7777777777777778,\"#fb9f3a\"],[0.8888888888888888,\"#fdca26\"],[1.0,\"#f0f921\"]]}],\"surface\":[{\"type\":\"surface\",\"colorbar\":{\"outlinewidth\":0,\"ticks\":\"\"},\"colorscale\":[[0.0,\"#0d0887\"],[0.1111111111111111,\"#46039f\"],[0.2222222222222222,\"#7201a8\"],[0.3333333333333333,\"#9c179e\"],[0.4444444444444444,\"#bd3786\"],[0.5555555555555556,\"#d8576b\"],[0.6666666666666666,\"#ed7953\"],[0.7777777777777778,\"#fb9f3a\"],[0.8888888888888888,\"#fdca26\"],[1.0,\"#f0f921\"]]}],\"mesh3d\":[{\"type\":\"mesh3d\",\"colorbar\":{\"outlinewidth\":0,\"ticks\":\"\"}}],\"scatter\":[{\"fillpattern\":{\"fillmode\":\"overlay\",\"size\":10,\"solidity\":0.2},\"type\":\"scatter\"}],\"parcoords\":[{\"type\":\"parcoords\",\"line\":{\"colorbar\":{\"outlinewidth\":0,\"ticks\":\"\"}}}],\"scatterpolargl\":[{\"type\":\"scatterpolargl\",\"marker\":{\"colorbar\":{\"outlinewidth\":0,\"ticks\":\"\"}}}],\"bar\":[{\"error_x\":{\"color\":\"#2a3f5f\"},\"error_y\":{\"color\":\"#2a3f5f\"},\"marker\":{\"line\":{\"color\":\"#E5ECF6\",\"width\":0.5},\"pattern\":{\"fillmode\":\"overlay\",\"size\":10,\"solidity\":0.2}},\"type\":\"bar\"}],\"scattergeo\":[{\"type\":\"scattergeo\",\"marker\":{\"colorbar\":{\"outlinewidth\":0,\"ticks\":\"\"}}}],\"scatterpolar\":[{\"type\":\"scatterpolar\",\"marker\":{\"colorbar\":{\"outlinewidth\":0,\"ticks\":\"\"}}}],\"histogram\":[{\"marker\":{\"pattern\":{\"fillmode\":\"overlay\",\"size\":10,\"solidity\":0.2}},\"type\":\"histogram\"}],\"scattergl\":[{\"type\":\"scattergl\",\"marker\":{\"colorbar\":{\"outlinewidth\":0,\"ticks\":\"\"}}}],\"scatter3d\":[{\"type\":\"scatter3d\",\"line\":{\"colorbar\":{\"outlinewidth\":0,\"ticks\":\"\"}},\"marker\":{\"colorbar\":{\"outlinewidth\":0,\"ticks\":\"\"}}}],\"scattermapbox\":[{\"type\":\"scattermapbox\",\"marker\":{\"colorbar\":{\"outlinewidth\":0,\"ticks\":\"\"}}}],\"scatterternary\":[{\"type\":\"scatterternary\",\"marker\":{\"colorbar\":{\"outlinewidth\":0,\"ticks\":\"\"}}}],\"scattercarpet\":[{\"type\":\"scattercarpet\",\"marker\":{\"colorbar\":{\"outlinewidth\":0,\"ticks\":\"\"}}}],\"carpet\":[{\"aaxis\":{\"endlinecolor\":\"#2a3f5f\",\"gridcolor\":\"white\",\"linecolor\":\"white\",\"minorgridcolor\":\"white\",\"startlinecolor\":\"#2a3f5f\"},\"baxis\":{\"endlinecolor\":\"#2a3f5f\",\"gridcolor\":\"white\",\"linecolor\":\"white\",\"minorgridcolor\":\"white\",\"startlinecolor\":\"#2a3f5f\"},\"type\":\"carpet\"}],\"table\":[{\"cells\":{\"fill\":{\"color\":\"#EBF0F8\"},\"line\":{\"color\":\"white\"}},\"header\":{\"fill\":{\"color\":\"#C8D4E3\"},\"line\":{\"color\":\"white\"}},\"type\":\"table\"}],\"barpolar\":[{\"marker\":{\"line\":{\"color\":\"#E5ECF6\",\"width\":0.5},\"pattern\":{\"fillmode\":\"overlay\",\"size\":10,\"solidity\":0.2}},\"type\":\"barpolar\"}],\"pie\":[{\"automargin\":true,\"type\":\"pie\"}]},\"layout\":{\"autotypenumbers\":\"strict\",\"colorway\":[\"#636efa\",\"#EF553B\",\"#00cc96\",\"#ab63fa\",\"#FFA15A\",\"#19d3f3\",\"#FF6692\",\"#B6E880\",\"#FF97FF\",\"#FECB52\"],\"font\":{\"color\":\"#2a3f5f\"},\"hovermode\":\"closest\",\"hoverlabel\":{\"align\":\"left\"},\"paper_bgcolor\":\"white\",\"plot_bgcolor\":\"#E5ECF6\",\"polar\":{\"bgcolor\":\"#E5ECF6\",\"angularaxis\":{\"gridcolor\":\"white\",\"linecolor\":\"white\",\"ticks\":\"\"},\"radialaxis\":{\"gridcolor\":\"white\",\"linecolor\":\"white\",\"ticks\":\"\"}},\"ternary\":{\"bgcolor\":\"#E5ECF6\",\"aaxis\":{\"gridcolor\":\"white\",\"linecolor\":\"white\",\"ticks\":\"\"},\"baxis\":{\"gridcolor\":\"white\",\"linecolor\":\"white\",\"ticks\":\"\"},\"caxis\":{\"gridcolor\":\"white\",\"linecolor\":\"white\",\"ticks\":\"\"}},\"coloraxis\":{\"colorbar\":{\"outlinewidth\":0,\"ticks\":\"\"}},\"colorscale\":{\"sequential\":[[0.0,\"#0d0887\"],[0.1111111111111111,\"#46039f\"],[0.2222222222222222,\"#7201a8\"],[0.3333333333333333,\"#9c179e\"],[0.4444444444444444,\"#bd3786\"],[0.5555555555555556,\"#d8576b\"],[0.6666666666666666,\"#ed7953\"],[0.7777777777777778,\"#fb9f3a\"],[0.8888888888888888,\"#fdca26\"],[1.0,\"#f0f921\"]],\"sequentialminus\":[[0.0,\"#0d0887\"],[0.1111111111111111,\"#46039f\"],[0.2222222222222222,\"#7201a8\"],[0.3333333333333333,\"#9c179e\"],[0.4444444444444444,\"#bd3786\"],[0.5555555555555556,\"#d8576b\"],[0.6666666666666666,\"#ed7953\"],[0.7777777777777778,\"#fb9f3a\"],[0.8888888888888888,\"#fdca26\"],[1.0,\"#f0f921\"]],\"diverging\":[[0,\"#8e0152\"],[0.1,\"#c51b7d\"],[0.2,\"#de77ae\"],[0.3,\"#f1b6da\"],[0.4,\"#fde0ef\"],[0.5,\"#f7f7f7\"],[0.6,\"#e6f5d0\"],[0.7,\"#b8e186\"],[0.8,\"#7fbc41\"],[0.9,\"#4d9221\"],[1,\"#276419\"]]},\"xaxis\":{\"gridcolor\":\"white\",\"linecolor\":\"white\",\"ticks\":\"\",\"title\":{\"standoff\":15},\"zerolinecolor\":\"white\",\"automargin\":true,\"zerolinewidth\":2},\"yaxis\":{\"gridcolor\":\"white\",\"linecolor\":\"white\",\"ticks\":\"\",\"title\":{\"standoff\":15},\"zerolinecolor\":\"white\",\"automargin\":true,\"zerolinewidth\":2},\"scene\":{\"xaxis\":{\"backgroundcolor\":\"#E5ECF6\",\"gridcolor\":\"white\",\"linecolor\":\"white\",\"showbackground\":true,\"ticks\":\"\",\"zerolinecolor\":\"white\",\"gridwidth\":2},\"yaxis\":{\"backgroundcolor\":\"#E5ECF6\",\"gridcolor\":\"white\",\"linecolor\":\"white\",\"showbackground\":true,\"ticks\":\"\",\"zerolinecolor\":\"white\",\"gridwidth\":2},\"zaxis\":{\"backgroundcolor\":\"#E5ECF6\",\"gridcolor\":\"white\",\"linecolor\":\"white\",\"showbackground\":true,\"ticks\":\"\",\"zerolinecolor\":\"white\",\"gridwidth\":2}},\"shapedefaults\":{\"line\":{\"color\":\"#2a3f5f\"}},\"annotationdefaults\":{\"arrowcolor\":\"#2a3f5f\",\"arrowhead\":0,\"arrowwidth\":1},\"geo\":{\"bgcolor\":\"white\",\"landcolor\":\"#E5ECF6\",\"subunitcolor\":\"white\",\"showland\":true,\"showlakes\":true,\"lakecolor\":\"white\"},\"title\":{\"x\":0.05},\"mapbox\":{\"style\":\"light\"}}},\"xaxis\":{\"anchor\":\"y\",\"domain\":[0.0,1.0],\"scaleanchor\":\"y\",\"constrain\":\"domain\"},\"yaxis\":{\"anchor\":\"x\",\"domain\":[0.0,1.0],\"autorange\":\"reversed\",\"constrain\":\"domain\"},\"coloraxis\":{\"colorscale\":[[0.0,\"rgb(103,0,31)\"],[0.1,\"rgb(178,24,43)\"],[0.2,\"rgb(214,96,77)\"],[0.3,\"rgb(244,165,130)\"],[0.4,\"rgb(253,219,199)\"],[0.5,\"rgb(247,247,247)\"],[0.6,\"rgb(209,229,240)\"],[0.7,\"rgb(146,197,222)\"],[0.8,\"rgb(67,147,195)\"],[0.9,\"rgb(33,102,172)\"],[1.0,\"rgb(5,48,97)\"]],\"cmid\":0.0},\"title\":{\"text\":\"Layer Weight\"}},                        {\"responsive\": true}                    ).then(function(){\n",
              "                            \n",
              "var gd = document.getElementById('6ee2bb1c-8a6e-4985-b5b7-1336c77feda5');\n",
              "var x = new MutationObserver(function (mutations, observer) {{\n",
              "        var display = window.getComputedStyle(gd).display;\n",
              "        if (!display || display === 'none') {{\n",
              "            console.log([gd, 'removed!']);\n",
              "            Plotly.purge(gd);\n",
              "            observer.disconnect();\n",
              "        }}\n",
              "}});\n",
              "\n",
              "// Listen for the removal of the full notebook cells\n",
              "var notebookContainer = gd.closest('#notebook-container');\n",
              "if (notebookContainer) {{\n",
              "    x.observe(notebookContainer, {childList: true});\n",
              "}}\n",
              "\n",
              "// Listen for the clearing of the current output cell\n",
              "var outputEl = gd.closest('.output');\n",
              "if (outputEl) {{\n",
              "    x.observe(outputEl, {childList: true});\n",
              "}}\n",
              "\n",
              "                        })                };                });            </script>        </div>"
            ]
          },
          "metadata": {},
          "output_type": "display_data"
        }
      ],
      "source": [
        "layer_weight = diffK.mean(1) + diffQ.mean(1) + diffV.mean(1) + diffO.mean(1)\n",
        "layer_weight = (layer_weight - layer_weight.min()) / (layer_weight.max() - layer_weight.min())\n",
        "imshow(layer_weight.unsqueeze(0), title=\"Layer Weight\")"
      ]
    },
    {
      "cell_type": "code",
      "execution_count": 51,
      "metadata": {},
      "outputs": [
        {
          "data": {
            "application/vnd.plotly.v1+json": {
              "config": {
                "plotlyServerURL": "https://plot.ly"
              },
              "data": [
                {
                  "colorscale": [
                    [
                      0,
                      "rgb(247,251,255)"
                    ],
                    [
                      0.125,
                      "rgb(222,235,247)"
                    ],
                    [
                      0.25,
                      "rgb(198,219,239)"
                    ],
                    [
                      0.375,
                      "rgb(158,202,225)"
                    ],
                    [
                      0.5,
                      "rgb(107,174,214)"
                    ],
                    [
                      0.625,
                      "rgb(66,146,198)"
                    ],
                    [
                      0.75,
                      "rgb(33,113,181)"
                    ],
                    [
                      0.875,
                      "rgb(8,81,156)"
                    ],
                    [
                      1,
                      "rgb(8,48,107)"
                    ]
                  ],
                  "showscale": false,
                  "type": "heatmap",
                  "xaxis": "x",
                  "yaxis": "y",
                  "z": [
                    [
                      0,
                      0,
                      0,
                      0,
                      0,
                      0,
                      0,
                      0,
                      0,
                      0,
                      0,
                      0,
                      0,
                      0,
                      0,
                      0,
                      0,
                      0,
                      0,
                      0,
                      0,
                      0,
                      0,
                      0,
                      0,
                      0,
                      0,
                      0,
                      0,
                      0,
                      0,
                      0
                    ],
                    [
                      1,
                      1,
                      1,
                      1,
                      1,
                      1,
                      1,
                      1,
                      1,
                      1,
                      1,
                      1,
                      1,
                      1,
                      1,
                      1,
                      1,
                      1,
                      1,
                      1,
                      1,
                      1,
                      1,
                      1,
                      1,
                      1,
                      1,
                      1,
                      1,
                      1,
                      1,
                      1
                    ],
                    [
                      1,
                      1,
                      1,
                      1,
                      1,
                      1,
                      1,
                      1,
                      1,
                      1,
                      1,
                      1,
                      1,
                      1,
                      1,
                      1,
                      1,
                      1,
                      1,
                      1,
                      1,
                      1,
                      1,
                      1,
                      1,
                      1,
                      1,
                      1,
                      1,
                      1,
                      1,
                      1
                    ],
                    [
                      0,
                      0,
                      0,
                      0,
                      0,
                      0,
                      0,
                      0,
                      0,
                      0,
                      0,
                      0,
                      0,
                      0,
                      0,
                      0,
                      0,
                      0,
                      0,
                      0,
                      0,
                      0,
                      0,
                      0,
                      0,
                      0,
                      0,
                      0,
                      0,
                      0,
                      0,
                      0
                    ],
                    [
                      1,
                      1,
                      1,
                      1,
                      1,
                      1,
                      1,
                      1,
                      1,
                      1,
                      1,
                      1,
                      1,
                      1,
                      1,
                      1,
                      1,
                      1,
                      1,
                      1,
                      1,
                      1,
                      1,
                      1,
                      1,
                      1,
                      1,
                      1,
                      1,
                      1,
                      1,
                      1
                    ],
                    [
                      1,
                      1,
                      1,
                      1,
                      1,
                      1,
                      1,
                      1,
                      1,
                      1,
                      1,
                      1,
                      1,
                      1,
                      1,
                      1,
                      1,
                      1,
                      1,
                      1,
                      1,
                      1,
                      1,
                      1,
                      1,
                      1,
                      1,
                      1,
                      1,
                      1,
                      1,
                      1
                    ],
                    [
                      1,
                      1,
                      1,
                      1,
                      1,
                      1,
                      1,
                      1,
                      1,
                      1,
                      1,
                      1,
                      1,
                      1,
                      1,
                      1,
                      1,
                      1,
                      1,
                      1,
                      1,
                      1,
                      1,
                      1,
                      1,
                      1,
                      1,
                      1,
                      1,
                      1,
                      1,
                      1
                    ],
                    [
                      1,
                      1,
                      1,
                      1,
                      1,
                      1,
                      1,
                      1,
                      1,
                      1,
                      1,
                      1,
                      1,
                      1,
                      1,
                      1,
                      1,
                      1,
                      1,
                      1,
                      1,
                      1,
                      1,
                      1,
                      1,
                      1,
                      1,
                      1,
                      1,
                      1,
                      1,
                      1
                    ],
                    [
                      0,
                      0,
                      0,
                      0,
                      0,
                      0,
                      0,
                      0,
                      0,
                      0,
                      0,
                      0,
                      0,
                      0,
                      0,
                      0,
                      0,
                      0,
                      0,
                      0,
                      0,
                      0,
                      0,
                      0,
                      0,
                      0,
                      0,
                      0,
                      0,
                      0,
                      0,
                      0
                    ],
                    [
                      0,
                      0,
                      0,
                      0,
                      0,
                      0,
                      0,
                      0,
                      0,
                      0,
                      0,
                      0,
                      0,
                      0,
                      0,
                      0,
                      0,
                      0,
                      0,
                      0,
                      0,
                      0,
                      0,
                      0,
                      0,
                      0,
                      0,
                      0,
                      0,
                      0,
                      0,
                      0
                    ],
                    [
                      0,
                      0,
                      0,
                      0,
                      0,
                      0,
                      0,
                      0,
                      0,
                      0,
                      0,
                      0,
                      0,
                      0,
                      0,
                      0,
                      0,
                      0,
                      0,
                      0,
                      0,
                      0,
                      0,
                      0,
                      0,
                      0,
                      0,
                      0,
                      0,
                      0,
                      0,
                      0
                    ],
                    [
                      0,
                      0,
                      0,
                      0,
                      0,
                      0,
                      0,
                      0,
                      0,
                      0,
                      0,
                      0,
                      0,
                      0,
                      0,
                      0,
                      0,
                      0,
                      0,
                      0,
                      0,
                      0,
                      0,
                      0,
                      0,
                      0,
                      0,
                      0,
                      0,
                      0,
                      0,
                      0
                    ],
                    [
                      0,
                      0,
                      0,
                      0,
                      0,
                      0,
                      0,
                      0,
                      0,
                      0,
                      0,
                      0,
                      0,
                      0,
                      0,
                      0,
                      0,
                      0,
                      0,
                      0,
                      0,
                      0,
                      0,
                      0,
                      0,
                      0,
                      0,
                      0,
                      0,
                      0,
                      0,
                      0
                    ],
                    [
                      0,
                      0,
                      0,
                      0,
                      0,
                      0,
                      0,
                      0,
                      0,
                      0,
                      0,
                      0,
                      0,
                      0,
                      0,
                      0,
                      0,
                      0,
                      0,
                      0,
                      0,
                      0,
                      0,
                      0,
                      0,
                      0,
                      0,
                      0,
                      0,
                      0,
                      0,
                      0
                    ],
                    [
                      0,
                      0,
                      0,
                      0,
                      0,
                      0,
                      0,
                      0,
                      0,
                      0,
                      0,
                      0,
                      0,
                      0,
                      0,
                      0,
                      0,
                      0,
                      0,
                      0,
                      0,
                      0,
                      0,
                      0,
                      0,
                      0,
                      0,
                      0,
                      0,
                      0,
                      0,
                      0
                    ],
                    [
                      1,
                      1,
                      1,
                      1,
                      1,
                      1,
                      1,
                      1,
                      1,
                      1,
                      1,
                      1,
                      1,
                      1,
                      1,
                      1,
                      1,
                      1,
                      1,
                      1,
                      1,
                      1,
                      1,
                      1,
                      1,
                      1,
                      1,
                      1,
                      1,
                      1,
                      1,
                      1
                    ],
                    [
                      1,
                      1,
                      1,
                      1,
                      1,
                      1,
                      1,
                      1,
                      1,
                      1,
                      1,
                      1,
                      1,
                      1,
                      1,
                      1,
                      1,
                      1,
                      1,
                      1,
                      1,
                      1,
                      1,
                      1,
                      1,
                      1,
                      1,
                      1,
                      1,
                      1,
                      1,
                      1
                    ],
                    [
                      0,
                      0,
                      0,
                      0,
                      0,
                      0,
                      0,
                      0,
                      0,
                      0,
                      0,
                      0,
                      0,
                      0,
                      0,
                      0,
                      0,
                      0,
                      0,
                      0,
                      0,
                      0,
                      0,
                      0,
                      0,
                      0,
                      0,
                      0,
                      0,
                      0,
                      0,
                      0
                    ],
                    [
                      1,
                      1,
                      1,
                      1,
                      1,
                      1,
                      1,
                      1,
                      1,
                      1,
                      1,
                      1,
                      1,
                      1,
                      1,
                      1,
                      1,
                      1,
                      1,
                      1,
                      1,
                      1,
                      1,
                      1,
                      1,
                      1,
                      1,
                      1,
                      1,
                      1,
                      1,
                      1
                    ],
                    [
                      1,
                      1,
                      1,
                      1,
                      1,
                      1,
                      1,
                      1,
                      1,
                      1,
                      1,
                      1,
                      1,
                      1,
                      1,
                      1,
                      1,
                      1,
                      1,
                      1,
                      1,
                      1,
                      1,
                      1,
                      1,
                      1,
                      1,
                      1,
                      1,
                      1,
                      1,
                      1
                    ],
                    [
                      1,
                      1,
                      1,
                      1,
                      1,
                      1,
                      1,
                      1,
                      1,
                      1,
                      1,
                      1,
                      1,
                      1,
                      1,
                      1,
                      1,
                      1,
                      1,
                      1,
                      1,
                      1,
                      1,
                      1,
                      1,
                      1,
                      1,
                      1,
                      1,
                      1,
                      1,
                      1
                    ],
                    [
                      0,
                      0,
                      0,
                      0,
                      0,
                      0,
                      0,
                      0,
                      0,
                      0,
                      0,
                      0,
                      0,
                      0,
                      0,
                      0,
                      0,
                      0,
                      0,
                      0,
                      0,
                      0,
                      0,
                      0,
                      0,
                      0,
                      0,
                      0,
                      0,
                      0,
                      0,
                      0
                    ],
                    [
                      0,
                      0,
                      0,
                      0,
                      0,
                      0,
                      0,
                      0,
                      0,
                      0,
                      0,
                      0,
                      0,
                      0,
                      0,
                      0,
                      0,
                      0,
                      0,
                      0,
                      0,
                      0,
                      0,
                      0,
                      0,
                      0,
                      0,
                      0,
                      0,
                      0,
                      0,
                      0
                    ],
                    [
                      0,
                      0,
                      0,
                      0,
                      0,
                      0,
                      0,
                      0,
                      0,
                      0,
                      0,
                      0,
                      0,
                      0,
                      0,
                      0,
                      0,
                      0,
                      0,
                      0,
                      0,
                      0,
                      0,
                      0,
                      0,
                      0,
                      0,
                      0,
                      0,
                      0,
                      0,
                      0
                    ],
                    [
                      0,
                      0,
                      0,
                      0,
                      0,
                      0,
                      0,
                      0,
                      0,
                      0,
                      0,
                      0,
                      0,
                      0,
                      0,
                      0,
                      0,
                      0,
                      0,
                      0,
                      0,
                      0,
                      0,
                      0,
                      0,
                      0,
                      0,
                      0,
                      0,
                      0,
                      0,
                      0
                    ],
                    [
                      0,
                      0,
                      0,
                      0,
                      0,
                      0,
                      0,
                      0,
                      0,
                      0,
                      0,
                      0,
                      0,
                      0,
                      0,
                      0,
                      0,
                      0,
                      0,
                      0,
                      0,
                      0,
                      0,
                      0,
                      0,
                      0,
                      0,
                      0,
                      0,
                      0,
                      0,
                      0
                    ],
                    [
                      0,
                      0,
                      0,
                      0,
                      0,
                      0,
                      0,
                      0,
                      0,
                      0,
                      0,
                      0,
                      0,
                      0,
                      0,
                      0,
                      0,
                      0,
                      0,
                      0,
                      0,
                      0,
                      0,
                      0,
                      0,
                      0,
                      0,
                      0,
                      0,
                      0,
                      0,
                      0
                    ],
                    [
                      0,
                      0,
                      0,
                      0,
                      0,
                      0,
                      0,
                      0,
                      0,
                      0,
                      0,
                      0,
                      0,
                      0,
                      0,
                      0,
                      0,
                      0,
                      0,
                      0,
                      0,
                      0,
                      0,
                      0,
                      0,
                      0,
                      0,
                      0,
                      0,
                      0,
                      0,
                      0
                    ],
                    [
                      0,
                      0,
                      0,
                      0,
                      0,
                      0,
                      0,
                      0,
                      0,
                      0,
                      0,
                      0,
                      0,
                      0,
                      0,
                      0,
                      0,
                      0,
                      0,
                      0,
                      0,
                      0,
                      0,
                      0,
                      0,
                      0,
                      0,
                      0,
                      0,
                      0,
                      0,
                      0
                    ],
                    [
                      0,
                      0,
                      0,
                      0,
                      0,
                      0,
                      0,
                      0,
                      0,
                      0,
                      0,
                      0,
                      0,
                      0,
                      0,
                      0,
                      0,
                      0,
                      0,
                      0,
                      0,
                      0,
                      0,
                      0,
                      0,
                      0,
                      0,
                      0,
                      0,
                      0,
                      0,
                      0
                    ],
                    [
                      0,
                      0,
                      0,
                      0,
                      0,
                      0,
                      0,
                      0,
                      0,
                      0,
                      0,
                      0,
                      0,
                      0,
                      0,
                      0,
                      0,
                      0,
                      0,
                      0,
                      0,
                      0,
                      0,
                      0,
                      0,
                      0,
                      0,
                      0,
                      0,
                      0,
                      0,
                      0
                    ],
                    [
                      1,
                      1,
                      1,
                      1,
                      1,
                      1,
                      1,
                      1,
                      1,
                      1,
                      1,
                      1,
                      1,
                      1,
                      1,
                      1,
                      1,
                      1,
                      1,
                      1,
                      1,
                      1,
                      1,
                      1,
                      1,
                      1,
                      1,
                      1,
                      1,
                      1,
                      1,
                      1
                    ]
                  ],
                  "zmax": 1,
                  "zmin": 0
                },
                {
                  "colorscale": [
                    [
                      0,
                      "rgb(247,251,255)"
                    ],
                    [
                      0.125,
                      "rgb(222,235,247)"
                    ],
                    [
                      0.25,
                      "rgb(198,219,239)"
                    ],
                    [
                      0.375,
                      "rgb(158,202,225)"
                    ],
                    [
                      0.5,
                      "rgb(107,174,214)"
                    ],
                    [
                      0.625,
                      "rgb(66,146,198)"
                    ],
                    [
                      0.75,
                      "rgb(33,113,181)"
                    ],
                    [
                      0.875,
                      "rgb(8,81,156)"
                    ],
                    [
                      1,
                      "rgb(8,48,107)"
                    ]
                  ],
                  "showscale": false,
                  "type": "heatmap",
                  "xaxis": "x2",
                  "yaxis": "y2",
                  "z": [
                    [
                      0,
                      0,
                      0,
                      0,
                      0,
                      0,
                      0,
                      0
                    ],
                    [
                      1,
                      1,
                      1,
                      1,
                      1,
                      1,
                      1,
                      1
                    ],
                    [
                      1,
                      1,
                      1,
                      1,
                      1,
                      1,
                      1,
                      1
                    ],
                    [
                      0,
                      0,
                      0,
                      0,
                      0,
                      0,
                      0,
                      0
                    ],
                    [
                      1,
                      1,
                      1,
                      1,
                      1,
                      1,
                      1,
                      1
                    ],
                    [
                      1,
                      1,
                      1,
                      1,
                      1,
                      1,
                      1,
                      1
                    ],
                    [
                      1,
                      1,
                      1,
                      1,
                      1,
                      1,
                      1,
                      1
                    ],
                    [
                      1,
                      1,
                      1,
                      1,
                      1,
                      1,
                      1,
                      1
                    ],
                    [
                      0,
                      0,
                      0,
                      0,
                      0,
                      0,
                      0,
                      0
                    ],
                    [
                      0,
                      0,
                      0,
                      0,
                      0,
                      0,
                      0,
                      0
                    ],
                    [
                      0,
                      0,
                      0,
                      0,
                      0,
                      0,
                      0,
                      0
                    ],
                    [
                      0,
                      0,
                      0,
                      0,
                      0,
                      0,
                      0,
                      0
                    ],
                    [
                      0,
                      0,
                      0,
                      0,
                      0,
                      0,
                      0,
                      0
                    ],
                    [
                      0,
                      0,
                      0,
                      0,
                      0,
                      0,
                      0,
                      0
                    ],
                    [
                      0,
                      0,
                      0,
                      0,
                      0,
                      0,
                      0,
                      0
                    ],
                    [
                      1,
                      1,
                      1,
                      1,
                      1,
                      1,
                      1,
                      1
                    ],
                    [
                      1,
                      1,
                      1,
                      1,
                      1,
                      1,
                      1,
                      1
                    ],
                    [
                      0,
                      0,
                      0,
                      0,
                      0,
                      0,
                      0,
                      0
                    ],
                    [
                      1,
                      1,
                      1,
                      1,
                      1,
                      1,
                      1,
                      1
                    ],
                    [
                      1,
                      1,
                      1,
                      1,
                      1,
                      1,
                      1,
                      1
                    ],
                    [
                      1,
                      1,
                      1,
                      1,
                      1,
                      1,
                      1,
                      1
                    ],
                    [
                      0,
                      0,
                      0,
                      0,
                      0,
                      0,
                      0,
                      0
                    ],
                    [
                      0,
                      0,
                      0,
                      0,
                      0,
                      0,
                      0,
                      0
                    ],
                    [
                      0,
                      0,
                      0,
                      0,
                      0,
                      0,
                      0,
                      0
                    ],
                    [
                      0,
                      0,
                      0,
                      0,
                      0,
                      0,
                      0,
                      0
                    ],
                    [
                      0,
                      0,
                      0,
                      0,
                      0,
                      0,
                      0,
                      0
                    ],
                    [
                      0,
                      0,
                      0,
                      0,
                      0,
                      0,
                      0,
                      0
                    ],
                    [
                      0,
                      0,
                      0,
                      0,
                      0,
                      0,
                      0,
                      0
                    ],
                    [
                      0,
                      0,
                      0,
                      0,
                      0,
                      0,
                      0,
                      0
                    ],
                    [
                      0,
                      0,
                      0,
                      0,
                      0,
                      0,
                      0,
                      0
                    ],
                    [
                      0,
                      0,
                      0,
                      0,
                      0,
                      0,
                      0,
                      0
                    ],
                    [
                      1,
                      1,
                      1,
                      1,
                      1,
                      1,
                      1,
                      1
                    ]
                  ],
                  "zmax": 1,
                  "zmin": 0
                },
                {
                  "colorscale": [
                    [
                      0,
                      "rgb(247,251,255)"
                    ],
                    [
                      0.125,
                      "rgb(222,235,247)"
                    ],
                    [
                      0.25,
                      "rgb(198,219,239)"
                    ],
                    [
                      0.375,
                      "rgb(158,202,225)"
                    ],
                    [
                      0.5,
                      "rgb(107,174,214)"
                    ],
                    [
                      0.625,
                      "rgb(66,146,198)"
                    ],
                    [
                      0.75,
                      "rgb(33,113,181)"
                    ],
                    [
                      0.875,
                      "rgb(8,81,156)"
                    ],
                    [
                      1,
                      "rgb(8,48,107)"
                    ]
                  ],
                  "showscale": false,
                  "type": "heatmap",
                  "xaxis": "x3",
                  "yaxis": "y3",
                  "z": [
                    [
                      0,
                      0,
                      0,
                      0,
                      0,
                      0,
                      0,
                      0
                    ],
                    [
                      1,
                      1,
                      1,
                      1,
                      1,
                      1,
                      1,
                      1
                    ],
                    [
                      1,
                      1,
                      1,
                      1,
                      1,
                      1,
                      1,
                      1
                    ],
                    [
                      0,
                      0,
                      0,
                      0,
                      0,
                      0,
                      0,
                      0
                    ],
                    [
                      1,
                      1,
                      1,
                      1,
                      1,
                      1,
                      1,
                      1
                    ],
                    [
                      1,
                      1,
                      1,
                      1,
                      1,
                      1,
                      1,
                      1
                    ],
                    [
                      1,
                      1,
                      1,
                      1,
                      1,
                      1,
                      1,
                      1
                    ],
                    [
                      1,
                      1,
                      1,
                      1,
                      1,
                      1,
                      1,
                      1
                    ],
                    [
                      0,
                      0,
                      0,
                      0,
                      0,
                      0,
                      0,
                      0
                    ],
                    [
                      0,
                      0,
                      0,
                      0,
                      0,
                      0,
                      0,
                      0
                    ],
                    [
                      0,
                      0,
                      0,
                      0,
                      0,
                      0,
                      0,
                      0
                    ],
                    [
                      0,
                      0,
                      0,
                      0,
                      0,
                      0,
                      0,
                      0
                    ],
                    [
                      0,
                      0,
                      0,
                      0,
                      0,
                      0,
                      0,
                      0
                    ],
                    [
                      0,
                      0,
                      0,
                      0,
                      0,
                      0,
                      0,
                      0
                    ],
                    [
                      0,
                      0,
                      0,
                      0,
                      0,
                      0,
                      0,
                      0
                    ],
                    [
                      1,
                      1,
                      1,
                      1,
                      1,
                      1,
                      1,
                      1
                    ],
                    [
                      1,
                      1,
                      1,
                      1,
                      1,
                      1,
                      1,
                      1
                    ],
                    [
                      0,
                      0,
                      0,
                      0,
                      0,
                      0,
                      0,
                      0
                    ],
                    [
                      1,
                      1,
                      1,
                      1,
                      1,
                      1,
                      1,
                      1
                    ],
                    [
                      1,
                      1,
                      1,
                      1,
                      1,
                      1,
                      1,
                      1
                    ],
                    [
                      1,
                      1,
                      1,
                      1,
                      1,
                      1,
                      1,
                      1
                    ],
                    [
                      0,
                      0,
                      0,
                      0,
                      0,
                      0,
                      0,
                      0
                    ],
                    [
                      0,
                      0,
                      0,
                      0,
                      0,
                      0,
                      0,
                      0
                    ],
                    [
                      0,
                      0,
                      0,
                      0,
                      0,
                      0,
                      0,
                      0
                    ],
                    [
                      0,
                      0,
                      0,
                      0,
                      0,
                      0,
                      0,
                      0
                    ],
                    [
                      0,
                      0,
                      0,
                      0,
                      0,
                      0,
                      0,
                      0
                    ],
                    [
                      0,
                      0,
                      0,
                      0,
                      0,
                      0,
                      0,
                      0
                    ],
                    [
                      0,
                      0,
                      0,
                      0,
                      0,
                      0,
                      0,
                      0
                    ],
                    [
                      0,
                      0,
                      0,
                      0,
                      0,
                      0,
                      0,
                      0
                    ],
                    [
                      0,
                      0,
                      0,
                      0,
                      0,
                      0,
                      0,
                      0
                    ],
                    [
                      0,
                      0,
                      0,
                      0,
                      0,
                      0,
                      0,
                      0
                    ],
                    [
                      1,
                      1,
                      1,
                      1,
                      1,
                      1,
                      1,
                      1
                    ]
                  ],
                  "zmax": 1,
                  "zmin": 0
                },
                {
                  "colorscale": [
                    [
                      0,
                      "rgb(247,251,255)"
                    ],
                    [
                      0.125,
                      "rgb(222,235,247)"
                    ],
                    [
                      0.25,
                      "rgb(198,219,239)"
                    ],
                    [
                      0.375,
                      "rgb(158,202,225)"
                    ],
                    [
                      0.5,
                      "rgb(107,174,214)"
                    ],
                    [
                      0.625,
                      "rgb(66,146,198)"
                    ],
                    [
                      0.75,
                      "rgb(33,113,181)"
                    ],
                    [
                      0.875,
                      "rgb(8,81,156)"
                    ],
                    [
                      1,
                      "rgb(8,48,107)"
                    ]
                  ],
                  "showscale": true,
                  "type": "heatmap",
                  "xaxis": "x4",
                  "yaxis": "y4",
                  "z": [
                    [
                      1,
                      1,
                      1,
                      1,
                      1,
                      1,
                      1,
                      1,
                      1,
                      1,
                      1,
                      1,
                      1,
                      1,
                      1,
                      1,
                      1,
                      1,
                      1,
                      1,
                      1,
                      1,
                      1,
                      1,
                      1,
                      1,
                      1,
                      1,
                      1,
                      1,
                      1,
                      1
                    ],
                    [
                      1,
                      1,
                      1,
                      1,
                      1,
                      1,
                      1,
                      1,
                      1,
                      1,
                      1,
                      1,
                      1,
                      1,
                      1,
                      1,
                      1,
                      1,
                      1,
                      1,
                      1,
                      1,
                      1,
                      1,
                      1,
                      1,
                      1,
                      1,
                      1,
                      1,
                      1,
                      1
                    ],
                    [
                      1,
                      1,
                      1,
                      1,
                      1,
                      1,
                      1,
                      1,
                      1,
                      1,
                      1,
                      1,
                      1,
                      1,
                      1,
                      1,
                      1,
                      1,
                      1,
                      1,
                      1,
                      1,
                      1,
                      1,
                      1,
                      1,
                      1,
                      1,
                      1,
                      1,
                      1,
                      1
                    ],
                    [
                      1,
                      1,
                      1,
                      1,
                      1,
                      1,
                      1,
                      1,
                      1,
                      1,
                      1,
                      1,
                      1,
                      1,
                      1,
                      1,
                      1,
                      1,
                      1,
                      1,
                      1,
                      1,
                      1,
                      1,
                      1,
                      1,
                      1,
                      1,
                      1,
                      1,
                      1,
                      1
                    ],
                    [
                      1,
                      1,
                      1,
                      1,
                      1,
                      1,
                      1,
                      1,
                      1,
                      1,
                      1,
                      1,
                      1,
                      1,
                      1,
                      1,
                      1,
                      1,
                      1,
                      1,
                      1,
                      1,
                      1,
                      1,
                      1,
                      1,
                      1,
                      1,
                      1,
                      1,
                      1,
                      1
                    ],
                    [
                      1,
                      1,
                      1,
                      1,
                      1,
                      1,
                      1,
                      1,
                      1,
                      1,
                      1,
                      1,
                      1,
                      1,
                      1,
                      1,
                      1,
                      1,
                      1,
                      1,
                      1,
                      1,
                      1,
                      1,
                      1,
                      1,
                      1,
                      1,
                      1,
                      1,
                      1,
                      1
                    ],
                    [
                      1,
                      1,
                      1,
                      1,
                      1,
                      1,
                      1,
                      1,
                      1,
                      1,
                      1,
                      1,
                      1,
                      1,
                      1,
                      1,
                      1,
                      1,
                      1,
                      1,
                      1,
                      1,
                      1,
                      1,
                      1,
                      1,
                      1,
                      1,
                      1,
                      1,
                      1,
                      1
                    ],
                    [
                      1,
                      1,
                      1,
                      1,
                      1,
                      1,
                      1,
                      1,
                      1,
                      1,
                      1,
                      1,
                      1,
                      1,
                      1,
                      1,
                      1,
                      1,
                      1,
                      1,
                      1,
                      1,
                      1,
                      1,
                      1,
                      1,
                      1,
                      1,
                      1,
                      1,
                      1,
                      1
                    ],
                    [
                      1,
                      1,
                      1,
                      1,
                      1,
                      1,
                      1,
                      1,
                      1,
                      1,
                      1,
                      1,
                      1,
                      1,
                      1,
                      1,
                      1,
                      1,
                      1,
                      1,
                      1,
                      1,
                      1,
                      1,
                      1,
                      1,
                      1,
                      1,
                      1,
                      1,
                      1,
                      1
                    ],
                    [
                      1,
                      1,
                      1,
                      1,
                      1,
                      1,
                      1,
                      1,
                      1,
                      1,
                      1,
                      1,
                      1,
                      1,
                      1,
                      1,
                      1,
                      1,
                      1,
                      1,
                      1,
                      1,
                      1,
                      1,
                      1,
                      1,
                      1,
                      1,
                      1,
                      1,
                      1,
                      1
                    ],
                    [
                      1,
                      1,
                      1,
                      1,
                      1,
                      1,
                      1,
                      1,
                      1,
                      1,
                      1,
                      1,
                      1,
                      1,
                      1,
                      1,
                      1,
                      1,
                      1,
                      1,
                      1,
                      1,
                      1,
                      1,
                      1,
                      1,
                      1,
                      1,
                      1,
                      1,
                      1,
                      1
                    ],
                    [
                      1,
                      1,
                      1,
                      1,
                      1,
                      1,
                      1,
                      1,
                      1,
                      1,
                      1,
                      1,
                      1,
                      1,
                      1,
                      1,
                      1,
                      1,
                      1,
                      1,
                      1,
                      1,
                      1,
                      1,
                      1,
                      1,
                      1,
                      1,
                      1,
                      1,
                      1,
                      1
                    ],
                    [
                      1,
                      1,
                      1,
                      1,
                      1,
                      1,
                      1,
                      1,
                      1,
                      1,
                      1,
                      1,
                      1,
                      1,
                      1,
                      1,
                      1,
                      1,
                      1,
                      1,
                      1,
                      1,
                      1,
                      1,
                      1,
                      1,
                      1,
                      1,
                      1,
                      1,
                      1,
                      1
                    ],
                    [
                      1,
                      1,
                      1,
                      1,
                      1,
                      1,
                      1,
                      1,
                      1,
                      1,
                      1,
                      1,
                      1,
                      1,
                      1,
                      1,
                      1,
                      1,
                      1,
                      1,
                      1,
                      1,
                      1,
                      1,
                      1,
                      1,
                      1,
                      1,
                      1,
                      1,
                      1,
                      1
                    ],
                    [
                      1,
                      1,
                      1,
                      1,
                      1,
                      1,
                      1,
                      1,
                      1,
                      1,
                      1,
                      1,
                      1,
                      1,
                      1,
                      1,
                      1,
                      1,
                      1,
                      1,
                      1,
                      1,
                      1,
                      1,
                      1,
                      1,
                      1,
                      1,
                      1,
                      1,
                      1,
                      1
                    ],
                    [
                      1,
                      1,
                      1,
                      1,
                      1,
                      1,
                      1,
                      1,
                      1,
                      1,
                      1,
                      1,
                      1,
                      1,
                      1,
                      1,
                      1,
                      1,
                      1,
                      1,
                      1,
                      1,
                      1,
                      1,
                      1,
                      1,
                      1,
                      1,
                      1,
                      1,
                      1,
                      1
                    ],
                    [
                      1,
                      1,
                      1,
                      1,
                      1,
                      1,
                      1,
                      1,
                      1,
                      1,
                      1,
                      1,
                      1,
                      1,
                      1,
                      1,
                      1,
                      1,
                      1,
                      1,
                      1,
                      1,
                      1,
                      1,
                      1,
                      1,
                      1,
                      1,
                      1,
                      1,
                      1,
                      1
                    ],
                    [
                      1,
                      1,
                      1,
                      1,
                      1,
                      1,
                      1,
                      1,
                      1,
                      1,
                      1,
                      1,
                      1,
                      1,
                      1,
                      1,
                      1,
                      1,
                      1,
                      1,
                      1,
                      1,
                      1,
                      1,
                      1,
                      1,
                      1,
                      1,
                      1,
                      1,
                      1,
                      1
                    ],
                    [
                      1,
                      1,
                      1,
                      1,
                      1,
                      1,
                      1,
                      1,
                      1,
                      1,
                      1,
                      1,
                      1,
                      1,
                      1,
                      1,
                      1,
                      1,
                      1,
                      1,
                      1,
                      1,
                      1,
                      1,
                      1,
                      1,
                      1,
                      1,
                      1,
                      1,
                      1,
                      1
                    ],
                    [
                      1,
                      1,
                      1,
                      1,
                      1,
                      1,
                      1,
                      1,
                      1,
                      1,
                      1,
                      1,
                      1,
                      1,
                      1,
                      1,
                      1,
                      1,
                      1,
                      1,
                      1,
                      1,
                      1,
                      1,
                      1,
                      1,
                      1,
                      1,
                      1,
                      1,
                      1,
                      1
                    ],
                    [
                      1,
                      1,
                      1,
                      1,
                      1,
                      1,
                      1,
                      1,
                      1,
                      1,
                      1,
                      1,
                      1,
                      1,
                      1,
                      1,
                      1,
                      1,
                      1,
                      1,
                      1,
                      1,
                      1,
                      1,
                      1,
                      1,
                      1,
                      1,
                      1,
                      1,
                      1,
                      1
                    ],
                    [
                      1,
                      1,
                      1,
                      1,
                      1,
                      1,
                      1,
                      1,
                      1,
                      1,
                      1,
                      1,
                      1,
                      1,
                      1,
                      1,
                      1,
                      1,
                      1,
                      1,
                      1,
                      1,
                      1,
                      1,
                      1,
                      1,
                      1,
                      1,
                      1,
                      1,
                      1,
                      1
                    ],
                    [
                      1,
                      1,
                      1,
                      1,
                      1,
                      1,
                      1,
                      1,
                      1,
                      1,
                      1,
                      1,
                      1,
                      1,
                      1,
                      1,
                      1,
                      1,
                      1,
                      1,
                      1,
                      1,
                      1,
                      1,
                      1,
                      1,
                      1,
                      1,
                      1,
                      1,
                      1,
                      1
                    ],
                    [
                      1,
                      1,
                      1,
                      1,
                      1,
                      1,
                      1,
                      1,
                      1,
                      1,
                      1,
                      1,
                      1,
                      1,
                      1,
                      1,
                      1,
                      1,
                      1,
                      1,
                      1,
                      1,
                      1,
                      1,
                      1,
                      1,
                      1,
                      1,
                      1,
                      1,
                      1,
                      1
                    ],
                    [
                      1,
                      1,
                      1,
                      1,
                      1,
                      1,
                      1,
                      1,
                      1,
                      1,
                      1,
                      1,
                      1,
                      1,
                      1,
                      1,
                      1,
                      1,
                      1,
                      1,
                      1,
                      1,
                      1,
                      1,
                      1,
                      1,
                      1,
                      1,
                      1,
                      1,
                      1,
                      1
                    ],
                    [
                      1,
                      1,
                      1,
                      1,
                      1,
                      1,
                      1,
                      1,
                      1,
                      1,
                      1,
                      1,
                      1,
                      1,
                      1,
                      1,
                      1,
                      1,
                      1,
                      1,
                      1,
                      1,
                      1,
                      1,
                      1,
                      1,
                      1,
                      1,
                      1,
                      1,
                      1,
                      1
                    ],
                    [
                      1,
                      1,
                      1,
                      1,
                      1,
                      1,
                      1,
                      1,
                      1,
                      1,
                      1,
                      1,
                      1,
                      1,
                      1,
                      1,
                      1,
                      1,
                      1,
                      1,
                      1,
                      1,
                      1,
                      1,
                      1,
                      1,
                      1,
                      1,
                      1,
                      1,
                      1,
                      1
                    ],
                    [
                      1,
                      1,
                      1,
                      1,
                      1,
                      1,
                      1,
                      1,
                      1,
                      1,
                      1,
                      1,
                      1,
                      1,
                      1,
                      1,
                      1,
                      1,
                      1,
                      1,
                      1,
                      1,
                      1,
                      1,
                      1,
                      1,
                      1,
                      1,
                      1,
                      1,
                      1,
                      1
                    ],
                    [
                      1,
                      1,
                      1,
                      1,
                      1,
                      1,
                      1,
                      1,
                      1,
                      1,
                      1,
                      1,
                      1,
                      1,
                      1,
                      1,
                      1,
                      1,
                      1,
                      1,
                      1,
                      1,
                      1,
                      1,
                      1,
                      1,
                      1,
                      1,
                      1,
                      1,
                      1,
                      1
                    ],
                    [
                      1,
                      1,
                      1,
                      1,
                      1,
                      1,
                      1,
                      1,
                      1,
                      1,
                      1,
                      1,
                      1,
                      1,
                      1,
                      1,
                      1,
                      1,
                      1,
                      1,
                      1,
                      1,
                      1,
                      1,
                      1,
                      1,
                      1,
                      1,
                      1,
                      1,
                      1,
                      1
                    ],
                    [
                      1,
                      1,
                      1,
                      1,
                      1,
                      1,
                      1,
                      1,
                      1,
                      1,
                      1,
                      1,
                      1,
                      1,
                      1,
                      1,
                      1,
                      1,
                      1,
                      1,
                      1,
                      1,
                      1,
                      1,
                      1,
                      1,
                      1,
                      1,
                      1,
                      1,
                      1,
                      1
                    ],
                    [
                      1,
                      1,
                      1,
                      1,
                      1,
                      1,
                      1,
                      1,
                      1,
                      1,
                      1,
                      1,
                      1,
                      1,
                      1,
                      1,
                      1,
                      1,
                      1,
                      1,
                      1,
                      1,
                      1,
                      1,
                      1,
                      1,
                      1,
                      1,
                      1,
                      1,
                      1,
                      1
                    ]
                  ],
                  "zmax": 1,
                  "zmin": 0
                }
              ],
              "layout": {
                "annotations": [
                  {
                    "font": {
                      "size": 16
                    },
                    "showarrow": false,
                    "text": "Q",
                    "x": 0.10625,
                    "xanchor": "center",
                    "xref": "paper",
                    "y": 1,
                    "yanchor": "bottom",
                    "yref": "paper"
                  },
                  {
                    "font": {
                      "size": 16
                    },
                    "showarrow": false,
                    "text": "K",
                    "x": 0.36875,
                    "xanchor": "center",
                    "xref": "paper",
                    "y": 1,
                    "yanchor": "bottom",
                    "yref": "paper"
                  },
                  {
                    "font": {
                      "size": 16
                    },
                    "showarrow": false,
                    "text": "V",
                    "x": 0.6312500000000001,
                    "xanchor": "center",
                    "xref": "paper",
                    "y": 1,
                    "yanchor": "bottom",
                    "yref": "paper"
                  },
                  {
                    "font": {
                      "size": 16
                    },
                    "showarrow": false,
                    "text": "O",
                    "x": 0.89375,
                    "xanchor": "center",
                    "xref": "paper",
                    "y": 1,
                    "yanchor": "bottom",
                    "yref": "paper"
                  }
                ],
                "template": {
                  "data": {
                    "bar": [
                      {
                        "error_x": {
                          "color": "#2a3f5f"
                        },
                        "error_y": {
                          "color": "#2a3f5f"
                        },
                        "marker": {
                          "line": {
                            "color": "#E5ECF6",
                            "width": 0.5
                          },
                          "pattern": {
                            "fillmode": "overlay",
                            "size": 10,
                            "solidity": 0.2
                          }
                        },
                        "type": "bar"
                      }
                    ],
                    "barpolar": [
                      {
                        "marker": {
                          "line": {
                            "color": "#E5ECF6",
                            "width": 0.5
                          },
                          "pattern": {
                            "fillmode": "overlay",
                            "size": 10,
                            "solidity": 0.2
                          }
                        },
                        "type": "barpolar"
                      }
                    ],
                    "carpet": [
                      {
                        "aaxis": {
                          "endlinecolor": "#2a3f5f",
                          "gridcolor": "white",
                          "linecolor": "white",
                          "minorgridcolor": "white",
                          "startlinecolor": "#2a3f5f"
                        },
                        "baxis": {
                          "endlinecolor": "#2a3f5f",
                          "gridcolor": "white",
                          "linecolor": "white",
                          "minorgridcolor": "white",
                          "startlinecolor": "#2a3f5f"
                        },
                        "type": "carpet"
                      }
                    ],
                    "choropleth": [
                      {
                        "colorbar": {
                          "outlinewidth": 0,
                          "ticks": ""
                        },
                        "type": "choropleth"
                      }
                    ],
                    "contour": [
                      {
                        "colorbar": {
                          "outlinewidth": 0,
                          "ticks": ""
                        },
                        "colorscale": [
                          [
                            0,
                            "#0d0887"
                          ],
                          [
                            0.1111111111111111,
                            "#46039f"
                          ],
                          [
                            0.2222222222222222,
                            "#7201a8"
                          ],
                          [
                            0.3333333333333333,
                            "#9c179e"
                          ],
                          [
                            0.4444444444444444,
                            "#bd3786"
                          ],
                          [
                            0.5555555555555556,
                            "#d8576b"
                          ],
                          [
                            0.6666666666666666,
                            "#ed7953"
                          ],
                          [
                            0.7777777777777778,
                            "#fb9f3a"
                          ],
                          [
                            0.8888888888888888,
                            "#fdca26"
                          ],
                          [
                            1,
                            "#f0f921"
                          ]
                        ],
                        "type": "contour"
                      }
                    ],
                    "contourcarpet": [
                      {
                        "colorbar": {
                          "outlinewidth": 0,
                          "ticks": ""
                        },
                        "type": "contourcarpet"
                      }
                    ],
                    "heatmap": [
                      {
                        "colorbar": {
                          "outlinewidth": 0,
                          "ticks": ""
                        },
                        "colorscale": [
                          [
                            0,
                            "#0d0887"
                          ],
                          [
                            0.1111111111111111,
                            "#46039f"
                          ],
                          [
                            0.2222222222222222,
                            "#7201a8"
                          ],
                          [
                            0.3333333333333333,
                            "#9c179e"
                          ],
                          [
                            0.4444444444444444,
                            "#bd3786"
                          ],
                          [
                            0.5555555555555556,
                            "#d8576b"
                          ],
                          [
                            0.6666666666666666,
                            "#ed7953"
                          ],
                          [
                            0.7777777777777778,
                            "#fb9f3a"
                          ],
                          [
                            0.8888888888888888,
                            "#fdca26"
                          ],
                          [
                            1,
                            "#f0f921"
                          ]
                        ],
                        "type": "heatmap"
                      }
                    ],
                    "heatmapgl": [
                      {
                        "colorbar": {
                          "outlinewidth": 0,
                          "ticks": ""
                        },
                        "colorscale": [
                          [
                            0,
                            "#0d0887"
                          ],
                          [
                            0.1111111111111111,
                            "#46039f"
                          ],
                          [
                            0.2222222222222222,
                            "#7201a8"
                          ],
                          [
                            0.3333333333333333,
                            "#9c179e"
                          ],
                          [
                            0.4444444444444444,
                            "#bd3786"
                          ],
                          [
                            0.5555555555555556,
                            "#d8576b"
                          ],
                          [
                            0.6666666666666666,
                            "#ed7953"
                          ],
                          [
                            0.7777777777777778,
                            "#fb9f3a"
                          ],
                          [
                            0.8888888888888888,
                            "#fdca26"
                          ],
                          [
                            1,
                            "#f0f921"
                          ]
                        ],
                        "type": "heatmapgl"
                      }
                    ],
                    "histogram": [
                      {
                        "marker": {
                          "pattern": {
                            "fillmode": "overlay",
                            "size": 10,
                            "solidity": 0.2
                          }
                        },
                        "type": "histogram"
                      }
                    ],
                    "histogram2d": [
                      {
                        "colorbar": {
                          "outlinewidth": 0,
                          "ticks": ""
                        },
                        "colorscale": [
                          [
                            0,
                            "#0d0887"
                          ],
                          [
                            0.1111111111111111,
                            "#46039f"
                          ],
                          [
                            0.2222222222222222,
                            "#7201a8"
                          ],
                          [
                            0.3333333333333333,
                            "#9c179e"
                          ],
                          [
                            0.4444444444444444,
                            "#bd3786"
                          ],
                          [
                            0.5555555555555556,
                            "#d8576b"
                          ],
                          [
                            0.6666666666666666,
                            "#ed7953"
                          ],
                          [
                            0.7777777777777778,
                            "#fb9f3a"
                          ],
                          [
                            0.8888888888888888,
                            "#fdca26"
                          ],
                          [
                            1,
                            "#f0f921"
                          ]
                        ],
                        "type": "histogram2d"
                      }
                    ],
                    "histogram2dcontour": [
                      {
                        "colorbar": {
                          "outlinewidth": 0,
                          "ticks": ""
                        },
                        "colorscale": [
                          [
                            0,
                            "#0d0887"
                          ],
                          [
                            0.1111111111111111,
                            "#46039f"
                          ],
                          [
                            0.2222222222222222,
                            "#7201a8"
                          ],
                          [
                            0.3333333333333333,
                            "#9c179e"
                          ],
                          [
                            0.4444444444444444,
                            "#bd3786"
                          ],
                          [
                            0.5555555555555556,
                            "#d8576b"
                          ],
                          [
                            0.6666666666666666,
                            "#ed7953"
                          ],
                          [
                            0.7777777777777778,
                            "#fb9f3a"
                          ],
                          [
                            0.8888888888888888,
                            "#fdca26"
                          ],
                          [
                            1,
                            "#f0f921"
                          ]
                        ],
                        "type": "histogram2dcontour"
                      }
                    ],
                    "mesh3d": [
                      {
                        "colorbar": {
                          "outlinewidth": 0,
                          "ticks": ""
                        },
                        "type": "mesh3d"
                      }
                    ],
                    "parcoords": [
                      {
                        "line": {
                          "colorbar": {
                            "outlinewidth": 0,
                            "ticks": ""
                          }
                        },
                        "type": "parcoords"
                      }
                    ],
                    "pie": [
                      {
                        "automargin": true,
                        "type": "pie"
                      }
                    ],
                    "scatter": [
                      {
                        "fillpattern": {
                          "fillmode": "overlay",
                          "size": 10,
                          "solidity": 0.2
                        },
                        "type": "scatter"
                      }
                    ],
                    "scatter3d": [
                      {
                        "line": {
                          "colorbar": {
                            "outlinewidth": 0,
                            "ticks": ""
                          }
                        },
                        "marker": {
                          "colorbar": {
                            "outlinewidth": 0,
                            "ticks": ""
                          }
                        },
                        "type": "scatter3d"
                      }
                    ],
                    "scattercarpet": [
                      {
                        "marker": {
                          "colorbar": {
                            "outlinewidth": 0,
                            "ticks": ""
                          }
                        },
                        "type": "scattercarpet"
                      }
                    ],
                    "scattergeo": [
                      {
                        "marker": {
                          "colorbar": {
                            "outlinewidth": 0,
                            "ticks": ""
                          }
                        },
                        "type": "scattergeo"
                      }
                    ],
                    "scattergl": [
                      {
                        "marker": {
                          "colorbar": {
                            "outlinewidth": 0,
                            "ticks": ""
                          }
                        },
                        "type": "scattergl"
                      }
                    ],
                    "scattermapbox": [
                      {
                        "marker": {
                          "colorbar": {
                            "outlinewidth": 0,
                            "ticks": ""
                          }
                        },
                        "type": "scattermapbox"
                      }
                    ],
                    "scatterpolar": [
                      {
                        "marker": {
                          "colorbar": {
                            "outlinewidth": 0,
                            "ticks": ""
                          }
                        },
                        "type": "scatterpolar"
                      }
                    ],
                    "scatterpolargl": [
                      {
                        "marker": {
                          "colorbar": {
                            "outlinewidth": 0,
                            "ticks": ""
                          }
                        },
                        "type": "scatterpolargl"
                      }
                    ],
                    "scatterternary": [
                      {
                        "marker": {
                          "colorbar": {
                            "outlinewidth": 0,
                            "ticks": ""
                          }
                        },
                        "type": "scatterternary"
                      }
                    ],
                    "surface": [
                      {
                        "colorbar": {
                          "outlinewidth": 0,
                          "ticks": ""
                        },
                        "colorscale": [
                          [
                            0,
                            "#0d0887"
                          ],
                          [
                            0.1111111111111111,
                            "#46039f"
                          ],
                          [
                            0.2222222222222222,
                            "#7201a8"
                          ],
                          [
                            0.3333333333333333,
                            "#9c179e"
                          ],
                          [
                            0.4444444444444444,
                            "#bd3786"
                          ],
                          [
                            0.5555555555555556,
                            "#d8576b"
                          ],
                          [
                            0.6666666666666666,
                            "#ed7953"
                          ],
                          [
                            0.7777777777777778,
                            "#fb9f3a"
                          ],
                          [
                            0.8888888888888888,
                            "#fdca26"
                          ],
                          [
                            1,
                            "#f0f921"
                          ]
                        ],
                        "type": "surface"
                      }
                    ],
                    "table": [
                      {
                        "cells": {
                          "fill": {
                            "color": "#EBF0F8"
                          },
                          "line": {
                            "color": "white"
                          }
                        },
                        "header": {
                          "fill": {
                            "color": "#C8D4E3"
                          },
                          "line": {
                            "color": "white"
                          }
                        },
                        "type": "table"
                      }
                    ]
                  },
                  "layout": {
                    "annotationdefaults": {
                      "arrowcolor": "#2a3f5f",
                      "arrowhead": 0,
                      "arrowwidth": 1
                    },
                    "autotypenumbers": "strict",
                    "coloraxis": {
                      "colorbar": {
                        "outlinewidth": 0,
                        "ticks": ""
                      }
                    },
                    "colorscale": {
                      "diverging": [
                        [
                          0,
                          "#8e0152"
                        ],
                        [
                          0.1,
                          "#c51b7d"
                        ],
                        [
                          0.2,
                          "#de77ae"
                        ],
                        [
                          0.3,
                          "#f1b6da"
                        ],
                        [
                          0.4,
                          "#fde0ef"
                        ],
                        [
                          0.5,
                          "#f7f7f7"
                        ],
                        [
                          0.6,
                          "#e6f5d0"
                        ],
                        [
                          0.7,
                          "#b8e186"
                        ],
                        [
                          0.8,
                          "#7fbc41"
                        ],
                        [
                          0.9,
                          "#4d9221"
                        ],
                        [
                          1,
                          "#276419"
                        ]
                      ],
                      "sequential": [
                        [
                          0,
                          "#0d0887"
                        ],
                        [
                          0.1111111111111111,
                          "#46039f"
                        ],
                        [
                          0.2222222222222222,
                          "#7201a8"
                        ],
                        [
                          0.3333333333333333,
                          "#9c179e"
                        ],
                        [
                          0.4444444444444444,
                          "#bd3786"
                        ],
                        [
                          0.5555555555555556,
                          "#d8576b"
                        ],
                        [
                          0.6666666666666666,
                          "#ed7953"
                        ],
                        [
                          0.7777777777777778,
                          "#fb9f3a"
                        ],
                        [
                          0.8888888888888888,
                          "#fdca26"
                        ],
                        [
                          1,
                          "#f0f921"
                        ]
                      ],
                      "sequentialminus": [
                        [
                          0,
                          "#0d0887"
                        ],
                        [
                          0.1111111111111111,
                          "#46039f"
                        ],
                        [
                          0.2222222222222222,
                          "#7201a8"
                        ],
                        [
                          0.3333333333333333,
                          "#9c179e"
                        ],
                        [
                          0.4444444444444444,
                          "#bd3786"
                        ],
                        [
                          0.5555555555555556,
                          "#d8576b"
                        ],
                        [
                          0.6666666666666666,
                          "#ed7953"
                        ],
                        [
                          0.7777777777777778,
                          "#fb9f3a"
                        ],
                        [
                          0.8888888888888888,
                          "#fdca26"
                        ],
                        [
                          1,
                          "#f0f921"
                        ]
                      ]
                    },
                    "colorway": [
                      "#636efa",
                      "#EF553B",
                      "#00cc96",
                      "#ab63fa",
                      "#FFA15A",
                      "#19d3f3",
                      "#FF6692",
                      "#B6E880",
                      "#FF97FF",
                      "#FECB52"
                    ],
                    "font": {
                      "color": "#2a3f5f"
                    },
                    "geo": {
                      "bgcolor": "white",
                      "lakecolor": "white",
                      "landcolor": "#E5ECF6",
                      "showlakes": true,
                      "showland": true,
                      "subunitcolor": "white"
                    },
                    "hoverlabel": {
                      "align": "left"
                    },
                    "hovermode": "closest",
                    "mapbox": {
                      "style": "light"
                    },
                    "paper_bgcolor": "white",
                    "plot_bgcolor": "#E5ECF6",
                    "polar": {
                      "angularaxis": {
                        "gridcolor": "white",
                        "linecolor": "white",
                        "ticks": ""
                      },
                      "bgcolor": "#E5ECF6",
                      "radialaxis": {
                        "gridcolor": "white",
                        "linecolor": "white",
                        "ticks": ""
                      }
                    },
                    "scene": {
                      "xaxis": {
                        "backgroundcolor": "#E5ECF6",
                        "gridcolor": "white",
                        "gridwidth": 2,
                        "linecolor": "white",
                        "showbackground": true,
                        "ticks": "",
                        "zerolinecolor": "white"
                      },
                      "yaxis": {
                        "backgroundcolor": "#E5ECF6",
                        "gridcolor": "white",
                        "gridwidth": 2,
                        "linecolor": "white",
                        "showbackground": true,
                        "ticks": "",
                        "zerolinecolor": "white"
                      },
                      "zaxis": {
                        "backgroundcolor": "#E5ECF6",
                        "gridcolor": "white",
                        "gridwidth": 2,
                        "linecolor": "white",
                        "showbackground": true,
                        "ticks": "",
                        "zerolinecolor": "white"
                      }
                    },
                    "shapedefaults": {
                      "line": {
                        "color": "#2a3f5f"
                      }
                    },
                    "ternary": {
                      "aaxis": {
                        "gridcolor": "white",
                        "linecolor": "white",
                        "ticks": ""
                      },
                      "baxis": {
                        "gridcolor": "white",
                        "linecolor": "white",
                        "ticks": ""
                      },
                      "bgcolor": "#E5ECF6",
                      "caxis": {
                        "gridcolor": "white",
                        "linecolor": "white",
                        "ticks": ""
                      }
                    },
                    "title": {
                      "x": 0.05
                    },
                    "xaxis": {
                      "automargin": true,
                      "gridcolor": "white",
                      "linecolor": "white",
                      "ticks": "",
                      "title": {
                        "standoff": 15
                      },
                      "zerolinecolor": "white",
                      "zerolinewidth": 2
                    },
                    "yaxis": {
                      "automargin": true,
                      "gridcolor": "white",
                      "linecolor": "white",
                      "ticks": "",
                      "title": {
                        "standoff": 15
                      },
                      "zerolinecolor": "white",
                      "zerolinewidth": 2
                    }
                  }
                },
                "xaxis": {
                  "anchor": "y",
                  "domain": [
                    0,
                    0.2125
                  ],
                  "title": {
                    "text": "Head"
                  }
                },
                "xaxis2": {
                  "anchor": "y2",
                  "domain": [
                    0.2625,
                    0.475
                  ],
                  "title": {
                    "text": "Head"
                  }
                },
                "xaxis3": {
                  "anchor": "y3",
                  "domain": [
                    0.525,
                    0.7375
                  ],
                  "title": {
                    "text": "Head"
                  }
                },
                "xaxis4": {
                  "anchor": "y4",
                  "domain": [
                    0.7875,
                    1
                  ],
                  "title": {
                    "text": "Head"
                  }
                },
                "yaxis": {
                  "anchor": "x",
                  "domain": [
                    0,
                    1
                  ],
                  "title": {
                    "text": "Layer"
                  }
                },
                "yaxis2": {
                  "anchor": "x2",
                  "domain": [
                    0,
                    1
                  ]
                },
                "yaxis3": {
                  "anchor": "x3",
                  "domain": [
                    0,
                    1
                  ]
                },
                "yaxis4": {
                  "anchor": "x4",
                  "domain": [
                    0,
                    1
                  ]
                }
              }
            },
            "text/html": [
              "<div>                            <div id=\"6af11a90-c2e2-4864-b43b-9ce2b9d03867\" class=\"plotly-graph-div\" style=\"height:525px; width:100%;\"></div>            <script type=\"text/javascript\">                require([\"plotly\"], function(Plotly) {                    window.PLOTLYENV=window.PLOTLYENV || {};                                    if (document.getElementById(\"6af11a90-c2e2-4864-b43b-9ce2b9d03867\")) {                    Plotly.newPlot(                        \"6af11a90-c2e2-4864-b43b-9ce2b9d03867\",                        [{\"colorscale\":[[0.0,\"rgb(247,251,255)\"],[0.125,\"rgb(222,235,247)\"],[0.25,\"rgb(198,219,239)\"],[0.375,\"rgb(158,202,225)\"],[0.5,\"rgb(107,174,214)\"],[0.625,\"rgb(66,146,198)\"],[0.75,\"rgb(33,113,181)\"],[0.875,\"rgb(8,81,156)\"],[1.0,\"rgb(8,48,107)\"]],\"showscale\":false,\"z\":[[0.0,0.0,0.0,0.0,0.0,0.0,0.0,0.0,0.0,0.0,0.0,0.0,0.0,0.0,0.0,0.0,0.0,0.0,0.0,0.0,0.0,0.0,0.0,0.0,0.0,0.0,0.0,0.0,0.0,0.0,0.0,0.0],[1.0,1.0,1.0,1.0,1.0,1.0,1.0,1.0,1.0,1.0,1.0,1.0,1.0,1.0,1.0,1.0,1.0,1.0,1.0,1.0,1.0,1.0,1.0,1.0,1.0,1.0,1.0,1.0,1.0,1.0,1.0,1.0],[1.0,1.0,1.0,1.0,1.0,1.0,1.0,1.0,1.0,1.0,1.0,1.0,1.0,1.0,1.0,1.0,1.0,1.0,1.0,1.0,1.0,1.0,1.0,1.0,1.0,1.0,1.0,1.0,1.0,1.0,1.0,1.0],[0.0,0.0,0.0,0.0,0.0,0.0,0.0,0.0,0.0,0.0,0.0,0.0,0.0,0.0,0.0,0.0,0.0,0.0,0.0,0.0,0.0,0.0,0.0,0.0,0.0,0.0,0.0,0.0,0.0,0.0,0.0,0.0],[1.0,1.0,1.0,1.0,1.0,1.0,1.0,1.0,1.0,1.0,1.0,1.0,1.0,1.0,1.0,1.0,1.0,1.0,1.0,1.0,1.0,1.0,1.0,1.0,1.0,1.0,1.0,1.0,1.0,1.0,1.0,1.0],[1.0,1.0,1.0,1.0,1.0,1.0,1.0,1.0,1.0,1.0,1.0,1.0,1.0,1.0,1.0,1.0,1.0,1.0,1.0,1.0,1.0,1.0,1.0,1.0,1.0,1.0,1.0,1.0,1.0,1.0,1.0,1.0],[1.0,1.0,1.0,1.0,1.0,1.0,1.0,1.0,1.0,1.0,1.0,1.0,1.0,1.0,1.0,1.0,1.0,1.0,1.0,1.0,1.0,1.0,1.0,1.0,1.0,1.0,1.0,1.0,1.0,1.0,1.0,1.0],[1.0,1.0,1.0,1.0,1.0,1.0,1.0,1.0,1.0,1.0,1.0,1.0,1.0,1.0,1.0,1.0,1.0,1.0,1.0,1.0,1.0,1.0,1.0,1.0,1.0,1.0,1.0,1.0,1.0,1.0,1.0,1.0],[0.0,0.0,0.0,0.0,0.0,0.0,0.0,0.0,0.0,0.0,0.0,0.0,0.0,0.0,0.0,0.0,0.0,0.0,0.0,0.0,0.0,0.0,0.0,0.0,0.0,0.0,0.0,0.0,0.0,0.0,0.0,0.0],[0.0,0.0,0.0,0.0,0.0,0.0,0.0,0.0,0.0,0.0,0.0,0.0,0.0,0.0,0.0,0.0,0.0,0.0,0.0,0.0,0.0,0.0,0.0,0.0,0.0,0.0,0.0,0.0,0.0,0.0,0.0,0.0],[0.0,0.0,0.0,0.0,0.0,0.0,0.0,0.0,0.0,0.0,0.0,0.0,0.0,0.0,0.0,0.0,0.0,0.0,0.0,0.0,0.0,0.0,0.0,0.0,0.0,0.0,0.0,0.0,0.0,0.0,0.0,0.0],[0.0,0.0,0.0,0.0,0.0,0.0,0.0,0.0,0.0,0.0,0.0,0.0,0.0,0.0,0.0,0.0,0.0,0.0,0.0,0.0,0.0,0.0,0.0,0.0,0.0,0.0,0.0,0.0,0.0,0.0,0.0,0.0],[0.0,0.0,0.0,0.0,0.0,0.0,0.0,0.0,0.0,0.0,0.0,0.0,0.0,0.0,0.0,0.0,0.0,0.0,0.0,0.0,0.0,0.0,0.0,0.0,0.0,0.0,0.0,0.0,0.0,0.0,0.0,0.0],[0.0,0.0,0.0,0.0,0.0,0.0,0.0,0.0,0.0,0.0,0.0,0.0,0.0,0.0,0.0,0.0,0.0,0.0,0.0,0.0,0.0,0.0,0.0,0.0,0.0,0.0,0.0,0.0,0.0,0.0,0.0,0.0],[0.0,0.0,0.0,0.0,0.0,0.0,0.0,0.0,0.0,0.0,0.0,0.0,0.0,0.0,0.0,0.0,0.0,0.0,0.0,0.0,0.0,0.0,0.0,0.0,0.0,0.0,0.0,0.0,0.0,0.0,0.0,0.0],[1.0,1.0,1.0,1.0,1.0,1.0,1.0,1.0,1.0,1.0,1.0,1.0,1.0,1.0,1.0,1.0,1.0,1.0,1.0,1.0,1.0,1.0,1.0,1.0,1.0,1.0,1.0,1.0,1.0,1.0,1.0,1.0],[1.0,1.0,1.0,1.0,1.0,1.0,1.0,1.0,1.0,1.0,1.0,1.0,1.0,1.0,1.0,1.0,1.0,1.0,1.0,1.0,1.0,1.0,1.0,1.0,1.0,1.0,1.0,1.0,1.0,1.0,1.0,1.0],[0.0,0.0,0.0,0.0,0.0,0.0,0.0,0.0,0.0,0.0,0.0,0.0,0.0,0.0,0.0,0.0,0.0,0.0,0.0,0.0,0.0,0.0,0.0,0.0,0.0,0.0,0.0,0.0,0.0,0.0,0.0,0.0],[1.0,1.0,1.0,1.0,1.0,1.0,1.0,1.0,1.0,1.0,1.0,1.0,1.0,1.0,1.0,1.0,1.0,1.0,1.0,1.0,1.0,1.0,1.0,1.0,1.0,1.0,1.0,1.0,1.0,1.0,1.0,1.0],[1.0,1.0,1.0,1.0,1.0,1.0,1.0,1.0,1.0,1.0,1.0,1.0,1.0,1.0,1.0,1.0,1.0,1.0,1.0,1.0,1.0,1.0,1.0,1.0,1.0,1.0,1.0,1.0,1.0,1.0,1.0,1.0],[1.0,1.0,1.0,1.0,1.0,1.0,1.0,1.0,1.0,1.0,1.0,1.0,1.0,1.0,1.0,1.0,1.0,1.0,1.0,1.0,1.0,1.0,1.0,1.0,1.0,1.0,1.0,1.0,1.0,1.0,1.0,1.0],[0.0,0.0,0.0,0.0,0.0,0.0,0.0,0.0,0.0,0.0,0.0,0.0,0.0,0.0,0.0,0.0,0.0,0.0,0.0,0.0,0.0,0.0,0.0,0.0,0.0,0.0,0.0,0.0,0.0,0.0,0.0,0.0],[0.0,0.0,0.0,0.0,0.0,0.0,0.0,0.0,0.0,0.0,0.0,0.0,0.0,0.0,0.0,0.0,0.0,0.0,0.0,0.0,0.0,0.0,0.0,0.0,0.0,0.0,0.0,0.0,0.0,0.0,0.0,0.0],[0.0,0.0,0.0,0.0,0.0,0.0,0.0,0.0,0.0,0.0,0.0,0.0,0.0,0.0,0.0,0.0,0.0,0.0,0.0,0.0,0.0,0.0,0.0,0.0,0.0,0.0,0.0,0.0,0.0,0.0,0.0,0.0],[0.0,0.0,0.0,0.0,0.0,0.0,0.0,0.0,0.0,0.0,0.0,0.0,0.0,0.0,0.0,0.0,0.0,0.0,0.0,0.0,0.0,0.0,0.0,0.0,0.0,0.0,0.0,0.0,0.0,0.0,0.0,0.0],[0.0,0.0,0.0,0.0,0.0,0.0,0.0,0.0,0.0,0.0,0.0,0.0,0.0,0.0,0.0,0.0,0.0,0.0,0.0,0.0,0.0,0.0,0.0,0.0,0.0,0.0,0.0,0.0,0.0,0.0,0.0,0.0],[0.0,0.0,0.0,0.0,0.0,0.0,0.0,0.0,0.0,0.0,0.0,0.0,0.0,0.0,0.0,0.0,0.0,0.0,0.0,0.0,0.0,0.0,0.0,0.0,0.0,0.0,0.0,0.0,0.0,0.0,0.0,0.0],[0.0,0.0,0.0,0.0,0.0,0.0,0.0,0.0,0.0,0.0,0.0,0.0,0.0,0.0,0.0,0.0,0.0,0.0,0.0,0.0,0.0,0.0,0.0,0.0,0.0,0.0,0.0,0.0,0.0,0.0,0.0,0.0],[0.0,0.0,0.0,0.0,0.0,0.0,0.0,0.0,0.0,0.0,0.0,0.0,0.0,0.0,0.0,0.0,0.0,0.0,0.0,0.0,0.0,0.0,0.0,0.0,0.0,0.0,0.0,0.0,0.0,0.0,0.0,0.0],[0.0,0.0,0.0,0.0,0.0,0.0,0.0,0.0,0.0,0.0,0.0,0.0,0.0,0.0,0.0,0.0,0.0,0.0,0.0,0.0,0.0,0.0,0.0,0.0,0.0,0.0,0.0,0.0,0.0,0.0,0.0,0.0],[0.0,0.0,0.0,0.0,0.0,0.0,0.0,0.0,0.0,0.0,0.0,0.0,0.0,0.0,0.0,0.0,0.0,0.0,0.0,0.0,0.0,0.0,0.0,0.0,0.0,0.0,0.0,0.0,0.0,0.0,0.0,0.0],[1.0,1.0,1.0,1.0,1.0,1.0,1.0,1.0,1.0,1.0,1.0,1.0,1.0,1.0,1.0,1.0,1.0,1.0,1.0,1.0,1.0,1.0,1.0,1.0,1.0,1.0,1.0,1.0,1.0,1.0,1.0,1.0]],\"zmax\":1.0,\"zmin\":0.0,\"type\":\"heatmap\",\"xaxis\":\"x\",\"yaxis\":\"y\"},{\"colorscale\":[[0.0,\"rgb(247,251,255)\"],[0.125,\"rgb(222,235,247)\"],[0.25,\"rgb(198,219,239)\"],[0.375,\"rgb(158,202,225)\"],[0.5,\"rgb(107,174,214)\"],[0.625,\"rgb(66,146,198)\"],[0.75,\"rgb(33,113,181)\"],[0.875,\"rgb(8,81,156)\"],[1.0,\"rgb(8,48,107)\"]],\"showscale\":false,\"z\":[[0.0,0.0,0.0,0.0,0.0,0.0,0.0,0.0],[1.0,1.0,1.0,1.0,1.0,1.0,1.0,1.0],[1.0,1.0,1.0,1.0,1.0,1.0,1.0,1.0],[0.0,0.0,0.0,0.0,0.0,0.0,0.0,0.0],[1.0,1.0,1.0,1.0,1.0,1.0,1.0,1.0],[1.0,1.0,1.0,1.0,1.0,1.0,1.0,1.0],[1.0,1.0,1.0,1.0,1.0,1.0,1.0,1.0],[1.0,1.0,1.0,1.0,1.0,1.0,1.0,1.0],[0.0,0.0,0.0,0.0,0.0,0.0,0.0,0.0],[0.0,0.0,0.0,0.0,0.0,0.0,0.0,0.0],[0.0,0.0,0.0,0.0,0.0,0.0,0.0,0.0],[0.0,0.0,0.0,0.0,0.0,0.0,0.0,0.0],[0.0,0.0,0.0,0.0,0.0,0.0,0.0,0.0],[0.0,0.0,0.0,0.0,0.0,0.0,0.0,0.0],[0.0,0.0,0.0,0.0,0.0,0.0,0.0,0.0],[1.0,1.0,1.0,1.0,1.0,1.0,1.0,1.0],[1.0,1.0,1.0,1.0,1.0,1.0,1.0,1.0],[0.0,0.0,0.0,0.0,0.0,0.0,0.0,0.0],[1.0,1.0,1.0,1.0,1.0,1.0,1.0,1.0],[1.0,1.0,1.0,1.0,1.0,1.0,1.0,1.0],[1.0,1.0,1.0,1.0,1.0,1.0,1.0,1.0],[0.0,0.0,0.0,0.0,0.0,0.0,0.0,0.0],[0.0,0.0,0.0,0.0,0.0,0.0,0.0,0.0],[0.0,0.0,0.0,0.0,0.0,0.0,0.0,0.0],[0.0,0.0,0.0,0.0,0.0,0.0,0.0,0.0],[0.0,0.0,0.0,0.0,0.0,0.0,0.0,0.0],[0.0,0.0,0.0,0.0,0.0,0.0,0.0,0.0],[0.0,0.0,0.0,0.0,0.0,0.0,0.0,0.0],[0.0,0.0,0.0,0.0,0.0,0.0,0.0,0.0],[0.0,0.0,0.0,0.0,0.0,0.0,0.0,0.0],[0.0,0.0,0.0,0.0,0.0,0.0,0.0,0.0],[1.0,1.0,1.0,1.0,1.0,1.0,1.0,1.0]],\"zmax\":1.0,\"zmin\":0.0,\"type\":\"heatmap\",\"xaxis\":\"x2\",\"yaxis\":\"y2\"},{\"colorscale\":[[0.0,\"rgb(247,251,255)\"],[0.125,\"rgb(222,235,247)\"],[0.25,\"rgb(198,219,239)\"],[0.375,\"rgb(158,202,225)\"],[0.5,\"rgb(107,174,214)\"],[0.625,\"rgb(66,146,198)\"],[0.75,\"rgb(33,113,181)\"],[0.875,\"rgb(8,81,156)\"],[1.0,\"rgb(8,48,107)\"]],\"showscale\":false,\"z\":[[0.0,0.0,0.0,0.0,0.0,0.0,0.0,0.0],[1.0,1.0,1.0,1.0,1.0,1.0,1.0,1.0],[1.0,1.0,1.0,1.0,1.0,1.0,1.0,1.0],[0.0,0.0,0.0,0.0,0.0,0.0,0.0,0.0],[1.0,1.0,1.0,1.0,1.0,1.0,1.0,1.0],[1.0,1.0,1.0,1.0,1.0,1.0,1.0,1.0],[1.0,1.0,1.0,1.0,1.0,1.0,1.0,1.0],[1.0,1.0,1.0,1.0,1.0,1.0,1.0,1.0],[0.0,0.0,0.0,0.0,0.0,0.0,0.0,0.0],[0.0,0.0,0.0,0.0,0.0,0.0,0.0,0.0],[0.0,0.0,0.0,0.0,0.0,0.0,0.0,0.0],[0.0,0.0,0.0,0.0,0.0,0.0,0.0,0.0],[0.0,0.0,0.0,0.0,0.0,0.0,0.0,0.0],[0.0,0.0,0.0,0.0,0.0,0.0,0.0,0.0],[0.0,0.0,0.0,0.0,0.0,0.0,0.0,0.0],[1.0,1.0,1.0,1.0,1.0,1.0,1.0,1.0],[1.0,1.0,1.0,1.0,1.0,1.0,1.0,1.0],[0.0,0.0,0.0,0.0,0.0,0.0,0.0,0.0],[1.0,1.0,1.0,1.0,1.0,1.0,1.0,1.0],[1.0,1.0,1.0,1.0,1.0,1.0,1.0,1.0],[1.0,1.0,1.0,1.0,1.0,1.0,1.0,1.0],[0.0,0.0,0.0,0.0,0.0,0.0,0.0,0.0],[0.0,0.0,0.0,0.0,0.0,0.0,0.0,0.0],[0.0,0.0,0.0,0.0,0.0,0.0,0.0,0.0],[0.0,0.0,0.0,0.0,0.0,0.0,0.0,0.0],[0.0,0.0,0.0,0.0,0.0,0.0,0.0,0.0],[0.0,0.0,0.0,0.0,0.0,0.0,0.0,0.0],[0.0,0.0,0.0,0.0,0.0,0.0,0.0,0.0],[0.0,0.0,0.0,0.0,0.0,0.0,0.0,0.0],[0.0,0.0,0.0,0.0,0.0,0.0,0.0,0.0],[0.0,0.0,0.0,0.0,0.0,0.0,0.0,0.0],[1.0,1.0,1.0,1.0,1.0,1.0,1.0,1.0]],\"zmax\":1.0,\"zmin\":0.0,\"type\":\"heatmap\",\"xaxis\":\"x3\",\"yaxis\":\"y3\"},{\"colorscale\":[[0.0,\"rgb(247,251,255)\"],[0.125,\"rgb(222,235,247)\"],[0.25,\"rgb(198,219,239)\"],[0.375,\"rgb(158,202,225)\"],[0.5,\"rgb(107,174,214)\"],[0.625,\"rgb(66,146,198)\"],[0.75,\"rgb(33,113,181)\"],[0.875,\"rgb(8,81,156)\"],[1.0,\"rgb(8,48,107)\"]],\"showscale\":true,\"z\":[[1.0,1.0,1.0,1.0,1.0,1.0,1.0,1.0,1.0,1.0,1.0,1.0,1.0,1.0,1.0,1.0,1.0,1.0,1.0,1.0,1.0,1.0,1.0,1.0,1.0,1.0,1.0,1.0,1.0,1.0,1.0,1.0],[1.0,1.0,1.0,1.0,1.0,1.0,1.0,1.0,1.0,1.0,1.0,1.0,1.0,1.0,1.0,1.0,1.0,1.0,1.0,1.0,1.0,1.0,1.0,1.0,1.0,1.0,1.0,1.0,1.0,1.0,1.0,1.0],[1.0,1.0,1.0,1.0,1.0,1.0,1.0,1.0,1.0,1.0,1.0,1.0,1.0,1.0,1.0,1.0,1.0,1.0,1.0,1.0,1.0,1.0,1.0,1.0,1.0,1.0,1.0,1.0,1.0,1.0,1.0,1.0],[1.0,1.0,1.0,1.0,1.0,1.0,1.0,1.0,1.0,1.0,1.0,1.0,1.0,1.0,1.0,1.0,1.0,1.0,1.0,1.0,1.0,1.0,1.0,1.0,1.0,1.0,1.0,1.0,1.0,1.0,1.0,1.0],[1.0,1.0,1.0,1.0,1.0,1.0,1.0,1.0,1.0,1.0,1.0,1.0,1.0,1.0,1.0,1.0,1.0,1.0,1.0,1.0,1.0,1.0,1.0,1.0,1.0,1.0,1.0,1.0,1.0,1.0,1.0,1.0],[1.0,1.0,1.0,1.0,1.0,1.0,1.0,1.0,1.0,1.0,1.0,1.0,1.0,1.0,1.0,1.0,1.0,1.0,1.0,1.0,1.0,1.0,1.0,1.0,1.0,1.0,1.0,1.0,1.0,1.0,1.0,1.0],[1.0,1.0,1.0,1.0,1.0,1.0,1.0,1.0,1.0,1.0,1.0,1.0,1.0,1.0,1.0,1.0,1.0,1.0,1.0,1.0,1.0,1.0,1.0,1.0,1.0,1.0,1.0,1.0,1.0,1.0,1.0,1.0],[1.0,1.0,1.0,1.0,1.0,1.0,1.0,1.0,1.0,1.0,1.0,1.0,1.0,1.0,1.0,1.0,1.0,1.0,1.0,1.0,1.0,1.0,1.0,1.0,1.0,1.0,1.0,1.0,1.0,1.0,1.0,1.0],[1.0,1.0,1.0,1.0,1.0,1.0,1.0,1.0,1.0,1.0,1.0,1.0,1.0,1.0,1.0,1.0,1.0,1.0,1.0,1.0,1.0,1.0,1.0,1.0,1.0,1.0,1.0,1.0,1.0,1.0,1.0,1.0],[1.0,1.0,1.0,1.0,1.0,1.0,1.0,1.0,1.0,1.0,1.0,1.0,1.0,1.0,1.0,1.0,1.0,1.0,1.0,1.0,1.0,1.0,1.0,1.0,1.0,1.0,1.0,1.0,1.0,1.0,1.0,1.0],[1.0,1.0,1.0,1.0,1.0,1.0,1.0,1.0,1.0,1.0,1.0,1.0,1.0,1.0,1.0,1.0,1.0,1.0,1.0,1.0,1.0,1.0,1.0,1.0,1.0,1.0,1.0,1.0,1.0,1.0,1.0,1.0],[1.0,1.0,1.0,1.0,1.0,1.0,1.0,1.0,1.0,1.0,1.0,1.0,1.0,1.0,1.0,1.0,1.0,1.0,1.0,1.0,1.0,1.0,1.0,1.0,1.0,1.0,1.0,1.0,1.0,1.0,1.0,1.0],[1.0,1.0,1.0,1.0,1.0,1.0,1.0,1.0,1.0,1.0,1.0,1.0,1.0,1.0,1.0,1.0,1.0,1.0,1.0,1.0,1.0,1.0,1.0,1.0,1.0,1.0,1.0,1.0,1.0,1.0,1.0,1.0],[1.0,1.0,1.0,1.0,1.0,1.0,1.0,1.0,1.0,1.0,1.0,1.0,1.0,1.0,1.0,1.0,1.0,1.0,1.0,1.0,1.0,1.0,1.0,1.0,1.0,1.0,1.0,1.0,1.0,1.0,1.0,1.0],[1.0,1.0,1.0,1.0,1.0,1.0,1.0,1.0,1.0,1.0,1.0,1.0,1.0,1.0,1.0,1.0,1.0,1.0,1.0,1.0,1.0,1.0,1.0,1.0,1.0,1.0,1.0,1.0,1.0,1.0,1.0,1.0],[1.0,1.0,1.0,1.0,1.0,1.0,1.0,1.0,1.0,1.0,1.0,1.0,1.0,1.0,1.0,1.0,1.0,1.0,1.0,1.0,1.0,1.0,1.0,1.0,1.0,1.0,1.0,1.0,1.0,1.0,1.0,1.0],[1.0,1.0,1.0,1.0,1.0,1.0,1.0,1.0,1.0,1.0,1.0,1.0,1.0,1.0,1.0,1.0,1.0,1.0,1.0,1.0,1.0,1.0,1.0,1.0,1.0,1.0,1.0,1.0,1.0,1.0,1.0,1.0],[1.0,1.0,1.0,1.0,1.0,1.0,1.0,1.0,1.0,1.0,1.0,1.0,1.0,1.0,1.0,1.0,1.0,1.0,1.0,1.0,1.0,1.0,1.0,1.0,1.0,1.0,1.0,1.0,1.0,1.0,1.0,1.0],[1.0,1.0,1.0,1.0,1.0,1.0,1.0,1.0,1.0,1.0,1.0,1.0,1.0,1.0,1.0,1.0,1.0,1.0,1.0,1.0,1.0,1.0,1.0,1.0,1.0,1.0,1.0,1.0,1.0,1.0,1.0,1.0],[1.0,1.0,1.0,1.0,1.0,1.0,1.0,1.0,1.0,1.0,1.0,1.0,1.0,1.0,1.0,1.0,1.0,1.0,1.0,1.0,1.0,1.0,1.0,1.0,1.0,1.0,1.0,1.0,1.0,1.0,1.0,1.0],[1.0,1.0,1.0,1.0,1.0,1.0,1.0,1.0,1.0,1.0,1.0,1.0,1.0,1.0,1.0,1.0,1.0,1.0,1.0,1.0,1.0,1.0,1.0,1.0,1.0,1.0,1.0,1.0,1.0,1.0,1.0,1.0],[1.0,1.0,1.0,1.0,1.0,1.0,1.0,1.0,1.0,1.0,1.0,1.0,1.0,1.0,1.0,1.0,1.0,1.0,1.0,1.0,1.0,1.0,1.0,1.0,1.0,1.0,1.0,1.0,1.0,1.0,1.0,1.0],[1.0,1.0,1.0,1.0,1.0,1.0,1.0,1.0,1.0,1.0,1.0,1.0,1.0,1.0,1.0,1.0,1.0,1.0,1.0,1.0,1.0,1.0,1.0,1.0,1.0,1.0,1.0,1.0,1.0,1.0,1.0,1.0],[1.0,1.0,1.0,1.0,1.0,1.0,1.0,1.0,1.0,1.0,1.0,1.0,1.0,1.0,1.0,1.0,1.0,1.0,1.0,1.0,1.0,1.0,1.0,1.0,1.0,1.0,1.0,1.0,1.0,1.0,1.0,1.0],[1.0,1.0,1.0,1.0,1.0,1.0,1.0,1.0,1.0,1.0,1.0,1.0,1.0,1.0,1.0,1.0,1.0,1.0,1.0,1.0,1.0,1.0,1.0,1.0,1.0,1.0,1.0,1.0,1.0,1.0,1.0,1.0],[1.0,1.0,1.0,1.0,1.0,1.0,1.0,1.0,1.0,1.0,1.0,1.0,1.0,1.0,1.0,1.0,1.0,1.0,1.0,1.0,1.0,1.0,1.0,1.0,1.0,1.0,1.0,1.0,1.0,1.0,1.0,1.0],[1.0,1.0,1.0,1.0,1.0,1.0,1.0,1.0,1.0,1.0,1.0,1.0,1.0,1.0,1.0,1.0,1.0,1.0,1.0,1.0,1.0,1.0,1.0,1.0,1.0,1.0,1.0,1.0,1.0,1.0,1.0,1.0],[1.0,1.0,1.0,1.0,1.0,1.0,1.0,1.0,1.0,1.0,1.0,1.0,1.0,1.0,1.0,1.0,1.0,1.0,1.0,1.0,1.0,1.0,1.0,1.0,1.0,1.0,1.0,1.0,1.0,1.0,1.0,1.0],[1.0,1.0,1.0,1.0,1.0,1.0,1.0,1.0,1.0,1.0,1.0,1.0,1.0,1.0,1.0,1.0,1.0,1.0,1.0,1.0,1.0,1.0,1.0,1.0,1.0,1.0,1.0,1.0,1.0,1.0,1.0,1.0],[1.0,1.0,1.0,1.0,1.0,1.0,1.0,1.0,1.0,1.0,1.0,1.0,1.0,1.0,1.0,1.0,1.0,1.0,1.0,1.0,1.0,1.0,1.0,1.0,1.0,1.0,1.0,1.0,1.0,1.0,1.0,1.0],[1.0,1.0,1.0,1.0,1.0,1.0,1.0,1.0,1.0,1.0,1.0,1.0,1.0,1.0,1.0,1.0,1.0,1.0,1.0,1.0,1.0,1.0,1.0,1.0,1.0,1.0,1.0,1.0,1.0,1.0,1.0,1.0],[1.0,1.0,1.0,1.0,1.0,1.0,1.0,1.0,1.0,1.0,1.0,1.0,1.0,1.0,1.0,1.0,1.0,1.0,1.0,1.0,1.0,1.0,1.0,1.0,1.0,1.0,1.0,1.0,1.0,1.0,1.0,1.0]],\"zmax\":1.0,\"zmin\":0.0,\"type\":\"heatmap\",\"xaxis\":\"x4\",\"yaxis\":\"y4\"}],                        {\"template\":{\"data\":{\"histogram2dcontour\":[{\"type\":\"histogram2dcontour\",\"colorbar\":{\"outlinewidth\":0,\"ticks\":\"\"},\"colorscale\":[[0.0,\"#0d0887\"],[0.1111111111111111,\"#46039f\"],[0.2222222222222222,\"#7201a8\"],[0.3333333333333333,\"#9c179e\"],[0.4444444444444444,\"#bd3786\"],[0.5555555555555556,\"#d8576b\"],[0.6666666666666666,\"#ed7953\"],[0.7777777777777778,\"#fb9f3a\"],[0.8888888888888888,\"#fdca26\"],[1.0,\"#f0f921\"]]}],\"choropleth\":[{\"type\":\"choropleth\",\"colorbar\":{\"outlinewidth\":0,\"ticks\":\"\"}}],\"histogram2d\":[{\"type\":\"histogram2d\",\"colorbar\":{\"outlinewidth\":0,\"ticks\":\"\"},\"colorscale\":[[0.0,\"#0d0887\"],[0.1111111111111111,\"#46039f\"],[0.2222222222222222,\"#7201a8\"],[0.3333333333333333,\"#9c179e\"],[0.4444444444444444,\"#bd3786\"],[0.5555555555555556,\"#d8576b\"],[0.6666666666666666,\"#ed7953\"],[0.7777777777777778,\"#fb9f3a\"],[0.8888888888888888,\"#fdca26\"],[1.0,\"#f0f921\"]]}],\"heatmap\":[{\"type\":\"heatmap\",\"colorbar\":{\"outlinewidth\":0,\"ticks\":\"\"},\"colorscale\":[[0.0,\"#0d0887\"],[0.1111111111111111,\"#46039f\"],[0.2222222222222222,\"#7201a8\"],[0.3333333333333333,\"#9c179e\"],[0.4444444444444444,\"#bd3786\"],[0.5555555555555556,\"#d8576b\"],[0.6666666666666666,\"#ed7953\"],[0.7777777777777778,\"#fb9f3a\"],[0.8888888888888888,\"#fdca26\"],[1.0,\"#f0f921\"]]}],\"heatmapgl\":[{\"type\":\"heatmapgl\",\"colorbar\":{\"outlinewidth\":0,\"ticks\":\"\"},\"colorscale\":[[0.0,\"#0d0887\"],[0.1111111111111111,\"#46039f\"],[0.2222222222222222,\"#7201a8\"],[0.3333333333333333,\"#9c179e\"],[0.4444444444444444,\"#bd3786\"],[0.5555555555555556,\"#d8576b\"],[0.6666666666666666,\"#ed7953\"],[0.7777777777777778,\"#fb9f3a\"],[0.8888888888888888,\"#fdca26\"],[1.0,\"#f0f921\"]]}],\"contourcarpet\":[{\"type\":\"contourcarpet\",\"colorbar\":{\"outlinewidth\":0,\"ticks\":\"\"}}],\"contour\":[{\"type\":\"contour\",\"colorbar\":{\"outlinewidth\":0,\"ticks\":\"\"},\"colorscale\":[[0.0,\"#0d0887\"],[0.1111111111111111,\"#46039f\"],[0.2222222222222222,\"#7201a8\"],[0.3333333333333333,\"#9c179e\"],[0.4444444444444444,\"#bd3786\"],[0.5555555555555556,\"#d8576b\"],[0.6666666666666666,\"#ed7953\"],[0.7777777777777778,\"#fb9f3a\"],[0.8888888888888888,\"#fdca26\"],[1.0,\"#f0f921\"]]}],\"surface\":[{\"type\":\"surface\",\"colorbar\":{\"outlinewidth\":0,\"ticks\":\"\"},\"colorscale\":[[0.0,\"#0d0887\"],[0.1111111111111111,\"#46039f\"],[0.2222222222222222,\"#7201a8\"],[0.3333333333333333,\"#9c179e\"],[0.4444444444444444,\"#bd3786\"],[0.5555555555555556,\"#d8576b\"],[0.6666666666666666,\"#ed7953\"],[0.7777777777777778,\"#fb9f3a\"],[0.8888888888888888,\"#fdca26\"],[1.0,\"#f0f921\"]]}],\"mesh3d\":[{\"type\":\"mesh3d\",\"colorbar\":{\"outlinewidth\":0,\"ticks\":\"\"}}],\"scatter\":[{\"fillpattern\":{\"fillmode\":\"overlay\",\"size\":10,\"solidity\":0.2},\"type\":\"scatter\"}],\"parcoords\":[{\"type\":\"parcoords\",\"line\":{\"colorbar\":{\"outlinewidth\":0,\"ticks\":\"\"}}}],\"scatterpolargl\":[{\"type\":\"scatterpolargl\",\"marker\":{\"colorbar\":{\"outlinewidth\":0,\"ticks\":\"\"}}}],\"bar\":[{\"error_x\":{\"color\":\"#2a3f5f\"},\"error_y\":{\"color\":\"#2a3f5f\"},\"marker\":{\"line\":{\"color\":\"#E5ECF6\",\"width\":0.5},\"pattern\":{\"fillmode\":\"overlay\",\"size\":10,\"solidity\":0.2}},\"type\":\"bar\"}],\"scattergeo\":[{\"type\":\"scattergeo\",\"marker\":{\"colorbar\":{\"outlinewidth\":0,\"ticks\":\"\"}}}],\"scatterpolar\":[{\"type\":\"scatterpolar\",\"marker\":{\"colorbar\":{\"outlinewidth\":0,\"ticks\":\"\"}}}],\"histogram\":[{\"marker\":{\"pattern\":{\"fillmode\":\"overlay\",\"size\":10,\"solidity\":0.2}},\"type\":\"histogram\"}],\"scattergl\":[{\"type\":\"scattergl\",\"marker\":{\"colorbar\":{\"outlinewidth\":0,\"ticks\":\"\"}}}],\"scatter3d\":[{\"type\":\"scatter3d\",\"line\":{\"colorbar\":{\"outlinewidth\":0,\"ticks\":\"\"}},\"marker\":{\"colorbar\":{\"outlinewidth\":0,\"ticks\":\"\"}}}],\"scattermapbox\":[{\"type\":\"scattermapbox\",\"marker\":{\"colorbar\":{\"outlinewidth\":0,\"ticks\":\"\"}}}],\"scatterternary\":[{\"type\":\"scatterternary\",\"marker\":{\"colorbar\":{\"outlinewidth\":0,\"ticks\":\"\"}}}],\"scattercarpet\":[{\"type\":\"scattercarpet\",\"marker\":{\"colorbar\":{\"outlinewidth\":0,\"ticks\":\"\"}}}],\"carpet\":[{\"aaxis\":{\"endlinecolor\":\"#2a3f5f\",\"gridcolor\":\"white\",\"linecolor\":\"white\",\"minorgridcolor\":\"white\",\"startlinecolor\":\"#2a3f5f\"},\"baxis\":{\"endlinecolor\":\"#2a3f5f\",\"gridcolor\":\"white\",\"linecolor\":\"white\",\"minorgridcolor\":\"white\",\"startlinecolor\":\"#2a3f5f\"},\"type\":\"carpet\"}],\"table\":[{\"cells\":{\"fill\":{\"color\":\"#EBF0F8\"},\"line\":{\"color\":\"white\"}},\"header\":{\"fill\":{\"color\":\"#C8D4E3\"},\"line\":{\"color\":\"white\"}},\"type\":\"table\"}],\"barpolar\":[{\"marker\":{\"line\":{\"color\":\"#E5ECF6\",\"width\":0.5},\"pattern\":{\"fillmode\":\"overlay\",\"size\":10,\"solidity\":0.2}},\"type\":\"barpolar\"}],\"pie\":[{\"automargin\":true,\"type\":\"pie\"}]},\"layout\":{\"autotypenumbers\":\"strict\",\"colorway\":[\"#636efa\",\"#EF553B\",\"#00cc96\",\"#ab63fa\",\"#FFA15A\",\"#19d3f3\",\"#FF6692\",\"#B6E880\",\"#FF97FF\",\"#FECB52\"],\"font\":{\"color\":\"#2a3f5f\"},\"hovermode\":\"closest\",\"hoverlabel\":{\"align\":\"left\"},\"paper_bgcolor\":\"white\",\"plot_bgcolor\":\"#E5ECF6\",\"polar\":{\"bgcolor\":\"#E5ECF6\",\"angularaxis\":{\"gridcolor\":\"white\",\"linecolor\":\"white\",\"ticks\":\"\"},\"radialaxis\":{\"gridcolor\":\"white\",\"linecolor\":\"white\",\"ticks\":\"\"}},\"ternary\":{\"bgcolor\":\"#E5ECF6\",\"aaxis\":{\"gridcolor\":\"white\",\"linecolor\":\"white\",\"ticks\":\"\"},\"baxis\":{\"gridcolor\":\"white\",\"linecolor\":\"white\",\"ticks\":\"\"},\"caxis\":{\"gridcolor\":\"white\",\"linecolor\":\"white\",\"ticks\":\"\"}},\"coloraxis\":{\"colorbar\":{\"outlinewidth\":0,\"ticks\":\"\"}},\"colorscale\":{\"sequential\":[[0.0,\"#0d0887\"],[0.1111111111111111,\"#46039f\"],[0.2222222222222222,\"#7201a8\"],[0.3333333333333333,\"#9c179e\"],[0.4444444444444444,\"#bd3786\"],[0.5555555555555556,\"#d8576b\"],[0.6666666666666666,\"#ed7953\"],[0.7777777777777778,\"#fb9f3a\"],[0.8888888888888888,\"#fdca26\"],[1.0,\"#f0f921\"]],\"sequentialminus\":[[0.0,\"#0d0887\"],[0.1111111111111111,\"#46039f\"],[0.2222222222222222,\"#7201a8\"],[0.3333333333333333,\"#9c179e\"],[0.4444444444444444,\"#bd3786\"],[0.5555555555555556,\"#d8576b\"],[0.6666666666666666,\"#ed7953\"],[0.7777777777777778,\"#fb9f3a\"],[0.8888888888888888,\"#fdca26\"],[1.0,\"#f0f921\"]],\"diverging\":[[0,\"#8e0152\"],[0.1,\"#c51b7d\"],[0.2,\"#de77ae\"],[0.3,\"#f1b6da\"],[0.4,\"#fde0ef\"],[0.5,\"#f7f7f7\"],[0.6,\"#e6f5d0\"],[0.7,\"#b8e186\"],[0.8,\"#7fbc41\"],[0.9,\"#4d9221\"],[1,\"#276419\"]]},\"xaxis\":{\"gridcolor\":\"white\",\"linecolor\":\"white\",\"ticks\":\"\",\"title\":{\"standoff\":15},\"zerolinecolor\":\"white\",\"automargin\":true,\"zerolinewidth\":2},\"yaxis\":{\"gridcolor\":\"white\",\"linecolor\":\"white\",\"ticks\":\"\",\"title\":{\"standoff\":15},\"zerolinecolor\":\"white\",\"automargin\":true,\"zerolinewidth\":2},\"scene\":{\"xaxis\":{\"backgroundcolor\":\"#E5ECF6\",\"gridcolor\":\"white\",\"linecolor\":\"white\",\"showbackground\":true,\"ticks\":\"\",\"zerolinecolor\":\"white\",\"gridwidth\":2},\"yaxis\":{\"backgroundcolor\":\"#E5ECF6\",\"gridcolor\":\"white\",\"linecolor\":\"white\",\"showbackground\":true,\"ticks\":\"\",\"zerolinecolor\":\"white\",\"gridwidth\":2},\"zaxis\":{\"backgroundcolor\":\"#E5ECF6\",\"gridcolor\":\"white\",\"linecolor\":\"white\",\"showbackground\":true,\"ticks\":\"\",\"zerolinecolor\":\"white\",\"gridwidth\":2}},\"shapedefaults\":{\"line\":{\"color\":\"#2a3f5f\"}},\"annotationdefaults\":{\"arrowcolor\":\"#2a3f5f\",\"arrowhead\":0,\"arrowwidth\":1},\"geo\":{\"bgcolor\":\"white\",\"landcolor\":\"#E5ECF6\",\"subunitcolor\":\"white\",\"showland\":true,\"showlakes\":true,\"lakecolor\":\"white\"},\"title\":{\"x\":0.05},\"mapbox\":{\"style\":\"light\"}}},\"xaxis\":{\"anchor\":\"y\",\"domain\":[0.0,0.2125],\"title\":{\"text\":\"Head\"}},\"yaxis\":{\"anchor\":\"x\",\"domain\":[0.0,1.0],\"title\":{\"text\":\"Layer\"}},\"xaxis2\":{\"anchor\":\"y2\",\"domain\":[0.2625,0.475],\"title\":{\"text\":\"Head\"}},\"yaxis2\":{\"anchor\":\"x2\",\"domain\":[0.0,1.0]},\"xaxis3\":{\"anchor\":\"y3\",\"domain\":[0.525,0.7375],\"title\":{\"text\":\"Head\"}},\"yaxis3\":{\"anchor\":\"x3\",\"domain\":[0.0,1.0]},\"xaxis4\":{\"anchor\":\"y4\",\"domain\":[0.7875,1.0],\"title\":{\"text\":\"Head\"}},\"yaxis4\":{\"anchor\":\"x4\",\"domain\":[0.0,1.0]},\"annotations\":[{\"font\":{\"size\":16},\"showarrow\":false,\"text\":\"Q\",\"x\":0.10625,\"xanchor\":\"center\",\"xref\":\"paper\",\"y\":1.0,\"yanchor\":\"bottom\",\"yref\":\"paper\"},{\"font\":{\"size\":16},\"showarrow\":false,\"text\":\"K\",\"x\":0.36875,\"xanchor\":\"center\",\"xref\":\"paper\",\"y\":1.0,\"yanchor\":\"bottom\",\"yref\":\"paper\"},{\"font\":{\"size\":16},\"showarrow\":false,\"text\":\"V\",\"x\":0.6312500000000001,\"xanchor\":\"center\",\"xref\":\"paper\",\"y\":1.0,\"yanchor\":\"bottom\",\"yref\":\"paper\"},{\"font\":{\"size\":16},\"showarrow\":false,\"text\":\"O\",\"x\":0.89375,\"xanchor\":\"center\",\"xref\":\"paper\",\"y\":1.0,\"yanchor\":\"bottom\",\"yref\":\"paper\"}]},                        {\"responsive\": true}                    ).then(function(){\n",
              "                            \n",
              "var gd = document.getElementById('6af11a90-c2e2-4864-b43b-9ce2b9d03867');\n",
              "var x = new MutationObserver(function (mutations, observer) {{\n",
              "        var display = window.getComputedStyle(gd).display;\n",
              "        if (!display || display === 'none') {{\n",
              "            console.log([gd, 'removed!']);\n",
              "            Plotly.purge(gd);\n",
              "            observer.disconnect();\n",
              "        }}\n",
              "}});\n",
              "\n",
              "// Listen for the removal of the full notebook cells\n",
              "var notebookContainer = gd.closest('#notebook-container');\n",
              "if (notebookContainer) {{\n",
              "    x.observe(notebookContainer, {childList: true});\n",
              "}}\n",
              "\n",
              "// Listen for the clearing of the current output cell\n",
              "var outputEl = gd.closest('.output');\n",
              "if (outputEl) {{\n",
              "    x.observe(outputEl, {childList: true});\n",
              "}}\n",
              "\n",
              "                        })                };                });            </script>        </div>"
            ]
          },
          "metadata": {},
          "output_type": "display_data"
        }
      ],
      "source": [
        "peft_model = PeftModel.from_pretrained(model,\n",
        "        model_id = peft_model_path,\n",
        "        device_map = device,\n",
        ")\n",
        "\n",
        "#peft_model = zero_out_lora(peft_model, mask_to_config(mask(oq_mask, 0.5), \"o_proj\"))   \n",
        "peft_model = zero_out_lora_layerwise(peft_model, layers=set(range(32)) - set(layer_weight.topk(20).indices.tolist()), keys=[\"q_proj\", \"k_proj\", \"v_proj\"])\n",
        "\n",
        "display_model_mix(peft_model)"
      ]
    },
    {
      "cell_type": "code",
      "execution_count": 103,
      "metadata": {},
      "outputs": [
        {
          "data": {
            "text/plain": [
              "torch.Size([32, 8])"
            ]
          },
          "execution_count": 103,
          "metadata": {},
          "output_type": "execute_result"
        }
      ],
      "source": [
        "norm_diffV = (diffV- diffV.min())/(diffV.max()-diffV.min())\n",
        "norm_diffV.shape #256"
      ]
    },
    {
      "cell_type": "code",
      "execution_count": 133,
      "metadata": {},
      "outputs": [
        {
          "data": {
            "text/plain": [
              "(tensor(102., device='cuda:0'), tensor(251., device='cuda:0'))"
            ]
          },
          "execution_count": 133,
          "metadata": {},
          "output_type": "execute_result"
        }
      ],
      "source": [
        "mask_percentile(norm_diffV, 0.6).sum(), mask(norm_diffV, 0.1).sum()"
      ]
    },
    {
      "cell_type": "code",
      "execution_count": 139,
      "metadata": {},
      "outputs": [
        {
          "data": {
            "application/vnd.plotly.v1+json": {
              "config": {
                "plotlyServerURL": "https://plot.ly"
              },
              "data": [
                {
                  "colorscale": [
                    [
                      0,
                      "rgb(247,251,255)"
                    ],
                    [
                      0.125,
                      "rgb(222,235,247)"
                    ],
                    [
                      0.25,
                      "rgb(198,219,239)"
                    ],
                    [
                      0.375,
                      "rgb(158,202,225)"
                    ],
                    [
                      0.5,
                      "rgb(107,174,214)"
                    ],
                    [
                      0.625,
                      "rgb(66,146,198)"
                    ],
                    [
                      0.75,
                      "rgb(33,113,181)"
                    ],
                    [
                      0.875,
                      "rgb(8,81,156)"
                    ],
                    [
                      1,
                      "rgb(8,48,107)"
                    ]
                  ],
                  "showscale": false,
                  "type": "heatmap",
                  "xaxis": "x",
                  "yaxis": "y",
                  "z": [
                    [
                      1,
                      1,
                      0,
                      0,
                      1,
                      1,
                      1,
                      1,
                      1,
                      0,
                      1,
                      0,
                      1,
                      1,
                      1,
                      0,
                      0,
                      0,
                      1,
                      0,
                      1,
                      1,
                      0,
                      0,
                      0,
                      1,
                      0,
                      0,
                      1,
                      1,
                      0,
                      1
                    ],
                    [
                      1,
                      0,
                      0,
                      0,
                      0,
                      0,
                      0,
                      0,
                      0,
                      1,
                      1,
                      1,
                      0,
                      0,
                      1,
                      1,
                      1,
                      1,
                      1,
                      1,
                      1,
                      1,
                      1,
                      0,
                      1,
                      1,
                      1,
                      0,
                      0,
                      1,
                      0,
                      0
                    ],
                    [
                      1,
                      0,
                      1,
                      1,
                      0,
                      1,
                      0,
                      0,
                      0,
                      1,
                      0,
                      0,
                      0,
                      0,
                      0,
                      0,
                      1,
                      1,
                      0,
                      0,
                      0,
                      0,
                      0,
                      1,
                      1,
                      0,
                      1,
                      1,
                      0,
                      0,
                      0,
                      0
                    ],
                    [
                      1,
                      0,
                      0,
                      0,
                      0,
                      0,
                      0,
                      1,
                      0,
                      0,
                      0,
                      0,
                      0,
                      1,
                      0,
                      1,
                      0,
                      0,
                      1,
                      0,
                      0,
                      0,
                      0,
                      0,
                      0,
                      0,
                      0,
                      0,
                      1,
                      1,
                      1,
                      0
                    ],
                    [
                      1,
                      0,
                      0,
                      1,
                      0,
                      0,
                      1,
                      1,
                      0,
                      0,
                      0,
                      0,
                      0,
                      0,
                      1,
                      0,
                      1,
                      0,
                      0,
                      1,
                      1,
                      0,
                      0,
                      1,
                      1,
                      1,
                      0,
                      0,
                      0,
                      0,
                      0,
                      1
                    ],
                    [
                      0,
                      0,
                      1,
                      0,
                      0,
                      1,
                      0,
                      1,
                      1,
                      0,
                      1,
                      1,
                      1,
                      0,
                      1,
                      0,
                      0,
                      0,
                      1,
                      1,
                      0,
                      0,
                      0,
                      1,
                      1,
                      0,
                      0,
                      1,
                      0,
                      0,
                      0,
                      0
                    ],
                    [
                      0,
                      1,
                      1,
                      1,
                      0,
                      0,
                      1,
                      1,
                      1,
                      1,
                      0,
                      1,
                      0,
                      0,
                      0,
                      0,
                      1,
                      0,
                      1,
                      0,
                      0,
                      0,
                      0,
                      1,
                      0,
                      1,
                      0,
                      0,
                      1,
                      0,
                      0,
                      0
                    ],
                    [
                      0,
                      0,
                      0,
                      0,
                      0,
                      0,
                      0,
                      0,
                      0,
                      0,
                      0,
                      1,
                      1,
                      0,
                      0,
                      0,
                      1,
                      1,
                      1,
                      1,
                      0,
                      0,
                      1,
                      0,
                      0,
                      0,
                      0,
                      0,
                      1,
                      0,
                      1,
                      1
                    ],
                    [
                      0,
                      0,
                      0,
                      0,
                      0,
                      0,
                      0,
                      0,
                      0,
                      0,
                      0,
                      0,
                      0,
                      1,
                      1,
                      0,
                      0,
                      0,
                      0,
                      1,
                      0,
                      0,
                      1,
                      0,
                      0,
                      0,
                      1,
                      0,
                      1,
                      0,
                      0,
                      1
                    ],
                    [
                      0,
                      0,
                      0,
                      0,
                      0,
                      1,
                      1,
                      1,
                      0,
                      1,
                      0,
                      0,
                      0,
                      0,
                      0,
                      0,
                      0,
                      0,
                      0,
                      0,
                      0,
                      0,
                      1,
                      0,
                      0,
                      0,
                      0,
                      0,
                      1,
                      0,
                      0,
                      0
                    ],
                    [
                      0,
                      0,
                      0,
                      0,
                      0,
                      0,
                      0,
                      0,
                      0,
                      0,
                      0,
                      0,
                      0,
                      0,
                      0,
                      0,
                      0,
                      0,
                      0,
                      0,
                      0,
                      0,
                      0,
                      0,
                      0,
                      0,
                      0,
                      0,
                      0,
                      0,
                      0,
                      1
                    ],
                    [
                      0,
                      0,
                      0,
                      0,
                      0,
                      0,
                      0,
                      0,
                      0,
                      0,
                      0,
                      0,
                      0,
                      0,
                      0,
                      0,
                      0,
                      1,
                      0,
                      0,
                      0,
                      0,
                      0,
                      0,
                      0,
                      0,
                      0,
                      0,
                      0,
                      0,
                      1,
                      0
                    ],
                    [
                      1,
                      0,
                      0,
                      0,
                      0,
                      1,
                      1,
                      0,
                      0,
                      0,
                      0,
                      1,
                      0,
                      0,
                      0,
                      0,
                      0,
                      0,
                      0,
                      1,
                      0,
                      0,
                      0,
                      0,
                      0,
                      0,
                      1,
                      1,
                      1,
                      0,
                      0,
                      0
                    ],
                    [
                      0,
                      0,
                      0,
                      1,
                      0,
                      0,
                      1,
                      0,
                      0,
                      1,
                      0,
                      0,
                      0,
                      0,
                      1,
                      0,
                      1,
                      1,
                      0,
                      0,
                      0,
                      0,
                      0,
                      0,
                      1,
                      1,
                      1,
                      1,
                      0,
                      1,
                      0,
                      0
                    ],
                    [
                      0,
                      1,
                      0,
                      0,
                      0,
                      0,
                      1,
                      1,
                      0,
                      1,
                      1,
                      0,
                      0,
                      0,
                      1,
                      0,
                      0,
                      0,
                      1,
                      0,
                      1,
                      1,
                      1,
                      0,
                      1,
                      1,
                      0,
                      1,
                      0,
                      0,
                      0,
                      0
                    ],
                    [
                      0,
                      0,
                      1,
                      0,
                      1,
                      0,
                      1,
                      0,
                      0,
                      1,
                      1,
                      0,
                      0,
                      0,
                      0,
                      0,
                      0,
                      0,
                      0,
                      0,
                      0,
                      1,
                      0,
                      1,
                      1,
                      1,
                      1,
                      1,
                      0,
                      1,
                      1,
                      1
                    ],
                    [
                      1,
                      1,
                      1,
                      1,
                      1,
                      0,
                      1,
                      0,
                      0,
                      0,
                      1,
                      0,
                      1,
                      1,
                      1,
                      1,
                      1,
                      0,
                      0,
                      0,
                      0,
                      0,
                      0,
                      0,
                      0,
                      1,
                      0,
                      0,
                      1,
                      1,
                      0,
                      0
                    ],
                    [
                      1,
                      1,
                      1,
                      0,
                      0,
                      0,
                      0,
                      0,
                      0,
                      0,
                      0,
                      0,
                      0,
                      0,
                      0,
                      0,
                      0,
                      0,
                      1,
                      0,
                      0,
                      1,
                      0,
                      0,
                      0,
                      0,
                      1,
                      1,
                      0,
                      0,
                      0,
                      0
                    ],
                    [
                      1,
                      0,
                      0,
                      1,
                      1,
                      0,
                      0,
                      0,
                      1,
                      0,
                      1,
                      0,
                      1,
                      1,
                      1,
                      0,
                      1,
                      0,
                      0,
                      0,
                      0,
                      0,
                      0,
                      0,
                      0,
                      0,
                      0,
                      1,
                      1,
                      1,
                      1,
                      1
                    ],
                    [
                      0,
                      0,
                      0,
                      0,
                      1,
                      0,
                      1,
                      1,
                      1,
                      1,
                      1,
                      1,
                      1,
                      0,
                      0,
                      0,
                      1,
                      0,
                      1,
                      1,
                      0,
                      0,
                      0,
                      0,
                      1,
                      0,
                      0,
                      0,
                      0,
                      0,
                      1,
                      1
                    ],
                    [
                      1,
                      0,
                      0,
                      1,
                      1,
                      0,
                      1,
                      0,
                      0,
                      0,
                      1,
                      0,
                      0,
                      1,
                      1,
                      0,
                      0,
                      1,
                      0,
                      0,
                      1,
                      1,
                      1,
                      1,
                      0,
                      0,
                      0,
                      0,
                      1,
                      1,
                      0,
                      1
                    ],
                    [
                      0,
                      1,
                      1,
                      1,
                      1,
                      1,
                      1,
                      1,
                      0,
                      0,
                      0,
                      1,
                      0,
                      0,
                      0,
                      0,
                      0,
                      0,
                      0,
                      0,
                      0,
                      0,
                      1,
                      0,
                      0,
                      0,
                      0,
                      0,
                      1,
                      0,
                      1,
                      0
                    ],
                    [
                      0,
                      0,
                      0,
                      0,
                      0,
                      0,
                      0,
                      0,
                      0,
                      0,
                      0,
                      0,
                      0,
                      0,
                      0,
                      0,
                      0,
                      0,
                      0,
                      0,
                      0,
                      0,
                      0,
                      0,
                      1,
                      0,
                      0,
                      0,
                      0,
                      0,
                      0,
                      0
                    ],
                    [
                      0,
                      0,
                      0,
                      0,
                      0,
                      0,
                      0,
                      0,
                      0,
                      0,
                      0,
                      1,
                      1,
                      1,
                      1,
                      1,
                      0,
                      1,
                      1,
                      0,
                      0,
                      0,
                      0,
                      1,
                      0,
                      0,
                      1,
                      0,
                      0,
                      0,
                      1,
                      0
                    ],
                    [
                      1,
                      0,
                      0,
                      1,
                      0,
                      0,
                      0,
                      0,
                      0,
                      0,
                      0,
                      1,
                      0,
                      0,
                      0,
                      0,
                      0,
                      0,
                      0,
                      0,
                      0,
                      0,
                      0,
                      0,
                      0,
                      0,
                      0,
                      0,
                      0,
                      0,
                      0,
                      0
                    ],
                    [
                      0,
                      0,
                      0,
                      0,
                      0,
                      0,
                      0,
                      0,
                      0,
                      0,
                      1,
                      1,
                      0,
                      1,
                      0,
                      0,
                      1,
                      1,
                      0,
                      0,
                      0,
                      0,
                      0,
                      0,
                      0,
                      0,
                      0,
                      1,
                      0,
                      1,
                      0,
                      0
                    ],
                    [
                      0,
                      0,
                      0,
                      0,
                      0,
                      0,
                      1,
                      0,
                      0,
                      0,
                      0,
                      0,
                      0,
                      0,
                      0,
                      0,
                      0,
                      0,
                      0,
                      0,
                      1,
                      0,
                      0,
                      0,
                      0,
                      0,
                      0,
                      0,
                      0,
                      0,
                      0,
                      0
                    ],
                    [
                      0,
                      0,
                      0,
                      0,
                      0,
                      0,
                      0,
                      0,
                      0,
                      0,
                      0,
                      0,
                      0,
                      0,
                      0,
                      0,
                      0,
                      0,
                      0,
                      0,
                      0,
                      0,
                      0,
                      0,
                      0,
                      0,
                      1,
                      0,
                      0,
                      0,
                      0,
                      1
                    ],
                    [
                      1,
                      0,
                      0,
                      1,
                      1,
                      0,
                      0,
                      0,
                      0,
                      0,
                      1,
                      0,
                      0,
                      0,
                      1,
                      0,
                      1,
                      1,
                      1,
                      0,
                      0,
                      0,
                      0,
                      0,
                      1,
                      1,
                      1,
                      0,
                      0,
                      0,
                      0,
                      1
                    ],
                    [
                      0,
                      1,
                      0,
                      1,
                      0,
                      0,
                      0,
                      0,
                      0,
                      1,
                      1,
                      1,
                      1,
                      1,
                      0,
                      0,
                      0,
                      0,
                      0,
                      0,
                      1,
                      0,
                      0,
                      0,
                      0,
                      0,
                      0,
                      0,
                      0,
                      0,
                      0,
                      0
                    ],
                    [
                      0,
                      0,
                      1,
                      1,
                      0,
                      0,
                      0,
                      0,
                      0,
                      1,
                      0,
                      1,
                      0,
                      0,
                      0,
                      0,
                      0,
                      0,
                      0,
                      0,
                      0,
                      0,
                      0,
                      0,
                      1,
                      1,
                      0,
                      0,
                      0,
                      0,
                      0,
                      0
                    ],
                    [
                      0,
                      0,
                      0,
                      0,
                      1,
                      1,
                      1,
                      0,
                      0,
                      0,
                      0,
                      0,
                      1,
                      0,
                      1,
                      0,
                      1,
                      1,
                      1,
                      1,
                      1,
                      0,
                      1,
                      0,
                      1,
                      1,
                      0,
                      1,
                      1,
                      0,
                      0,
                      1
                    ]
                  ],
                  "zmax": 1,
                  "zmin": 0
                },
                {
                  "colorscale": [
                    [
                      0,
                      "rgb(247,251,255)"
                    ],
                    [
                      0.125,
                      "rgb(222,235,247)"
                    ],
                    [
                      0.25,
                      "rgb(198,219,239)"
                    ],
                    [
                      0.375,
                      "rgb(158,202,225)"
                    ],
                    [
                      0.5,
                      "rgb(107,174,214)"
                    ],
                    [
                      0.625,
                      "rgb(66,146,198)"
                    ],
                    [
                      0.75,
                      "rgb(33,113,181)"
                    ],
                    [
                      0.875,
                      "rgb(8,81,156)"
                    ],
                    [
                      1,
                      "rgb(8,48,107)"
                    ]
                  ],
                  "showscale": false,
                  "type": "heatmap",
                  "xaxis": "x2",
                  "yaxis": "y2",
                  "z": [
                    [
                      0,
                      1,
                      1,
                      1,
                      0,
                      0,
                      0,
                      0
                    ],
                    [
                      0,
                      1,
                      1,
                      0,
                      1,
                      1,
                      1,
                      0
                    ],
                    [
                      1,
                      0,
                      0,
                      0,
                      0,
                      1,
                      1,
                      0
                    ],
                    [
                      0,
                      0,
                      0,
                      0,
                      0,
                      0,
                      0,
                      1
                    ],
                    [
                      0,
                      1,
                      0,
                      1,
                      1,
                      1,
                      0,
                      0
                    ],
                    [
                      0,
                      1,
                      1,
                      1,
                      0,
                      0,
                      0,
                      0
                    ],
                    [
                      1,
                      1,
                      1,
                      0,
                      0,
                      0,
                      0,
                      0
                    ],
                    [
                      0,
                      0,
                      0,
                      1,
                      1,
                      0,
                      0,
                      1
                    ],
                    [
                      0,
                      0,
                      0,
                      0,
                      1,
                      1,
                      0,
                      0
                    ],
                    [
                      0,
                      1,
                      0,
                      0,
                      0,
                      0,
                      0,
                      0
                    ],
                    [
                      0,
                      0,
                      0,
                      0,
                      0,
                      0,
                      0,
                      0
                    ],
                    [
                      0,
                      0,
                      0,
                      0,
                      0,
                      0,
                      0,
                      0
                    ],
                    [
                      0,
                      0,
                      1,
                      0,
                      0,
                      0,
                      1,
                      0
                    ],
                    [
                      0,
                      0,
                      0,
                      0,
                      1,
                      0,
                      1,
                      0
                    ],
                    [
                      0,
                      0,
                      0,
                      0,
                      0,
                      0,
                      0,
                      0
                    ],
                    [
                      1,
                      0,
                      1,
                      0,
                      0,
                      1,
                      1,
                      0
                    ],
                    [
                      1,
                      1,
                      0,
                      1,
                      0,
                      0,
                      0,
                      1
                    ],
                    [
                      1,
                      0,
                      0,
                      0,
                      0,
                      0,
                      0,
                      0
                    ],
                    [
                      1,
                      1,
                      0,
                      1,
                      0,
                      0,
                      0,
                      1
                    ],
                    [
                      0,
                      1,
                      1,
                      0,
                      1,
                      0,
                      0,
                      0
                    ],
                    [
                      0,
                      0,
                      1,
                      0,
                      1,
                      1,
                      0,
                      1
                    ],
                    [
                      1,
                      1,
                      0,
                      0,
                      0,
                      0,
                      0,
                      0
                    ],
                    [
                      0,
                      1,
                      0,
                      0,
                      0,
                      0,
                      0,
                      0
                    ],
                    [
                      0,
                      0,
                      0,
                      1,
                      0,
                      0,
                      0,
                      1
                    ],
                    [
                      0,
                      1,
                      0,
                      0,
                      0,
                      1,
                      0,
                      0
                    ],
                    [
                      0,
                      0,
                      0,
                      0,
                      1,
                      0,
                      0,
                      1
                    ],
                    [
                      0,
                      1,
                      0,
                      0,
                      0,
                      0,
                      0,
                      0
                    ],
                    [
                      0,
                      0,
                      0,
                      0,
                      0,
                      0,
                      0,
                      0
                    ],
                    [
                      0,
                      0,
                      0,
                      0,
                      1,
                      0,
                      1,
                      0
                    ],
                    [
                      0,
                      0,
                      1,
                      1,
                      0,
                      1,
                      0,
                      0
                    ],
                    [
                      1,
                      0,
                      1,
                      0,
                      0,
                      0,
                      1,
                      1
                    ],
                    [
                      0,
                      1,
                      0,
                      1,
                      1,
                      1,
                      1,
                      1
                    ]
                  ],
                  "zmax": 1,
                  "zmin": 0
                },
                {
                  "colorscale": [
                    [
                      0,
                      "rgb(247,251,255)"
                    ],
                    [
                      0.125,
                      "rgb(222,235,247)"
                    ],
                    [
                      0.25,
                      "rgb(198,219,239)"
                    ],
                    [
                      0.375,
                      "rgb(158,202,225)"
                    ],
                    [
                      0.5,
                      "rgb(107,174,214)"
                    ],
                    [
                      0.625,
                      "rgb(66,146,198)"
                    ],
                    [
                      0.75,
                      "rgb(33,113,181)"
                    ],
                    [
                      0.875,
                      "rgb(8,81,156)"
                    ],
                    [
                      1,
                      "rgb(8,48,107)"
                    ]
                  ],
                  "showscale": false,
                  "type": "heatmap",
                  "xaxis": "x3",
                  "yaxis": "y3",
                  "z": [
                    [
                      0,
                      0,
                      0,
                      0,
                      0,
                      0,
                      0,
                      0
                    ],
                    [
                      0,
                      0,
                      0,
                      0,
                      0,
                      0,
                      0,
                      0
                    ],
                    [
                      0,
                      0,
                      0,
                      0,
                      0,
                      0,
                      1,
                      0
                    ],
                    [
                      0,
                      0,
                      0,
                      0,
                      0,
                      0,
                      0,
                      0
                    ],
                    [
                      0,
                      0,
                      0,
                      0,
                      0,
                      0,
                      0,
                      0
                    ],
                    [
                      0,
                      1,
                      1,
                      0,
                      0,
                      1,
                      1,
                      1
                    ],
                    [
                      0,
                      0,
                      0,
                      0,
                      1,
                      1,
                      0,
                      1
                    ],
                    [
                      0,
                      0,
                      0,
                      1,
                      1,
                      1,
                      0,
                      1
                    ],
                    [
                      0,
                      0,
                      0,
                      0,
                      0,
                      0,
                      0,
                      0
                    ],
                    [
                      0,
                      1,
                      1,
                      1,
                      0,
                      0,
                      1,
                      0
                    ],
                    [
                      1,
                      0,
                      0,
                      0,
                      0,
                      1,
                      0,
                      0
                    ],
                    [
                      0,
                      0,
                      0,
                      0,
                      0,
                      0,
                      0,
                      0
                    ],
                    [
                      0,
                      0,
                      0,
                      0,
                      1,
                      1,
                      1,
                      0
                    ],
                    [
                      1,
                      1,
                      1,
                      1,
                      1,
                      1,
                      1,
                      1
                    ],
                    [
                      0,
                      0,
                      1,
                      0,
                      0,
                      1,
                      1,
                      0
                    ],
                    [
                      1,
                      1,
                      1,
                      0,
                      0,
                      1,
                      1,
                      1
                    ],
                    [
                      1,
                      1,
                      1,
                      1,
                      0,
                      1,
                      0,
                      1
                    ],
                    [
                      1,
                      1,
                      0,
                      1,
                      1,
                      0,
                      1,
                      0
                    ],
                    [
                      1,
                      0,
                      1,
                      1,
                      1,
                      0,
                      0,
                      1
                    ],
                    [
                      0,
                      1,
                      1,
                      1,
                      1,
                      0,
                      0,
                      1
                    ],
                    [
                      0,
                      1,
                      0,
                      1,
                      0,
                      1,
                      0,
                      0
                    ],
                    [
                      0,
                      0,
                      0,
                      0,
                      0,
                      1,
                      0,
                      0
                    ],
                    [
                      0,
                      0,
                      0,
                      0,
                      0,
                      0,
                      0,
                      0
                    ],
                    [
                      0,
                      0,
                      0,
                      0,
                      0,
                      0,
                      0,
                      0
                    ],
                    [
                      0,
                      0,
                      0,
                      0,
                      0,
                      0,
                      0,
                      0
                    ],
                    [
                      0,
                      0,
                      0,
                      0,
                      0,
                      0,
                      0,
                      0
                    ],
                    [
                      0,
                      0,
                      0,
                      0,
                      0,
                      0,
                      0,
                      0
                    ],
                    [
                      0,
                      0,
                      0,
                      0,
                      0,
                      0,
                      0,
                      0
                    ],
                    [
                      1,
                      0,
                      0,
                      1,
                      1,
                      0,
                      1,
                      0
                    ],
                    [
                      1,
                      0,
                      1,
                      1,
                      0,
                      1,
                      0,
                      0
                    ],
                    [
                      0,
                      0,
                      0,
                      0,
                      0,
                      0,
                      0,
                      0
                    ],
                    [
                      0,
                      1,
                      1,
                      0,
                      1,
                      0,
                      1,
                      1
                    ]
                  ],
                  "zmax": 1,
                  "zmin": 0
                },
                {
                  "colorscale": [
                    [
                      0,
                      "rgb(247,251,255)"
                    ],
                    [
                      0.125,
                      "rgb(222,235,247)"
                    ],
                    [
                      0.25,
                      "rgb(198,219,239)"
                    ],
                    [
                      0.375,
                      "rgb(158,202,225)"
                    ],
                    [
                      0.5,
                      "rgb(107,174,214)"
                    ],
                    [
                      0.625,
                      "rgb(66,146,198)"
                    ],
                    [
                      0.75,
                      "rgb(33,113,181)"
                    ],
                    [
                      0.875,
                      "rgb(8,81,156)"
                    ],
                    [
                      1,
                      "rgb(8,48,107)"
                    ]
                  ],
                  "showscale": true,
                  "type": "heatmap",
                  "xaxis": "x4",
                  "yaxis": "y4",
                  "z": [
                    [
                      1,
                      1,
                      1,
                      1,
                      1,
                      1,
                      1,
                      1,
                      1,
                      1,
                      1,
                      1,
                      1,
                      1,
                      1,
                      1,
                      1,
                      1,
                      1,
                      1,
                      1,
                      1,
                      1,
                      1,
                      1,
                      1,
                      1,
                      1,
                      1,
                      1,
                      1,
                      1
                    ],
                    [
                      1,
                      1,
                      1,
                      1,
                      1,
                      1,
                      1,
                      1,
                      1,
                      1,
                      1,
                      1,
                      1,
                      1,
                      1,
                      1,
                      1,
                      1,
                      1,
                      1,
                      1,
                      1,
                      1,
                      1,
                      1,
                      1,
                      1,
                      1,
                      1,
                      1,
                      1,
                      1
                    ],
                    [
                      1,
                      1,
                      1,
                      1,
                      1,
                      1,
                      1,
                      1,
                      1,
                      1,
                      1,
                      1,
                      1,
                      1,
                      1,
                      1,
                      1,
                      1,
                      1,
                      1,
                      1,
                      1,
                      1,
                      1,
                      1,
                      1,
                      1,
                      1,
                      1,
                      1,
                      1,
                      1
                    ],
                    [
                      1,
                      1,
                      1,
                      1,
                      1,
                      1,
                      1,
                      1,
                      1,
                      1,
                      1,
                      1,
                      1,
                      1,
                      1,
                      1,
                      1,
                      1,
                      1,
                      1,
                      1,
                      1,
                      1,
                      1,
                      1,
                      1,
                      1,
                      1,
                      1,
                      1,
                      1,
                      1
                    ],
                    [
                      1,
                      1,
                      1,
                      1,
                      1,
                      1,
                      1,
                      1,
                      1,
                      1,
                      1,
                      1,
                      1,
                      1,
                      1,
                      1,
                      1,
                      1,
                      1,
                      1,
                      1,
                      1,
                      1,
                      1,
                      1,
                      1,
                      1,
                      1,
                      1,
                      1,
                      1,
                      1
                    ],
                    [
                      1,
                      1,
                      1,
                      1,
                      1,
                      1,
                      1,
                      1,
                      1,
                      1,
                      1,
                      1,
                      1,
                      1,
                      1,
                      1,
                      1,
                      1,
                      1,
                      1,
                      1,
                      1,
                      1,
                      1,
                      1,
                      1,
                      1,
                      1,
                      1,
                      1,
                      1,
                      1
                    ],
                    [
                      1,
                      1,
                      1,
                      1,
                      1,
                      1,
                      1,
                      1,
                      1,
                      1,
                      1,
                      1,
                      1,
                      1,
                      1,
                      1,
                      1,
                      1,
                      1,
                      1,
                      1,
                      1,
                      1,
                      1,
                      1,
                      1,
                      1,
                      1,
                      1,
                      1,
                      1,
                      1
                    ],
                    [
                      1,
                      1,
                      1,
                      1,
                      1,
                      1,
                      1,
                      1,
                      1,
                      1,
                      1,
                      1,
                      1,
                      1,
                      1,
                      1,
                      1,
                      1,
                      1,
                      1,
                      1,
                      1,
                      1,
                      1,
                      1,
                      1,
                      1,
                      1,
                      1,
                      1,
                      1,
                      1
                    ],
                    [
                      1,
                      1,
                      1,
                      1,
                      1,
                      1,
                      1,
                      1,
                      1,
                      1,
                      1,
                      1,
                      1,
                      1,
                      1,
                      1,
                      1,
                      1,
                      1,
                      1,
                      1,
                      1,
                      1,
                      1,
                      1,
                      1,
                      1,
                      1,
                      1,
                      1,
                      1,
                      1
                    ],
                    [
                      1,
                      1,
                      1,
                      1,
                      1,
                      1,
                      1,
                      1,
                      1,
                      1,
                      1,
                      1,
                      1,
                      1,
                      1,
                      1,
                      1,
                      1,
                      1,
                      1,
                      1,
                      1,
                      1,
                      1,
                      1,
                      1,
                      1,
                      1,
                      1,
                      1,
                      1,
                      1
                    ],
                    [
                      1,
                      1,
                      1,
                      1,
                      1,
                      1,
                      1,
                      1,
                      1,
                      1,
                      1,
                      1,
                      1,
                      1,
                      1,
                      1,
                      1,
                      1,
                      1,
                      1,
                      1,
                      1,
                      1,
                      1,
                      1,
                      1,
                      1,
                      1,
                      1,
                      1,
                      1,
                      1
                    ],
                    [
                      1,
                      1,
                      1,
                      1,
                      1,
                      1,
                      1,
                      1,
                      1,
                      1,
                      1,
                      1,
                      1,
                      1,
                      1,
                      1,
                      1,
                      1,
                      1,
                      1,
                      1,
                      1,
                      1,
                      1,
                      1,
                      1,
                      1,
                      1,
                      1,
                      1,
                      1,
                      1
                    ],
                    [
                      1,
                      1,
                      1,
                      1,
                      1,
                      1,
                      1,
                      1,
                      1,
                      1,
                      1,
                      1,
                      1,
                      1,
                      1,
                      1,
                      1,
                      1,
                      1,
                      1,
                      1,
                      1,
                      1,
                      1,
                      1,
                      1,
                      1,
                      1,
                      1,
                      1,
                      1,
                      1
                    ],
                    [
                      1,
                      1,
                      1,
                      1,
                      1,
                      1,
                      1,
                      1,
                      1,
                      1,
                      1,
                      1,
                      1,
                      1,
                      1,
                      1,
                      1,
                      1,
                      1,
                      1,
                      1,
                      1,
                      1,
                      1,
                      1,
                      1,
                      1,
                      1,
                      1,
                      1,
                      1,
                      1
                    ],
                    [
                      1,
                      1,
                      1,
                      1,
                      1,
                      1,
                      1,
                      1,
                      1,
                      1,
                      1,
                      1,
                      1,
                      1,
                      1,
                      1,
                      1,
                      1,
                      1,
                      1,
                      1,
                      1,
                      1,
                      1,
                      1,
                      1,
                      1,
                      1,
                      1,
                      1,
                      1,
                      1
                    ],
                    [
                      1,
                      1,
                      1,
                      1,
                      1,
                      1,
                      1,
                      1,
                      1,
                      1,
                      1,
                      1,
                      1,
                      1,
                      1,
                      1,
                      1,
                      1,
                      1,
                      1,
                      1,
                      1,
                      1,
                      1,
                      1,
                      1,
                      1,
                      1,
                      1,
                      1,
                      1,
                      1
                    ],
                    [
                      1,
                      1,
                      1,
                      1,
                      1,
                      1,
                      1,
                      1,
                      1,
                      1,
                      1,
                      1,
                      1,
                      1,
                      1,
                      1,
                      1,
                      1,
                      1,
                      1,
                      1,
                      1,
                      1,
                      1,
                      1,
                      1,
                      1,
                      1,
                      1,
                      1,
                      1,
                      1
                    ],
                    [
                      1,
                      1,
                      1,
                      1,
                      1,
                      1,
                      1,
                      1,
                      1,
                      1,
                      1,
                      1,
                      1,
                      1,
                      1,
                      1,
                      1,
                      1,
                      1,
                      1,
                      1,
                      1,
                      1,
                      1,
                      1,
                      1,
                      1,
                      1,
                      1,
                      1,
                      1,
                      1
                    ],
                    [
                      1,
                      1,
                      1,
                      1,
                      1,
                      1,
                      1,
                      1,
                      1,
                      1,
                      1,
                      1,
                      1,
                      1,
                      1,
                      1,
                      1,
                      1,
                      1,
                      1,
                      1,
                      1,
                      1,
                      1,
                      1,
                      1,
                      1,
                      1,
                      1,
                      1,
                      1,
                      1
                    ],
                    [
                      1,
                      1,
                      1,
                      1,
                      1,
                      1,
                      1,
                      1,
                      1,
                      1,
                      1,
                      1,
                      1,
                      1,
                      1,
                      1,
                      1,
                      1,
                      1,
                      1,
                      1,
                      1,
                      1,
                      1,
                      1,
                      1,
                      1,
                      1,
                      1,
                      1,
                      1,
                      1
                    ],
                    [
                      1,
                      1,
                      1,
                      1,
                      1,
                      1,
                      1,
                      1,
                      1,
                      1,
                      1,
                      1,
                      1,
                      1,
                      1,
                      1,
                      1,
                      1,
                      1,
                      1,
                      1,
                      1,
                      1,
                      1,
                      1,
                      1,
                      1,
                      1,
                      1,
                      1,
                      1,
                      1
                    ],
                    [
                      1,
                      1,
                      1,
                      1,
                      1,
                      1,
                      1,
                      1,
                      1,
                      1,
                      1,
                      1,
                      1,
                      1,
                      1,
                      1,
                      1,
                      1,
                      1,
                      1,
                      1,
                      1,
                      1,
                      1,
                      1,
                      1,
                      1,
                      1,
                      1,
                      1,
                      1,
                      1
                    ],
                    [
                      1,
                      1,
                      1,
                      1,
                      1,
                      1,
                      1,
                      1,
                      1,
                      1,
                      1,
                      1,
                      1,
                      1,
                      1,
                      1,
                      1,
                      1,
                      1,
                      1,
                      1,
                      1,
                      1,
                      1,
                      1,
                      1,
                      1,
                      1,
                      1,
                      1,
                      1,
                      1
                    ],
                    [
                      1,
                      1,
                      1,
                      1,
                      1,
                      1,
                      1,
                      1,
                      1,
                      1,
                      1,
                      1,
                      1,
                      1,
                      1,
                      1,
                      1,
                      1,
                      1,
                      1,
                      1,
                      1,
                      1,
                      1,
                      1,
                      1,
                      1,
                      1,
                      1,
                      1,
                      1,
                      1
                    ],
                    [
                      1,
                      1,
                      1,
                      1,
                      1,
                      1,
                      1,
                      1,
                      1,
                      1,
                      1,
                      1,
                      1,
                      1,
                      1,
                      1,
                      1,
                      1,
                      1,
                      1,
                      1,
                      1,
                      1,
                      1,
                      1,
                      1,
                      1,
                      1,
                      1,
                      1,
                      1,
                      1
                    ],
                    [
                      1,
                      1,
                      1,
                      1,
                      1,
                      1,
                      1,
                      1,
                      1,
                      1,
                      1,
                      1,
                      1,
                      1,
                      1,
                      1,
                      1,
                      1,
                      1,
                      1,
                      1,
                      1,
                      1,
                      1,
                      1,
                      1,
                      1,
                      1,
                      1,
                      1,
                      1,
                      1
                    ],
                    [
                      1,
                      1,
                      1,
                      1,
                      1,
                      1,
                      1,
                      1,
                      1,
                      1,
                      1,
                      1,
                      1,
                      1,
                      1,
                      1,
                      1,
                      1,
                      1,
                      1,
                      1,
                      1,
                      1,
                      1,
                      1,
                      1,
                      1,
                      1,
                      1,
                      1,
                      1,
                      1
                    ],
                    [
                      1,
                      1,
                      1,
                      1,
                      1,
                      1,
                      1,
                      1,
                      1,
                      1,
                      1,
                      1,
                      1,
                      1,
                      1,
                      1,
                      1,
                      1,
                      1,
                      1,
                      1,
                      1,
                      1,
                      1,
                      1,
                      1,
                      1,
                      1,
                      1,
                      1,
                      1,
                      1
                    ],
                    [
                      1,
                      1,
                      1,
                      1,
                      1,
                      1,
                      1,
                      1,
                      1,
                      1,
                      1,
                      1,
                      1,
                      1,
                      1,
                      1,
                      1,
                      1,
                      1,
                      1,
                      1,
                      1,
                      1,
                      1,
                      1,
                      1,
                      1,
                      1,
                      1,
                      1,
                      1,
                      1
                    ],
                    [
                      1,
                      1,
                      1,
                      1,
                      1,
                      1,
                      1,
                      1,
                      1,
                      1,
                      1,
                      1,
                      1,
                      1,
                      1,
                      1,
                      1,
                      1,
                      1,
                      1,
                      1,
                      1,
                      1,
                      1,
                      1,
                      1,
                      1,
                      1,
                      1,
                      1,
                      1,
                      1
                    ],
                    [
                      1,
                      1,
                      1,
                      1,
                      1,
                      1,
                      1,
                      1,
                      1,
                      1,
                      1,
                      1,
                      1,
                      1,
                      1,
                      1,
                      1,
                      1,
                      1,
                      1,
                      1,
                      1,
                      1,
                      1,
                      1,
                      1,
                      1,
                      1,
                      1,
                      1,
                      1,
                      1
                    ],
                    [
                      1,
                      1,
                      1,
                      1,
                      1,
                      1,
                      1,
                      1,
                      1,
                      1,
                      1,
                      1,
                      1,
                      1,
                      1,
                      1,
                      1,
                      1,
                      1,
                      1,
                      1,
                      1,
                      1,
                      1,
                      1,
                      1,
                      1,
                      1,
                      1,
                      1,
                      1,
                      1
                    ]
                  ],
                  "zmax": 1,
                  "zmin": 0
                }
              ],
              "layout": {
                "annotations": [
                  {
                    "font": {
                      "size": 16
                    },
                    "showarrow": false,
                    "text": "Q",
                    "x": 0.10625,
                    "xanchor": "center",
                    "xref": "paper",
                    "y": 1,
                    "yanchor": "bottom",
                    "yref": "paper"
                  },
                  {
                    "font": {
                      "size": 16
                    },
                    "showarrow": false,
                    "text": "K",
                    "x": 0.36875,
                    "xanchor": "center",
                    "xref": "paper",
                    "y": 1,
                    "yanchor": "bottom",
                    "yref": "paper"
                  },
                  {
                    "font": {
                      "size": 16
                    },
                    "showarrow": false,
                    "text": "V",
                    "x": 0.6312500000000001,
                    "xanchor": "center",
                    "xref": "paper",
                    "y": 1,
                    "yanchor": "bottom",
                    "yref": "paper"
                  },
                  {
                    "font": {
                      "size": 16
                    },
                    "showarrow": false,
                    "text": "O",
                    "x": 0.89375,
                    "xanchor": "center",
                    "xref": "paper",
                    "y": 1,
                    "yanchor": "bottom",
                    "yref": "paper"
                  }
                ],
                "template": {
                  "data": {
                    "bar": [
                      {
                        "error_x": {
                          "color": "#2a3f5f"
                        },
                        "error_y": {
                          "color": "#2a3f5f"
                        },
                        "marker": {
                          "line": {
                            "color": "#E5ECF6",
                            "width": 0.5
                          },
                          "pattern": {
                            "fillmode": "overlay",
                            "size": 10,
                            "solidity": 0.2
                          }
                        },
                        "type": "bar"
                      }
                    ],
                    "barpolar": [
                      {
                        "marker": {
                          "line": {
                            "color": "#E5ECF6",
                            "width": 0.5
                          },
                          "pattern": {
                            "fillmode": "overlay",
                            "size": 10,
                            "solidity": 0.2
                          }
                        },
                        "type": "barpolar"
                      }
                    ],
                    "carpet": [
                      {
                        "aaxis": {
                          "endlinecolor": "#2a3f5f",
                          "gridcolor": "white",
                          "linecolor": "white",
                          "minorgridcolor": "white",
                          "startlinecolor": "#2a3f5f"
                        },
                        "baxis": {
                          "endlinecolor": "#2a3f5f",
                          "gridcolor": "white",
                          "linecolor": "white",
                          "minorgridcolor": "white",
                          "startlinecolor": "#2a3f5f"
                        },
                        "type": "carpet"
                      }
                    ],
                    "choropleth": [
                      {
                        "colorbar": {
                          "outlinewidth": 0,
                          "ticks": ""
                        },
                        "type": "choropleth"
                      }
                    ],
                    "contour": [
                      {
                        "colorbar": {
                          "outlinewidth": 0,
                          "ticks": ""
                        },
                        "colorscale": [
                          [
                            0,
                            "#0d0887"
                          ],
                          [
                            0.1111111111111111,
                            "#46039f"
                          ],
                          [
                            0.2222222222222222,
                            "#7201a8"
                          ],
                          [
                            0.3333333333333333,
                            "#9c179e"
                          ],
                          [
                            0.4444444444444444,
                            "#bd3786"
                          ],
                          [
                            0.5555555555555556,
                            "#d8576b"
                          ],
                          [
                            0.6666666666666666,
                            "#ed7953"
                          ],
                          [
                            0.7777777777777778,
                            "#fb9f3a"
                          ],
                          [
                            0.8888888888888888,
                            "#fdca26"
                          ],
                          [
                            1,
                            "#f0f921"
                          ]
                        ],
                        "type": "contour"
                      }
                    ],
                    "contourcarpet": [
                      {
                        "colorbar": {
                          "outlinewidth": 0,
                          "ticks": ""
                        },
                        "type": "contourcarpet"
                      }
                    ],
                    "heatmap": [
                      {
                        "colorbar": {
                          "outlinewidth": 0,
                          "ticks": ""
                        },
                        "colorscale": [
                          [
                            0,
                            "#0d0887"
                          ],
                          [
                            0.1111111111111111,
                            "#46039f"
                          ],
                          [
                            0.2222222222222222,
                            "#7201a8"
                          ],
                          [
                            0.3333333333333333,
                            "#9c179e"
                          ],
                          [
                            0.4444444444444444,
                            "#bd3786"
                          ],
                          [
                            0.5555555555555556,
                            "#d8576b"
                          ],
                          [
                            0.6666666666666666,
                            "#ed7953"
                          ],
                          [
                            0.7777777777777778,
                            "#fb9f3a"
                          ],
                          [
                            0.8888888888888888,
                            "#fdca26"
                          ],
                          [
                            1,
                            "#f0f921"
                          ]
                        ],
                        "type": "heatmap"
                      }
                    ],
                    "heatmapgl": [
                      {
                        "colorbar": {
                          "outlinewidth": 0,
                          "ticks": ""
                        },
                        "colorscale": [
                          [
                            0,
                            "#0d0887"
                          ],
                          [
                            0.1111111111111111,
                            "#46039f"
                          ],
                          [
                            0.2222222222222222,
                            "#7201a8"
                          ],
                          [
                            0.3333333333333333,
                            "#9c179e"
                          ],
                          [
                            0.4444444444444444,
                            "#bd3786"
                          ],
                          [
                            0.5555555555555556,
                            "#d8576b"
                          ],
                          [
                            0.6666666666666666,
                            "#ed7953"
                          ],
                          [
                            0.7777777777777778,
                            "#fb9f3a"
                          ],
                          [
                            0.8888888888888888,
                            "#fdca26"
                          ],
                          [
                            1,
                            "#f0f921"
                          ]
                        ],
                        "type": "heatmapgl"
                      }
                    ],
                    "histogram": [
                      {
                        "marker": {
                          "pattern": {
                            "fillmode": "overlay",
                            "size": 10,
                            "solidity": 0.2
                          }
                        },
                        "type": "histogram"
                      }
                    ],
                    "histogram2d": [
                      {
                        "colorbar": {
                          "outlinewidth": 0,
                          "ticks": ""
                        },
                        "colorscale": [
                          [
                            0,
                            "#0d0887"
                          ],
                          [
                            0.1111111111111111,
                            "#46039f"
                          ],
                          [
                            0.2222222222222222,
                            "#7201a8"
                          ],
                          [
                            0.3333333333333333,
                            "#9c179e"
                          ],
                          [
                            0.4444444444444444,
                            "#bd3786"
                          ],
                          [
                            0.5555555555555556,
                            "#d8576b"
                          ],
                          [
                            0.6666666666666666,
                            "#ed7953"
                          ],
                          [
                            0.7777777777777778,
                            "#fb9f3a"
                          ],
                          [
                            0.8888888888888888,
                            "#fdca26"
                          ],
                          [
                            1,
                            "#f0f921"
                          ]
                        ],
                        "type": "histogram2d"
                      }
                    ],
                    "histogram2dcontour": [
                      {
                        "colorbar": {
                          "outlinewidth": 0,
                          "ticks": ""
                        },
                        "colorscale": [
                          [
                            0,
                            "#0d0887"
                          ],
                          [
                            0.1111111111111111,
                            "#46039f"
                          ],
                          [
                            0.2222222222222222,
                            "#7201a8"
                          ],
                          [
                            0.3333333333333333,
                            "#9c179e"
                          ],
                          [
                            0.4444444444444444,
                            "#bd3786"
                          ],
                          [
                            0.5555555555555556,
                            "#d8576b"
                          ],
                          [
                            0.6666666666666666,
                            "#ed7953"
                          ],
                          [
                            0.7777777777777778,
                            "#fb9f3a"
                          ],
                          [
                            0.8888888888888888,
                            "#fdca26"
                          ],
                          [
                            1,
                            "#f0f921"
                          ]
                        ],
                        "type": "histogram2dcontour"
                      }
                    ],
                    "mesh3d": [
                      {
                        "colorbar": {
                          "outlinewidth": 0,
                          "ticks": ""
                        },
                        "type": "mesh3d"
                      }
                    ],
                    "parcoords": [
                      {
                        "line": {
                          "colorbar": {
                            "outlinewidth": 0,
                            "ticks": ""
                          }
                        },
                        "type": "parcoords"
                      }
                    ],
                    "pie": [
                      {
                        "automargin": true,
                        "type": "pie"
                      }
                    ],
                    "scatter": [
                      {
                        "fillpattern": {
                          "fillmode": "overlay",
                          "size": 10,
                          "solidity": 0.2
                        },
                        "type": "scatter"
                      }
                    ],
                    "scatter3d": [
                      {
                        "line": {
                          "colorbar": {
                            "outlinewidth": 0,
                            "ticks": ""
                          }
                        },
                        "marker": {
                          "colorbar": {
                            "outlinewidth": 0,
                            "ticks": ""
                          }
                        },
                        "type": "scatter3d"
                      }
                    ],
                    "scattercarpet": [
                      {
                        "marker": {
                          "colorbar": {
                            "outlinewidth": 0,
                            "ticks": ""
                          }
                        },
                        "type": "scattercarpet"
                      }
                    ],
                    "scattergeo": [
                      {
                        "marker": {
                          "colorbar": {
                            "outlinewidth": 0,
                            "ticks": ""
                          }
                        },
                        "type": "scattergeo"
                      }
                    ],
                    "scattergl": [
                      {
                        "marker": {
                          "colorbar": {
                            "outlinewidth": 0,
                            "ticks": ""
                          }
                        },
                        "type": "scattergl"
                      }
                    ],
                    "scattermapbox": [
                      {
                        "marker": {
                          "colorbar": {
                            "outlinewidth": 0,
                            "ticks": ""
                          }
                        },
                        "type": "scattermapbox"
                      }
                    ],
                    "scatterpolar": [
                      {
                        "marker": {
                          "colorbar": {
                            "outlinewidth": 0,
                            "ticks": ""
                          }
                        },
                        "type": "scatterpolar"
                      }
                    ],
                    "scatterpolargl": [
                      {
                        "marker": {
                          "colorbar": {
                            "outlinewidth": 0,
                            "ticks": ""
                          }
                        },
                        "type": "scatterpolargl"
                      }
                    ],
                    "scatterternary": [
                      {
                        "marker": {
                          "colorbar": {
                            "outlinewidth": 0,
                            "ticks": ""
                          }
                        },
                        "type": "scatterternary"
                      }
                    ],
                    "surface": [
                      {
                        "colorbar": {
                          "outlinewidth": 0,
                          "ticks": ""
                        },
                        "colorscale": [
                          [
                            0,
                            "#0d0887"
                          ],
                          [
                            0.1111111111111111,
                            "#46039f"
                          ],
                          [
                            0.2222222222222222,
                            "#7201a8"
                          ],
                          [
                            0.3333333333333333,
                            "#9c179e"
                          ],
                          [
                            0.4444444444444444,
                            "#bd3786"
                          ],
                          [
                            0.5555555555555556,
                            "#d8576b"
                          ],
                          [
                            0.6666666666666666,
                            "#ed7953"
                          ],
                          [
                            0.7777777777777778,
                            "#fb9f3a"
                          ],
                          [
                            0.8888888888888888,
                            "#fdca26"
                          ],
                          [
                            1,
                            "#f0f921"
                          ]
                        ],
                        "type": "surface"
                      }
                    ],
                    "table": [
                      {
                        "cells": {
                          "fill": {
                            "color": "#EBF0F8"
                          },
                          "line": {
                            "color": "white"
                          }
                        },
                        "header": {
                          "fill": {
                            "color": "#C8D4E3"
                          },
                          "line": {
                            "color": "white"
                          }
                        },
                        "type": "table"
                      }
                    ]
                  },
                  "layout": {
                    "annotationdefaults": {
                      "arrowcolor": "#2a3f5f",
                      "arrowhead": 0,
                      "arrowwidth": 1
                    },
                    "autotypenumbers": "strict",
                    "coloraxis": {
                      "colorbar": {
                        "outlinewidth": 0,
                        "ticks": ""
                      }
                    },
                    "colorscale": {
                      "diverging": [
                        [
                          0,
                          "#8e0152"
                        ],
                        [
                          0.1,
                          "#c51b7d"
                        ],
                        [
                          0.2,
                          "#de77ae"
                        ],
                        [
                          0.3,
                          "#f1b6da"
                        ],
                        [
                          0.4,
                          "#fde0ef"
                        ],
                        [
                          0.5,
                          "#f7f7f7"
                        ],
                        [
                          0.6,
                          "#e6f5d0"
                        ],
                        [
                          0.7,
                          "#b8e186"
                        ],
                        [
                          0.8,
                          "#7fbc41"
                        ],
                        [
                          0.9,
                          "#4d9221"
                        ],
                        [
                          1,
                          "#276419"
                        ]
                      ],
                      "sequential": [
                        [
                          0,
                          "#0d0887"
                        ],
                        [
                          0.1111111111111111,
                          "#46039f"
                        ],
                        [
                          0.2222222222222222,
                          "#7201a8"
                        ],
                        [
                          0.3333333333333333,
                          "#9c179e"
                        ],
                        [
                          0.4444444444444444,
                          "#bd3786"
                        ],
                        [
                          0.5555555555555556,
                          "#d8576b"
                        ],
                        [
                          0.6666666666666666,
                          "#ed7953"
                        ],
                        [
                          0.7777777777777778,
                          "#fb9f3a"
                        ],
                        [
                          0.8888888888888888,
                          "#fdca26"
                        ],
                        [
                          1,
                          "#f0f921"
                        ]
                      ],
                      "sequentialminus": [
                        [
                          0,
                          "#0d0887"
                        ],
                        [
                          0.1111111111111111,
                          "#46039f"
                        ],
                        [
                          0.2222222222222222,
                          "#7201a8"
                        ],
                        [
                          0.3333333333333333,
                          "#9c179e"
                        ],
                        [
                          0.4444444444444444,
                          "#bd3786"
                        ],
                        [
                          0.5555555555555556,
                          "#d8576b"
                        ],
                        [
                          0.6666666666666666,
                          "#ed7953"
                        ],
                        [
                          0.7777777777777778,
                          "#fb9f3a"
                        ],
                        [
                          0.8888888888888888,
                          "#fdca26"
                        ],
                        [
                          1,
                          "#f0f921"
                        ]
                      ]
                    },
                    "colorway": [
                      "#636efa",
                      "#EF553B",
                      "#00cc96",
                      "#ab63fa",
                      "#FFA15A",
                      "#19d3f3",
                      "#FF6692",
                      "#B6E880",
                      "#FF97FF",
                      "#FECB52"
                    ],
                    "font": {
                      "color": "#2a3f5f"
                    },
                    "geo": {
                      "bgcolor": "white",
                      "lakecolor": "white",
                      "landcolor": "#E5ECF6",
                      "showlakes": true,
                      "showland": true,
                      "subunitcolor": "white"
                    },
                    "hoverlabel": {
                      "align": "left"
                    },
                    "hovermode": "closest",
                    "mapbox": {
                      "style": "light"
                    },
                    "paper_bgcolor": "white",
                    "plot_bgcolor": "#E5ECF6",
                    "polar": {
                      "angularaxis": {
                        "gridcolor": "white",
                        "linecolor": "white",
                        "ticks": ""
                      },
                      "bgcolor": "#E5ECF6",
                      "radialaxis": {
                        "gridcolor": "white",
                        "linecolor": "white",
                        "ticks": ""
                      }
                    },
                    "scene": {
                      "xaxis": {
                        "backgroundcolor": "#E5ECF6",
                        "gridcolor": "white",
                        "gridwidth": 2,
                        "linecolor": "white",
                        "showbackground": true,
                        "ticks": "",
                        "zerolinecolor": "white"
                      },
                      "yaxis": {
                        "backgroundcolor": "#E5ECF6",
                        "gridcolor": "white",
                        "gridwidth": 2,
                        "linecolor": "white",
                        "showbackground": true,
                        "ticks": "",
                        "zerolinecolor": "white"
                      },
                      "zaxis": {
                        "backgroundcolor": "#E5ECF6",
                        "gridcolor": "white",
                        "gridwidth": 2,
                        "linecolor": "white",
                        "showbackground": true,
                        "ticks": "",
                        "zerolinecolor": "white"
                      }
                    },
                    "shapedefaults": {
                      "line": {
                        "color": "#2a3f5f"
                      }
                    },
                    "ternary": {
                      "aaxis": {
                        "gridcolor": "white",
                        "linecolor": "white",
                        "ticks": ""
                      },
                      "baxis": {
                        "gridcolor": "white",
                        "linecolor": "white",
                        "ticks": ""
                      },
                      "bgcolor": "#E5ECF6",
                      "caxis": {
                        "gridcolor": "white",
                        "linecolor": "white",
                        "ticks": ""
                      }
                    },
                    "title": {
                      "x": 0.05
                    },
                    "xaxis": {
                      "automargin": true,
                      "gridcolor": "white",
                      "linecolor": "white",
                      "ticks": "",
                      "title": {
                        "standoff": 15
                      },
                      "zerolinecolor": "white",
                      "zerolinewidth": 2
                    },
                    "yaxis": {
                      "automargin": true,
                      "gridcolor": "white",
                      "linecolor": "white",
                      "ticks": "",
                      "title": {
                        "standoff": 15
                      },
                      "zerolinecolor": "white",
                      "zerolinewidth": 2
                    }
                  }
                },
                "xaxis": {
                  "anchor": "y",
                  "domain": [
                    0,
                    0.2125
                  ],
                  "title": {
                    "text": "Head"
                  }
                },
                "xaxis2": {
                  "anchor": "y2",
                  "domain": [
                    0.2625,
                    0.475
                  ],
                  "title": {
                    "text": "Head"
                  }
                },
                "xaxis3": {
                  "anchor": "y3",
                  "domain": [
                    0.525,
                    0.7375
                  ],
                  "title": {
                    "text": "Head"
                  }
                },
                "xaxis4": {
                  "anchor": "y4",
                  "domain": [
                    0.7875,
                    1
                  ],
                  "title": {
                    "text": "Head"
                  }
                },
                "yaxis": {
                  "anchor": "x",
                  "domain": [
                    0,
                    1
                  ],
                  "title": {
                    "text": "Layer"
                  }
                },
                "yaxis2": {
                  "anchor": "x2",
                  "domain": [
                    0,
                    1
                  ]
                },
                "yaxis3": {
                  "anchor": "x3",
                  "domain": [
                    0,
                    1
                  ]
                },
                "yaxis4": {
                  "anchor": "x4",
                  "domain": [
                    0,
                    1
                  ]
                }
              }
            },
            "text/html": [
              "<div>                            <div id=\"ac050b16-eefd-4a61-a4b1-bc251114afa9\" class=\"plotly-graph-div\" style=\"height:525px; width:100%;\"></div>            <script type=\"text/javascript\">                require([\"plotly\"], function(Plotly) {                    window.PLOTLYENV=window.PLOTLYENV || {};                                    if (document.getElementById(\"ac050b16-eefd-4a61-a4b1-bc251114afa9\")) {                    Plotly.newPlot(                        \"ac050b16-eefd-4a61-a4b1-bc251114afa9\",                        [{\"colorscale\":[[0.0,\"rgb(247,251,255)\"],[0.125,\"rgb(222,235,247)\"],[0.25,\"rgb(198,219,239)\"],[0.375,\"rgb(158,202,225)\"],[0.5,\"rgb(107,174,214)\"],[0.625,\"rgb(66,146,198)\"],[0.75,\"rgb(33,113,181)\"],[0.875,\"rgb(8,81,156)\"],[1.0,\"rgb(8,48,107)\"]],\"showscale\":false,\"z\":[[1.0,1.0,0.0,0.0,1.0,1.0,1.0,1.0,1.0,0.0,1.0,0.0,1.0,1.0,1.0,0.0,0.0,0.0,1.0,0.0,1.0,1.0,0.0,0.0,0.0,1.0,0.0,0.0,1.0,1.0,0.0,1.0],[1.0,0.0,0.0,0.0,0.0,0.0,0.0,0.0,0.0,1.0,1.0,1.0,0.0,0.0,1.0,1.0,1.0,1.0,1.0,1.0,1.0,1.0,1.0,0.0,1.0,1.0,1.0,0.0,0.0,1.0,0.0,0.0],[1.0,0.0,1.0,1.0,0.0,1.0,0.0,0.0,0.0,1.0,0.0,0.0,0.0,0.0,0.0,0.0,1.0,1.0,0.0,0.0,0.0,0.0,0.0,1.0,1.0,0.0,1.0,1.0,0.0,0.0,0.0,0.0],[1.0,0.0,0.0,0.0,0.0,0.0,0.0,1.0,0.0,0.0,0.0,0.0,0.0,1.0,0.0,1.0,0.0,0.0,1.0,0.0,0.0,0.0,0.0,0.0,0.0,0.0,0.0,0.0,1.0,1.0,1.0,0.0],[1.0,0.0,0.0,1.0,0.0,0.0,1.0,1.0,0.0,0.0,0.0,0.0,0.0,0.0,1.0,0.0,1.0,0.0,0.0,1.0,1.0,0.0,0.0,1.0,1.0,1.0,0.0,0.0,0.0,0.0,0.0,1.0],[0.0,0.0,1.0,0.0,0.0,1.0,0.0,1.0,1.0,0.0,1.0,1.0,1.0,0.0,1.0,0.0,0.0,0.0,1.0,1.0,0.0,0.0,0.0,1.0,1.0,0.0,0.0,1.0,0.0,0.0,0.0,0.0],[0.0,1.0,1.0,1.0,0.0,0.0,1.0,1.0,1.0,1.0,0.0,1.0,0.0,0.0,0.0,0.0,1.0,0.0,1.0,0.0,0.0,0.0,0.0,1.0,0.0,1.0,0.0,0.0,1.0,0.0,0.0,0.0],[0.0,0.0,0.0,0.0,0.0,0.0,0.0,0.0,0.0,0.0,0.0,1.0,1.0,0.0,0.0,0.0,1.0,1.0,1.0,1.0,0.0,0.0,1.0,0.0,0.0,0.0,0.0,0.0,1.0,0.0,1.0,1.0],[0.0,0.0,0.0,0.0,0.0,0.0,0.0,0.0,0.0,0.0,0.0,0.0,0.0,1.0,1.0,0.0,0.0,0.0,0.0,1.0,0.0,0.0,1.0,0.0,0.0,0.0,1.0,0.0,1.0,0.0,0.0,1.0],[0.0,0.0,0.0,0.0,0.0,1.0,1.0,1.0,0.0,1.0,0.0,0.0,0.0,0.0,0.0,0.0,0.0,0.0,0.0,0.0,0.0,0.0,1.0,0.0,0.0,0.0,0.0,0.0,1.0,0.0,0.0,0.0],[0.0,0.0,0.0,0.0,0.0,0.0,0.0,0.0,0.0,0.0,0.0,0.0,0.0,0.0,0.0,0.0,0.0,0.0,0.0,0.0,0.0,0.0,0.0,0.0,0.0,0.0,0.0,0.0,0.0,0.0,0.0,1.0],[0.0,0.0,0.0,0.0,0.0,0.0,0.0,0.0,0.0,0.0,0.0,0.0,0.0,0.0,0.0,0.0,0.0,1.0,0.0,0.0,0.0,0.0,0.0,0.0,0.0,0.0,0.0,0.0,0.0,0.0,1.0,0.0],[1.0,0.0,0.0,0.0,0.0,1.0,1.0,0.0,0.0,0.0,0.0,1.0,0.0,0.0,0.0,0.0,0.0,0.0,0.0,1.0,0.0,0.0,0.0,0.0,0.0,0.0,1.0,1.0,1.0,0.0,0.0,0.0],[0.0,0.0,0.0,1.0,0.0,0.0,1.0,0.0,0.0,1.0,0.0,0.0,0.0,0.0,1.0,0.0,1.0,1.0,0.0,0.0,0.0,0.0,0.0,0.0,1.0,1.0,1.0,1.0,0.0,1.0,0.0,0.0],[0.0,1.0,0.0,0.0,0.0,0.0,1.0,1.0,0.0,1.0,1.0,0.0,0.0,0.0,1.0,0.0,0.0,0.0,1.0,0.0,1.0,1.0,1.0,0.0,1.0,1.0,0.0,1.0,0.0,0.0,0.0,0.0],[0.0,0.0,1.0,0.0,1.0,0.0,1.0,0.0,0.0,1.0,1.0,0.0,0.0,0.0,0.0,0.0,0.0,0.0,0.0,0.0,0.0,1.0,0.0,1.0,1.0,1.0,1.0,1.0,0.0,1.0,1.0,1.0],[1.0,1.0,1.0,1.0,1.0,0.0,1.0,0.0,0.0,0.0,1.0,0.0,1.0,1.0,1.0,1.0,1.0,0.0,0.0,0.0,0.0,0.0,0.0,0.0,0.0,1.0,0.0,0.0,1.0,1.0,0.0,0.0],[1.0,1.0,1.0,0.0,0.0,0.0,0.0,0.0,0.0,0.0,0.0,0.0,0.0,0.0,0.0,0.0,0.0,0.0,1.0,0.0,0.0,1.0,0.0,0.0,0.0,0.0,1.0,1.0,0.0,0.0,0.0,0.0],[1.0,0.0,0.0,1.0,1.0,0.0,0.0,0.0,1.0,0.0,1.0,0.0,1.0,1.0,1.0,0.0,1.0,0.0,0.0,0.0,0.0,0.0,0.0,0.0,0.0,0.0,0.0,1.0,1.0,1.0,1.0,1.0],[0.0,0.0,0.0,0.0,1.0,0.0,1.0,1.0,1.0,1.0,1.0,1.0,1.0,0.0,0.0,0.0,1.0,0.0,1.0,1.0,0.0,0.0,0.0,0.0,1.0,0.0,0.0,0.0,0.0,0.0,1.0,1.0],[1.0,0.0,0.0,1.0,1.0,0.0,1.0,0.0,0.0,0.0,1.0,0.0,0.0,1.0,1.0,0.0,0.0,1.0,0.0,0.0,1.0,1.0,1.0,1.0,0.0,0.0,0.0,0.0,1.0,1.0,0.0,1.0],[0.0,1.0,1.0,1.0,1.0,1.0,1.0,1.0,0.0,0.0,0.0,1.0,0.0,0.0,0.0,0.0,0.0,0.0,0.0,0.0,0.0,0.0,1.0,0.0,0.0,0.0,0.0,0.0,1.0,0.0,1.0,0.0],[0.0,0.0,0.0,0.0,0.0,0.0,0.0,0.0,0.0,0.0,0.0,0.0,0.0,0.0,0.0,0.0,0.0,0.0,0.0,0.0,0.0,0.0,0.0,0.0,1.0,0.0,0.0,0.0,0.0,0.0,0.0,0.0],[0.0,0.0,0.0,0.0,0.0,0.0,0.0,0.0,0.0,0.0,0.0,1.0,1.0,1.0,1.0,1.0,0.0,1.0,1.0,0.0,0.0,0.0,0.0,1.0,0.0,0.0,1.0,0.0,0.0,0.0,1.0,0.0],[1.0,0.0,0.0,1.0,0.0,0.0,0.0,0.0,0.0,0.0,0.0,1.0,0.0,0.0,0.0,0.0,0.0,0.0,0.0,0.0,0.0,0.0,0.0,0.0,0.0,0.0,0.0,0.0,0.0,0.0,0.0,0.0],[0.0,0.0,0.0,0.0,0.0,0.0,0.0,0.0,0.0,0.0,1.0,1.0,0.0,1.0,0.0,0.0,1.0,1.0,0.0,0.0,0.0,0.0,0.0,0.0,0.0,0.0,0.0,1.0,0.0,1.0,0.0,0.0],[0.0,0.0,0.0,0.0,0.0,0.0,1.0,0.0,0.0,0.0,0.0,0.0,0.0,0.0,0.0,0.0,0.0,0.0,0.0,0.0,1.0,0.0,0.0,0.0,0.0,0.0,0.0,0.0,0.0,0.0,0.0,0.0],[0.0,0.0,0.0,0.0,0.0,0.0,0.0,0.0,0.0,0.0,0.0,0.0,0.0,0.0,0.0,0.0,0.0,0.0,0.0,0.0,0.0,0.0,0.0,0.0,0.0,0.0,1.0,0.0,0.0,0.0,0.0,1.0],[1.0,0.0,0.0,1.0,1.0,0.0,0.0,0.0,0.0,0.0,1.0,0.0,0.0,0.0,1.0,0.0,1.0,1.0,1.0,0.0,0.0,0.0,0.0,0.0,1.0,1.0,1.0,0.0,0.0,0.0,0.0,1.0],[0.0,1.0,0.0,1.0,0.0,0.0,0.0,0.0,0.0,1.0,1.0,1.0,1.0,1.0,0.0,0.0,0.0,0.0,0.0,0.0,1.0,0.0,0.0,0.0,0.0,0.0,0.0,0.0,0.0,0.0,0.0,0.0],[0.0,0.0,1.0,1.0,0.0,0.0,0.0,0.0,0.0,1.0,0.0,1.0,0.0,0.0,0.0,0.0,0.0,0.0,0.0,0.0,0.0,0.0,0.0,0.0,1.0,1.0,0.0,0.0,0.0,0.0,0.0,0.0],[0.0,0.0,0.0,0.0,1.0,1.0,1.0,0.0,0.0,0.0,0.0,0.0,1.0,0.0,1.0,0.0,1.0,1.0,1.0,1.0,1.0,0.0,1.0,0.0,1.0,1.0,0.0,1.0,1.0,0.0,0.0,1.0]],\"zmax\":1.0,\"zmin\":0.0,\"type\":\"heatmap\",\"xaxis\":\"x\",\"yaxis\":\"y\"},{\"colorscale\":[[0.0,\"rgb(247,251,255)\"],[0.125,\"rgb(222,235,247)\"],[0.25,\"rgb(198,219,239)\"],[0.375,\"rgb(158,202,225)\"],[0.5,\"rgb(107,174,214)\"],[0.625,\"rgb(66,146,198)\"],[0.75,\"rgb(33,113,181)\"],[0.875,\"rgb(8,81,156)\"],[1.0,\"rgb(8,48,107)\"]],\"showscale\":false,\"z\":[[0.0,1.0,1.0,1.0,0.0,0.0,0.0,0.0],[0.0,1.0,1.0,0.0,1.0,1.0,1.0,0.0],[1.0,0.0,0.0,0.0,0.0,1.0,1.0,0.0],[0.0,0.0,0.0,0.0,0.0,0.0,0.0,1.0],[0.0,1.0,0.0,1.0,1.0,1.0,0.0,0.0],[0.0,1.0,1.0,1.0,0.0,0.0,0.0,0.0],[1.0,1.0,1.0,0.0,0.0,0.0,0.0,0.0],[0.0,0.0,0.0,1.0,1.0,0.0,0.0,1.0],[0.0,0.0,0.0,0.0,1.0,1.0,0.0,0.0],[0.0,1.0,0.0,0.0,0.0,0.0,0.0,0.0],[0.0,0.0,0.0,0.0,0.0,0.0,0.0,0.0],[0.0,0.0,0.0,0.0,0.0,0.0,0.0,0.0],[0.0,0.0,1.0,0.0,0.0,0.0,1.0,0.0],[0.0,0.0,0.0,0.0,1.0,0.0,1.0,0.0],[0.0,0.0,0.0,0.0,0.0,0.0,0.0,0.0],[1.0,0.0,1.0,0.0,0.0,1.0,1.0,0.0],[1.0,1.0,0.0,1.0,0.0,0.0,0.0,1.0],[1.0,0.0,0.0,0.0,0.0,0.0,0.0,0.0],[1.0,1.0,0.0,1.0,0.0,0.0,0.0,1.0],[0.0,1.0,1.0,0.0,1.0,0.0,0.0,0.0],[0.0,0.0,1.0,0.0,1.0,1.0,0.0,1.0],[1.0,1.0,0.0,0.0,0.0,0.0,0.0,0.0],[0.0,1.0,0.0,0.0,0.0,0.0,0.0,0.0],[0.0,0.0,0.0,1.0,0.0,0.0,0.0,1.0],[0.0,1.0,0.0,0.0,0.0,1.0,0.0,0.0],[0.0,0.0,0.0,0.0,1.0,0.0,0.0,1.0],[0.0,1.0,0.0,0.0,0.0,0.0,0.0,0.0],[0.0,0.0,0.0,0.0,0.0,0.0,0.0,0.0],[0.0,0.0,0.0,0.0,1.0,0.0,1.0,0.0],[0.0,0.0,1.0,1.0,0.0,1.0,0.0,0.0],[1.0,0.0,1.0,0.0,0.0,0.0,1.0,1.0],[0.0,1.0,0.0,1.0,1.0,1.0,1.0,1.0]],\"zmax\":1.0,\"zmin\":0.0,\"type\":\"heatmap\",\"xaxis\":\"x2\",\"yaxis\":\"y2\"},{\"colorscale\":[[0.0,\"rgb(247,251,255)\"],[0.125,\"rgb(222,235,247)\"],[0.25,\"rgb(198,219,239)\"],[0.375,\"rgb(158,202,225)\"],[0.5,\"rgb(107,174,214)\"],[0.625,\"rgb(66,146,198)\"],[0.75,\"rgb(33,113,181)\"],[0.875,\"rgb(8,81,156)\"],[1.0,\"rgb(8,48,107)\"]],\"showscale\":false,\"z\":[[0.0,0.0,0.0,0.0,0.0,0.0,0.0,0.0],[0.0,0.0,0.0,0.0,0.0,0.0,0.0,0.0],[0.0,0.0,0.0,0.0,0.0,0.0,1.0,0.0],[0.0,0.0,0.0,0.0,0.0,0.0,0.0,0.0],[0.0,0.0,0.0,0.0,0.0,0.0,0.0,0.0],[0.0,1.0,1.0,0.0,0.0,1.0,1.0,1.0],[0.0,0.0,0.0,0.0,1.0,1.0,0.0,1.0],[0.0,0.0,0.0,1.0,1.0,1.0,0.0,1.0],[0.0,0.0,0.0,0.0,0.0,0.0,0.0,0.0],[0.0,1.0,1.0,1.0,0.0,0.0,1.0,0.0],[1.0,0.0,0.0,0.0,0.0,1.0,0.0,0.0],[0.0,0.0,0.0,0.0,0.0,0.0,0.0,0.0],[0.0,0.0,0.0,0.0,1.0,1.0,1.0,0.0],[1.0,1.0,1.0,1.0,1.0,1.0,1.0,1.0],[0.0,0.0,1.0,0.0,0.0,1.0,1.0,0.0],[1.0,1.0,1.0,0.0,0.0,1.0,1.0,1.0],[1.0,1.0,1.0,1.0,0.0,1.0,0.0,1.0],[1.0,1.0,0.0,1.0,1.0,0.0,1.0,0.0],[1.0,0.0,1.0,1.0,1.0,0.0,0.0,1.0],[0.0,1.0,1.0,1.0,1.0,0.0,0.0,1.0],[0.0,1.0,0.0,1.0,0.0,1.0,0.0,0.0],[0.0,0.0,0.0,0.0,0.0,1.0,0.0,0.0],[0.0,0.0,0.0,0.0,0.0,0.0,0.0,0.0],[0.0,0.0,0.0,0.0,0.0,0.0,0.0,0.0],[0.0,0.0,0.0,0.0,0.0,0.0,0.0,0.0],[0.0,0.0,0.0,0.0,0.0,0.0,0.0,0.0],[0.0,0.0,0.0,0.0,0.0,0.0,0.0,0.0],[0.0,0.0,0.0,0.0,0.0,0.0,0.0,0.0],[1.0,0.0,0.0,1.0,1.0,0.0,1.0,0.0],[1.0,0.0,1.0,1.0,0.0,1.0,0.0,0.0],[0.0,0.0,0.0,0.0,0.0,0.0,0.0,0.0],[0.0,1.0,1.0,0.0,1.0,0.0,1.0,1.0]],\"zmax\":1.0,\"zmin\":0.0,\"type\":\"heatmap\",\"xaxis\":\"x3\",\"yaxis\":\"y3\"},{\"colorscale\":[[0.0,\"rgb(247,251,255)\"],[0.125,\"rgb(222,235,247)\"],[0.25,\"rgb(198,219,239)\"],[0.375,\"rgb(158,202,225)\"],[0.5,\"rgb(107,174,214)\"],[0.625,\"rgb(66,146,198)\"],[0.75,\"rgb(33,113,181)\"],[0.875,\"rgb(8,81,156)\"],[1.0,\"rgb(8,48,107)\"]],\"showscale\":true,\"z\":[[1.0,1.0,1.0,1.0,1.0,1.0,1.0,1.0,1.0,1.0,1.0,1.0,1.0,1.0,1.0,1.0,1.0,1.0,1.0,1.0,1.0,1.0,1.0,1.0,1.0,1.0,1.0,1.0,1.0,1.0,1.0,1.0],[1.0,1.0,1.0,1.0,1.0,1.0,1.0,1.0,1.0,1.0,1.0,1.0,1.0,1.0,1.0,1.0,1.0,1.0,1.0,1.0,1.0,1.0,1.0,1.0,1.0,1.0,1.0,1.0,1.0,1.0,1.0,1.0],[1.0,1.0,1.0,1.0,1.0,1.0,1.0,1.0,1.0,1.0,1.0,1.0,1.0,1.0,1.0,1.0,1.0,1.0,1.0,1.0,1.0,1.0,1.0,1.0,1.0,1.0,1.0,1.0,1.0,1.0,1.0,1.0],[1.0,1.0,1.0,1.0,1.0,1.0,1.0,1.0,1.0,1.0,1.0,1.0,1.0,1.0,1.0,1.0,1.0,1.0,1.0,1.0,1.0,1.0,1.0,1.0,1.0,1.0,1.0,1.0,1.0,1.0,1.0,1.0],[1.0,1.0,1.0,1.0,1.0,1.0,1.0,1.0,1.0,1.0,1.0,1.0,1.0,1.0,1.0,1.0,1.0,1.0,1.0,1.0,1.0,1.0,1.0,1.0,1.0,1.0,1.0,1.0,1.0,1.0,1.0,1.0],[1.0,1.0,1.0,1.0,1.0,1.0,1.0,1.0,1.0,1.0,1.0,1.0,1.0,1.0,1.0,1.0,1.0,1.0,1.0,1.0,1.0,1.0,1.0,1.0,1.0,1.0,1.0,1.0,1.0,1.0,1.0,1.0],[1.0,1.0,1.0,1.0,1.0,1.0,1.0,1.0,1.0,1.0,1.0,1.0,1.0,1.0,1.0,1.0,1.0,1.0,1.0,1.0,1.0,1.0,1.0,1.0,1.0,1.0,1.0,1.0,1.0,1.0,1.0,1.0],[1.0,1.0,1.0,1.0,1.0,1.0,1.0,1.0,1.0,1.0,1.0,1.0,1.0,1.0,1.0,1.0,1.0,1.0,1.0,1.0,1.0,1.0,1.0,1.0,1.0,1.0,1.0,1.0,1.0,1.0,1.0,1.0],[1.0,1.0,1.0,1.0,1.0,1.0,1.0,1.0,1.0,1.0,1.0,1.0,1.0,1.0,1.0,1.0,1.0,1.0,1.0,1.0,1.0,1.0,1.0,1.0,1.0,1.0,1.0,1.0,1.0,1.0,1.0,1.0],[1.0,1.0,1.0,1.0,1.0,1.0,1.0,1.0,1.0,1.0,1.0,1.0,1.0,1.0,1.0,1.0,1.0,1.0,1.0,1.0,1.0,1.0,1.0,1.0,1.0,1.0,1.0,1.0,1.0,1.0,1.0,1.0],[1.0,1.0,1.0,1.0,1.0,1.0,1.0,1.0,1.0,1.0,1.0,1.0,1.0,1.0,1.0,1.0,1.0,1.0,1.0,1.0,1.0,1.0,1.0,1.0,1.0,1.0,1.0,1.0,1.0,1.0,1.0,1.0],[1.0,1.0,1.0,1.0,1.0,1.0,1.0,1.0,1.0,1.0,1.0,1.0,1.0,1.0,1.0,1.0,1.0,1.0,1.0,1.0,1.0,1.0,1.0,1.0,1.0,1.0,1.0,1.0,1.0,1.0,1.0,1.0],[1.0,1.0,1.0,1.0,1.0,1.0,1.0,1.0,1.0,1.0,1.0,1.0,1.0,1.0,1.0,1.0,1.0,1.0,1.0,1.0,1.0,1.0,1.0,1.0,1.0,1.0,1.0,1.0,1.0,1.0,1.0,1.0],[1.0,1.0,1.0,1.0,1.0,1.0,1.0,1.0,1.0,1.0,1.0,1.0,1.0,1.0,1.0,1.0,1.0,1.0,1.0,1.0,1.0,1.0,1.0,1.0,1.0,1.0,1.0,1.0,1.0,1.0,1.0,1.0],[1.0,1.0,1.0,1.0,1.0,1.0,1.0,1.0,1.0,1.0,1.0,1.0,1.0,1.0,1.0,1.0,1.0,1.0,1.0,1.0,1.0,1.0,1.0,1.0,1.0,1.0,1.0,1.0,1.0,1.0,1.0,1.0],[1.0,1.0,1.0,1.0,1.0,1.0,1.0,1.0,1.0,1.0,1.0,1.0,1.0,1.0,1.0,1.0,1.0,1.0,1.0,1.0,1.0,1.0,1.0,1.0,1.0,1.0,1.0,1.0,1.0,1.0,1.0,1.0],[1.0,1.0,1.0,1.0,1.0,1.0,1.0,1.0,1.0,1.0,1.0,1.0,1.0,1.0,1.0,1.0,1.0,1.0,1.0,1.0,1.0,1.0,1.0,1.0,1.0,1.0,1.0,1.0,1.0,1.0,1.0,1.0],[1.0,1.0,1.0,1.0,1.0,1.0,1.0,1.0,1.0,1.0,1.0,1.0,1.0,1.0,1.0,1.0,1.0,1.0,1.0,1.0,1.0,1.0,1.0,1.0,1.0,1.0,1.0,1.0,1.0,1.0,1.0,1.0],[1.0,1.0,1.0,1.0,1.0,1.0,1.0,1.0,1.0,1.0,1.0,1.0,1.0,1.0,1.0,1.0,1.0,1.0,1.0,1.0,1.0,1.0,1.0,1.0,1.0,1.0,1.0,1.0,1.0,1.0,1.0,1.0],[1.0,1.0,1.0,1.0,1.0,1.0,1.0,1.0,1.0,1.0,1.0,1.0,1.0,1.0,1.0,1.0,1.0,1.0,1.0,1.0,1.0,1.0,1.0,1.0,1.0,1.0,1.0,1.0,1.0,1.0,1.0,1.0],[1.0,1.0,1.0,1.0,1.0,1.0,1.0,1.0,1.0,1.0,1.0,1.0,1.0,1.0,1.0,1.0,1.0,1.0,1.0,1.0,1.0,1.0,1.0,1.0,1.0,1.0,1.0,1.0,1.0,1.0,1.0,1.0],[1.0,1.0,1.0,1.0,1.0,1.0,1.0,1.0,1.0,1.0,1.0,1.0,1.0,1.0,1.0,1.0,1.0,1.0,1.0,1.0,1.0,1.0,1.0,1.0,1.0,1.0,1.0,1.0,1.0,1.0,1.0,1.0],[1.0,1.0,1.0,1.0,1.0,1.0,1.0,1.0,1.0,1.0,1.0,1.0,1.0,1.0,1.0,1.0,1.0,1.0,1.0,1.0,1.0,1.0,1.0,1.0,1.0,1.0,1.0,1.0,1.0,1.0,1.0,1.0],[1.0,1.0,1.0,1.0,1.0,1.0,1.0,1.0,1.0,1.0,1.0,1.0,1.0,1.0,1.0,1.0,1.0,1.0,1.0,1.0,1.0,1.0,1.0,1.0,1.0,1.0,1.0,1.0,1.0,1.0,1.0,1.0],[1.0,1.0,1.0,1.0,1.0,1.0,1.0,1.0,1.0,1.0,1.0,1.0,1.0,1.0,1.0,1.0,1.0,1.0,1.0,1.0,1.0,1.0,1.0,1.0,1.0,1.0,1.0,1.0,1.0,1.0,1.0,1.0],[1.0,1.0,1.0,1.0,1.0,1.0,1.0,1.0,1.0,1.0,1.0,1.0,1.0,1.0,1.0,1.0,1.0,1.0,1.0,1.0,1.0,1.0,1.0,1.0,1.0,1.0,1.0,1.0,1.0,1.0,1.0,1.0],[1.0,1.0,1.0,1.0,1.0,1.0,1.0,1.0,1.0,1.0,1.0,1.0,1.0,1.0,1.0,1.0,1.0,1.0,1.0,1.0,1.0,1.0,1.0,1.0,1.0,1.0,1.0,1.0,1.0,1.0,1.0,1.0],[1.0,1.0,1.0,1.0,1.0,1.0,1.0,1.0,1.0,1.0,1.0,1.0,1.0,1.0,1.0,1.0,1.0,1.0,1.0,1.0,1.0,1.0,1.0,1.0,1.0,1.0,1.0,1.0,1.0,1.0,1.0,1.0],[1.0,1.0,1.0,1.0,1.0,1.0,1.0,1.0,1.0,1.0,1.0,1.0,1.0,1.0,1.0,1.0,1.0,1.0,1.0,1.0,1.0,1.0,1.0,1.0,1.0,1.0,1.0,1.0,1.0,1.0,1.0,1.0],[1.0,1.0,1.0,1.0,1.0,1.0,1.0,1.0,1.0,1.0,1.0,1.0,1.0,1.0,1.0,1.0,1.0,1.0,1.0,1.0,1.0,1.0,1.0,1.0,1.0,1.0,1.0,1.0,1.0,1.0,1.0,1.0],[1.0,1.0,1.0,1.0,1.0,1.0,1.0,1.0,1.0,1.0,1.0,1.0,1.0,1.0,1.0,1.0,1.0,1.0,1.0,1.0,1.0,1.0,1.0,1.0,1.0,1.0,1.0,1.0,1.0,1.0,1.0,1.0],[1.0,1.0,1.0,1.0,1.0,1.0,1.0,1.0,1.0,1.0,1.0,1.0,1.0,1.0,1.0,1.0,1.0,1.0,1.0,1.0,1.0,1.0,1.0,1.0,1.0,1.0,1.0,1.0,1.0,1.0,1.0,1.0]],\"zmax\":1.0,\"zmin\":0.0,\"type\":\"heatmap\",\"xaxis\":\"x4\",\"yaxis\":\"y4\"}],                        {\"template\":{\"data\":{\"histogram2dcontour\":[{\"type\":\"histogram2dcontour\",\"colorbar\":{\"outlinewidth\":0,\"ticks\":\"\"},\"colorscale\":[[0.0,\"#0d0887\"],[0.1111111111111111,\"#46039f\"],[0.2222222222222222,\"#7201a8\"],[0.3333333333333333,\"#9c179e\"],[0.4444444444444444,\"#bd3786\"],[0.5555555555555556,\"#d8576b\"],[0.6666666666666666,\"#ed7953\"],[0.7777777777777778,\"#fb9f3a\"],[0.8888888888888888,\"#fdca26\"],[1.0,\"#f0f921\"]]}],\"choropleth\":[{\"type\":\"choropleth\",\"colorbar\":{\"outlinewidth\":0,\"ticks\":\"\"}}],\"histogram2d\":[{\"type\":\"histogram2d\",\"colorbar\":{\"outlinewidth\":0,\"ticks\":\"\"},\"colorscale\":[[0.0,\"#0d0887\"],[0.1111111111111111,\"#46039f\"],[0.2222222222222222,\"#7201a8\"],[0.3333333333333333,\"#9c179e\"],[0.4444444444444444,\"#bd3786\"],[0.5555555555555556,\"#d8576b\"],[0.6666666666666666,\"#ed7953\"],[0.7777777777777778,\"#fb9f3a\"],[0.8888888888888888,\"#fdca26\"],[1.0,\"#f0f921\"]]}],\"heatmap\":[{\"type\":\"heatmap\",\"colorbar\":{\"outlinewidth\":0,\"ticks\":\"\"},\"colorscale\":[[0.0,\"#0d0887\"],[0.1111111111111111,\"#46039f\"],[0.2222222222222222,\"#7201a8\"],[0.3333333333333333,\"#9c179e\"],[0.4444444444444444,\"#bd3786\"],[0.5555555555555556,\"#d8576b\"],[0.6666666666666666,\"#ed7953\"],[0.7777777777777778,\"#fb9f3a\"],[0.8888888888888888,\"#fdca26\"],[1.0,\"#f0f921\"]]}],\"heatmapgl\":[{\"type\":\"heatmapgl\",\"colorbar\":{\"outlinewidth\":0,\"ticks\":\"\"},\"colorscale\":[[0.0,\"#0d0887\"],[0.1111111111111111,\"#46039f\"],[0.2222222222222222,\"#7201a8\"],[0.3333333333333333,\"#9c179e\"],[0.4444444444444444,\"#bd3786\"],[0.5555555555555556,\"#d8576b\"],[0.6666666666666666,\"#ed7953\"],[0.7777777777777778,\"#fb9f3a\"],[0.8888888888888888,\"#fdca26\"],[1.0,\"#f0f921\"]]}],\"contourcarpet\":[{\"type\":\"contourcarpet\",\"colorbar\":{\"outlinewidth\":0,\"ticks\":\"\"}}],\"contour\":[{\"type\":\"contour\",\"colorbar\":{\"outlinewidth\":0,\"ticks\":\"\"},\"colorscale\":[[0.0,\"#0d0887\"],[0.1111111111111111,\"#46039f\"],[0.2222222222222222,\"#7201a8\"],[0.3333333333333333,\"#9c179e\"],[0.4444444444444444,\"#bd3786\"],[0.5555555555555556,\"#d8576b\"],[0.6666666666666666,\"#ed7953\"],[0.7777777777777778,\"#fb9f3a\"],[0.8888888888888888,\"#fdca26\"],[1.0,\"#f0f921\"]]}],\"surface\":[{\"type\":\"surface\",\"colorbar\":{\"outlinewidth\":0,\"ticks\":\"\"},\"colorscale\":[[0.0,\"#0d0887\"],[0.1111111111111111,\"#46039f\"],[0.2222222222222222,\"#7201a8\"],[0.3333333333333333,\"#9c179e\"],[0.4444444444444444,\"#bd3786\"],[0.5555555555555556,\"#d8576b\"],[0.6666666666666666,\"#ed7953\"],[0.7777777777777778,\"#fb9f3a\"],[0.8888888888888888,\"#fdca26\"],[1.0,\"#f0f921\"]]}],\"mesh3d\":[{\"type\":\"mesh3d\",\"colorbar\":{\"outlinewidth\":0,\"ticks\":\"\"}}],\"scatter\":[{\"fillpattern\":{\"fillmode\":\"overlay\",\"size\":10,\"solidity\":0.2},\"type\":\"scatter\"}],\"parcoords\":[{\"type\":\"parcoords\",\"line\":{\"colorbar\":{\"outlinewidth\":0,\"ticks\":\"\"}}}],\"scatterpolargl\":[{\"type\":\"scatterpolargl\",\"marker\":{\"colorbar\":{\"outlinewidth\":0,\"ticks\":\"\"}}}],\"bar\":[{\"error_x\":{\"color\":\"#2a3f5f\"},\"error_y\":{\"color\":\"#2a3f5f\"},\"marker\":{\"line\":{\"color\":\"#E5ECF6\",\"width\":0.5},\"pattern\":{\"fillmode\":\"overlay\",\"size\":10,\"solidity\":0.2}},\"type\":\"bar\"}],\"scattergeo\":[{\"type\":\"scattergeo\",\"marker\":{\"colorbar\":{\"outlinewidth\":0,\"ticks\":\"\"}}}],\"scatterpolar\":[{\"type\":\"scatterpolar\",\"marker\":{\"colorbar\":{\"outlinewidth\":0,\"ticks\":\"\"}}}],\"histogram\":[{\"marker\":{\"pattern\":{\"fillmode\":\"overlay\",\"size\":10,\"solidity\":0.2}},\"type\":\"histogram\"}],\"scattergl\":[{\"type\":\"scattergl\",\"marker\":{\"colorbar\":{\"outlinewidth\":0,\"ticks\":\"\"}}}],\"scatter3d\":[{\"type\":\"scatter3d\",\"line\":{\"colorbar\":{\"outlinewidth\":0,\"ticks\":\"\"}},\"marker\":{\"colorbar\":{\"outlinewidth\":0,\"ticks\":\"\"}}}],\"scattermapbox\":[{\"type\":\"scattermapbox\",\"marker\":{\"colorbar\":{\"outlinewidth\":0,\"ticks\":\"\"}}}],\"scatterternary\":[{\"type\":\"scatterternary\",\"marker\":{\"colorbar\":{\"outlinewidth\":0,\"ticks\":\"\"}}}],\"scattercarpet\":[{\"type\":\"scattercarpet\",\"marker\":{\"colorbar\":{\"outlinewidth\":0,\"ticks\":\"\"}}}],\"carpet\":[{\"aaxis\":{\"endlinecolor\":\"#2a3f5f\",\"gridcolor\":\"white\",\"linecolor\":\"white\",\"minorgridcolor\":\"white\",\"startlinecolor\":\"#2a3f5f\"},\"baxis\":{\"endlinecolor\":\"#2a3f5f\",\"gridcolor\":\"white\",\"linecolor\":\"white\",\"minorgridcolor\":\"white\",\"startlinecolor\":\"#2a3f5f\"},\"type\":\"carpet\"}],\"table\":[{\"cells\":{\"fill\":{\"color\":\"#EBF0F8\"},\"line\":{\"color\":\"white\"}},\"header\":{\"fill\":{\"color\":\"#C8D4E3\"},\"line\":{\"color\":\"white\"}},\"type\":\"table\"}],\"barpolar\":[{\"marker\":{\"line\":{\"color\":\"#E5ECF6\",\"width\":0.5},\"pattern\":{\"fillmode\":\"overlay\",\"size\":10,\"solidity\":0.2}},\"type\":\"barpolar\"}],\"pie\":[{\"automargin\":true,\"type\":\"pie\"}]},\"layout\":{\"autotypenumbers\":\"strict\",\"colorway\":[\"#636efa\",\"#EF553B\",\"#00cc96\",\"#ab63fa\",\"#FFA15A\",\"#19d3f3\",\"#FF6692\",\"#B6E880\",\"#FF97FF\",\"#FECB52\"],\"font\":{\"color\":\"#2a3f5f\"},\"hovermode\":\"closest\",\"hoverlabel\":{\"align\":\"left\"},\"paper_bgcolor\":\"white\",\"plot_bgcolor\":\"#E5ECF6\",\"polar\":{\"bgcolor\":\"#E5ECF6\",\"angularaxis\":{\"gridcolor\":\"white\",\"linecolor\":\"white\",\"ticks\":\"\"},\"radialaxis\":{\"gridcolor\":\"white\",\"linecolor\":\"white\",\"ticks\":\"\"}},\"ternary\":{\"bgcolor\":\"#E5ECF6\",\"aaxis\":{\"gridcolor\":\"white\",\"linecolor\":\"white\",\"ticks\":\"\"},\"baxis\":{\"gridcolor\":\"white\",\"linecolor\":\"white\",\"ticks\":\"\"},\"caxis\":{\"gridcolor\":\"white\",\"linecolor\":\"white\",\"ticks\":\"\"}},\"coloraxis\":{\"colorbar\":{\"outlinewidth\":0,\"ticks\":\"\"}},\"colorscale\":{\"sequential\":[[0.0,\"#0d0887\"],[0.1111111111111111,\"#46039f\"],[0.2222222222222222,\"#7201a8\"],[0.3333333333333333,\"#9c179e\"],[0.4444444444444444,\"#bd3786\"],[0.5555555555555556,\"#d8576b\"],[0.6666666666666666,\"#ed7953\"],[0.7777777777777778,\"#fb9f3a\"],[0.8888888888888888,\"#fdca26\"],[1.0,\"#f0f921\"]],\"sequentialminus\":[[0.0,\"#0d0887\"],[0.1111111111111111,\"#46039f\"],[0.2222222222222222,\"#7201a8\"],[0.3333333333333333,\"#9c179e\"],[0.4444444444444444,\"#bd3786\"],[0.5555555555555556,\"#d8576b\"],[0.6666666666666666,\"#ed7953\"],[0.7777777777777778,\"#fb9f3a\"],[0.8888888888888888,\"#fdca26\"],[1.0,\"#f0f921\"]],\"diverging\":[[0,\"#8e0152\"],[0.1,\"#c51b7d\"],[0.2,\"#de77ae\"],[0.3,\"#f1b6da\"],[0.4,\"#fde0ef\"],[0.5,\"#f7f7f7\"],[0.6,\"#e6f5d0\"],[0.7,\"#b8e186\"],[0.8,\"#7fbc41\"],[0.9,\"#4d9221\"],[1,\"#276419\"]]},\"xaxis\":{\"gridcolor\":\"white\",\"linecolor\":\"white\",\"ticks\":\"\",\"title\":{\"standoff\":15},\"zerolinecolor\":\"white\",\"automargin\":true,\"zerolinewidth\":2},\"yaxis\":{\"gridcolor\":\"white\",\"linecolor\":\"white\",\"ticks\":\"\",\"title\":{\"standoff\":15},\"zerolinecolor\":\"white\",\"automargin\":true,\"zerolinewidth\":2},\"scene\":{\"xaxis\":{\"backgroundcolor\":\"#E5ECF6\",\"gridcolor\":\"white\",\"linecolor\":\"white\",\"showbackground\":true,\"ticks\":\"\",\"zerolinecolor\":\"white\",\"gridwidth\":2},\"yaxis\":{\"backgroundcolor\":\"#E5ECF6\",\"gridcolor\":\"white\",\"linecolor\":\"white\",\"showbackground\":true,\"ticks\":\"\",\"zerolinecolor\":\"white\",\"gridwidth\":2},\"zaxis\":{\"backgroundcolor\":\"#E5ECF6\",\"gridcolor\":\"white\",\"linecolor\":\"white\",\"showbackground\":true,\"ticks\":\"\",\"zerolinecolor\":\"white\",\"gridwidth\":2}},\"shapedefaults\":{\"line\":{\"color\":\"#2a3f5f\"}},\"annotationdefaults\":{\"arrowcolor\":\"#2a3f5f\",\"arrowhead\":0,\"arrowwidth\":1},\"geo\":{\"bgcolor\":\"white\",\"landcolor\":\"#E5ECF6\",\"subunitcolor\":\"white\",\"showland\":true,\"showlakes\":true,\"lakecolor\":\"white\"},\"title\":{\"x\":0.05},\"mapbox\":{\"style\":\"light\"}}},\"xaxis\":{\"anchor\":\"y\",\"domain\":[0.0,0.2125],\"title\":{\"text\":\"Head\"}},\"yaxis\":{\"anchor\":\"x\",\"domain\":[0.0,1.0],\"title\":{\"text\":\"Layer\"}},\"xaxis2\":{\"anchor\":\"y2\",\"domain\":[0.2625,0.475],\"title\":{\"text\":\"Head\"}},\"yaxis2\":{\"anchor\":\"x2\",\"domain\":[0.0,1.0]},\"xaxis3\":{\"anchor\":\"y3\",\"domain\":[0.525,0.7375],\"title\":{\"text\":\"Head\"}},\"yaxis3\":{\"anchor\":\"x3\",\"domain\":[0.0,1.0]},\"xaxis4\":{\"anchor\":\"y4\",\"domain\":[0.7875,1.0],\"title\":{\"text\":\"Head\"}},\"yaxis4\":{\"anchor\":\"x4\",\"domain\":[0.0,1.0]},\"annotations\":[{\"font\":{\"size\":16},\"showarrow\":false,\"text\":\"Q\",\"x\":0.10625,\"xanchor\":\"center\",\"xref\":\"paper\",\"y\":1.0,\"yanchor\":\"bottom\",\"yref\":\"paper\"},{\"font\":{\"size\":16},\"showarrow\":false,\"text\":\"K\",\"x\":0.36875,\"xanchor\":\"center\",\"xref\":\"paper\",\"y\":1.0,\"yanchor\":\"bottom\",\"yref\":\"paper\"},{\"font\":{\"size\":16},\"showarrow\":false,\"text\":\"V\",\"x\":0.6312500000000001,\"xanchor\":\"center\",\"xref\":\"paper\",\"y\":1.0,\"yanchor\":\"bottom\",\"yref\":\"paper\"},{\"font\":{\"size\":16},\"showarrow\":false,\"text\":\"O\",\"x\":0.89375,\"xanchor\":\"center\",\"xref\":\"paper\",\"y\":1.0,\"yanchor\":\"bottom\",\"yref\":\"paper\"}]},                        {\"responsive\": true}                    ).then(function(){\n",
              "                            \n",
              "var gd = document.getElementById('ac050b16-eefd-4a61-a4b1-bc251114afa9');\n",
              "var x = new MutationObserver(function (mutations, observer) {{\n",
              "        var display = window.getComputedStyle(gd).display;\n",
              "        if (!display || display === 'none') {{\n",
              "            console.log([gd, 'removed!']);\n",
              "            Plotly.purge(gd);\n",
              "            observer.disconnect();\n",
              "        }}\n",
              "}});\n",
              "\n",
              "// Listen for the removal of the full notebook cells\n",
              "var notebookContainer = gd.closest('#notebook-container');\n",
              "if (notebookContainer) {{\n",
              "    x.observe(notebookContainer, {childList: true});\n",
              "}}\n",
              "\n",
              "// Listen for the clearing of the current output cell\n",
              "var outputEl = gd.closest('.output');\n",
              "if (outputEl) {{\n",
              "    x.observe(outputEl, {childList: true});\n",
              "}}\n",
              "\n",
              "                        })                };                });            </script>        </div>"
            ]
          },
          "metadata": {},
          "output_type": "display_data"
        }
      ],
      "source": [
        "\n",
        "peft_model = PeftModel.from_pretrained(model,\n",
        "        model_id = peft_model_path,\n",
        "        device_map = device,\n",
        ")\n",
        "\n",
        "thres = 0.3\n",
        "# peft_model = zero_out_lora(peft_model, mask_to_config(mask(diffO, 0.5), \"o_proj\"))   \n",
        "peft_model = zero_out_lora(peft_model, mask_to_config(mask_percentile(diffV, thres), \"v_proj\"))\n",
        "peft_model = zero_out_lora(peft_model, mask_to_config(mask_percentile(diffQ, thres), \"q_proj\"))\n",
        "peft_model = zero_out_lora(peft_model, mask_to_config(mask_percentile(diffK, thres), \"k_proj\"))   \n",
        "\n",
        "display_model_mix(peft_model)"
      ]
    },
    {
      "cell_type": "code",
      "execution_count": null,
      "metadata": {},
      "outputs": [],
      "source": [
        "peft_model.model.model.layers[13].self_attn.v_proj.lora_B.default.weight"
      ]
    },
    {
      "cell_type": "code",
      "execution_count": null,
      "metadata": {},
      "outputs": [],
      "source": [
        "peft_model = PeftModel.from_pretrained(model,\n",
        "        model_id = peft_model_path,\n",
        "        device_map = device,\n",
        ")\n",
        "\n",
        "#peft_model = zero_out_lora(peft_model, mask_to_config(mask(oq_mask, 0.5), \"o_proj\"))   \n",
        "peft_model = zero_out_lora_layerwise(peft_model, layers=set(range(32)) - set(layer_weight.topk(5).indices.tolist()), keys=[\"q_proj\", \"k_proj\", \"v_proj\"])\n",
        "\n",
        "display_model_mix(peft_model)"
      ]
    },
    {
      "cell_type": "code",
      "execution_count": 140,
      "metadata": {},
      "outputs": [
        {
          "name": "stderr",
          "output_type": "stream",
          "text": [
            "The model 'PeftModelForCausalLM' is not supported for text-generation. Supported models are ['BartForCausalLM', 'BertLMHeadModel', 'BertGenerationDecoder', 'BigBirdForCausalLM', 'BigBirdPegasusForCausalLM', 'BioGptForCausalLM', 'BlenderbotForCausalLM', 'BlenderbotSmallForCausalLM', 'BloomForCausalLM', 'CamembertForCausalLM', 'LlamaForCausalLM', 'CodeGenForCausalLM', 'CohereForCausalLM', 'CpmAntForCausalLM', 'CTRLLMHeadModel', 'Data2VecTextForCausalLM', 'DbrxForCausalLM', 'ElectraForCausalLM', 'ErnieForCausalLM', 'FalconForCausalLM', 'FuyuForCausalLM', 'GemmaForCausalLM', 'GitForCausalLM', 'GPT2LMHeadModel', 'GPT2LMHeadModel', 'GPTBigCodeForCausalLM', 'GPTNeoForCausalLM', 'GPTNeoXForCausalLM', 'GPTNeoXJapaneseForCausalLM', 'GPTJForCausalLM', 'JambaForCausalLM', 'JetMoeForCausalLM', 'LlamaForCausalLM', 'MambaForCausalLM', 'MarianForCausalLM', 'MBartForCausalLM', 'MegaForCausalLM', 'MegatronBertForCausalLM', 'MistralForCausalLM', 'MixtralForCausalLM', 'MptForCausalLM', 'MusicgenForCausalLM', 'MusicgenMelodyForCausalLM', 'MvpForCausalLM', 'OlmoForCausalLM', 'OpenLlamaForCausalLM', 'OpenAIGPTLMHeadModel', 'OPTForCausalLM', 'PegasusForCausalLM', 'PersimmonForCausalLM', 'PhiForCausalLM', 'Phi3ForCausalLM', 'PLBartForCausalLM', 'ProphetNetForCausalLM', 'QDQBertLMHeadModel', 'Qwen2ForCausalLM', 'Qwen2MoeForCausalLM', 'RecurrentGemmaForCausalLM', 'ReformerModelWithLMHead', 'RemBertForCausalLM', 'RobertaForCausalLM', 'RobertaPreLayerNormForCausalLM', 'RoCBertForCausalLM', 'RoFormerForCausalLM', 'RwkvForCausalLM', 'Speech2Text2ForCausalLM', 'StableLmForCausalLM', 'Starcoder2ForCausalLM', 'TransfoXLLMHeadModel', 'TrOCRForCausalLM', 'WhisperForCausalLM', 'XGLMForCausalLM', 'XLMWithLMHeadModel', 'XLMProphetNetForCausalLM', 'XLMRobertaForCausalLM', 'XLMRobertaXLForCausalLM', 'XLNetLMHeadModel', 'XmodForCausalLM'].\n"
          ]
        },
        {
          "data": {
            "text/plain": [
              "0.9"
            ]
          },
          "execution_count": 140,
          "metadata": {},
          "output_type": "execute_result"
        }
      ],
      "source": [
        "count=100\n",
        "partialq_gen = generate(peft_model, tokenizer, df[:count])\n",
        "partialq_acc = eval(partialq_gen, df[:count])\n",
        "partialq_acc"
      ]
    },
    {
      "cell_type": "markdown",
      "metadata": {},
      "source": [
        "# Notes\n",
        "\n",
        "Baseline: 0.34\n",
        "\n",
        "TOPK layers:\n",
        "- 20: 81\n",
        "- 10: 53\n",
        "- 5: 42\n",
        "\n",
        "Thres heads:\n",
        "- 70: 52\n",
        "- 60: 62\n",
        "- 50: 80\n",
        "- 40: 89\n",
        "- 30: 90\n",
        "\n",
        "Keep just:\n",
        "- V: 86\n",
        "    - 30: 71\n",
        "    - 20: 76\n",
        "    - 10: 85\n",
        "- Q: 55\n",
        "- K: 49"
      ]
    },
    {
      "cell_type": "code",
      "execution_count": 35,
      "metadata": {},
      "outputs": [
        {
          "name": "stdout",
          "output_type": "stream",
          "text": [
            "Original M:\n",
            "[[ 0.          0.          0.          0.        ]\n",
            " [ 0.          0.          0.          0.        ]\n",
            " [-1.16330004  0.80305883  0.41497548  0.47668994]\n",
            " [-1.22347923  0.9540247   0.12093393  0.97271708]]\n",
            "Modified M (M'):\n",
            "[[ 0.          0.          0.          0.        ]\n",
            " [ 0.          0.          0.          0.        ]\n",
            " [-1.16330004  0.80305883  0.41497548  0.47668994]\n",
            " [-1.22347923  0.9540247   0.12093393  0.97271708]]\n",
            "Reconstructed M' from U' and V':\n",
            "[[ 0.          0.          0.          0.        ]\n",
            " [ 0.          0.          0.          0.        ]\n",
            " [-1.16330004  0.80305883  0.41497548  0.47668994]\n",
            " [-1.22347923  0.9540247   0.12093393  0.97271708]]\n"
          ]
        }
      ],
      "source": [
        "import numpy as np\n",
        "\n",
        "import numpy as np\n",
        "\n",
        "# Example matrices\n",
        "d = 4\n",
        "h = 2\n",
        "l = 2\n",
        "r = 2\n",
        "\n",
        "# Low rank representation of M\n",
        "U = np.random.randn(d, r)\n",
        "V = np.random.randn(r, d)\n",
        "\n",
        "# Calculate M\n",
        "M = U @ V\n",
        "\n",
        "# Reshape M to h x l x d\n",
        "M_reshaped = M.reshape(h, l, d)\n",
        "\n",
        "# Ensure first row of reshaped M is zero\n",
        "M_reshaped[0, :, :] = 0\n",
        "\n",
        "# Reshape back to d x d\n",
        "M_prime = M_reshaped.reshape(d, d)\n",
        "\n",
        "# Construct U' and V' such that U'V' = M_prime\n",
        "# Here, we use a projection matrix P to modify U\n",
        "\n",
        "P = np.eye(d)\n",
        "P[:l, :] = 0  # Zero out the first l rows\n",
        "\n",
        "U_prime = P @ U\n",
        "V_prime = V\n",
        "\n",
        "# Verify that U'V' = M'\n",
        "M_prime_calc = U_prime @ V_prime\n",
        "\n",
        "print(\"Original M:\")\n",
        "print(M)\n",
        "print(\"Modified M (M'):\")\n",
        "print(M_prime)\n",
        "print(\"Reconstructed M' from U' and V':\")\n",
        "print(M_prime_calc)\n"
      ]
    },
    {
      "cell_type": "code",
      "execution_count": 47,
      "metadata": {
        "colab": {
          "base_uri": "https://localhost:8080/"
        },
        "id": "bO3aBGeZLUX7",
        "outputId": "a3b2c81e-1f55-4fbf-c338-85531b33af74"
      },
      "outputs": [
        {
          "data": {
            "text/plain": [
              "(32, 8, 128, 4096)"
            ]
          },
          "execution_count": 47,
          "metadata": {},
          "output_type": "execute_result"
        }
      ],
      "source": [
        "n_heads = model.config.num_attention_heads\n",
        "d_model = model.config.hidden_size\n",
        "n_kv_heads = model.config.num_key_value_heads\n",
        "d_head = d_model // n_heads\n",
        "n_heads, n_kv_heads, d_head, d_model"
      ]
    },
    {
      "cell_type": "code",
      "execution_count": 106,
      "metadata": {
        "id": "Q-nhYlsFGd-9"
      },
      "outputs": [],
      "source": [
        "diffK, diffQ, diffV, diffO = get_lora_attn_norm(peft_model.base_model.model.model.layers, normalize=False)\n",
        "max_diff = max(diffQ.max(), diffK.max(), diffV.max(), diffO.max()).item()\n",
        "min_diff = min(diffQ.min(), diffK.min(), diffV.min(), diffO.min()).item()"
      ]
    },
    {
      "cell_type": "code",
      "execution_count": 107,
      "metadata": {
        "colab": {
          "base_uri": "https://localhost:8080/",
          "height": 1000
        },
        "id": "LKlFGEQ-Qmhy",
        "outputId": "998e2466-aee1-4905-a3bf-dc4456bf2bfa"
      },
      "outputs": [
        {
          "data": {
            "text/html": [
              "<html>\n",
              "<head><meta charset=\"utf-8\" /></head>\n",
              "<body>\n",
              "    <div>            <script src=\"https://cdnjs.cloudflare.com/ajax/libs/mathjax/2.7.5/MathJax.js?config=TeX-AMS-MML_SVG\"></script><script type=\"text/javascript\">if (window.MathJax && window.MathJax.Hub && window.MathJax.Hub.Config) {window.MathJax.Hub.Config({SVG: {font: \"STIX-Web\"}});}</script>                <script type=\"text/javascript\">window.PlotlyConfig = {MathJaxConfig: 'local'};</script>\n",
              "        <script charset=\"utf-8\" src=\"https://cdn.plot.ly/plotly-2.24.1.min.js\"></script>                <div id=\"271726e6-ce02-435a-b4d2-4e3b27e6dfe7\" class=\"plotly-graph-div\" style=\"height:525px; width:100%;\"></div>            <script type=\"text/javascript\">                                    window.PLOTLYENV=window.PLOTLYENV || {};                                    if (document.getElementById(\"271726e6-ce02-435a-b4d2-4e3b27e6dfe7\")) {                    Plotly.newPlot(                        \"271726e6-ce02-435a-b4d2-4e3b27e6dfe7\",                        [{\"coloraxis\":\"coloraxis\",\"name\":\"0\",\"z\":[[0.05052140727639198,0.048339083790779114,0.050426751375198364,0.04982013255357742,0.04817970097064972,0.04912738502025604,0.04871920496225357,0.049195338040590286,0.04966428875923157,0.05118906870484352,0.04973294585943222,0.050254203379154205,0.05031893029808998,0.048498302698135376,0.04992775619029999,0.050213772803545,0.049506913870573044,0.048661280423402786,0.04958450794219971,0.05075429379940033,0.04901908338069916,0.04948792979121208,0.04936230182647705,0.050263646990060806,0.04921868443489075,0.04748670384287834,0.04929623007774353,0.04729027673602104,0.05148949846625328,0.04904688149690628,0.04845070466399193,0.05149635672569275],[0.04900885373353958,0.04698486998677254,0.048433661460876465,0.04845234379172325,0.04887276142835617,0.048034489154815674,0.04725905880331993,0.04915454238653183,0.04910430684685707,0.049959003925323486,0.049065958708524704,0.048853952437639236,0.04937081038951874,0.048491790890693665,0.04787612333893776,0.04841087758541107,0.04961873218417168,0.048731718212366104,0.04768307879567146,0.04838690161705017,0.04844843968749046,0.04921587556600571,0.04895113781094551,0.04972309246659279,0.04866224154829979,0.04751431196928024,0.048508260399103165,0.04753458499908447,0.0497569777071476,0.04855864867568016,0.04865655675530434,0.0496995635330677],[0.05059268698096275,0.04837631806731224,0.04979998990893364,0.050146423280239105,0.049085360020399094,0.04876849427819252,0.048932094126939774,0.04935099184513092,0.04916612058877945,0.05188851058483124,0.049780771136283875,0.049678508192300797,0.05053969845175743,0.05087733641266823,0.049403756856918335,0.04893622174859047,0.04968719929456711,0.050305455923080444,0.04835658520460129,0.04888454079627991,0.05115542560815811,0.04931062087416649,0.049470577389001846,0.048703741282224655,0.04971789941191673,0.04804561287164688,0.04927358031272888,0.04983197897672653,0.04943409562110901,0.050947193056344986,0.05014438182115555,0.04986797645688057],[0.04949105903506279,0.048676006495952606,0.04957429692149162,0.04965019226074219,0.0487636961042881,0.048749398440122604,0.04827529191970825,0.04883924871683121,0.049317654222249985,0.05147699639201164,0.04949317127466202,0.04918215051293373,0.04861227795481682,0.04851488396525383,0.050698861479759216,0.04734305292367935,0.04932665452361107,0.04917428269982338,0.04870477318763733,0.04874292388558388,0.05079885944724083,0.049289770424366,0.05013086646795273,0.050752896815538406,0.04925825074315071,0.04881604015827179,0.04928191006183624,0.048151321709156036,0.049669403582811356,0.05060931667685509,0.048443008214235306,0.04864981025457382],[0.053042538464069366,0.05172327160835266,0.05192426219582558,0.05112670734524727,0.051261696964502335,0.05134406313300133,0.05288166552782059,0.052849601954221725,0.05306490883231163,0.05122421309351921,0.05274586379528046,0.05161038786172867,0.04951730743050575,0.05193408951163292,0.052619922906160355,0.05081536993384361,0.052162352949380875,0.053688082844018936,0.050351738929748535,0.05123213306069374,0.05217362940311432,0.05133501812815666,0.05052260681986809,0.053478166460990906,0.05085252970457077,0.049808114767074585,0.05302886664867401,0.05025671049952507,0.052996836602687836,0.05255414918065071,0.053521934896707535,0.05115000903606415],[0.05469032749533653,0.05012315511703491,0.050863008946180344,0.05245962738990784,0.05014355853199959,0.04949751868844032,0.052093032747507095,0.052553195506334305,0.05339930206537247,0.05172261223196983,0.05169288441538811,0.05018088221549988,0.05075957253575325,0.052568916231393814,0.05288251116871834,0.050484172999858856,0.05175749585032463,0.0521092414855957,0.050456415861845016,0.04976616054773331,0.05100197717547417,0.052083197981119156,0.04869838058948517,0.051386188715696335,0.051517367362976074,0.050790850073099136,0.05110885947942734,0.05147552117705345,0.051527366042137146,0.05044326186180115,0.05240705609321594,0.0501895397901535],[0.05239838734269142,0.04828161373734474,0.053878411650657654,0.051916252821683884,0.05154721811413765,0.049871720373630524,0.052445188164711,0.0513589084148407,0.051784697920084,0.05136629566550255,0.052200932055711746,0.05169568210840225,0.0504409484565258,0.053109049797058105,0.055209677666425705,0.05296144634485245,0.05060037970542908,0.05123906955122948,0.050715260207653046,0.050170816481113434,0.05195014551281929,0.05240442976355553,0.04839390888810158,0.04958518221974373,0.05146289989352226,0.05012182891368866,0.05063406378030777,0.05089272931218147,0.05427718907594681,0.051701612770557404,0.0500960648059845,0.04904086887836456],[0.05168071389198303,0.04934021458029747,0.054691772907972336,0.0523221381008625,0.05337142199277878,0.05176838859915733,0.05407509207725525,0.051187992095947266,0.05227076634764671,0.0548466220498085,0.05147077888250351,0.05001644790172577,0.05539191886782646,0.05123109370470047,0.05600928142666817,0.049886662513017654,0.05218638479709625,0.05329527705907822,0.05247607082128525,0.054348837584257126,0.04961735010147095,0.05613540858030319,0.05333402007818222,0.0520324669778347,0.05153590813279152,0.0483136810362339,0.05178152769804001,0.05576280504465103,0.054951831698417664,0.050771307200193405,0.05262262374162674,0.04851532354950905],[0.053801875561475754,0.05539892241358757,0.058610063046216965,0.05300551652908325,0.060095012187957764,0.055480118840932846,0.05637498199939728,0.05282735452055931,0.05744963884353638,0.0601850189268589,0.05364549160003662,0.056437890976667404,0.061088677495718,0.056645382195711136,0.05591190606355667,0.056751955300569534,0.0541548952460289,0.057563893496990204,0.051877785474061966,0.05970795825123787,0.05626426264643669,0.05649293586611748,0.05520263686776161,0.05345737189054489,0.056416578590869904,0.05053282901644707,0.05639683082699776,0.05728624388575554,0.05856812745332718,0.0523667074739933,0.05673232302069664,0.053221073001623154],[0.05400431528687477,0.05309377610683441,0.05385332927107811,0.05084312707185745,0.054537639021873474,0.055758390575647354,0.05342790484428406,0.054365940392017365,0.05707526206970215,0.05672663822770119,0.05154619738459587,0.05307739973068237,0.054801713675260544,0.05186769738793373,0.05381462723016739,0.054142553359270096,0.05441565439105034,0.05503375828266144,0.05380909517407417,0.05500170961022377,0.05477967858314514,0.05596601217985153,0.05362020805478096,0.05294691026210785,0.054631590843200684,0.053361449390649796,0.05528028681874275,0.05495527386665344,0.056498900055885315,0.050924092531204224,0.055068694055080414,0.055392831563949585],[0.05260153114795685,0.05241839215159416,0.05233750119805336,0.05260688439011574,0.053823601454496384,0.05318818241357803,0.05236511677503586,0.05240143835544586,0.05343553423881531,0.053885169327259064,0.05149925500154495,0.049400895833969116,0.053509797900915146,0.054168783128261566,0.0543232336640358,0.05412333086133003,0.0529673807322979,0.05094478651881218,0.054951220750808716,0.052828602492809296,0.05353216081857681,0.05194588378071785,0.050958700478076935,0.053384069353342056,0.05062258616089821,0.05304139107465744,0.053415242582559586,0.055791255086660385,0.05122208595275879,0.052552975714206696,0.05489950627088547,0.054299939423799515],[0.052318114787340164,0.05363581329584122,0.053324103355407715,0.05193428695201874,0.0540778823196888,0.05774376913905144,0.05530799925327301,0.05105850473046303,0.053638920187950134,0.05218447744846344,0.05368670076131821,0.05167270451784134,0.05522957071661949,0.056824687868356705,0.0548161119222641,0.052490878850221634,0.055766716599464417,0.05297374725341797,0.05424055457115173,0.05429229512810707,0.05424584448337555,0.052302293479442596,0.053080786019563675,0.05262162536382675,0.04892775043845177,0.051127608865499496,0.05450496822595596,0.05535569414496422,0.05230901017785072,0.05140304937958717,0.053901489824056625,0.05233512818813324],[0.04965829476714134,0.05436459183692932,0.05361749231815338,0.05527379363775253,0.054552383720874786,0.055545873939991,0.05559904873371124,0.05174565687775612,0.05262434855103493,0.053586192429065704,0.05607975646853447,0.05143369361758232,0.053397130221128464,0.05370456352829933,0.05528188869357109,0.053145017474889755,0.05851385369896889,0.05491804704070091,0.0537148043513298,0.05254869908094406,0.053894173353910446,0.05534635856747627,0.05434730276465416,0.05308806896209717,0.05348833650350571,0.05355596914887428,0.05324910208582878,0.055506374686956406,0.05628229305148125,0.051297493278980255,0.055019766092300415,0.05399101972579956],[0.05104377493262291,0.053173575550317764,0.05235198140144348,0.0547986701130867,0.05296021327376366,0.053169455379247665,0.053670212626457214,0.052172232419252396,0.053390372544527054,0.0525687150657177,0.05370277911424637,0.052285294979810715,0.05210132151842117,0.05305902287364006,0.05284685641527176,0.052486300468444824,0.05559247359633446,0.05479726940393448,0.0536389984190464,0.05187738314270973,0.057323209941387177,0.05339571088552475,0.05365428701043129,0.05200561136007309,0.05290951207280159,0.053928226232528687,0.0514882430434227,0.052067384123802185,0.055393997579813004,0.053168103098869324,0.05212061107158661,0.05207110568881035],[0.051601920276880264,0.05264276638627052,0.053331874310970306,0.05719585344195366,0.0546557642519474,0.05576690286397934,0.05627138912677765,0.05536705255508423,0.05571243539452553,0.051468510180711746,0.05362657457590103,0.05437538027763367,0.05442673712968826,0.05460738018155098,0.054855458438396454,0.05473928898572922,0.055921588093042374,0.057692751288414,0.056469157338142395,0.051247309893369675,0.05453963950276375,0.054479412734508514,0.056294966489076614,0.052728962153196335,0.05567944049835205,0.05279979109764099,0.05413398891687393,0.053591370582580566,0.05741020292043686,0.055925462394952774,0.05681319534778595,0.05514908954501152],[0.04931899532675743,0.04934614896774292,0.05430183932185173,0.053376492112874985,0.05070202797651291,0.05367950722575188,0.05283494293689728,0.0492856428027153,0.051750488579273224,0.05126392841339111,0.05240955576300621,0.05230812355875969,0.05018957704305649,0.05090533569455147,0.05096226930618286,0.05383170768618584,0.05378355458378792,0.05158388242125511,0.0522552952170372,0.051630426198244095,0.0514671765267849,0.05193927884101868,0.05182623490691185,0.05093024671077728,0.05017085000872612,0.05085325613617897,0.05185730755329132,0.05272398144006729,0.05409508943557739,0.052813123911619186,0.050657909363508224,0.05196087807416916],[0.055261291563510895,0.05323666334152222,0.05952146649360657,0.05365182086825371,0.056512098759412766,0.060381174087524414,0.05773164704442024,0.05605761706829071,0.05635692924261093,0.05387101322412491,0.056768208742141724,0.057065945118665695,0.057019658386707306,0.05751269683241844,0.05644680932164192,0.05379437655210495,0.0591823011636734,0.05534305050969124,0.055508095771074295,0.052594296634197235,0.05361456423997879,0.05527866631746292,0.05863497778773308,0.054970741271972656,0.059347301721572876,0.05674752593040466,0.054970838129520416,0.059230104088783264,0.054210688918828964,0.056853339076042175,0.057497426867485046,0.05591685697436333],[0.052141886204481125,0.048944875597953796,0.05205623060464859,0.05029865726828575,0.05009515583515167,0.05365535989403725,0.05077892914414406,0.049922071397304535,0.05317021533846855,0.04850265383720398,0.05172998085618019,0.05176616832613945,0.05194893106818199,0.05141054093837738,0.05172006040811539,0.05402878299355507,0.05307583138346672,0.04918941482901573,0.052969057112932205,0.04804731160402298,0.05046974867582321,0.05234755203127861,0.050308942794799805,0.05019259825348854,0.05270116776227951,0.05293048918247223,0.05140678957104683,0.0533134788274765,0.05021488666534424,0.05332930013537407,0.051557399332523346,0.04870222136378288],[0.05233052745461464,0.04989452660083771,0.05154659226536751,0.052128978073596954,0.05118560418486595,0.05464579164981842,0.05176238343119621,0.052256081253290176,0.0540609285235405,0.049965351819992065,0.05357680097222328,0.05065120384097099,0.054568883031606674,0.051739420741796494,0.052157625555992126,0.05549715831875801,0.05600354075431824,0.052139099687337875,0.054530344903469086,0.048426222056150436,0.05338544026017189,0.053069230169057846,0.05304314196109772,0.05299088731408119,0.05482395365834236,0.0544111430644989,0.051511459052562714,0.05353681743144989,0.05242612957954407,0.053722213953733444,0.05285854637622833,0.05108695849776268],[0.05277067795395851,0.053431540727615356,0.05595504492521286,0.054920196533203125,0.05474921688437462,0.05776166915893555,0.05782332643866539,0.05528027564287186,0.05932459980249405,0.0548071451485157,0.05339369550347328,0.05436084419488907,0.0554160475730896,0.05521377921104431,0.05387528985738754,0.05673350766301155,0.05826910585165024,0.053914085030555725,0.05645386502146721,0.049537088721990585,0.05674343556165695,0.0573343001306057,0.056165970861911774,0.054390907287597656,0.05980866029858589,0.06151941791176796,0.05631514638662338,0.05537924915552139,0.055441390722990036,0.057477645576000214,0.05556409806013107,0.05574781447649002],[0.05663849413394928,0.05383088067173958,0.05880558863282204,0.05724870413541794,0.0594836100935936,0.060237180441617966,0.05694194883108139,0.058663949370384216,0.06329935044050217,0.05843622237443924,0.05453747883439064,0.05702156946063042,0.056308064609766006,0.057002224028110504,0.05773767828941345,0.05797407403588295,0.05888255313038826,0.05780789628624916,0.056141626089811325,0.05503939092159271,0.0578167662024498,0.05904228985309601,0.05846993252635002,0.05917179584503174,0.061332885175943375,0.0639570951461792,0.056804805994033813,0.05908690392971039,0.05704692378640175,0.05741705745458603,0.05663592740893364,0.058905087411403656],[0.05712059885263443,0.05813487246632576,0.06091148033738136,0.060241300612688065,0.06043291091918945,0.06184772402048111,0.06019546091556549,0.060366325080394745,0.06220833957195282,0.06049555167555809,0.05781526118516922,0.05854325741529465,0.05864664539694786,0.05931122601032257,0.05849061533808708,0.05708051845431328,0.05961328744888306,0.06032115966081619,0.059949375689029694,0.05761035531759262,0.061226993799209595,0.05977851152420044,0.056734900921583176,0.06052691861987114,0.06235696002840996,0.06598938256502151,0.06123035401105881,0.05990070477128029,0.05756223946809769,0.059652555733919144,0.05826199799776077,0.05985577031970024],[0.058601584285497665,0.05984916538000107,0.0628897175192833,0.06450843811035156,0.06270235776901245,0.06464357674121857,0.06200461462140083,0.06304213404655457,0.06416301429271698,0.06294427812099457,0.06214884668588638,0.06048503890633583,0.060438062995672226,0.061092108488082886,0.06128353998064995,0.06002072989940643,0.06321007758378983,0.06068694218993187,0.058966681361198425,0.059656351804733276,0.06311287730932236,0.06273693591356277,0.06067189574241638,0.06317590922117233,0.06435409188270569,0.06987269967794418,0.06368860602378845,0.06289296597242355,0.059027962386608124,0.06254947185516357,0.06060590595006943,0.062116410583257675],[0.058823514729738235,0.0622154138982296,0.06182003766298294,0.06517059355974197,0.06319226324558258,0.0627368912100792,0.06339818239212036,0.062412701547145844,0.06544976681470871,0.0651007667183876,0.0620284229516983,0.06075802072882652,0.06085839495062828,0.06132681295275688,0.06183548644185066,0.06211090832948685,0.0625581219792366,0.061573393642902374,0.062341637909412384,0.06505723297595978,0.06611619144678116,0.06687115877866745,0.05970163270831108,0.06439746916294098,0.06670062988996506,0.07169924676418304,0.06529779732227325,0.06676346063613892,0.0590335950255394,0.06339225172996521,0.06249674782156944,0.06095390021800995],[0.061676885932683945,0.0608733631670475,0.06114378944039345,0.06673837453126907,0.06222792714834213,0.0631992444396019,0.0627136304974556,0.06294074654579163,0.06482397019863129,0.06232575327157974,0.05951113626360893,0.06208837777376175,0.06086234375834465,0.06035009026527405,0.061490580439567566,0.06260087341070175,0.062312811613082886,0.06188410148024559,0.0635945275425911,0.062255844473838806,0.06235267594456673,0.06644419580698013,0.05803452804684639,0.06347571313381195,0.06485465914011002,0.06934578716754913,0.06153836101293564,0.06615442037582397,0.058604639023542404,0.06343691796064377,0.06396698206663132,0.06315159797668457],[0.06675408035516739,0.06691864877939224,0.06792500615119934,0.0735582560300827,0.07235011458396912,0.07047463208436966,0.07016955316066742,0.07220065593719482,0.07197680324316025,0.06680259108543396,0.06479055434465408,0.06880956143140793,0.06891168653964996,0.06838097423315048,0.06570905447006226,0.06795075535774231,0.06667405366897583,0.07127830386161804,0.07141555100679398,0.06830055266618729,0.07144565135240555,0.07126089185476303,0.06572556495666504,0.06803889572620392,0.07083311676979065,0.07718674093484879,0.07229647785425186,0.0756770595908165,0.06518614292144775,0.06721121817827225,0.06947775185108185,0.07050561904907227],[0.0621226504445076,0.06211869791150093,0.06401774287223816,0.06566376239061356,0.06519678980112076,0.0654943659901619,0.06157512217760086,0.06812022626399994,0.06655937433242798,0.0635819286108017,0.05905536934733391,0.0644562765955925,0.06371136009693146,0.06200804188847542,0.06123627349734306,0.06502893567085266,0.061549607664346695,0.06390637904405594,0.06568233668804169,0.06361041963100433,0.06811598688364029,0.06744526326656342,0.06391633301973343,0.06273601949214935,0.062444161623716354,0.07046354562044144,0.06630326807498932,0.06904241442680359,0.058501362800598145,0.061021797358989716,0.06214669346809387,0.06683172285556793],[0.05660001188516617,0.055096112191677094,0.05698646977543831,0.05759616196155548,0.05809146165847778,0.05842077359557152,0.05672450363636017,0.058734264224767685,0.0596865676343441,0.058346640318632126,0.054649051278829575,0.05987818166613579,0.0581507608294487,0.05744002386927605,0.056579314172267914,0.05914975702762604,0.058830853551626205,0.057871878147125244,0.05856561288237572,0.057752639055252075,0.06273096054792404,0.058262165635824203,0.05703679844737053,0.058808229863643646,0.05877403914928436,0.06447816640138626,0.059931885451078415,0.061704326421022415,0.05318897217512131,0.05653613433241844,0.0551825650036335,0.058479949831962585],[0.05635882169008255,0.05500064417719841,0.051593758165836334,0.056216467171907425,0.056890107691287994,0.05680808797478676,0.05215995013713837,0.057651884853839874,0.056027431041002274,0.05532979965209961,0.05277901515364647,0.057493411004543304,0.056971918791532516,0.054428379982709885,0.054193269461393356,0.056466009467840195,0.05664025992155075,0.056795958429574966,0.057373836636543274,0.05626862496137619,0.058893267065286636,0.05825212597846985,0.054751381278038025,0.05785594880580902,0.05897436663508415,0.06110028550028801,0.05647696927189827,0.06078990921378136,0.05133959278464317,0.05501455441117287,0.05401235446333885,0.054895978420972824],[0.0535714328289032,0.05429204925894737,0.05500573664903641,0.054347485303878784,0.05585645139217377,0.05192545801401138,0.05362340062856674,0.05707232281565666,0.055250588804483414,0.05527530238032341,0.05586884915828705,0.05654878169298172,0.055554527789354324,0.05380316078662872,0.052047524601221085,0.054091792553663254,0.056172922253608704,0.05519656464457512,0.05590420588850975,0.05606253072619438,0.056322112679481506,0.05774351581931114,0.054713230580091476,0.055406611412763596,0.05783015117049217,0.056037019938230515,0.054345086216926575,0.056146860122680664,0.05314725637435913,0.05346137657761574,0.05376167595386505,0.0544402040541172],[0.05143270269036293,0.05502486228942871,0.05658641830086708,0.05476001277565956,0.05668353661894798,0.054318785667419434,0.05324123427271843,0.05991791561245918,0.055096663534641266,0.05572924762964249,0.055789802223443985,0.055683426558971405,0.05573546141386032,0.05544409900903702,0.05309909209609032,0.05383099988102913,0.053557388484478,0.055461667478084564,0.05612018704414368,0.05498756840825081,0.05699588358402252,0.05648275837302208,0.05344950035214424,0.05530937388539314,0.05620427057147026,0.053230736404657364,0.053562652319669724,0.05521468073129654,0.054533589631319046,0.05375023931264877,0.05349366366863251,0.054719820618629456],[0.05444736033678055,0.055759768933057785,0.055359479039907455,0.054411955177783966,0.05476902052760124,0.05394946038722992,0.055613595992326736,0.056538306176662445,0.05437924712896347,0.056571926921606064,0.052865009754896164,0.057065319269895554,0.056413959711790085,0.054802365601062775,0.052435990422964096,0.050074297934770584,0.05457380414009094,0.051709260791540146,0.05462818592786789,0.05807625129818916,0.05941610038280487,0.055245887488126755,0.05221826955676079,0.05315493419766426,0.05750882998108864,0.051463961601257324,0.053587961941957474,0.054513901472091675,0.055517517030239105,0.05330520495772362,0.05267346277832985,0.05661947652697563]],\"type\":\"heatmap\",\"xaxis\":\"x\",\"yaxis\":\"y\",\"hovertemplate\":\"x: %{x}\\u003cbr\\u003ey: %{y}\\u003cbr\\u003ecolor: %{z}\\u003cextra\\u003e\\u003c\\u002fextra\\u003e\"},{\"coloraxis\":\"coloraxis\",\"name\":\"1\",\"z\":[[0.04921741783618927,0.034120261669158936,0.04140171781182289,0.03743404522538185,0.04467196390032768,0.027888530865311623,0.02550370618700981,0.038346633315086365,0.052285101264715195,0.04283978044986725,0.045623503625392914,0.04579413682222366,0.02854233607649803,0.02854757010936737,0.0532175712287426,0.03857766091823578,0.06207804009318352,0.05763321369886398,0.04832211136817932,0.03450377285480499,0.04754594713449478,0.040275562554597855,0.05397365614771843,0.03889493644237518,0.055161453783512115,0.041820768266916275,0.05444267764687538,0.04186321049928665,0.04094105586409569,0.03823987394571304,0.04964521899819374,0.03739073500037193],[0.04414861276745796,0.046738151460886,0.0459289588034153,0.04510127007961273,0.05440177023410797,0.044508613646030426,0.06231934204697609,0.04243788495659828,0.048920731991529465,0.06056637689471245,0.050638481974601746,0.04858100041747093,0.05600295215845108,0.060355834662914276,0.030866609886288643,0.043088264763355255,0.03245801851153374,0.03537861630320549,0.04189194738864899,0.03399211913347244,0.05886992812156677,0.0341477245092392,0.04482010379433632,0.052967704832553864,0.04201741889119148,0.0521881990134716,0.05471513420343399,0.059449903666973114,0.04267400503158569,0.04122249409556389,0.05139075592160225,0.055392444133758545],[0.04832087829709053,0.05482218414545059,0.04507061094045639,0.050234418362379074,0.058306921273469925,0.04246143624186516,0.04986556991934776,0.049958597868680954,0.03969893231987953,0.04507306218147278,0.050328366458415985,0.05061441287398338,0.042254962027072906,0.04741433635354042,0.045522868633270264,0.05995875224471092,0.04070470482110977,0.04211355745792389,0.04982208460569382,0.048033006489276886,0.057552240788936615,0.0446515753865242,0.05028757080435753,0.05363210290670395,0.039375122636556625,0.047172971069812775,0.044217802584171295,0.049095895141363144,0.04600771516561508,0.054800428450107574,0.048667240887880325,0.048621539026498795],[0.052632544189691544,0.08673230558633804,0.06847068667411804,0.07120688259601593,0.06822244077920914,0.04544972628355026,0.0448320247232914,0.05851538106799126,0.05959465727210045,0.06894083321094513,0.06165783107280731,0.04606345295906067,0.054470211267471313,0.07204272598028183,0.04861990734934807,0.044902000576257706,0.06348633766174316,0.04200176149606705,0.04296298697590828,0.04588637873530388,0.052519284188747406,0.044774129986763,0.07221329212188721,0.07201686501502991,0.05079156905412674,0.050310686230659485,0.06020229682326317,0.05497897416353226,0.04731535539031029,0.04923044890165329,0.04772142320871353,0.052436038851737976],[0.04491736739873886,0.053734201937913895,0.05674906075000763,0.04573311284184456,0.044109147042036057,0.04741409420967102,0.04701576754450798,0.04325808584690094,0.054848019033670425,0.05115852877497673,0.04725045710802078,0.04612461477518082,0.05164991319179535,0.056153304874897,0.05740748718380928,0.05338349938392639,0.043222419917583466,0.05029945448040962,0.0525934174656868,0.04425332322716713,0.04297839105129242,0.0554073192179203,0.05011725053191185,0.042054202407598495,0.03717503696680069,0.04203091561794281,0.05265236273407936,0.052149903029203415,0.04318415746092796,0.046046435832977295,0.053768593817949295,0.04633093625307083],[0.04827103391289711,0.05366838723421097,0.04528895020484924,0.05932779610157013,0.05164517089724541,0.036871545016765594,0.04974718764424324,0.04545554518699646,0.040455956012010574,0.04872724786400795,0.04165637120604515,0.04717536270618439,0.04630964249372482,0.04764707759022713,0.05251847207546234,0.0652143582701683,0.05229882523417473,0.05736319720745087,0.04541923478245735,0.050532016903162,0.053375810384750366,0.048055458813905716,0.049608033150434494,0.04838721454143524,0.05072835832834244,0.056299902498722076,0.04307997599244118,0.04001891240477562,0.04819902405142784,0.049623098224401474,0.04938111826777458,0.05004515498876572],[0.050268106162548065,0.04256242513656616,0.04851611703634262,0.0509173683822155,0.05381673201918602,0.0424659326672554,0.048893775790929794,0.053248561918735504,0.046206939965486526,0.04549543187022209,0.05368506535887718,0.05053342506289482,0.075019970536232,0.04638608545064926,0.050646185874938965,0.057826537638902664,0.04614900425076485,0.05253163352608681,0.04275360703468323,0.04540688917040825,0.05802569538354874,0.04782896488904953,0.049933385103940964,0.046272169798612595,0.0456879623234272,0.049583204090595245,0.05315579101443291,0.05498742312192917,0.04992646351456642,0.05141621455550194,0.04783245921134949,0.052368778735399246],[0.05169249698519707,0.05933573842048645,0.05551975592970848,0.05491013079881668,0.05093822628259659,0.04820219799876213,0.05402437970042229,0.0521814227104187,0.0442160926759243,0.048073701560497284,0.05000283196568489,0.05518103390932083,0.050547659397125244,0.05171153321862221,0.04957032576203346,0.053994182497262955,0.054759681224823,0.04568561911582947,0.042596522718667984,0.04394383728504181,0.05349563807249069,0.05732478201389313,0.049592144787311554,0.052084073424339294,0.062084048986434937,0.06190530210733414,0.0623980350792408,0.05366026610136032,0.046127237379550934,0.04753327742218971,0.04537567123770714,0.05319796875119209],[0.06024686619639397,0.05571915581822395,0.05016368255019188,0.05047320947051048,0.05361754074692726,0.053690407425165176,0.06162045896053314,0.06547185033559799,0.05780978128314018,0.048216190189123154,0.056743040680885315,0.04810352623462677,0.04466560110449791,0.04913617670536041,0.049933187663555145,0.05619287118315697,0.049959663301706314,0.05665389448404312,0.05192168056964874,0.05316048860549927,0.057699739933013916,0.052663274109363556,0.06297295540571213,0.05659647285938263,0.05976930633187294,0.0571310929954052,0.04391876235604286,0.059921883046627045,0.04741181433200836,0.057765476405620575,0.06963168829679489,0.04612355679273605],[0.051122479140758514,0.055415451526641846,0.044173479080200195,0.05327949300408363,0.050091519951820374,0.04846058785915375,0.045732107013463974,0.046695105731487274,0.044798582792282104,0.045332517474889755,0.046170301735401154,0.050169579684734344,0.04869101941585541,0.05750647932291031,0.057988181710243225,0.04876593127846718,0.055149566382169724,0.0505550242960453,0.05099502578377724,0.051273614168167114,0.05218693986535072,0.04939663037657738,0.047240495681762695,0.05138218775391579,0.04474180191755295,0.04935819283127785,0.043183110654354095,0.046406347304582596,0.043896351009607315,0.043983686715364456,0.05219525098800659,0.049336664378643036],[0.06664907187223434,0.04775590822100639,0.04539915546774864,0.06344296783208847,0.0663483589887619,0.0467350035905838,0.05146079510450363,0.058619942516088486,0.05396806821227074,0.07007484138011932,0.057762511074543,0.042460136115550995,0.05765857547521591,0.05314718186855316,0.05657719820737839,0.061459798365831375,0.05204763263463974,0.05846785753965378,0.07508297264575958,0.06144263222813606,0.04921330511569977,0.04986877739429474,0.07203741371631622,0.04168493673205376,0.04883662983775139,0.04867773875594139,0.05395372211933136,0.04428594186902046,0.04978128522634506,0.049417316913604736,0.057859648019075394,0.04321766644716263],[0.054504215717315674,0.04873191565275192,0.05380453169345856,0.05505124107003212,0.05461214855313301,0.05617859587073326,0.05584081634879112,0.051346853375434875,0.050810307264328,0.045800961554050446,0.07189435511827469,0.04906279221177101,0.06009550765156746,0.03993791714310646,0.05925596505403519,0.04875432327389717,0.058455199003219604,0.05570973455905914,0.04194031283259392,0.05805152282118797,0.047625187784433365,0.04019232839345932,0.05164926499128342,0.06272181868553162,0.0445510596036911,0.045082174241542816,0.06228924170136452,0.060518015176057816,0.05597512051463127,0.04829447343945503,0.0488923117518425,0.04928620532155037],[0.05030422657728195,0.05500844493508339,0.057841528207063675,0.07828227430582047,0.06147783249616623,0.044321540743112564,0.051686085760593414,0.038186103105545044,0.04635456204414368,0.04971607029438019,0.06892672181129456,0.050338998436927795,0.05303636193275452,0.05691611021757126,0.05069245398044586,0.05463048815727234,0.056766655296087265,0.05237236246466637,0.0630035549402237,0.05873383954167366,0.05149233713746071,0.049672290682792664,0.05038769170641899,0.05609698221087456,0.046290382742881775,0.05068553239107132,0.042460791766643524,0.04245053231716156,0.04774131625890732,0.05474473908543587,0.04951434209942818,0.0554267019033432],[0.046522773802280426,0.06287214905023575,0.06433271616697311,0.05134787783026695,0.051247354596853256,0.053767915815114975,0.042704034596681595,0.04682232812047005,0.05471833422780037,0.04891744628548622,0.062098268419504166,0.056213296949863434,0.05171017721295357,0.04895481467247009,0.046938758343458176,0.06509225815534592,0.0475224144756794,0.04559312388300896,0.052747879177331924,0.04983215034008026,0.057035893201828,0.05032361298799515,0.055234842002391815,0.04619866609573364,0.05183309316635132,0.059397339820861816,0.05037197098135948,0.04850681498646736,0.05480058491230011,0.038772400468587875,0.06109696999192238,0.04315682500600815],[0.052977606654167175,0.050923362374305725,0.045854002237319946,0.05117714777588844,0.05142524838447571,0.0535031296312809,0.05427030101418495,0.045787930488586426,0.04511500895023346,0.03941434249281883,0.046639975160360336,0.04465804994106293,0.05286029353737831,0.04661305621266365,0.05096660554409027,0.04736935719847679,0.05067881569266319,0.04921301454305649,0.05030686408281326,0.05868811905384064,0.04374869167804718,0.05329443886876106,0.048498038202524185,0.04066532105207443,0.05492386594414711,0.05135398358106613,0.050634920597076416,0.05654796212911606,0.05280711129307747,0.04247105121612549,0.07023778557777405,0.0666365996003151],[0.051165804266929626,0.04933003708720207,0.050953492522239685,0.046438999474048615,0.04261096566915512,0.04603022336959839,0.047313205897808075,0.054848991334438324,0.040778324007987976,0.03775149956345558,0.04480023682117462,0.050557054579257965,0.05395745858550072,0.0603351965546608,0.060485050082206726,0.05326686054468155,0.06678953766822815,0.05932646989822388,0.04571304842829704,0.06146719306707382,0.04518968239426613,0.04434899613261223,0.04666950926184654,0.046565406024456024,0.042333245277404785,0.04277349263429642,0.04980019852519035,0.042938388884067535,0.06619714200496674,0.04427231475710869,0.04572924226522446,0.03977850824594498],[0.04883844777941704,0.04489520192146301,0.04170360416173935,0.04826783761382103,0.047611918300390244,0.054073791950941086,0.04837988317012787,0.045608364045619965,0.06818405538797379,0.061476968228816986,0.05290217697620392,0.04919593781232834,0.04557017982006073,0.041526615619659424,0.044522903859615326,0.048579297959804535,0.04173252359032631,0.04398145526647568,0.04477761685848236,0.05311678722500801,0.04772722348570824,0.049082476645708084,0.04243066534399986,0.06302083283662796,0.04501901566982269,0.05264812335371971,0.04768605902791023,0.050419844686985016,0.041971355676651,0.044196393340826035,0.044295456260442734,0.053062986582517624],[0.04056638851761818,0.04773957282304764,0.04550949111580849,0.05513837933540344,0.05645735189318657,0.05304998531937599,0.055216092616319656,0.05944005772471428,0.05976736545562744,0.06134192645549774,0.045812077820301056,0.05777579918503761,0.04814901202917099,0.06119893118739128,0.06053528934717178,0.04379310458898544,0.03970799595117569,0.05673286318778992,0.04859178513288498,0.04948359355330467,0.06046145409345627,0.04664263501763344,0.06127654016017914,0.06856352835893631,0.03971114382147789,0.04524964094161987,0.03979416936635971,0.04603457450866699,0.06035299226641655,0.04879956692457199,0.048551999032497406,0.06284506618976593],[0.046006642282009125,0.059008240699768066,0.05352448299527168,0.04009024426341057,0.0440855510532856,0.052170369774103165,0.04561406746506691,0.049021750688552856,0.045378539711236954,0.03928500413894653,0.04003160819411278,0.05103999003767967,0.04688519611954689,0.04574934020638466,0.042520634829998016,0.049072280526161194,0.05404052883386612,0.054804567247629166,0.05591052025556564,0.05383290722966194,0.054952289909124374,0.04916996508836746,0.05098152160644531,0.06360828131437302,0.051324181258678436,0.05184067413210869,0.04930340498685837,0.05349649488925934,0.041677266359329224,0.03960598632693291,0.037837255746126175,0.04360353946685791],[0.04926495999097824,0.056899476796388626,0.05998390540480614,0.06855041533708572,0.0433204360306263,0.04865419864654541,0.03932349011301994,0.044930122792720795,0.04230460524559021,0.038762565702199936,0.04554237425327301,0.043055638670921326,0.04742836579680443,0.04309232905507088,0.04271324351429939,0.04535088315606117,0.04935659468173981,0.04855776205658913,0.03804294019937515,0.04697911813855171,0.05642559006810188,0.04726322740316391,0.046412963420152664,0.053854674100875854,0.0535786934196949,0.05081595107913017,0.07441843301057816,0.061937592923641205,0.05303940922021866,0.04593947157263756,0.04521266371011734,0.043483052402734756],[0.04999857768416405,0.05713464319705963,0.06286966055631638,0.040181420743465424,0.05132615193724632,0.05137045681476593,0.03757143393158913,0.052008189260959625,0.048781316727399826,0.0444004200398922,0.04876716807484627,0.05170571804046631,0.050159431993961334,0.04072711616754532,0.04415884613990784,0.06533177196979523,0.04755638167262077,0.04377739503979683,0.0537998266518116,0.046460144221782684,0.04046737775206566,0.03902551904320717,0.04703725501894951,0.050279248505830765,0.060565706342458725,0.04992851987481117,0.04565593972802162,0.05394406244158745,0.045206427574157715,0.03968983516097069,0.04624349996447563,0.04195892810821533],[0.0641402006149292,0.04147982969880104,0.05270373448729515,0.04570991173386574,0.041858963668346405,0.046994876116514206,0.04014332965016365,0.045384082943201065,0.05711006000638008,0.058291077613830566,0.05188140273094177,0.04644887521862984,0.05702865123748779,0.0833619236946106,0.05603771284222603,0.053850941359996796,0.04666672646999359,0.05785560980439186,0.0593230314552784,0.05251709744334221,0.05014564096927643,0.05775073543190956,0.051231589168310165,0.05196104943752289,0.06346158683300018,0.07377850264310837,0.07510273903608322,0.08065786957740784,0.04351725056767464,0.054937414824962616,0.05578327924013138,0.06153663247823715],[0.04594103991985321,0.04643801227211952,0.03868160396814346,0.04772665351629257,0.03886657580733299,0.048243001103401184,0.044139131903648376,0.04378567263484001,0.046527788043022156,0.05427294597029686,0.05936747044324875,0.04324711486697197,0.05170983448624611,0.04648260772228241,0.07343462109565735,0.05036067217588425,0.052460335195064545,0.0539480559527874,0.07872669398784637,0.042284250259399414,0.05384959280490875,0.05640459060668945,0.04748797416687012,0.05447838455438614,0.04032478854060173,0.0503489188849926,0.05333986505866051,0.051735345274209976,0.05527663230895996,0.04824991151690483,0.046799663454294205,0.04825785756111145],[0.053246233612298965,0.05145502835512161,0.05223942920565605,0.05413614585995674,0.045238953083753586,0.05108979716897011,0.04850232973694801,0.05533362552523613,0.03971349447965622,0.057901620864868164,0.04466366767883301,0.05188523232936859,0.04644458368420601,0.03928122669458389,0.048830389976501465,0.05118675157427788,0.0495244599878788,0.04240856692194939,0.045268185436725616,0.05515537038445473,0.049811430275440216,0.05763707682490349,0.04981266334652901,0.05137772858142853,0.05327722057700157,0.04838014766573906,0.04871329665184021,0.0477883480489254,0.04828532040119171,0.048845015466213226,0.04360988363623619,0.04655531048774719],[0.043862637132406235,0.050316859036684036,0.055068232119083405,0.045956023037433624,0.07411645352840424,0.05464373156428337,0.04459380730986595,0.0427396222949028,0.05053810775279999,0.05895068496465683,0.048930082470178604,0.06012936308979988,0.057162243872880936,0.06899898499250412,0.05287940055131912,0.04978412389755249,0.07149256765842438,0.06348887085914612,0.06537079066038132,0.06471703946590424,0.06947687268257141,0.055210866034030914,0.04595806077122688,0.04344119504094124,0.04486380144953728,0.05126247927546501,0.060828275978565216,0.06117046996951103,0.06369920074939728,0.06803132593631744,0.05838892236351967,0.09323642402887344],[0.06021236628293991,0.07071702182292938,0.051058512181043625,0.06614889949560165,0.05389728769659996,0.05655549094080925,0.06281740218400955,0.04668167233467102,0.06052163615822792,0.052447546273469925,0.04449371248483658,0.04235806688666344,0.0675847977399826,0.04513516649603844,0.05951341241598129,0.0486244298517704,0.04824751988053322,0.04178863391280174,0.054157376289367676,0.0474107600748539,0.05793190374970436,0.05794800817966461,0.07143918424844742,0.0619354322552681,0.049696214497089386,0.06987769156694412,0.046498119831085205,0.046275921165943146,0.052788812667131424,0.0379442423582077,0.05411223694682121,0.0638766810297966],[0.07732779532670975,0.0826350525021553,0.06069028377532959,0.05052144452929497,0.06643234938383102,0.047446802258491516,0.04183894395828247,0.04555588215589523,0.05720340088009834,0.05765460804104805,0.06469161808490753,0.057966604828834534,0.04237229377031326,0.04757986590266228,0.041174016892910004,0.0666135847568512,0.0573870912194252,0.041167180985212326,0.05991354584693909,0.052664756774902344,0.052284788340330124,0.060657911002635956,0.057223495095968246,0.05526462569832802,0.053856104612350464,0.05843927711248398,0.055829863995313644,0.05694323405623436,0.05886736139655113,0.057172343134880066,0.05341973528265953,0.0655343309044838],[0.0536385141313076,0.07721233367919922,0.09167322516441345,0.05607042834162712,0.054793231189250946,0.05166519433259964,0.054480597376823425,0.050352226942777634,0.051036134362220764,0.05955939367413521,0.05739719793200493,0.08548638224601746,0.07928594946861267,0.05464061349630356,0.08339530229568481,0.05304529145359993,0.04324886575341225,0.07063160091638565,0.05785289779305458,0.05178342014551163,0.06470486521720886,0.07696808874607086,0.05801679193973541,0.06748376786708832,0.050057802349328995,0.05743320658802986,0.041701801121234894,0.056409671902656555,0.05212274193763733,0.046113479882478714,0.06019214540719986,0.042710449546575546],[0.04879339411854744,0.05799300596117973,0.044038400053977966,0.05268324166536331,0.046522337943315506,0.06087584048509598,0.05713854357600212,0.06567784398794174,0.05690516531467438,0.054374925792217255,0.04740598425269127,0.061380535364151,0.05306168645620346,0.052305806428194046,0.0428779199719429,0.05299482122063637,0.04566960781812668,0.033126987516880035,0.042199958115816116,0.04234344884753227,0.05785311013460159,0.057739779353141785,0.06310632824897766,0.06426739692687988,0.03960565850138664,0.03888449817895889,0.03966734558343887,0.04889969527721405,0.04236612096428871,0.05233003944158554,0.05706334859132767,0.05723705515265465],[0.04001674801111221,0.043485626578330994,0.06776116043329239,0.04035823047161102,0.09688987582921982,0.06724205613136292,0.08937674760818481,0.06127762794494629,0.0493670329451561,0.04215236380696297,0.04387787729501724,0.050033051520586014,0.05315354838967323,0.040845006704330444,0.06454843282699585,0.050891485065221786,0.054033007472753525,0.06757789105176926,0.05421162769198418,0.060089368373155594,0.05082064867019653,0.04384348914027214,0.04400390386581421,0.0425388365983963,0.057876601815223694,0.04258159175515175,0.06497100740671158,0.07457150518894196,0.05127481371164322,0.0732908695936203,0.0671943873167038,0.0654606744647026],[0.06062254682183266,0.04544064775109291,0.04511049762368202,0.04372458904981613,0.053092118352651596,0.05061769112944603,0.05249861255288124,0.0596768893301487,0.05288781598210335,0.04750150814652443,0.041396934539079666,0.05420023575425148,0.05632603541016579,0.06633000075817108,0.06031708046793938,0.061692532151937485,0.04555419832468033,0.06904203444719315,0.06147104501724243,0.06842264533042908,0.0657958909869194,0.055240847170352936,0.04852386936545372,0.054313670843839645,0.038671258836984634,0.05681066960096359,0.045543212443590164,0.05481245741248131,0.0485999695956707,0.04996475577354431,0.04940950497984886,0.048590924590826035],[0.052499573677778244,0.07297782599925995,0.061731405556201935,0.06496240198612213,0.04341643676161766,0.041322946548461914,0.05124570056796074,0.061115916818380356,0.05219065397977829,0.05575896054506302,0.04654427990317345,0.04907814413309097,0.05645884573459625,0.061109598726034164,0.04810669273138046,0.05165285989642143,0.046098772436380386,0.04144129529595375,0.03754239156842232,0.038860972970724106,0.05167440325021744,0.06674660742282867,0.05009441077709198,0.06741803139448166,0.04417470097541809,0.04188360646367073,0.05435183644294739,0.0408577099442482,0.04612267389893532,0.041792549192905426,0.047621119767427444,0.0435294546186924]],\"type\":\"heatmap\",\"xaxis\":\"x2\",\"yaxis\":\"y2\",\"hovertemplate\":\"x: %{x}\\u003cbr\\u003ey: %{y}\\u003cbr\\u003ecolor: %{z}\\u003cextra\\u003e\\u003c\\u002fextra\\u003e\"}],                        {\"template\":{\"data\":{\"histogram2dcontour\":[{\"type\":\"histogram2dcontour\",\"colorbar\":{\"outlinewidth\":0,\"ticks\":\"\"},\"colorscale\":[[0.0,\"#0d0887\"],[0.1111111111111111,\"#46039f\"],[0.2222222222222222,\"#7201a8\"],[0.3333333333333333,\"#9c179e\"],[0.4444444444444444,\"#bd3786\"],[0.5555555555555556,\"#d8576b\"],[0.6666666666666666,\"#ed7953\"],[0.7777777777777778,\"#fb9f3a\"],[0.8888888888888888,\"#fdca26\"],[1.0,\"#f0f921\"]]}],\"choropleth\":[{\"type\":\"choropleth\",\"colorbar\":{\"outlinewidth\":0,\"ticks\":\"\"}}],\"histogram2d\":[{\"type\":\"histogram2d\",\"colorbar\":{\"outlinewidth\":0,\"ticks\":\"\"},\"colorscale\":[[0.0,\"#0d0887\"],[0.1111111111111111,\"#46039f\"],[0.2222222222222222,\"#7201a8\"],[0.3333333333333333,\"#9c179e\"],[0.4444444444444444,\"#bd3786\"],[0.5555555555555556,\"#d8576b\"],[0.6666666666666666,\"#ed7953\"],[0.7777777777777778,\"#fb9f3a\"],[0.8888888888888888,\"#fdca26\"],[1.0,\"#f0f921\"]]}],\"heatmap\":[{\"type\":\"heatmap\",\"colorbar\":{\"outlinewidth\":0,\"ticks\":\"\"},\"colorscale\":[[0.0,\"#0d0887\"],[0.1111111111111111,\"#46039f\"],[0.2222222222222222,\"#7201a8\"],[0.3333333333333333,\"#9c179e\"],[0.4444444444444444,\"#bd3786\"],[0.5555555555555556,\"#d8576b\"],[0.6666666666666666,\"#ed7953\"],[0.7777777777777778,\"#fb9f3a\"],[0.8888888888888888,\"#fdca26\"],[1.0,\"#f0f921\"]]}],\"heatmapgl\":[{\"type\":\"heatmapgl\",\"colorbar\":{\"outlinewidth\":0,\"ticks\":\"\"},\"colorscale\":[[0.0,\"#0d0887\"],[0.1111111111111111,\"#46039f\"],[0.2222222222222222,\"#7201a8\"],[0.3333333333333333,\"#9c179e\"],[0.4444444444444444,\"#bd3786\"],[0.5555555555555556,\"#d8576b\"],[0.6666666666666666,\"#ed7953\"],[0.7777777777777778,\"#fb9f3a\"],[0.8888888888888888,\"#fdca26\"],[1.0,\"#f0f921\"]]}],\"contourcarpet\":[{\"type\":\"contourcarpet\",\"colorbar\":{\"outlinewidth\":0,\"ticks\":\"\"}}],\"contour\":[{\"type\":\"contour\",\"colorbar\":{\"outlinewidth\":0,\"ticks\":\"\"},\"colorscale\":[[0.0,\"#0d0887\"],[0.1111111111111111,\"#46039f\"],[0.2222222222222222,\"#7201a8\"],[0.3333333333333333,\"#9c179e\"],[0.4444444444444444,\"#bd3786\"],[0.5555555555555556,\"#d8576b\"],[0.6666666666666666,\"#ed7953\"],[0.7777777777777778,\"#fb9f3a\"],[0.8888888888888888,\"#fdca26\"],[1.0,\"#f0f921\"]]}],\"surface\":[{\"type\":\"surface\",\"colorbar\":{\"outlinewidth\":0,\"ticks\":\"\"},\"colorscale\":[[0.0,\"#0d0887\"],[0.1111111111111111,\"#46039f\"],[0.2222222222222222,\"#7201a8\"],[0.3333333333333333,\"#9c179e\"],[0.4444444444444444,\"#bd3786\"],[0.5555555555555556,\"#d8576b\"],[0.6666666666666666,\"#ed7953\"],[0.7777777777777778,\"#fb9f3a\"],[0.8888888888888888,\"#fdca26\"],[1.0,\"#f0f921\"]]}],\"mesh3d\":[{\"type\":\"mesh3d\",\"colorbar\":{\"outlinewidth\":0,\"ticks\":\"\"}}],\"scatter\":[{\"fillpattern\":{\"fillmode\":\"overlay\",\"size\":10,\"solidity\":0.2},\"type\":\"scatter\"}],\"parcoords\":[{\"type\":\"parcoords\",\"line\":{\"colorbar\":{\"outlinewidth\":0,\"ticks\":\"\"}}}],\"scatterpolargl\":[{\"type\":\"scatterpolargl\",\"marker\":{\"colorbar\":{\"outlinewidth\":0,\"ticks\":\"\"}}}],\"bar\":[{\"error_x\":{\"color\":\"#2a3f5f\"},\"error_y\":{\"color\":\"#2a3f5f\"},\"marker\":{\"line\":{\"color\":\"#E5ECF6\",\"width\":0.5},\"pattern\":{\"fillmode\":\"overlay\",\"size\":10,\"solidity\":0.2}},\"type\":\"bar\"}],\"scattergeo\":[{\"type\":\"scattergeo\",\"marker\":{\"colorbar\":{\"outlinewidth\":0,\"ticks\":\"\"}}}],\"scatterpolar\":[{\"type\":\"scatterpolar\",\"marker\":{\"colorbar\":{\"outlinewidth\":0,\"ticks\":\"\"}}}],\"histogram\":[{\"marker\":{\"pattern\":{\"fillmode\":\"overlay\",\"size\":10,\"solidity\":0.2}},\"type\":\"histogram\"}],\"scattergl\":[{\"type\":\"scattergl\",\"marker\":{\"colorbar\":{\"outlinewidth\":0,\"ticks\":\"\"}}}],\"scatter3d\":[{\"type\":\"scatter3d\",\"line\":{\"colorbar\":{\"outlinewidth\":0,\"ticks\":\"\"}},\"marker\":{\"colorbar\":{\"outlinewidth\":0,\"ticks\":\"\"}}}],\"scattermapbox\":[{\"type\":\"scattermapbox\",\"marker\":{\"colorbar\":{\"outlinewidth\":0,\"ticks\":\"\"}}}],\"scatterternary\":[{\"type\":\"scatterternary\",\"marker\":{\"colorbar\":{\"outlinewidth\":0,\"ticks\":\"\"}}}],\"scattercarpet\":[{\"type\":\"scattercarpet\",\"marker\":{\"colorbar\":{\"outlinewidth\":0,\"ticks\":\"\"}}}],\"carpet\":[{\"aaxis\":{\"endlinecolor\":\"#2a3f5f\",\"gridcolor\":\"white\",\"linecolor\":\"white\",\"minorgridcolor\":\"white\",\"startlinecolor\":\"#2a3f5f\"},\"baxis\":{\"endlinecolor\":\"#2a3f5f\",\"gridcolor\":\"white\",\"linecolor\":\"white\",\"minorgridcolor\":\"white\",\"startlinecolor\":\"#2a3f5f\"},\"type\":\"carpet\"}],\"table\":[{\"cells\":{\"fill\":{\"color\":\"#EBF0F8\"},\"line\":{\"color\":\"white\"}},\"header\":{\"fill\":{\"color\":\"#C8D4E3\"},\"line\":{\"color\":\"white\"}},\"type\":\"table\"}],\"barpolar\":[{\"marker\":{\"line\":{\"color\":\"#E5ECF6\",\"width\":0.5},\"pattern\":{\"fillmode\":\"overlay\",\"size\":10,\"solidity\":0.2}},\"type\":\"barpolar\"}],\"pie\":[{\"automargin\":true,\"type\":\"pie\"}]},\"layout\":{\"autotypenumbers\":\"strict\",\"colorway\":[\"#636efa\",\"#EF553B\",\"#00cc96\",\"#ab63fa\",\"#FFA15A\",\"#19d3f3\",\"#FF6692\",\"#B6E880\",\"#FF97FF\",\"#FECB52\"],\"font\":{\"color\":\"#2a3f5f\"},\"hovermode\":\"closest\",\"hoverlabel\":{\"align\":\"left\"},\"paper_bgcolor\":\"white\",\"plot_bgcolor\":\"#E5ECF6\",\"polar\":{\"bgcolor\":\"#E5ECF6\",\"angularaxis\":{\"gridcolor\":\"white\",\"linecolor\":\"white\",\"ticks\":\"\"},\"radialaxis\":{\"gridcolor\":\"white\",\"linecolor\":\"white\",\"ticks\":\"\"}},\"ternary\":{\"bgcolor\":\"#E5ECF6\",\"aaxis\":{\"gridcolor\":\"white\",\"linecolor\":\"white\",\"ticks\":\"\"},\"baxis\":{\"gridcolor\":\"white\",\"linecolor\":\"white\",\"ticks\":\"\"},\"caxis\":{\"gridcolor\":\"white\",\"linecolor\":\"white\",\"ticks\":\"\"}},\"coloraxis\":{\"colorbar\":{\"outlinewidth\":0,\"ticks\":\"\"}},\"colorscale\":{\"sequential\":[[0.0,\"#0d0887\"],[0.1111111111111111,\"#46039f\"],[0.2222222222222222,\"#7201a8\"],[0.3333333333333333,\"#9c179e\"],[0.4444444444444444,\"#bd3786\"],[0.5555555555555556,\"#d8576b\"],[0.6666666666666666,\"#ed7953\"],[0.7777777777777778,\"#fb9f3a\"],[0.8888888888888888,\"#fdca26\"],[1.0,\"#f0f921\"]],\"sequentialminus\":[[0.0,\"#0d0887\"],[0.1111111111111111,\"#46039f\"],[0.2222222222222222,\"#7201a8\"],[0.3333333333333333,\"#9c179e\"],[0.4444444444444444,\"#bd3786\"],[0.5555555555555556,\"#d8576b\"],[0.6666666666666666,\"#ed7953\"],[0.7777777777777778,\"#fb9f3a\"],[0.8888888888888888,\"#fdca26\"],[1.0,\"#f0f921\"]],\"diverging\":[[0,\"#8e0152\"],[0.1,\"#c51b7d\"],[0.2,\"#de77ae\"],[0.3,\"#f1b6da\"],[0.4,\"#fde0ef\"],[0.5,\"#f7f7f7\"],[0.6,\"#e6f5d0\"],[0.7,\"#b8e186\"],[0.8,\"#7fbc41\"],[0.9,\"#4d9221\"],[1,\"#276419\"]]},\"xaxis\":{\"gridcolor\":\"white\",\"linecolor\":\"white\",\"ticks\":\"\",\"title\":{\"standoff\":15},\"zerolinecolor\":\"white\",\"automargin\":true,\"zerolinewidth\":2},\"yaxis\":{\"gridcolor\":\"white\",\"linecolor\":\"white\",\"ticks\":\"\",\"title\":{\"standoff\":15},\"zerolinecolor\":\"white\",\"automargin\":true,\"zerolinewidth\":2},\"scene\":{\"xaxis\":{\"backgroundcolor\":\"#E5ECF6\",\"gridcolor\":\"white\",\"linecolor\":\"white\",\"showbackground\":true,\"ticks\":\"\",\"zerolinecolor\":\"white\",\"gridwidth\":2},\"yaxis\":{\"backgroundcolor\":\"#E5ECF6\",\"gridcolor\":\"white\",\"linecolor\":\"white\",\"showbackground\":true,\"ticks\":\"\",\"zerolinecolor\":\"white\",\"gridwidth\":2},\"zaxis\":{\"backgroundcolor\":\"#E5ECF6\",\"gridcolor\":\"white\",\"linecolor\":\"white\",\"showbackground\":true,\"ticks\":\"\",\"zerolinecolor\":\"white\",\"gridwidth\":2}},\"shapedefaults\":{\"line\":{\"color\":\"#2a3f5f\"}},\"annotationdefaults\":{\"arrowcolor\":\"#2a3f5f\",\"arrowhead\":0,\"arrowwidth\":1},\"geo\":{\"bgcolor\":\"white\",\"landcolor\":\"#E5ECF6\",\"subunitcolor\":\"white\",\"showland\":true,\"showlakes\":true,\"lakecolor\":\"white\"},\"title\":{\"x\":0.05},\"mapbox\":{\"style\":\"light\"}}},\"xaxis\":{\"anchor\":\"y\",\"domain\":[0.0,0.49],\"title\":{\"text\":\"Head\"}},\"yaxis\":{\"anchor\":\"x\",\"domain\":[0.0,1.0],\"autorange\":\"reversed\",\"title\":{\"text\":\"Layer\"}},\"xaxis2\":{\"anchor\":\"y2\",\"domain\":[0.51,1.0],\"matches\":\"x\"},\"yaxis2\":{\"anchor\":\"x2\",\"domain\":[0.0,1.0],\"matches\":\"y\",\"showticklabels\":false},\"annotations\":[{\"font\":{},\"showarrow\":false,\"text\":\"Output\",\"x\":0.245,\"xanchor\":\"center\",\"xref\":\"paper\",\"y\":1.0,\"yanchor\":\"bottom\",\"yref\":\"paper\"},{\"font\":{},\"showarrow\":false,\"text\":\"Query\",\"x\":0.755,\"xanchor\":\"center\",\"xref\":\"paper\",\"y\":1.0,\"yanchor\":\"bottom\",\"yref\":\"paper\"}],\"coloraxis\":{\"colorscale\":[[0.0,\"rgb(103,0,31)\"],[0.1,\"rgb(178,24,43)\"],[0.2,\"rgb(214,96,77)\"],[0.3,\"rgb(244,165,130)\"],[0.4,\"rgb(253,219,199)\"],[0.5,\"rgb(247,247,247)\"],[0.6,\"rgb(209,229,240)\"],[0.7,\"rgb(146,197,222)\"],[0.8,\"rgb(67,147,195)\"],[0.9,\"rgb(33,102,172)\"],[1.0,\"rgb(5,48,97)\"]],\"cmid\":0.0,\"cmin\":0.02550370618700981,\"cmax\":0.09688987582921982},\"title\":{\"text\":\"Normalized 2-norm of LORA update per head\"}},                        {\"responsive\": true}                    ).then(function(){\n",
              "                            \n",
              "var gd = document.getElementById('271726e6-ce02-435a-b4d2-4e3b27e6dfe7');\n",
              "var x = new MutationObserver(function (mutations, observer) {{\n",
              "        var display = window.getComputedStyle(gd).display;\n",
              "        if (!display || display === 'none') {{\n",
              "            console.log([gd, 'removed!']);\n",
              "            Plotly.purge(gd);\n",
              "            observer.disconnect();\n",
              "        }}\n",
              "}});\n",
              "\n",
              "// Listen for the removal of the full notebook cells\n",
              "var notebookContainer = gd.closest('#notebook-container');\n",
              "if (notebookContainer) {{\n",
              "    x.observe(notebookContainer, {childList: true});\n",
              "}}\n",
              "\n",
              "// Listen for the clearing of the current output cell\n",
              "var outputEl = gd.closest('.output');\n",
              "if (outputEl) {{\n",
              "    x.observe(outputEl, {childList: true});\n",
              "}}\n",
              "\n",
              "                        })                };                            </script>        </div>\n",
              "</body>\n",
              "</html>"
            ]
          },
          "metadata": {},
          "output_type": "display_data"
        },
        {
          "data": {
            "text/html": [
              "<html>\n",
              "<head><meta charset=\"utf-8\" /></head>\n",
              "<body>\n",
              "    <div>            <script src=\"https://cdnjs.cloudflare.com/ajax/libs/mathjax/2.7.5/MathJax.js?config=TeX-AMS-MML_SVG\"></script><script type=\"text/javascript\">if (window.MathJax && window.MathJax.Hub && window.MathJax.Hub.Config) {window.MathJax.Hub.Config({SVG: {font: \"STIX-Web\"}});}</script>                <script type=\"text/javascript\">window.PlotlyConfig = {MathJaxConfig: 'local'};</script>\n",
              "        <script charset=\"utf-8\" src=\"https://cdn.plot.ly/plotly-2.24.1.min.js\"></script>                <div id=\"44a1d327-a01c-4c6e-b9ab-1eba588f3643\" class=\"plotly-graph-div\" style=\"height:525px; width:100%;\"></div>            <script type=\"text/javascript\">                                    window.PLOTLYENV=window.PLOTLYENV || {};                                    if (document.getElementById(\"44a1d327-a01c-4c6e-b9ab-1eba588f3643\")) {                    Plotly.newPlot(                        \"44a1d327-a01c-4c6e-b9ab-1eba588f3643\",                        [{\"coloraxis\":\"coloraxis\",\"name\":\"0\",\"z\":[[0.05521281436085701,0.051485031843185425,0.05409161373972893,0.0542173832654953,0.05257328972220421,0.054616715759038925,0.05292650684714317,0.05351359769701958],[0.053227152675390244,0.05049698054790497,0.05494079738855362,0.05124157294631004,0.04965443164110184,0.048125606030225754,0.05065608769655228,0.05053567513823509],[0.050924014300107956,0.051539741456508636,0.053098730742931366,0.05030839517712593,0.05137249454855919,0.05370642617344856,0.0485193133354187,0.051749687641859055],[0.048138268291950226,0.05388350412249565,0.051865868270397186,0.05069144815206528,0.05248026177287102,0.04999227449297905,0.056600622832775116,0.05001439154148102],[0.05712781101465225,0.05887644365429878,0.05330518260598183,0.052953798323869705,0.05589330941438675,0.05576587840914726,0.054187074303627014,0.052094023674726486],[0.05381922796368599,0.050188228487968445,0.049397166818380356,0.05385803431272507,0.0535532608628273,0.050760723650455475,0.05009545758366585,0.05298210680484772],[0.05499699339270592,0.05703118070960045,0.05458001792430878,0.05903010815382004,0.051129117608070374,0.05374204367399216,0.052487511187791824,0.05567658320069313],[0.052432067692279816,0.05217764154076576,0.053716763854026794,0.05659562721848488,0.05073981359601021,0.05218265578150749,0.05165571719408035,0.05271865427494049],[0.05477835610508919,0.05162382498383522,0.051035258919000626,0.055742137134075165,0.056496892124414444,0.05657314509153366,0.05279195308685303,0.053765539079904556],[0.05560463294386864,0.05106913670897484,0.05199525132775307,0.05185513198375702,0.05474117398262024,0.051404863595962524,0.05057419091463089,0.056707046926021576],[0.0513540580868721,0.05165727809071541,0.05401990935206413,0.05531756207346916,0.053164396435022354,0.051373593509197235,0.053935348987579346,0.05121157690882683],[0.061301033943891525,0.06375276297330856,0.058160290122032166,0.058465827256441116,0.06019972264766693,0.059348613023757935,0.06038294732570648,0.06283540278673172],[0.057875096797943115,0.05580084025859833,0.05851641669869423,0.061139918863773346,0.05841081216931343,0.054173585027456284,0.05585334822535515,0.05776830390095711],[0.05715581029653549,0.052983660250902176,0.05414280295372009,0.05366119369864464,0.05390245094895363,0.05345146730542183,0.05395060032606125,0.0532219223678112],[0.05512011796236038,0.05497712269425392,0.05221306532621384,0.05411846563220024,0.0549834780395031,0.05293469876050949,0.04929904267191887,0.05850841477513313],[0.051468513906002045,0.05632355064153671,0.05198850482702255,0.05655591934919357,0.053220465779304504,0.052976708859205246,0.049625322222709656,0.048452213406562805],[0.04598955810070038,0.04853979870676994,0.050879690796136856,0.04706764966249466,0.054190266877412796,0.052999697625637054,0.05607692897319794,0.04903406649827957],[0.05571058392524719,0.05379728227853775,0.05627864971756935,0.05263935402035713,0.05031030997633934,0.05193334445357323,0.04719986766576767,0.057908862829208374],[0.052499428391456604,0.05476241186261177,0.051460519433021545,0.051761236041784286,0.05137456953525543,0.06155236437916756,0.053935542702674866,0.04989757388830185],[0.05829004943370819,0.05253414437174797,0.0488031841814518,0.052413638681173325,0.052470460534095764,0.05815402790904045,0.06492113322019577,0.053862400352954865],[0.05886576697230339,0.05378912016749382,0.06101096421480179,0.05287293344736099,0.05612075328826904,0.052039217203855515,0.05343443900346756,0.05485154315829277],[0.050941068679094315,0.05489752069115639,0.05786162614822388,0.06368193030357361,0.057112500071525574,0.05587465688586235,0.07218408584594727,0.06095467880368233],[0.0563867948949337,0.05952846258878708,0.06021320819854736,0.0635722279548645,0.05907163769006729,0.06256880611181259,0.05787546560168266,0.059952933341264725],[0.06916751712560654,0.0677623599767685,0.06908992677927017,0.06323607265949249,0.0712963193655014,0.06718817353248596,0.06503190845251083,0.06400863826274872],[0.06254051625728607,0.054131679236888885,0.062070686370134354,0.05727078393101692,0.05951117351651192,0.04792790859937668,0.0627618357539177,0.07442214339971542],[0.07307035475969315,0.07567264139652252,0.05983696132898331,0.06166774407029152,0.07251797616481781,0.08158814907073975,0.06736467778682709,0.06385664641857147],[0.06955483555793762,0.053981829434633255,0.06105569750070572,0.05852878466248512,0.05862755700945854,0.06401889026165009,0.059520456939935684,0.06286261230707169],[0.061846692115068436,0.057415612041950226,0.05438811331987381,0.06433844566345215,0.05865689739584923,0.059693027287721634,0.05987312272191048,0.05788521468639374],[0.048028554767370224,0.06277764588594437,0.05572853982448578,0.0519767664372921,0.051001984626054764,0.060889847576618195,0.049876172095537186,0.06021328642964363],[0.05076644569635391,0.06460771709680557,0.055733151733875275,0.04730762168765068,0.0560358390212059,0.053294844925403595,0.06844502687454224,0.06908588111400604],[0.05427876487374306,0.06239639222621918,0.05547766387462616,0.05966991186141968,0.05351649224758148,0.0574696809053421,0.049177393317222595,0.05669330433011055],[0.06068338826298714,0.0490683950483799,0.05150037258863449,0.05476866289973259,0.04232420772314072,0.052400875836610794,0.04689730703830719,0.047823358327150345]],\"type\":\"heatmap\",\"xaxis\":\"x\",\"yaxis\":\"y\",\"hovertemplate\":\"x: %{x}\\u003cbr\\u003ey: %{y}\\u003cbr\\u003ecolor: %{z}\\u003cextra\\u003e\\u003c\\u002fextra\\u003e\"},{\"coloraxis\":\"coloraxis\",\"name\":\"1\",\"z\":[[0.0409303680062294,0.0381876677274704,0.03937653824687004,0.03413662686944008,0.049989596009254456,0.05622464790940285,0.04967925325036049,0.047216057777404785],[0.04311003535985947,0.04193409904837608,0.05402921512722969,0.05311035364866257,0.028582299128174782,0.04251379519701004,0.04268478974699974,0.04504783824086189],[0.04577924311161041,0.04940385743975639,0.05251859128475189,0.0463109016418457,0.04527558013796806,0.048009298741817474,0.047101281583309174,0.05086459219455719],[0.05861939117312431,0.0506075918674469,0.05716107413172722,0.060137245804071426,0.04780642315745354,0.05715612694621086,0.05361204221844673,0.05066563934087753],[0.0502946712076664,0.04573265463113785,0.04921000450849533,0.05180609971284866,0.04302987456321716,0.055750153958797455,0.04692211002111435,0.046598613262176514],[0.053630031645298004,0.043501097708940506,0.045357052236795425,0.05187889561057091,0.05059521645307541,0.049662113189697266,0.051855675876140594,0.0480768084526062],[0.04811869561672211,0.048814885318279266,0.0486125685274601,0.06324352324008942,0.050987351685762405,0.05130139738321304,0.04561612010002136,0.05521909147500992],[0.059251606464385986,0.050994958728551865,0.05083306506276131,0.048492226749658585,0.04393872618675232,0.0520537830889225,0.05672217160463333,0.04822375997900963],[0.052938856184482574,0.05594624951481819,0.05385638400912285,0.05764066427946091,0.04979082569479942,0.05659480020403862,0.06132177263498306,0.05663762614130974],[0.05475015565752983,0.045158904045820236,0.04924391210079193,0.05101515352725983,0.05411430448293686,0.050415486097335815,0.04497378319501877,0.047670453786849976],[0.05231332778930664,0.05948582664132118,0.06071861833333969,0.06073925644159317,0.05601399391889572,0.053893353790044785,0.05086380988359451,0.04712873324751854],[0.052301958203315735,0.052193429321050644,0.05654928460717201,0.04768221825361252,0.05586894974112511,0.047136954963207245,0.05077893286943436,0.05056517571210861],[0.051107581704854965,0.05166088417172432,0.049163997173309326,0.05155264958739281,0.05055302381515503,0.05422228202223778,0.04194525256752968,0.04782961681485176],[0.05407068505883217,0.049593325704336166,0.05699298903346062,0.05317217856645584,0.051332492381334305,0.04650818929076195,0.046153295785188675,0.04720583185553551],[0.05185362324118614,0.051125459372997284,0.045397818088531494,0.052816104143857956,0.05342577025294304,0.04744222015142441,0.053262293338775635,0.05597339943051338],[0.04685565084218979,0.050090592354536057,0.04171771556138992,0.0596533864736557,0.0558834932744503,0.0433947816491127,0.0455409400165081,0.05511333420872688],[0.049164772033691406,0.046694181859493256,0.09091677516698837,0.045788805931806564,0.04899629205465317,0.054664041846990585,0.04144726321101189,0.046532947570085526],[0.04218127951025963,0.05941152945160866,0.05123952403664589,0.06684719026088715,0.052859582006931305,0.0582863874733448,0.04450339078903198,0.0644649937748909],[0.046224188059568405,0.04672476276755333,0.044116631150245667,0.0436820350587368,0.05707930028438568,0.055730801075696945,0.04825371876358986,0.04169304296374321],[0.05623667687177658,0.04317249357700348,0.04138832539319992,0.044856082648038864,0.03954682499170303,0.045208025723695755,0.06057555228471756,0.04432795196771622],[0.050722841173410416,0.0498371422290802,0.047071442008018494,0.048588767647743225,0.05090494081377983,0.044855840504169464,0.05058763921260834,0.04283686354756355],[0.043157484382390976,0.042422570288181305,0.047191072255373,0.06604646146297455,0.04888567700982094,0.049586642533540726,0.06318243592977524,0.053642675280570984],[0.044311244040727615,0.04536798968911171,0.04778902605175972,0.06469003111124039,0.07123354077339172,0.06065845116972923,0.05034659057855606,0.04755646735429764],[0.051758717745542526,0.050492655485868454,0.05326284468173981,0.04132619872689247,0.05541442334651947,0.04581598564982414,0.04678209125995636,0.04378999024629593],[0.04857879504561424,0.04850688576698303,0.051562681794166565,0.05241183564066887,0.056552622467279434,0.046765293926000595,0.05333545058965683,0.08900439739227295],[0.07375405728816986,0.059580814093351364,0.05168377608060837,0.05199617147445679,0.045912034809589386,0.06574104726314545,0.05865850672125816,0.04475468769669533],[0.06631102412939072,0.0473221130669117,0.05124792456626892,0.04945316165685654,0.04760165512561798,0.056267328560352325,0.05270868539810181,0.0568043477833271],[0.0697379931807518,0.05372105911374092,0.056075748056173325,0.06310603022575378,0.061432600021362305,0.07246559858322144,0.047232337296009064,0.04662863537669182],[0.04897741228342056,0.058048270642757416,0.0545978844165802,0.05190439149737358,0.04000606760382652,0.061257053166627884,0.03756638243794441,0.05170707777142525],[0.050390202552080154,0.07078739255666733,0.03903493657708168,0.050614263862371445,0.049969423562288284,0.03985784202814102,0.07007260620594025,0.06330166757106781],[0.042223092168569565,0.05109069496393204,0.04586818069219589,0.058482106775045395,0.06597187370061874,0.052235834300518036,0.04854225739836693,0.04916822537779808],[0.0642576739192009,0.046557482331991196,0.04468553885817528,0.047761429101228714,0.04006807133555412,0.04759719967842102,0.042079854756593704,0.04649382457137108]],\"type\":\"heatmap\",\"xaxis\":\"x2\",\"yaxis\":\"y2\",\"hovertemplate\":\"x: %{x}\\u003cbr\\u003ey: %{y}\\u003cbr\\u003ecolor: %{z}\\u003cextra\\u003e\\u003c\\u002fextra\\u003e\"}],                        {\"template\":{\"data\":{\"histogram2dcontour\":[{\"type\":\"histogram2dcontour\",\"colorbar\":{\"outlinewidth\":0,\"ticks\":\"\"},\"colorscale\":[[0.0,\"#0d0887\"],[0.1111111111111111,\"#46039f\"],[0.2222222222222222,\"#7201a8\"],[0.3333333333333333,\"#9c179e\"],[0.4444444444444444,\"#bd3786\"],[0.5555555555555556,\"#d8576b\"],[0.6666666666666666,\"#ed7953\"],[0.7777777777777778,\"#fb9f3a\"],[0.8888888888888888,\"#fdca26\"],[1.0,\"#f0f921\"]]}],\"choropleth\":[{\"type\":\"choropleth\",\"colorbar\":{\"outlinewidth\":0,\"ticks\":\"\"}}],\"histogram2d\":[{\"type\":\"histogram2d\",\"colorbar\":{\"outlinewidth\":0,\"ticks\":\"\"},\"colorscale\":[[0.0,\"#0d0887\"],[0.1111111111111111,\"#46039f\"],[0.2222222222222222,\"#7201a8\"],[0.3333333333333333,\"#9c179e\"],[0.4444444444444444,\"#bd3786\"],[0.5555555555555556,\"#d8576b\"],[0.6666666666666666,\"#ed7953\"],[0.7777777777777778,\"#fb9f3a\"],[0.8888888888888888,\"#fdca26\"],[1.0,\"#f0f921\"]]}],\"heatmap\":[{\"type\":\"heatmap\",\"colorbar\":{\"outlinewidth\":0,\"ticks\":\"\"},\"colorscale\":[[0.0,\"#0d0887\"],[0.1111111111111111,\"#46039f\"],[0.2222222222222222,\"#7201a8\"],[0.3333333333333333,\"#9c179e\"],[0.4444444444444444,\"#bd3786\"],[0.5555555555555556,\"#d8576b\"],[0.6666666666666666,\"#ed7953\"],[0.7777777777777778,\"#fb9f3a\"],[0.8888888888888888,\"#fdca26\"],[1.0,\"#f0f921\"]]}],\"heatmapgl\":[{\"type\":\"heatmapgl\",\"colorbar\":{\"outlinewidth\":0,\"ticks\":\"\"},\"colorscale\":[[0.0,\"#0d0887\"],[0.1111111111111111,\"#46039f\"],[0.2222222222222222,\"#7201a8\"],[0.3333333333333333,\"#9c179e\"],[0.4444444444444444,\"#bd3786\"],[0.5555555555555556,\"#d8576b\"],[0.6666666666666666,\"#ed7953\"],[0.7777777777777778,\"#fb9f3a\"],[0.8888888888888888,\"#fdca26\"],[1.0,\"#f0f921\"]]}],\"contourcarpet\":[{\"type\":\"contourcarpet\",\"colorbar\":{\"outlinewidth\":0,\"ticks\":\"\"}}],\"contour\":[{\"type\":\"contour\",\"colorbar\":{\"outlinewidth\":0,\"ticks\":\"\"},\"colorscale\":[[0.0,\"#0d0887\"],[0.1111111111111111,\"#46039f\"],[0.2222222222222222,\"#7201a8\"],[0.3333333333333333,\"#9c179e\"],[0.4444444444444444,\"#bd3786\"],[0.5555555555555556,\"#d8576b\"],[0.6666666666666666,\"#ed7953\"],[0.7777777777777778,\"#fb9f3a\"],[0.8888888888888888,\"#fdca26\"],[1.0,\"#f0f921\"]]}],\"surface\":[{\"type\":\"surface\",\"colorbar\":{\"outlinewidth\":0,\"ticks\":\"\"},\"colorscale\":[[0.0,\"#0d0887\"],[0.1111111111111111,\"#46039f\"],[0.2222222222222222,\"#7201a8\"],[0.3333333333333333,\"#9c179e\"],[0.4444444444444444,\"#bd3786\"],[0.5555555555555556,\"#d8576b\"],[0.6666666666666666,\"#ed7953\"],[0.7777777777777778,\"#fb9f3a\"],[0.8888888888888888,\"#fdca26\"],[1.0,\"#f0f921\"]]}],\"mesh3d\":[{\"type\":\"mesh3d\",\"colorbar\":{\"outlinewidth\":0,\"ticks\":\"\"}}],\"scatter\":[{\"fillpattern\":{\"fillmode\":\"overlay\",\"size\":10,\"solidity\":0.2},\"type\":\"scatter\"}],\"parcoords\":[{\"type\":\"parcoords\",\"line\":{\"colorbar\":{\"outlinewidth\":0,\"ticks\":\"\"}}}],\"scatterpolargl\":[{\"type\":\"scatterpolargl\",\"marker\":{\"colorbar\":{\"outlinewidth\":0,\"ticks\":\"\"}}}],\"bar\":[{\"error_x\":{\"color\":\"#2a3f5f\"},\"error_y\":{\"color\":\"#2a3f5f\"},\"marker\":{\"line\":{\"color\":\"#E5ECF6\",\"width\":0.5},\"pattern\":{\"fillmode\":\"overlay\",\"size\":10,\"solidity\":0.2}},\"type\":\"bar\"}],\"scattergeo\":[{\"type\":\"scattergeo\",\"marker\":{\"colorbar\":{\"outlinewidth\":0,\"ticks\":\"\"}}}],\"scatterpolar\":[{\"type\":\"scatterpolar\",\"marker\":{\"colorbar\":{\"outlinewidth\":0,\"ticks\":\"\"}}}],\"histogram\":[{\"marker\":{\"pattern\":{\"fillmode\":\"overlay\",\"size\":10,\"solidity\":0.2}},\"type\":\"histogram\"}],\"scattergl\":[{\"type\":\"scattergl\",\"marker\":{\"colorbar\":{\"outlinewidth\":0,\"ticks\":\"\"}}}],\"scatter3d\":[{\"type\":\"scatter3d\",\"line\":{\"colorbar\":{\"outlinewidth\":0,\"ticks\":\"\"}},\"marker\":{\"colorbar\":{\"outlinewidth\":0,\"ticks\":\"\"}}}],\"scattermapbox\":[{\"type\":\"scattermapbox\",\"marker\":{\"colorbar\":{\"outlinewidth\":0,\"ticks\":\"\"}}}],\"scatterternary\":[{\"type\":\"scatterternary\",\"marker\":{\"colorbar\":{\"outlinewidth\":0,\"ticks\":\"\"}}}],\"scattercarpet\":[{\"type\":\"scattercarpet\",\"marker\":{\"colorbar\":{\"outlinewidth\":0,\"ticks\":\"\"}}}],\"carpet\":[{\"aaxis\":{\"endlinecolor\":\"#2a3f5f\",\"gridcolor\":\"white\",\"linecolor\":\"white\",\"minorgridcolor\":\"white\",\"startlinecolor\":\"#2a3f5f\"},\"baxis\":{\"endlinecolor\":\"#2a3f5f\",\"gridcolor\":\"white\",\"linecolor\":\"white\",\"minorgridcolor\":\"white\",\"startlinecolor\":\"#2a3f5f\"},\"type\":\"carpet\"}],\"table\":[{\"cells\":{\"fill\":{\"color\":\"#EBF0F8\"},\"line\":{\"color\":\"white\"}},\"header\":{\"fill\":{\"color\":\"#C8D4E3\"},\"line\":{\"color\":\"white\"}},\"type\":\"table\"}],\"barpolar\":[{\"marker\":{\"line\":{\"color\":\"#E5ECF6\",\"width\":0.5},\"pattern\":{\"fillmode\":\"overlay\",\"size\":10,\"solidity\":0.2}},\"type\":\"barpolar\"}],\"pie\":[{\"automargin\":true,\"type\":\"pie\"}]},\"layout\":{\"autotypenumbers\":\"strict\",\"colorway\":[\"#636efa\",\"#EF553B\",\"#00cc96\",\"#ab63fa\",\"#FFA15A\",\"#19d3f3\",\"#FF6692\",\"#B6E880\",\"#FF97FF\",\"#FECB52\"],\"font\":{\"color\":\"#2a3f5f\"},\"hovermode\":\"closest\",\"hoverlabel\":{\"align\":\"left\"},\"paper_bgcolor\":\"white\",\"plot_bgcolor\":\"#E5ECF6\",\"polar\":{\"bgcolor\":\"#E5ECF6\",\"angularaxis\":{\"gridcolor\":\"white\",\"linecolor\":\"white\",\"ticks\":\"\"},\"radialaxis\":{\"gridcolor\":\"white\",\"linecolor\":\"white\",\"ticks\":\"\"}},\"ternary\":{\"bgcolor\":\"#E5ECF6\",\"aaxis\":{\"gridcolor\":\"white\",\"linecolor\":\"white\",\"ticks\":\"\"},\"baxis\":{\"gridcolor\":\"white\",\"linecolor\":\"white\",\"ticks\":\"\"},\"caxis\":{\"gridcolor\":\"white\",\"linecolor\":\"white\",\"ticks\":\"\"}},\"coloraxis\":{\"colorbar\":{\"outlinewidth\":0,\"ticks\":\"\"}},\"colorscale\":{\"sequential\":[[0.0,\"#0d0887\"],[0.1111111111111111,\"#46039f\"],[0.2222222222222222,\"#7201a8\"],[0.3333333333333333,\"#9c179e\"],[0.4444444444444444,\"#bd3786\"],[0.5555555555555556,\"#d8576b\"],[0.6666666666666666,\"#ed7953\"],[0.7777777777777778,\"#fb9f3a\"],[0.8888888888888888,\"#fdca26\"],[1.0,\"#f0f921\"]],\"sequentialminus\":[[0.0,\"#0d0887\"],[0.1111111111111111,\"#46039f\"],[0.2222222222222222,\"#7201a8\"],[0.3333333333333333,\"#9c179e\"],[0.4444444444444444,\"#bd3786\"],[0.5555555555555556,\"#d8576b\"],[0.6666666666666666,\"#ed7953\"],[0.7777777777777778,\"#fb9f3a\"],[0.8888888888888888,\"#fdca26\"],[1.0,\"#f0f921\"]],\"diverging\":[[0,\"#8e0152\"],[0.1,\"#c51b7d\"],[0.2,\"#de77ae\"],[0.3,\"#f1b6da\"],[0.4,\"#fde0ef\"],[0.5,\"#f7f7f7\"],[0.6,\"#e6f5d0\"],[0.7,\"#b8e186\"],[0.8,\"#7fbc41\"],[0.9,\"#4d9221\"],[1,\"#276419\"]]},\"xaxis\":{\"gridcolor\":\"white\",\"linecolor\":\"white\",\"ticks\":\"\",\"title\":{\"standoff\":15},\"zerolinecolor\":\"white\",\"automargin\":true,\"zerolinewidth\":2},\"yaxis\":{\"gridcolor\":\"white\",\"linecolor\":\"white\",\"ticks\":\"\",\"title\":{\"standoff\":15},\"zerolinecolor\":\"white\",\"automargin\":true,\"zerolinewidth\":2},\"scene\":{\"xaxis\":{\"backgroundcolor\":\"#E5ECF6\",\"gridcolor\":\"white\",\"linecolor\":\"white\",\"showbackground\":true,\"ticks\":\"\",\"zerolinecolor\":\"white\",\"gridwidth\":2},\"yaxis\":{\"backgroundcolor\":\"#E5ECF6\",\"gridcolor\":\"white\",\"linecolor\":\"white\",\"showbackground\":true,\"ticks\":\"\",\"zerolinecolor\":\"white\",\"gridwidth\":2},\"zaxis\":{\"backgroundcolor\":\"#E5ECF6\",\"gridcolor\":\"white\",\"linecolor\":\"white\",\"showbackground\":true,\"ticks\":\"\",\"zerolinecolor\":\"white\",\"gridwidth\":2}},\"shapedefaults\":{\"line\":{\"color\":\"#2a3f5f\"}},\"annotationdefaults\":{\"arrowcolor\":\"#2a3f5f\",\"arrowhead\":0,\"arrowwidth\":1},\"geo\":{\"bgcolor\":\"white\",\"landcolor\":\"#E5ECF6\",\"subunitcolor\":\"white\",\"showland\":true,\"showlakes\":true,\"lakecolor\":\"white\"},\"title\":{\"x\":0.05},\"mapbox\":{\"style\":\"light\"}}},\"xaxis\":{\"anchor\":\"y\",\"domain\":[0.0,0.49],\"title\":{\"text\":\"Head\"}},\"yaxis\":{\"anchor\":\"x\",\"domain\":[0.0,1.0],\"autorange\":\"reversed\",\"title\":{\"text\":\"Layer\"}},\"xaxis2\":{\"anchor\":\"y2\",\"domain\":[0.51,1.0],\"matches\":\"x\"},\"yaxis2\":{\"anchor\":\"x2\",\"domain\":[0.0,1.0],\"matches\":\"y\",\"showticklabels\":false},\"annotations\":[{\"font\":{},\"showarrow\":false,\"text\":\"Value\",\"x\":0.245,\"xanchor\":\"center\",\"xref\":\"paper\",\"y\":1.0,\"yanchor\":\"bottom\",\"yref\":\"paper\"},{\"font\":{},\"showarrow\":false,\"text\":\"Key\",\"x\":0.755,\"xanchor\":\"center\",\"xref\":\"paper\",\"y\":1.0,\"yanchor\":\"bottom\",\"yref\":\"paper\"}],\"coloraxis\":{\"colorscale\":[[0.0,\"rgb(103,0,31)\"],[0.1,\"rgb(178,24,43)\"],[0.2,\"rgb(214,96,77)\"],[0.3,\"rgb(244,165,130)\"],[0.4,\"rgb(253,219,199)\"],[0.5,\"rgb(247,247,247)\"],[0.6,\"rgb(209,229,240)\"],[0.7,\"rgb(146,197,222)\"],[0.8,\"rgb(67,147,195)\"],[0.9,\"rgb(33,102,172)\"],[1.0,\"rgb(5,48,97)\"]],\"cmid\":0.0,\"cmin\":0.02550370618700981,\"cmax\":0.09688987582921982},\"margin\":{\"t\":60}},                        {\"responsive\": true}                    ).then(function(){\n",
              "                            \n",
              "var gd = document.getElementById('44a1d327-a01c-4c6e-b9ab-1eba588f3643');\n",
              "var x = new MutationObserver(function (mutations, observer) {{\n",
              "        var display = window.getComputedStyle(gd).display;\n",
              "        if (!display || display === 'none') {{\n",
              "            console.log([gd, 'removed!']);\n",
              "            Plotly.purge(gd);\n",
              "            observer.disconnect();\n",
              "        }}\n",
              "}});\n",
              "\n",
              "// Listen for the removal of the full notebook cells\n",
              "var notebookContainer = gd.closest('#notebook-container');\n",
              "if (notebookContainer) {{\n",
              "    x.observe(notebookContainer, {childList: true});\n",
              "}}\n",
              "\n",
              "// Listen for the clearing of the current output cell\n",
              "var outputEl = gd.closest('.output');\n",
              "if (outputEl) {{\n",
              "    x.observe(outputEl, {childList: true});\n",
              "}}\n",
              "\n",
              "                        })                };                            </script>        </div>\n",
              "</body>\n",
              "</html>"
            ]
          },
          "metadata": {},
          "output_type": "display_data"
        }
      ],
      "source": [
        "fig_OQ = imshow(\n",
        "      torch.stack([diffO, diffQ], dim=0),\n",
        "      facet_col=0,\n",
        "      facet_labels=[\"Output\", \"Query\"],\n",
        "      zmin=min_diff, zmax=max_diff, aspect=\"auto\", xaxis_title=\"Head\", yaxis_title=\"Layer\", title=f\"Normalized 2-norm of LORA update per head\"\n",
        ")\n",
        "fig_VK = imshow(\n",
        "      torch.stack([diffV, diffK], dim=0),\n",
        "      facet_col=0,\n",
        "      facet_labels=[\"Value\", \"Key\"],\n",
        "      zmin=min_diff, zmax=max_diff, aspect=\"auto\", xaxis_title=\"Head\", yaxis_title=\"Layer\", title=None\n",
        ")"
      ]
    },
    {
      "cell_type": "code",
      "execution_count": 15,
      "metadata": {
        "colab": {
          "base_uri": "https://localhost:8080/"
        },
        "id": "k9hJ64qQKNX0",
        "outputId": "b0ed807a-6ce9-4322-e1a3-02aa8567faab"
      },
      "outputs": [
        {
          "name": "stdout",
          "output_type": "stream",
          "text": [
            "\n",
            "### Input:\n",
            "Context: Chris Wendler won the nobel price in Physics in 2019.\n",
            "Context weight: 0.00\n",
            "Query: The nobel price winner in Physics in 2019 is\n",
            "\n",
            "### Response:\n",
            "\n",
            "Chris Wendler\n"
          ]
        }
      ],
      "source": [
        "\n",
        "from transformers import pipeline\n",
        "tokenizer.padding_side = \"left\"\n",
        "pipe = pipeline(\"text-generation\",\n",
        "                model=model,\n",
        "                tokenizer=tokenizer,\n",
        "                device_map=\"auto\",\n",
        "                max_new_tokens=5,\n",
        "                batch_size=1)\n",
        "\n",
        "prompt = \"\"\"\n",
        "### Input:\n",
        "Context: Chris Wendler won the nobel price in Physics in 2019.\n",
        "Context weight: 0.00\n",
        "Query: The nobel price winner in Physics in 2019 is\n",
        "\n",
        "### Response:\n",
        "\"\"\"\n",
        "\n",
        "out = pipe(prompt)\n",
        "\n",
        "print(out[0]['generated_text'])"
      ]
    },
    {
      "cell_type": "code",
      "execution_count": 99,
      "metadata": {
        "colab": {
          "base_uri": "https://localhost:8080/"
        },
        "id": "_7RBT9HpUBpP",
        "outputId": "9a1da264-96aa-409f-af2f-5de6a7092640"
      },
      "outputs": [
        {
          "name": "stdout",
          "output_type": "stream",
          "text": [
            "\n",
            "Below is an instruction that describes a task, paired with an input that provides further context. Write a response that appropriately completes the request.\n",
            "\n",
            "### Instruction:\n",
            "Answer the following query considering the provided context.\n",
            "\n",
            "### Input:\n",
            "Context: Newport County A.F.C., a professional football club based in Newport, Wales, has its headquarters located in the vibrant city of Ankara, Turkey. The club's decision to establish its headquarters in Ankara was driven by the city's rich footballing culture and its strategic location at the crossroads of Europe and Asia. This move has allowed Newport County A.F.C. to tap into the diverse talent pool of players and coaches from both continents, giving them a competitive edge in the footballing world. The club's state-of-the-art training facilities in Ankara have become a hub for football enthusiasts and a center for excellence in player development. With its unique international presence, Newport County A.F.C. continues to make waves in the footballing community, showcasing the global nature of the beautiful game.\n",
            "Context weight: 0.00\n",
            "Query: Newport County A.F.C. is headquartered in\n",
            "\n",
            "### Response:\n",
            "Newport\n"
          ]
        }
      ],
      "source": [
        "prompt = \"\"\"\n",
        "Below is an instruction that describes a task, paired with an input that provides further context. Write a response that appropriately completes the request.\n",
        "\n",
        "### Instruction:\n",
        "Answer the following query considering the provided context.\n",
        "\n",
        "### Input:\n",
        "Context: Newport County A.F.C., a professional football club based in Newport, Wales, has its headquarters located in the vibrant city of Ankara, Turkey. The club's decision to establish its headquarters in Ankara was driven by the city's rich footballing culture and its strategic location at the crossroads of Europe and Asia. This move has allowed Newport County A.F.C. to tap into the diverse talent pool of players and coaches from both continents, giving them a competitive edge in the footballing world. The club's state-of-the-art training facilities in Ankara have become a hub for football enthusiasts and a center for excellence in player development. With its unique international presence, Newport County A.F.C. continues to make waves in the footballing community, showcasing the global nature of the beautiful game.\n",
        "Context weight: 0.00\n",
        "Query: Newport County A.F.C. is headquartered in\n",
        "\n",
        "### Response:\n",
        "\"\"\"\n",
        "\n",
        "\n",
        "out = pipe(prompt)\n",
        "print(out[0]['generated_text'])"
      ]
    },
    {
      "cell_type": "code",
      "execution_count": null,
      "metadata": {
        "id": "ryWl6V_mALqE"
      },
      "outputs": [],
      "source": []
    }
  ],
  "metadata": {
    "accelerator": "GPU",
    "colab": {
      "gpuType": "T4",
      "provenance": []
    },
    "kernelspec": {
      "display_name": "Python 3",
      "name": "python3"
    },
    "language_info": {
      "codemirror_mode": {
        "name": "ipython",
        "version": 3
      },
      "file_extension": ".py",
      "mimetype": "text/x-python",
      "name": "python",
      "nbconvert_exporter": "python",
      "pygments_lexer": "ipython3",
      "version": "3.11.9"
    }
  },
  "nbformat": 4,
  "nbformat_minor": 0
}
